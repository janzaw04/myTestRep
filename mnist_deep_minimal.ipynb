{
  "nbformat": 4,
  "nbformat_minor": 0,
  "metadata": {
    "colab": {
      "name": "mnist_deep_minimal.ipynb",
      "provenance": [],
      "authorship_tag": "ABX9TyOg1oSqK1WrIqHRAKE9z4MI",
      "include_colab_link": true
    },
    "kernelspec": {
      "name": "python3",
      "display_name": "Python 3"
    },
    "accelerator": "GPU"
  },
  "cells": [
    {
      "cell_type": "markdown",
      "metadata": {
        "id": "view-in-github",
        "colab_type": "text"
      },
      "source": [
        "<a href=\"https://colab.research.google.com/github/janzaw04/myTestRep/blob/main/mnist_deep_minimal.ipynb\" target=\"_parent\"><img src=\"https://colab.research.google.com/assets/colab-badge.svg\" alt=\"Open In Colab\"/></a>"
      ]
    },
    {
      "cell_type": "markdown",
      "metadata": {
        "id": "6oi3gm9BVZGy"
      },
      "source": [
        "# Minimalna sieć neruonowa"
      ]
    },
    {
      "cell_type": "code",
      "metadata": {
        "id": "62q8IZ17VcQr"
      },
      "source": [
        "import numpy as np \n",
        "import keras\n",
        "from keras.datasets import mnist\n",
        "from keras.models import Sequential\n",
        "from keras.layers import Dense, Dropout\n",
        "from keras.optimizers import RMSprop, Adam"
      ],
      "execution_count": 1,
      "outputs": []
    },
    {
      "cell_type": "code",
      "metadata": {
        "colab": {
          "base_uri": "https://localhost:8080/"
        },
        "id": "NHUaXcc6Wskl",
        "outputId": "d2865ef3-1d56-4cdb-91f8-fe67c0c7b49a"
      },
      "source": [
        "# the data, split between train and test sets\n",
        "(x_train, y_train), (x_test, y_test) = mnist.load_data()\n",
        "\n",
        "print(x_train.shape,y_train.shape)\n",
        "print(x_test.shape,y_test.shape)\n",
        "\n",
        "# reshape dataset and convert to float32\n",
        "x_train = x_train.reshape((60000,784)).astype('float32')/255.\n",
        "x_test = x_test.reshape((10000,784)).astype('float32')/255.\n",
        "\n",
        "print(x_train.shape,y_train.shape)\n",
        "print(x_test.shape,y_test.shape)\n",
        "\n",
        "print(y_test)\n",
        "\n",
        "num_classes = 10\n",
        "# convert class vectors to binary class matrices\n",
        "y_train = keras.utils.to_categorical(y_train, num_classes)\n",
        "y_test = keras.utils.to_categorical(y_test, num_classes)\n",
        "\n",
        "print(y_train.shape, y_test.shape)"
      ],
      "execution_count": 2,
      "outputs": [
        {
          "output_type": "stream",
          "text": [
            "Downloading data from https://storage.googleapis.com/tensorflow/tf-keras-datasets/mnist.npz\n",
            "11493376/11490434 [==============================] - 0s 0us/step\n",
            "(60000, 28, 28) (60000,)\n",
            "(10000, 28, 28) (10000,)\n",
            "(60000, 784) (60000,)\n",
            "(10000, 784) (10000,)\n",
            "[7 2 1 ... 4 5 6]\n",
            "(60000, 10) (10000, 10)\n"
          ],
          "name": "stdout"
        }
      ]
    },
    {
      "cell_type": "markdown",
      "metadata": {
        "id": "yBh0xIEWZ4M3"
      },
      "source": [
        "Definiujemy sieć"
      ]
    },
    {
      "cell_type": "code",
      "metadata": {
        "colab": {
          "base_uri": "https://localhost:8080/"
        },
        "id": "xhkUbfW0Z30U",
        "outputId": "4d5bdc82-ae6b-464c-8583-0b0289c8c91b"
      },
      "source": [
        "model = Sequential()\n",
        "model.add(Dense(512, activation='relu', input_shape=(784,)))\n",
        "model.add(Dropout(0.2))\n",
        "model.add(Dense(512, activation='relu'))\n",
        "model.add(Dropout(0.2))\n",
        "model.add(Dense(512, activation='relu'))\n",
        "model.add(Dropout(0.2))\n",
        "model.add(Dense(10, activation='softmax'))\n",
        "\n",
        "model.summary()"
      ],
      "execution_count": 18,
      "outputs": [
        {
          "output_type": "stream",
          "text": [
            "Model: \"sequential_2\"\n",
            "_________________________________________________________________\n",
            "Layer (type)                 Output Shape              Param #   \n",
            "=================================================================\n",
            "dense_10 (Dense)             (None, 512)               401920    \n",
            "_________________________________________________________________\n",
            "dropout (Dropout)            (None, 512)               0         \n",
            "_________________________________________________________________\n",
            "dense_11 (Dense)             (None, 512)               262656    \n",
            "_________________________________________________________________\n",
            "dropout_1 (Dropout)          (None, 512)               0         \n",
            "_________________________________________________________________\n",
            "dense_12 (Dense)             (None, 512)               262656    \n",
            "_________________________________________________________________\n",
            "dropout_2 (Dropout)          (None, 512)               0         \n",
            "_________________________________________________________________\n",
            "dense_13 (Dense)             (None, 10)                5130      \n",
            "=================================================================\n",
            "Total params: 932,362\n",
            "Trainable params: 932,362\n",
            "Non-trainable params: 0\n",
            "_________________________________________________________________\n"
          ],
          "name": "stdout"
        }
      ]
    },
    {
      "cell_type": "markdown",
      "metadata": {
        "id": "X02tvtaQbgcv"
      },
      "source": [
        "Kompilacja sieci"
      ]
    },
    {
      "cell_type": "code",
      "metadata": {
        "id": "Qk-B3H5Hbo9i"
      },
      "source": [
        "model.compile(optimizer='rmsprop',loss='categorical_crossentropy',metrics=['accuracy'])"
      ],
      "execution_count": 19,
      "outputs": []
    },
    {
      "cell_type": "markdown",
      "metadata": {
        "id": "0UfyGr0vbk61"
      },
      "source": [
        "Trening sieci"
      ]
    },
    {
      "cell_type": "code",
      "metadata": {
        "colab": {
          "base_uri": "https://localhost:8080/"
        },
        "id": "XOqImiVgcn3T",
        "outputId": "a971bca9-b369-4252-b37f-6a984a08a9af"
      },
      "source": [
        "epochs = 20\n",
        "batch_size = 128\n",
        "\n",
        "history = model.fit(x_train, y_train, batch_size=batch_size, epochs=epochs, verbose=1, validation_data=(x_test, y_test))"
      ],
      "execution_count": 20,
      "outputs": [
        {
          "output_type": "stream",
          "text": [
            "Epoch 1/20\n",
            "469/469 [==============================] - 2s 4ms/step - loss: 0.2674 - accuracy: 0.9173 - val_loss: 0.1088 - val_accuracy: 0.9667\n",
            "Epoch 2/20\n",
            "469/469 [==============================] - 2s 4ms/step - loss: 0.1164 - accuracy: 0.9667 - val_loss: 0.0824 - val_accuracy: 0.9746\n",
            "Epoch 3/20\n",
            "469/469 [==============================] - 2s 4ms/step - loss: 0.0881 - accuracy: 0.9751 - val_loss: 0.0842 - val_accuracy: 0.9778\n",
            "Epoch 4/20\n",
            "469/469 [==============================] - 2s 4ms/step - loss: 0.0742 - accuracy: 0.9790 - val_loss: 0.0806 - val_accuracy: 0.9787\n",
            "Epoch 5/20\n",
            "469/469 [==============================] - 2s 4ms/step - loss: 0.0640 - accuracy: 0.9817 - val_loss: 0.0904 - val_accuracy: 0.9780\n",
            "Epoch 6/20\n",
            "469/469 [==============================] - 2s 4ms/step - loss: 0.0627 - accuracy: 0.9829 - val_loss: 0.0859 - val_accuracy: 0.9799\n",
            "Epoch 7/20\n",
            "469/469 [==============================] - 2s 4ms/step - loss: 0.0590 - accuracy: 0.9840 - val_loss: 0.0879 - val_accuracy: 0.9808\n",
            "Epoch 8/20\n",
            "469/469 [==============================] - 2s 4ms/step - loss: 0.0576 - accuracy: 0.9856 - val_loss: 0.1135 - val_accuracy: 0.9786\n",
            "Epoch 9/20\n",
            "469/469 [==============================] - 2s 4ms/step - loss: 0.0515 - accuracy: 0.9870 - val_loss: 0.1212 - val_accuracy: 0.9812\n",
            "Epoch 10/20\n",
            "469/469 [==============================] - 2s 4ms/step - loss: 0.0485 - accuracy: 0.9884 - val_loss: 0.1409 - val_accuracy: 0.9796\n",
            "Epoch 11/20\n",
            "469/469 [==============================] - 2s 4ms/step - loss: 0.0507 - accuracy: 0.9878 - val_loss: 0.1151 - val_accuracy: 0.9820\n",
            "Epoch 12/20\n",
            "469/469 [==============================] - 2s 4ms/step - loss: 0.0484 - accuracy: 0.9885 - val_loss: 0.1149 - val_accuracy: 0.9815\n",
            "Epoch 13/20\n",
            "469/469 [==============================] - 2s 4ms/step - loss: 0.0440 - accuracy: 0.9897 - val_loss: 0.1287 - val_accuracy: 0.9825\n",
            "Epoch 14/20\n",
            "469/469 [==============================] - 2s 4ms/step - loss: 0.0459 - accuracy: 0.9900 - val_loss: 0.1246 - val_accuracy: 0.9835\n",
            "Epoch 15/20\n",
            "469/469 [==============================] - 2s 4ms/step - loss: 0.0419 - accuracy: 0.9906 - val_loss: 0.1392 - val_accuracy: 0.9816\n",
            "Epoch 16/20\n",
            "469/469 [==============================] - 2s 4ms/step - loss: 0.0469 - accuracy: 0.9902 - val_loss: 0.1495 - val_accuracy: 0.9827\n",
            "Epoch 17/20\n",
            "469/469 [==============================] - 2s 4ms/step - loss: 0.0463 - accuracy: 0.9896 - val_loss: 0.1386 - val_accuracy: 0.9829\n",
            "Epoch 18/20\n",
            "469/469 [==============================] - 2s 4ms/step - loss: 0.0463 - accuracy: 0.9907 - val_loss: 0.1598 - val_accuracy: 0.9827\n",
            "Epoch 19/20\n",
            "469/469 [==============================] - 2s 4ms/step - loss: 0.0423 - accuracy: 0.9908 - val_loss: 0.1476 - val_accuracy: 0.9834\n",
            "Epoch 20/20\n",
            "469/469 [==============================] - 2s 4ms/step - loss: 0.0444 - accuracy: 0.9907 - val_loss: 0.1314 - val_accuracy: 0.9831\n"
          ],
          "name": "stdout"
        }
      ]
    },
    {
      "cell_type": "markdown",
      "metadata": {
        "id": "VN7yUFRjbnJa"
      },
      "source": [
        "Wyniki"
      ]
    },
    {
      "cell_type": "code",
      "metadata": {
        "colab": {
          "base_uri": "https://localhost:8080/"
        },
        "id": "cRwF7eFgboQj",
        "outputId": "ebb62b22-9624-4dbf-93d3-d0ac60cb7763"
      },
      "source": [
        "score = model.evaluate(x_test, y_test)\n",
        "print(\"Test loss & accuracy: \",score)\n",
        "\n",
        "score = model.evaluate(x_train, y_train)\n",
        "print(\"Test loss & accuracy: \",score)"
      ],
      "execution_count": 7,
      "outputs": [
        {
          "output_type": "stream",
          "text": [
            "313/313 [==============================] - 1s 2ms/step - loss: 0.1909 - accuracy: 0.9786\n",
            "Test loss & accuracy:  [0.19090938568115234, 0.978600025177002]\n",
            "1875/1875 [==============================] - 4s 2ms/step - loss: 0.0139 - accuracy: 0.9962\n",
            "Test loss & accuracy:  [0.01390136033296585, 0.996150016784668]\n"
          ],
          "name": "stdout"
        }
      ]
    },
    {
      "cell_type": "code",
      "metadata": {
        "colab": {
          "base_uri": "https://localhost:8080/"
        },
        "id": "7gk8SZecfv87",
        "outputId": "441662cc-f634-4bbe-dbfc-8d55f53c2997"
      },
      "source": [
        "print(history.history['loss'])"
      ],
      "execution_count": 13,
      "outputs": [
        {
          "output_type": "stream",
          "text": [
            "[0.27068689465522766, 0.10120199620723724, 0.0758095532655716, 0.06128053367137909, 0.056475669145584106, 0.05217241868376732, 0.042585693299770355, 0.04198526591062546, 0.038400210440158844, 0.03314526006579399, 0.0346762016415596, 0.02910357527434826, 0.028658339753746986, 0.032205481082201004, 0.02658560313284397, 0.023736631497740746, 0.024805866181850433, 0.02358066290616989, 0.025091778486967087, 0.024341989308595657]\n"
          ],
          "name": "stdout"
        }
      ]
    },
    {
      "cell_type": "code",
      "metadata": {
        "colab": {
          "base_uri": "https://localhost:8080/",
          "height": 421
        },
        "id": "5mZtSOisfkD0",
        "outputId": "a8bf9f48-1012-4c83-b82e-83cd4cd121d5"
      },
      "source": [
        "import matplotlib.pyplot as plt\n",
        "\n",
        "\n",
        "# Plots for training and testing process: loss and accuracy\n",
        "\n",
        "n_epochs = len(history.history['loss'])\n",
        "\n",
        "plt.figure(0)\n",
        "plt.plot(history.history['accuracy'],'r')\n",
        "plt.plot(history.history['val_accuracy'],'g')\n",
        "plt.xticks(np.arange(0, n_epochs, 10.0))\n",
        "plt.rcParams['figure.figsize'] = (8, 6)\n",
        "plt.xlabel(\"Num of Epochs\")\n",
        "plt.ylabel(\"Accuracy\")\n",
        "plt.title(\"Training Cat_Accuracy vs Validation Cat_Accuracy\")\n",
        "plt.legend(['train','validation'])"
      ],
      "execution_count": 14,
      "outputs": [
        {
          "output_type": "execute_result",
          "data": {
            "text/plain": [
              "<matplotlib.legend.Legend at 0x7f655a8a9b00>"
            ]
          },
          "metadata": {
            "tags": []
          },
          "execution_count": 14
        },
        {
          "output_type": "display_data",
          "data": {
            "image/png": "[encoded data removed]",
            "text/plain": [
              "<Figure size 576x432 with 1 Axes>"
            ]
          },
          "metadata": {
            "tags": [],
            "needs_background": "light"
          }
        }
      ]
    },
    {
      "cell_type": "code",
      "metadata": {
        "colab": {
          "base_uri": "https://localhost:8080/",
          "height": 404
        },
        "id": "owj77gaWfqmF",
        "outputId": "ceea364d-87ae-42b3-ff88-209c19ad5450"
      },
      "source": [
        "plt.figure(1)\n",
        "plt.plot(history.history['loss'],'r')\n",
        "plt.plot(history.history['val_loss'],'g')\n",
        "plt.xticks(np.arange(0, n_epochs, 10.0))\n",
        "plt.rcParams['figure.figsize'] = (8, 6)\n",
        "plt.xlabel(\"Num of Epochs\")\n",
        "plt.ylabel(\"Loss\")\n",
        "plt.title(\"Training Loss vs Validation Loss\")\n",
        "plt.legend(['train','validation'])\n",
        "plt.show()\n"
      ],
      "execution_count": 12,
      "outputs": [
        {
          "output_type": "display_data",
          "data": {
            "image/png": "[encoded data removed]",
            "text/plain": [
              "<Figure size 576x432 with 1 Axes>"
            ]
          },
          "metadata": {
            "tags": [],
            "needs_background": "light"
          }
        }
      ]
    }
  ]
}