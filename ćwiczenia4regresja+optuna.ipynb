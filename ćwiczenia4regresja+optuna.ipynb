{
  "nbformat": 4,
  "nbformat_minor": 0,
  "metadata": {
    "colab": {
      "name": "ćwiczenia4regresja+optuna.ipynb",
      "provenance": [],
      "collapsed_sections": [],
      "authorship_tag": "ABX9TyMMgmQHKoleZyYNxw72Hkzd",
      "include_colab_link": true
    },
    "kernelspec": {
      "name": "python3",
      "display_name": "Python 3"
    },
    "accelerator": "GPU"
  },
  "cells": [
    {
      "cell_type": "markdown",
      "metadata": {
        "id": "view-in-github",
        "colab_type": "text"
      },
      "source": [
        "<a href=\"https://colab.research.google.com/github/janzaw04/myTestRep/blob/main/%C4%87wiczenia4regresja%2Boptuna.ipynb\" target=\"_parent\"><img src=\"https://colab.research.google.com/assets/colab-badge.svg\" alt=\"Open In Colab\"/></a>"
      ]
    },
    {
      "cell_type": "code",
      "metadata": {
        "id": "J7abcdBj1Qwf"
      },
      "source": [
        "from keras.models import Sequential\n",
        "from keras.layers import Activation, Dense, Dropout\n",
        "from keras.optimizers import Adam\n",
        "from keras.callbacks import EarlyStopping\n",
        "\n",
        "import numpy as np\n",
        "import matplotlib.pyplot as plt"
      ],
      "execution_count": 57,
      "outputs": []
    },
    {
      "cell_type": "code",
      "metadata": {
        "colab": {
          "base_uri": "https://localhost:8080/"
        },
        "id": "I1hjvF6Y1gQF",
        "outputId": "48ad4504-cd6f-4943-c2e2-4b78093a080c"
      },
      "source": [
        "def funct(x):\n",
        "  return x*x*np.sin(x)+np.log(2*x)\n",
        "\n",
        "size = 150\n",
        "low=0\n",
        "high=12\n",
        "error=25\n",
        "\n",
        "XX_train = np.random.uniform(low=low, high=high, size=size)\n",
        "XX_test = np.random.uniform(low=low, high=high, size=size)\n",
        "yy_train = funct(XX_train) + np.random.normal(0., error, size)\n",
        "yy_test = funct(XX_test) + np.random.normal(0., error, size)\n",
        "\n",
        "print(XX_train.shape, yy_train.shape)"
      ],
      "execution_count": 58,
      "outputs": [
        {
          "output_type": "stream",
          "text": [
            "(150,) (150,)\n"
          ],
          "name": "stdout"
        }
      ]
    },
    {
      "cell_type": "code",
      "metadata": {
        "colab": {
          "base_uri": "https://localhost:8080/",
          "height": 513
        },
        "id": "oSQSmxsp1gnf",
        "outputId": "a441ae83-3528-443d-fc49-6e2a5b84959f"
      },
      "source": [
        "fig = plt.figure(figsize=(7,7))\n",
        "\n",
        "plt.plot(XX_train,yy_train, 'o', color='blue', label='Training points')\n",
        "plt.plot(XX_test,yy_test, 'o', color='green', label='Testing points')\n",
        "\n",
        "points = np.linspace(low, high,num=100)\n",
        "plt.plot(points, funct(points),  color='red', label='Function')\n",
        "plt.legend()\n",
        "\n",
        "\n",
        "plt.show"
      ],
      "execution_count": 59,
      "outputs": [
        {
          "output_type": "stream",
          "text": [
            "/usr/local/lib/python3.6/dist-packages/ipykernel_launcher.py:2: RuntimeWarning:\n",
            "\n",
            "divide by zero encountered in log\n",
            "\n"
          ],
          "name": "stderr"
        },
        {
          "output_type": "execute_result",
          "data": {
            "text/plain": [
              "<function matplotlib.pyplot.show>"
            ]
          },
          "metadata": {
            "tags": []
          },
          "execution_count": 59
        },
        {
          "output_type": "display_data",
          "data": {
            "image/png": "[encoded data removed]",
            "text/plain": [
              "<Figure size 504x504 with 1 Axes>"
            ]
          },
          "metadata": {
            "tags": [],
            "needs_background": "light"
          }
        }
      ]
    },
    {
      "cell_type": "code",
      "metadata": {
        "id": "q9HHSed61hHt"
      },
      "source": [
        "# Tutaj należy znormalizować dane, i.e. \n",
        "# - odjąć średnią\n",
        "# - podzielić przez odchylenie standardowe\n",
        "\n",
        "# \n",
        "mean = XX_train.mean(axis=0)\n",
        "XX_train_n = XX_train-mean\n",
        "std = XX_train_n.std(axis=0)\n",
        "XX_train_n /= std\n",
        "\n",
        "# to samo dla X_test\n",
        "XX_test_n = XX_test - mean\n",
        "XX_test_n /= std\n",
        "\n",
        "# A teraz to samo dla yy_train i yy_test\n",
        "mean1 = yy_train.mean(axis=0)\n",
        "yy_train_n = yy_train-mean1\n",
        "std1 = yy_train_n.std(axis=0)\n",
        "yy_train_n /= std1\n",
        "# to samo dla y_test\n",
        "yy_test_n = yy_test - mean1\n",
        "yy_test_n /= std1"
      ],
      "execution_count": 60,
      "outputs": []
    },
    {
      "cell_type": "code",
      "metadata": {
        "colab": {
          "base_uri": "https://localhost:8080/"
        },
        "id": "ENTzIzC-1wjN",
        "outputId": "a6675dfe-0eec-4d9d-f0b7-ba07b0008871"
      },
      "source": [
        "# install optuna\n",
        "! pip install optuna"
      ],
      "execution_count": 61,
      "outputs": [
        {
          "output_type": "stream",
          "text": [
            "Requirement already satisfied: optuna in /usr/local/lib/python3.6/dist-packages (2.3.0)\n",
            "Requirement already satisfied: numpy in /usr/local/lib/python3.6/dist-packages (from optuna) (1.18.5)\n",
            "Requirement already satisfied: tqdm in /usr/local/lib/python3.6/dist-packages (from optuna) (4.41.1)\n",
            "Requirement already satisfied: sqlalchemy>=1.1.0 in /usr/local/lib/python3.6/dist-packages (from optuna) (1.3.20)\n",
            "Requirement already satisfied: joblib in /usr/local/lib/python3.6/dist-packages (from optuna) (0.17.0)\n",
            "Requirement already satisfied: cmaes>=0.6.0 in /usr/local/lib/python3.6/dist-packages (from optuna) (0.7.0)\n",
            "Requirement already satisfied: cliff in /usr/local/lib/python3.6/dist-packages (from optuna) (3.5.0)\n",
            "Requirement already satisfied: packaging>=20.0 in /usr/local/lib/python3.6/dist-packages (from optuna) (20.4)\n",
            "Requirement already satisfied: scipy!=1.4.0 in /usr/local/lib/python3.6/dist-packages (from optuna) (1.4.1)\n",
            "Requirement already satisfied: colorlog in /usr/local/lib/python3.6/dist-packages (from optuna) (4.6.2)\n",
            "Requirement already satisfied: alembic in /usr/local/lib/python3.6/dist-packages (from optuna) (1.4.3)\n",
            "Requirement already satisfied: stevedore>=2.0.1 in /usr/local/lib/python3.6/dist-packages (from cliff->optuna) (3.3.0)\n",
            "Requirement already satisfied: cmd2!=0.8.3,>=0.8.0 in /usr/local/lib/python3.6/dist-packages (from cliff->optuna) (1.4.0)\n",
            "Requirement already satisfied: pbr!=2.1.0,>=2.0.0 in /usr/local/lib/python3.6/dist-packages (from cliff->optuna) (5.5.1)\n",
            "Requirement already satisfied: PrettyTable<0.8,>=0.7.2 in /usr/local/lib/python3.6/dist-packages (from cliff->optuna) (0.7.2)\n",
            "Requirement already satisfied: pyparsing>=2.1.0 in /usr/local/lib/python3.6/dist-packages (from cliff->optuna) (2.4.7)\n",
            "Requirement already satisfied: PyYAML>=3.12 in /usr/local/lib/python3.6/dist-packages (from cliff->optuna) (3.13)\n",
            "Requirement already satisfied: six>=1.10.0 in /usr/local/lib/python3.6/dist-packages (from cliff->optuna) (1.15.0)\n",
            "Requirement already satisfied: python-dateutil in /usr/local/lib/python3.6/dist-packages (from alembic->optuna) (2.8.1)\n",
            "Requirement already satisfied: Mako in /usr/local/lib/python3.6/dist-packages (from alembic->optuna) (1.1.3)\n",
            "Requirement already satisfied: python-editor>=0.3 in /usr/local/lib/python3.6/dist-packages (from alembic->optuna) (1.0.4)\n",
            "Requirement already satisfied: importlib-metadata>=1.7.0; python_version < \"3.8\" in /usr/local/lib/python3.6/dist-packages (from stevedore>=2.0.1->cliff->optuna) (2.0.0)\n",
            "Requirement already satisfied: wcwidth>=0.1.7 in /usr/local/lib/python3.6/dist-packages (from cmd2!=0.8.3,>=0.8.0->cliff->optuna) (0.2.5)\n",
            "Requirement already satisfied: pyperclip>=1.6 in /usr/local/lib/python3.6/dist-packages (from cmd2!=0.8.3,>=0.8.0->cliff->optuna) (1.8.1)\n",
            "Requirement already satisfied: attrs>=16.3.0 in /usr/local/lib/python3.6/dist-packages (from cmd2!=0.8.3,>=0.8.0->cliff->optuna) (20.3.0)\n",
            "Requirement already satisfied: colorama>=0.3.7 in /usr/local/lib/python3.6/dist-packages (from cmd2!=0.8.3,>=0.8.0->cliff->optuna) (0.4.4)\n",
            "Requirement already satisfied: MarkupSafe>=0.9.2 in /usr/local/lib/python3.6/dist-packages (from Mako->alembic->optuna) (1.1.1)\n",
            "Requirement already satisfied: zipp>=0.5 in /usr/local/lib/python3.6/dist-packages (from importlib-metadata>=1.7.0; python_version < \"3.8\"->stevedore>=2.0.1->cliff->optuna) (3.4.0)\n"
          ],
          "name": "stdout"
        }
      ]
    },
    {
      "cell_type": "code",
      "metadata": {
        "id": "sGUMUvgC5lCF"
      },
      "source": [
        "import optuna\n",
        "\n",
        "def objective(trial):\n",
        "    units = trial.suggest_discrete_uniform('units', 16,2048,1)\n",
        "    dropout = trial.suggest_uniform('dropout', 0, 0.8)\n",
        "    act = trial.suggest_categorical('activation', ['relu','sigmoid','linear'])\n",
        "    lr = trial.suggest_float(\"lr\", 1e-5, 1e-1, log=True)\n",
        "    \n",
        "    model0 = Sequential()\n",
        "    #.......\n",
        "    model0.add(Dense(units, activation=act, input_shape=(1,)))\n",
        "    model0.add(Dropout(dropout))\n",
        "    model0.add(Dense(units, activation=act))\n",
        "    model0.add(Dropout(dropout))\n",
        "    model0.add(Dense(1, activation='linear'))\n",
        "\n",
        "    # early stoping\n",
        "    es = EarlyStopping(monitor='val_loss', mode='min', verbose=1, patience=50)\n",
        "\n",
        "    model0.compile(optimizer=Adam(lr=lr),\n",
        "                    loss='mean_squared_error',\n",
        "                    metrics=['mse'])\n",
        "\n",
        "    model0.fit(XX_train_n,yy_train_n, epochs=500, batch_size=512,verbose=0, validation_data=(XX_test_n, yy_test_n), callbacks=[es])\n",
        "\n",
        "    results = model0.evaluate(XX_test_n, yy_test_n)\n",
        "\n",
        "    print('loss test data: ', results[0])\n",
        "    print('mse test data: ', results[1])\n",
        "\n",
        "    return results[1]\n",
        "\n"
      ],
      "execution_count": 62,
      "outputs": []
    },
    {
      "cell_type": "code",
      "metadata": {
        "colab": {
          "base_uri": "https://localhost:8080/"
        },
        "id": "5v2949nd5lXm",
        "outputId": "bc23a9c3-74c3-4ea4-ad3f-c3b519e9f5fc"
      },
      "source": [
        "study = optuna.create_study()\n",
        "study = optuna.create_study(direction='minimize', pruner=optuna.pruners.MedianPruner(), sampler=optuna.samplers.TPESampler() )\n",
        "\n",
        "study.optimize(objective, n_trials=20)\n",
        "\n",
        "study.best_params  # E.g. {'x': 2.0912375440412942, 'y': 1.0091490823506173}"
      ],
      "execution_count": 63,
      "outputs": [
        {
          "output_type": "stream",
          "text": [
            "\u001b[32m[I 2020-12-08 12:00:32,663]\u001b[0m A new study created in memory with name: no-name-37fb6868-6843-4aca-86c2-ffff1e39cd64\u001b[0m\n",
            "\u001b[32m[I 2020-12-08 12:00:32,666]\u001b[0m A new study created in memory with name: no-name-309399b1-6f31-4c66-9478-0a97e2f43915\u001b[0m\n"
          ],
          "name": "stderr"
        },
        {
          "output_type": "stream",
          "text": [
            "Epoch 00066: early stopping\n",
            "5/5 [==============================] - 0s 2ms/step - loss: 1.1757 - mse: 1.1757\n"
          ],
          "name": "stdout"
        },
        {
          "output_type": "stream",
          "text": [
            "\u001b[32m[I 2020-12-08 12:00:34,468]\u001b[0m Trial 0 finished with value: 1.1757116317749023 and parameters: {'units': 1566.0, 'dropout': 0.608455933413442, 'activation': 'linear', 'lr': 0.00010479369486410936}. Best is trial 0 with value: 1.1757116317749023.\u001b[0m\n"
          ],
          "name": "stderr"
        },
        {
          "output_type": "stream",
          "text": [
            "loss test data:  1.1757116317749023\n",
            "mse test data:  1.1757116317749023\n",
            "5/5 [==============================] - 0s 2ms/step - loss: 0.6118 - mse: 0.6118\n"
          ],
          "name": "stdout"
        },
        {
          "output_type": "stream",
          "text": [
            "\u001b[32m[I 2020-12-08 12:00:43,229]\u001b[0m Trial 1 finished with value: 0.6118298172950745 and parameters: {'units': 56.0, 'dropout': 0.613260274592911, 'activation': 'sigmoid', 'lr': 0.00543293144940597}. Best is trial 1 with value: 0.6118298172950745.\u001b[0m\n"
          ],
          "name": "stderr"
        },
        {
          "output_type": "stream",
          "text": [
            "loss test data:  0.6118298172950745\n",
            "mse test data:  0.6118298172950745\n",
            "Epoch 00080: early stopping\n",
            "5/5 [==============================] - 0s 2ms/step - loss: 1.1750 - mse: 1.1750\n"
          ],
          "name": "stdout"
        },
        {
          "output_type": "stream",
          "text": [
            "\u001b[32m[I 2020-12-08 12:00:45,262]\u001b[0m Trial 2 finished with value: 1.175047516822815 and parameters: {'units': 1155.0, 'dropout': 0.7474745118039717, 'activation': 'linear', 'lr': 0.0001414850743099902}. Best is trial 1 with value: 0.6118298172950745.\u001b[0m\n"
          ],
          "name": "stderr"
        },
        {
          "output_type": "stream",
          "text": [
            "loss test data:  1.175047516822815\n",
            "mse test data:  1.175047516822815\n",
            "Epoch 00054: early stopping\n",
            "5/5 [==============================] - 0s 2ms/step - loss: 1.3296 - mse: 1.3296\n"
          ],
          "name": "stdout"
        },
        {
          "output_type": "stream",
          "text": [
            "\u001b[32m[I 2020-12-08 12:00:46,641]\u001b[0m Trial 3 finished with value: 1.3296476602554321 and parameters: {'units': 1367.0, 'dropout': 0.5649289229399924, 'activation': 'sigmoid', 'lr': 0.024284893225957338}. Best is trial 1 with value: 0.6118298172950745.\u001b[0m\n"
          ],
          "name": "stderr"
        },
        {
          "output_type": "stream",
          "text": [
            "loss test data:  1.3296476602554321\n",
            "mse test data:  1.3296476602554321\n",
            "Epoch 00194: early stopping\n",
            "5/5 [==============================] - 0s 2ms/step - loss: 1.1799 - mse: 1.1799\n"
          ],
          "name": "stdout"
        },
        {
          "output_type": "stream",
          "text": [
            "\u001b[32m[I 2020-12-08 12:00:50,277]\u001b[0m Trial 4 finished with value: 1.1799153089523315 and parameters: {'units': 1745.0, 'dropout': 0.7571128232981162, 'activation': 'linear', 'lr': 0.025252721721650533}. Best is trial 1 with value: 0.6118298172950745.\u001b[0m\n"
          ],
          "name": "stderr"
        },
        {
          "output_type": "stream",
          "text": [
            "loss test data:  1.1799153089523315\n",
            "mse test data:  1.1799153089523315\n",
            "Epoch 00072: early stopping\n",
            "5/5 [==============================] - 0s 2ms/step - loss: 1.1751 - mse: 1.1751\n"
          ],
          "name": "stdout"
        },
        {
          "output_type": "stream",
          "text": [
            "\u001b[32m[I 2020-12-08 12:00:51,857]\u001b[0m Trial 5 finished with value: 1.1750881671905518 and parameters: {'units': 308.0, 'dropout': 0.741094607654609, 'activation': 'linear', 'lr': 0.00019434368835999613}. Best is trial 1 with value: 0.6118298172950745.\u001b[0m\n"
          ],
          "name": "stderr"
        },
        {
          "output_type": "stream",
          "text": [
            "loss test data:  1.1750881671905518\n",
            "mse test data:  1.1750881671905518\n",
            "Epoch 00337: early stopping\n",
            "5/5 [==============================] - 0s 2ms/step - loss: 1.1789 - mse: 1.1789\n"
          ],
          "name": "stdout"
        },
        {
          "output_type": "stream",
          "text": [
            "\u001b[32m[I 2020-12-08 12:00:57,844]\u001b[0m Trial 6 finished with value: 1.1789339780807495 and parameters: {'units': 1635.0, 'dropout': 0.7261625891574386, 'activation': 'linear', 'lr': 0.04708900453228313}. Best is trial 1 with value: 0.6118298172950745.\u001b[0m\n"
          ],
          "name": "stderr"
        },
        {
          "output_type": "stream",
          "text": [
            "loss test data:  1.1789339780807495\n",
            "mse test data:  1.1789339780807495\n",
            "5/5 [==============================] - 0s 2ms/step - loss: 1.2400 - mse: 1.2400\n"
          ],
          "name": "stdout"
        },
        {
          "output_type": "stream",
          "text": [
            "\u001b[32m[I 2020-12-08 12:01:06,632]\u001b[0m Trial 7 finished with value: 1.2400474548339844 and parameters: {'units': 1657.0, 'dropout': 0.15882438215913794, 'activation': 'sigmoid', 'lr': 1.0899899974679983e-05}. Best is trial 1 with value: 0.6118298172950745.\u001b[0m\n"
          ],
          "name": "stderr"
        },
        {
          "output_type": "stream",
          "text": [
            "loss test data:  1.2400474548339844\n",
            "mse test data:  1.2400474548339844\n",
            "5/5 [==============================] - 0s 2ms/step - loss: 1.1717 - mse: 1.1717\n"
          ],
          "name": "stdout"
        },
        {
          "output_type": "stream",
          "text": [
            "\u001b[32m[I 2020-12-08 12:01:15,121]\u001b[0m Trial 8 finished with value: 1.1717005968093872 and parameters: {'units': 704.0, 'dropout': 0.01588556923498743, 'activation': 'sigmoid', 'lr': 0.0009126092563752785}. Best is trial 1 with value: 0.6118298172950745.\u001b[0m\n"
          ],
          "name": "stderr"
        },
        {
          "output_type": "stream",
          "text": [
            "loss test data:  1.1717005968093872\n",
            "mse test data:  1.1717005968093872\n",
            "Epoch 00230: early stopping\n",
            "5/5 [==============================] - 0s 2ms/step - loss: 0.3084 - mse: 0.3084\n"
          ],
          "name": "stdout"
        },
        {
          "output_type": "stream",
          "text": [
            "\u001b[32m[I 2020-12-08 12:01:19,260]\u001b[0m Trial 9 finished with value: 0.3084108829498291 and parameters: {'units': 1110.0, 'dropout': 0.04790808278497112, 'activation': 'relu', 'lr': 0.0010799239908668764}. Best is trial 9 with value: 0.3084108829498291.\u001b[0m\n"
          ],
          "name": "stderr"
        },
        {
          "output_type": "stream",
          "text": [
            "loss test data:  0.3084108829498291\n",
            "mse test data:  0.3084108829498291\n",
            "Epoch 00201: early stopping\n",
            "5/5 [==============================] - 0s 2ms/step - loss: 0.3136 - mse: 0.3136\n"
          ],
          "name": "stdout"
        },
        {
          "output_type": "stream",
          "text": [
            "\u001b[32m[I 2020-12-08 12:01:22,864]\u001b[0m Trial 10 finished with value: 0.3135738968849182 and parameters: {'units': 823.0, 'dropout': 0.2750447468667447, 'activation': 'relu', 'lr': 0.002350643742856316}. Best is trial 9 with value: 0.3084108829498291.\u001b[0m\n"
          ],
          "name": "stderr"
        },
        {
          "output_type": "stream",
          "text": [
            "loss test data:  0.3135738968849182\n",
            "mse test data:  0.3135738968849182\n",
            "Epoch 00245: early stopping\n",
            "5/5 [==============================] - 0s 2ms/step - loss: 0.2939 - mse: 0.2939\n"
          ],
          "name": "stdout"
        },
        {
          "output_type": "stream",
          "text": [
            "\u001b[32m[I 2020-12-08 12:01:27,183]\u001b[0m Trial 11 finished with value: 0.2939203381538391 and parameters: {'units': 762.0, 'dropout': 0.250486943434799, 'activation': 'relu', 'lr': 0.0019946441437487814}. Best is trial 11 with value: 0.2939203381538391.\u001b[0m\n"
          ],
          "name": "stderr"
        },
        {
          "output_type": "stream",
          "text": [
            "loss test data:  0.2939203381538391\n",
            "mse test data:  0.2939203381538391\n",
            "Epoch 00445: early stopping\n",
            "5/5 [==============================] - 0s 2ms/step - loss: 0.3092 - mse: 0.3092\n"
          ],
          "name": "stdout"
        },
        {
          "output_type": "stream",
          "text": [
            "\u001b[32m[I 2020-12-08 12:01:34,542]\u001b[0m Trial 12 finished with value: 0.3092486262321472 and parameters: {'units': 566.0, 'dropout': 0.01059651133381103, 'activation': 'relu', 'lr': 0.0007051124913061503}. Best is trial 11 with value: 0.2939203381538391.\u001b[0m\n"
          ],
          "name": "stderr"
        },
        {
          "output_type": "stream",
          "text": [
            "loss test data:  0.3092486262321472\n",
            "mse test data:  0.3092486262321472\n",
            "Epoch 00112: early stopping\n",
            "5/5 [==============================] - 0s 2ms/step - loss: 0.3155 - mse: 0.3155\n"
          ],
          "name": "stdout"
        },
        {
          "output_type": "stream",
          "text": [
            "\u001b[32m[I 2020-12-08 12:01:36,768]\u001b[0m Trial 13 finished with value: 0.3155052661895752 and parameters: {'units': 1099.0, 'dropout': 0.20218688324472023, 'activation': 'relu', 'lr': 0.0064470758416236736}. Best is trial 11 with value: 0.2939203381538391.\u001b[0m\n"
          ],
          "name": "stderr"
        },
        {
          "output_type": "stream",
          "text": [
            "loss test data:  0.3155052661895752\n",
            "mse test data:  0.3155052661895752\n",
            "5/5 [==============================] - 0s 2ms/step - loss: 0.2993 - mse: 0.2993\n"
          ],
          "name": "stdout"
        },
        {
          "output_type": "stream",
          "text": [
            "\u001b[32m[I 2020-12-08 12:01:45,111]\u001b[0m Trial 14 finished with value: 0.2992593050003052 and parameters: {'units': 879.0, 'dropout': 0.3436528380166316, 'activation': 'relu', 'lr': 0.00033825853681736527}. Best is trial 11 with value: 0.2939203381538391.\u001b[0m\n"
          ],
          "name": "stderr"
        },
        {
          "output_type": "stream",
          "text": [
            "loss test data:  0.2992593050003052\n",
            "mse test data:  0.2992593050003052\n",
            "5/5 [==============================] - 0s 2ms/step - loss: 1.0124 - mse: 1.0124\n"
          ],
          "name": "stdout"
        },
        {
          "output_type": "stream",
          "text": [
            "\u001b[32m[I 2020-12-08 12:01:53,242]\u001b[0m Trial 15 finished with value: 1.012425422668457 and parameters: {'units': 452.0, 'dropout': 0.39258737099051644, 'activation': 'relu', 'lr': 1.9641946348104e-05}. Best is trial 11 with value: 0.2939203381538391.\u001b[0m\n"
          ],
          "name": "stderr"
        },
        {
          "output_type": "stream",
          "text": [
            "loss test data:  1.012425422668457\n",
            "mse test data:  1.012425422668457\n",
            "5/5 [==============================] - 0s 2ms/step - loss: 0.3430 - mse: 0.3430\n"
          ],
          "name": "stdout"
        },
        {
          "output_type": "stream",
          "text": [
            "\u001b[32m[I 2020-12-08 12:02:02,068]\u001b[0m Trial 16 finished with value: 0.343039333820343 and parameters: {'units': 2047.0, 'dropout': 0.3817485955848035, 'activation': 'relu', 'lr': 4.944671684199537e-05}. Best is trial 11 with value: 0.2939203381538391.\u001b[0m\n"
          ],
          "name": "stderr"
        },
        {
          "output_type": "stream",
          "text": [
            "loss test data:  0.343039333820343\n",
            "mse test data:  0.343039333820343\n",
            "5/5 [==============================] - 0s 2ms/step - loss: 0.2954 - mse: 0.2954\n"
          ],
          "name": "stdout"
        },
        {
          "output_type": "stream",
          "text": [
            "\u001b[32m[I 2020-12-08 12:02:10,294]\u001b[0m Trial 17 finished with value: 0.29543572664260864 and parameters: {'units': 867.0, 'dropout': 0.29159727955594356, 'activation': 'relu', 'lr': 0.0003720482585209111}. Best is trial 11 with value: 0.2939203381538391.\u001b[0m\n"
          ],
          "name": "stderr"
        },
        {
          "output_type": "stream",
          "text": [
            "loss test data:  0.29543572664260864\n",
            "mse test data:  0.29543572664260864\n",
            "Epoch 00434: early stopping\n",
            "5/5 [==============================] - 0s 3ms/step - loss: 0.2817 - mse: 0.2817\n"
          ],
          "name": "stdout"
        },
        {
          "output_type": "stream",
          "text": [
            "\u001b[32m[I 2020-12-08 12:02:17,405]\u001b[0m Trial 18 finished with value: 0.2817273437976837 and parameters: {'units': 178.0, 'dropout': 0.476813720818517, 'activation': 'relu', 'lr': 0.003700485566856586}. Best is trial 18 with value: 0.2817273437976837.\u001b[0m\n"
          ],
          "name": "stderr"
        },
        {
          "output_type": "stream",
          "text": [
            "loss test data:  0.2817273437976837\n",
            "mse test data:  0.2817273437976837\n",
            "Epoch 00189: early stopping\n",
            "5/5 [==============================] - 0s 2ms/step - loss: 0.2957 - mse: 0.2957\n"
          ],
          "name": "stdout"
        },
        {
          "output_type": "stream",
          "text": [
            "\u001b[32m[I 2020-12-08 12:02:21,605]\u001b[0m Trial 19 finished with value: 0.2957034409046173 and parameters: {'units': 287.0, 'dropout': 0.5074714287478298, 'activation': 'relu', 'lr': 0.0048011864301330575}. Best is trial 18 with value: 0.2817273437976837.\u001b[0m\n"
          ],
          "name": "stderr"
        },
        {
          "output_type": "stream",
          "text": [
            "loss test data:  0.2957034409046173\n",
            "mse test data:  0.2957034409046173\n"
          ],
          "name": "stdout"
        },
        {
          "output_type": "execute_result",
          "data": {
            "text/plain": [
              "{'activation': 'relu',\n",
              " 'dropout': 0.476813720818517,\n",
              " 'lr': 0.003700485566856586,\n",
              " 'units': 178.0}"
            ]
          },
          "metadata": {
            "tags": []
          },
          "execution_count": 63
        }
      ]
    },
    {
      "cell_type": "code",
      "metadata": {
        "colab": {
          "base_uri": "https://localhost:8080/"
        },
        "id": "xyUPlDOv5ljg",
        "outputId": "2a8306b3-1281-440f-c083-ff228d2bed26"
      },
      "source": [
        "print(\"Best trial:\")\n",
        "trial = study.best_trial\n",
        "print(trial)"
      ],
      "execution_count": 64,
      "outputs": [
        {
          "output_type": "stream",
          "text": [
            "Best trial:\n",
            "FrozenTrial(number=18, value=0.2817273437976837, datetime_start=datetime.datetime(2020, 12, 8, 12, 2, 10, 295190), datetime_complete=datetime.datetime(2020, 12, 8, 12, 2, 17, 405224), params={'units': 178.0, 'dropout': 0.476813720818517, 'activation': 'relu', 'lr': 0.003700485566856586}, distributions={'units': DiscreteUniformDistribution(high=2048, low=16, q=1), 'dropout': UniformDistribution(high=0.8, low=0), 'activation': CategoricalDistribution(choices=('relu', 'sigmoid', 'linear')), 'lr': LogUniformDistribution(high=0.1, low=1e-05)}, user_attrs={}, system_attrs={}, intermediate_values={}, trial_id=18, state=TrialState.COMPLETE)\n"
          ],
          "name": "stdout"
        }
      ]
    },
    {
      "cell_type": "code",
      "metadata": {
        "colab": {
          "base_uri": "https://localhost:8080/"
        },
        "id": "JK6BaEHS5luQ",
        "outputId": "87cfbe04-62f0-43d6-fbba-3a61d5668ec4"
      },
      "source": [
        "dropout = trial.params.get(\"dropout\")\n",
        "print(dropout)"
      ],
      "execution_count": 65,
      "outputs": [
        {
          "output_type": "stream",
          "text": [
            "0.476813720818517\n"
          ],
          "name": "stdout"
        }
      ]
    },
    {
      "cell_type": "code",
      "metadata": {
        "colab": {
          "base_uri": "https://localhost:8080/"
        },
        "id": "iA-9ztPA5l9X",
        "outputId": "fead085f-1f17-47f1-cf46-9789affae78a"
      },
      "source": [
        "units = trial.params.get(\"units\")\n",
        "print(units)"
      ],
      "execution_count": 66,
      "outputs": [
        {
          "output_type": "stream",
          "text": [
            "178.0\n"
          ],
          "name": "stdout"
        }
      ]
    },
    {
      "cell_type": "code",
      "metadata": {
        "colab": {
          "base_uri": "https://localhost:8080/"
        },
        "id": "pqKfmVWc5mJ3",
        "outputId": "f69fbad8-76ec-48de-d82c-40b746240146"
      },
      "source": [
        "model0 = Sequential()\n",
        "#.......\n",
        "model0.add(Dense(units, activation='relu', input_shape=(1,)))\n",
        "model0.add(Dropout(dropout))\n",
        "model0.add(Dense(units, activation='relu'))\n",
        "model0.add(Dropout(dropout))\n",
        "model0.add(Dense(1, activation='linear'))\n",
        "\n",
        "model0.compile(optimizer='adam',\n",
        "                    loss='mean_squared_error',\n",
        "                    metrics=['mse'])\n",
        "\n",
        "es = EarlyStopping(monitor=\"val_loss\", mode='min', verbose=1, patience=50)\n",
        "\n",
        "model0.summary()"
      ],
      "execution_count": 67,
      "outputs": [
        {
          "output_type": "stream",
          "text": [
            "Model: \"sequential_78\"\n",
            "_________________________________________________________________\n",
            "Layer (type)                 Output Shape              Param #   \n",
            "=================================================================\n",
            "dense_231 (Dense)            (None, 178)               356       \n",
            "_________________________________________________________________\n",
            "dropout_154 (Dropout)        (None, 178)               0         \n",
            "_________________________________________________________________\n",
            "dense_232 (Dense)            (None, 178)               31862     \n",
            "_________________________________________________________________\n",
            "dropout_155 (Dropout)        (None, 178)               0         \n",
            "_________________________________________________________________\n",
            "dense_233 (Dense)            (None, 1)                 179       \n",
            "=================================================================\n",
            "Total params: 32,397\n",
            "Trainable params: 32,397\n",
            "Non-trainable params: 0\n",
            "_________________________________________________________________\n"
          ],
          "name": "stdout"
        }
      ]
    },
    {
      "cell_type": "code",
      "metadata": {
        "colab": {
          "base_uri": "https://localhost:8080/"
        },
        "id": "GuaE8kKM5mZR",
        "outputId": "0ffc5d57-8252-41eb-c955-84781841a8dd"
      },
      "source": [
        "history = model0.fit(XX_train_n,yy_train_n, epochs=500, batch_size=512, validation_data=(XX_test_n, yy_test_n), callbacks=[es])"
      ],
      "execution_count": 68,
      "outputs": [
        {
          "output_type": "stream",
          "text": [
            "Epoch 1/500\n",
            "1/1 [==============================] - 0s 106ms/step - loss: 0.9901 - mse: 0.9901 - val_loss: 1.2112 - val_mse: 1.2112\n",
            "Epoch 2/500\n",
            "1/1 [==============================] - 0s 15ms/step - loss: 0.9080 - mse: 0.9080 - val_loss: 1.1859 - val_mse: 1.1859\n",
            "Epoch 3/500\n",
            "1/1 [==============================] - 0s 17ms/step - loss: 0.9308 - mse: 0.9308 - val_loss: 1.1662 - val_mse: 1.1662\n",
            "Epoch 4/500\n",
            "1/1 [==============================] - 0s 17ms/step - loss: 0.9100 - mse: 0.9100 - val_loss: 1.1498 - val_mse: 1.1498\n",
            "Epoch 5/500\n",
            "1/1 [==============================] - 0s 16ms/step - loss: 0.9229 - mse: 0.9229 - val_loss: 1.1371 - val_mse: 1.1371\n",
            "Epoch 6/500\n",
            "1/1 [==============================] - 0s 15ms/step - loss: 0.8856 - mse: 0.8856 - val_loss: 1.1255 - val_mse: 1.1255\n",
            "Epoch 7/500\n",
            "1/1 [==============================] - 0s 16ms/step - loss: 0.8954 - mse: 0.8954 - val_loss: 1.1147 - val_mse: 1.1147\n",
            "Epoch 8/500\n",
            "1/1 [==============================] - 0s 16ms/step - loss: 0.8686 - mse: 0.8686 - val_loss: 1.1050 - val_mse: 1.1050\n",
            "Epoch 9/500\n",
            "1/1 [==============================] - 0s 16ms/step - loss: 0.8427 - mse: 0.8427 - val_loss: 1.0956 - val_mse: 1.0956\n",
            "Epoch 10/500\n",
            "1/1 [==============================] - 0s 15ms/step - loss: 0.8611 - mse: 0.8611 - val_loss: 1.0866 - val_mse: 1.0866\n",
            "Epoch 11/500\n",
            "1/1 [==============================] - 0s 16ms/step - loss: 0.8696 - mse: 0.8696 - val_loss: 1.0773 - val_mse: 1.0773\n",
            "Epoch 12/500\n",
            "1/1 [==============================] - 0s 16ms/step - loss: 0.8679 - mse: 0.8679 - val_loss: 1.0686 - val_mse: 1.0686\n",
            "Epoch 13/500\n",
            "1/1 [==============================] - 0s 16ms/step - loss: 0.8703 - mse: 0.8703 - val_loss: 1.0600 - val_mse: 1.0600\n",
            "Epoch 14/500\n",
            "1/1 [==============================] - 0s 15ms/step - loss: 0.8114 - mse: 0.8114 - val_loss: 1.0514 - val_mse: 1.0514\n",
            "Epoch 15/500\n",
            "1/1 [==============================] - 0s 16ms/step - loss: 0.8384 - mse: 0.8384 - val_loss: 1.0430 - val_mse: 1.0430\n",
            "Epoch 16/500\n",
            "1/1 [==============================] - 0s 15ms/step - loss: 0.8414 - mse: 0.8414 - val_loss: 1.0348 - val_mse: 1.0348\n",
            "Epoch 17/500\n",
            "1/1 [==============================] - 0s 31ms/step - loss: 0.8476 - mse: 0.8476 - val_loss: 1.0268 - val_mse: 1.0268\n",
            "Epoch 18/500\n",
            "1/1 [==============================] - 0s 17ms/step - loss: 0.8379 - mse: 0.8379 - val_loss: 1.0191 - val_mse: 1.0191\n",
            "Epoch 19/500\n",
            "1/1 [==============================] - 0s 17ms/step - loss: 0.8007 - mse: 0.8007 - val_loss: 1.0115 - val_mse: 1.0115\n",
            "Epoch 20/500\n",
            "1/1 [==============================] - 0s 16ms/step - loss: 0.8065 - mse: 0.8065 - val_loss: 1.0041 - val_mse: 1.0041\n",
            "Epoch 21/500\n",
            "1/1 [==============================] - 0s 17ms/step - loss: 0.8163 - mse: 0.8163 - val_loss: 0.9970 - val_mse: 0.9970\n",
            "Epoch 22/500\n",
            "1/1 [==============================] - 0s 15ms/step - loss: 0.8217 - mse: 0.8217 - val_loss: 0.9901 - val_mse: 0.9901\n",
            "Epoch 23/500\n",
            "1/1 [==============================] - 0s 15ms/step - loss: 0.8357 - mse: 0.8357 - val_loss: 0.9833 - val_mse: 0.9833\n",
            "Epoch 24/500\n",
            "1/1 [==============================] - 0s 15ms/step - loss: 0.8040 - mse: 0.8040 - val_loss: 0.9763 - val_mse: 0.9763\n",
            "Epoch 25/500\n",
            "1/1 [==============================] - 0s 15ms/step - loss: 0.8023 - mse: 0.8023 - val_loss: 0.9692 - val_mse: 0.9692\n",
            "Epoch 26/500\n",
            "1/1 [==============================] - 0s 15ms/step - loss: 0.7956 - mse: 0.7956 - val_loss: 0.9616 - val_mse: 0.9616\n",
            "Epoch 27/500\n",
            "1/1 [==============================] - 0s 15ms/step - loss: 0.7652 - mse: 0.7652 - val_loss: 0.9535 - val_mse: 0.9535\n",
            "Epoch 28/500\n",
            "1/1 [==============================] - 0s 15ms/step - loss: 0.8009 - mse: 0.8009 - val_loss: 0.9452 - val_mse: 0.9452\n",
            "Epoch 29/500\n",
            "1/1 [==============================] - 0s 17ms/step - loss: 0.7878 - mse: 0.7878 - val_loss: 0.9364 - val_mse: 0.9364\n",
            "Epoch 30/500\n",
            "1/1 [==============================] - 0s 17ms/step - loss: 0.7482 - mse: 0.7482 - val_loss: 0.9274 - val_mse: 0.9274\n",
            "Epoch 31/500\n",
            "1/1 [==============================] - 0s 16ms/step - loss: 0.7591 - mse: 0.7591 - val_loss: 0.9179 - val_mse: 0.9179\n",
            "Epoch 32/500\n",
            "1/1 [==============================] - 0s 15ms/step - loss: 0.7604 - mse: 0.7604 - val_loss: 0.9082 - val_mse: 0.9082\n",
            "Epoch 33/500\n",
            "1/1 [==============================] - 0s 17ms/step - loss: 0.7526 - mse: 0.7526 - val_loss: 0.8981 - val_mse: 0.8981\n",
            "Epoch 34/500\n",
            "1/1 [==============================] - 0s 18ms/step - loss: 0.7807 - mse: 0.7807 - val_loss: 0.8879 - val_mse: 0.8879\n",
            "Epoch 35/500\n",
            "1/1 [==============================] - 0s 16ms/step - loss: 0.6786 - mse: 0.6786 - val_loss: 0.8777 - val_mse: 0.8777\n",
            "Epoch 36/500\n",
            "1/1 [==============================] - 0s 15ms/step - loss: 0.7560 - mse: 0.7560 - val_loss: 0.8673 - val_mse: 0.8673\n",
            "Epoch 37/500\n",
            "1/1 [==============================] - 0s 16ms/step - loss: 0.7168 - mse: 0.7168 - val_loss: 0.8564 - val_mse: 0.8564\n",
            "Epoch 38/500\n",
            "1/1 [==============================] - 0s 16ms/step - loss: 0.7246 - mse: 0.7246 - val_loss: 0.8457 - val_mse: 0.8457\n",
            "Epoch 39/500\n",
            "1/1 [==============================] - 0s 15ms/step - loss: 0.7377 - mse: 0.7377 - val_loss: 0.8350 - val_mse: 0.8350\n",
            "Epoch 40/500\n",
            "1/1 [==============================] - 0s 15ms/step - loss: 0.6724 - mse: 0.6724 - val_loss: 0.8242 - val_mse: 0.8242\n",
            "Epoch 41/500\n",
            "1/1 [==============================] - 0s 16ms/step - loss: 0.7001 - mse: 0.7001 - val_loss: 0.8133 - val_mse: 0.8133\n",
            "Epoch 42/500\n",
            "1/1 [==============================] - 0s 16ms/step - loss: 0.7074 - mse: 0.7074 - val_loss: 0.8021 - val_mse: 0.8021\n",
            "Epoch 43/500\n",
            "1/1 [==============================] - 0s 15ms/step - loss: 0.7012 - mse: 0.7012 - val_loss: 0.7913 - val_mse: 0.7913\n",
            "Epoch 44/500\n",
            "1/1 [==============================] - 0s 16ms/step - loss: 0.6659 - mse: 0.6659 - val_loss: 0.7805 - val_mse: 0.7805\n",
            "Epoch 45/500\n",
            "1/1 [==============================] - 0s 15ms/step - loss: 0.6441 - mse: 0.6441 - val_loss: 0.7694 - val_mse: 0.7694\n",
            "Epoch 46/500\n",
            "1/1 [==============================] - 0s 15ms/step - loss: 0.6692 - mse: 0.6692 - val_loss: 0.7586 - val_mse: 0.7586\n",
            "Epoch 47/500\n",
            "1/1 [==============================] - 0s 15ms/step - loss: 0.6488 - mse: 0.6488 - val_loss: 0.7480 - val_mse: 0.7480\n",
            "Epoch 48/500\n",
            "1/1 [==============================] - 0s 15ms/step - loss: 0.6561 - mse: 0.6561 - val_loss: 0.7372 - val_mse: 0.7372\n",
            "Epoch 49/500\n",
            "1/1 [==============================] - 0s 15ms/step - loss: 0.6361 - mse: 0.6361 - val_loss: 0.7263 - val_mse: 0.7263\n",
            "Epoch 50/500\n",
            "1/1 [==============================] - 0s 15ms/step - loss: 0.6323 - mse: 0.6323 - val_loss: 0.7156 - val_mse: 0.7156\n",
            "Epoch 51/500\n",
            "1/1 [==============================] - 0s 18ms/step - loss: 0.6440 - mse: 0.6440 - val_loss: 0.7049 - val_mse: 0.7049\n",
            "Epoch 52/500\n",
            "1/1 [==============================] - 0s 17ms/step - loss: 0.6198 - mse: 0.6198 - val_loss: 0.6943 - val_mse: 0.6943\n",
            "Epoch 53/500\n",
            "1/1 [==============================] - 0s 16ms/step - loss: 0.5963 - mse: 0.5963 - val_loss: 0.6837 - val_mse: 0.6837\n",
            "Epoch 54/500\n",
            "1/1 [==============================] - 0s 25ms/step - loss: 0.5955 - mse: 0.5955 - val_loss: 0.6730 - val_mse: 0.6730\n",
            "Epoch 55/500\n",
            "1/1 [==============================] - 0s 18ms/step - loss: 0.5877 - mse: 0.5877 - val_loss: 0.6625 - val_mse: 0.6625\n",
            "Epoch 56/500\n",
            "1/1 [==============================] - 0s 15ms/step - loss: 0.6180 - mse: 0.6180 - val_loss: 0.6521 - val_mse: 0.6521\n",
            "Epoch 57/500\n",
            "1/1 [==============================] - 0s 16ms/step - loss: 0.6105 - mse: 0.6105 - val_loss: 0.6418 - val_mse: 0.6418\n",
            "Epoch 58/500\n",
            "1/1 [==============================] - 0s 15ms/step - loss: 0.5715 - mse: 0.5715 - val_loss: 0.6318 - val_mse: 0.6318\n",
            "Epoch 59/500\n",
            "1/1 [==============================] - 0s 16ms/step - loss: 0.5503 - mse: 0.5503 - val_loss: 0.6221 - val_mse: 0.6221\n",
            "Epoch 60/500\n",
            "1/1 [==============================] - 0s 15ms/step - loss: 0.5728 - mse: 0.5728 - val_loss: 0.6130 - val_mse: 0.6130\n",
            "Epoch 61/500\n",
            "1/1 [==============================] - 0s 16ms/step - loss: 0.5795 - mse: 0.5795 - val_loss: 0.6042 - val_mse: 0.6042\n",
            "Epoch 62/500\n",
            "1/1 [==============================] - 0s 15ms/step - loss: 0.5435 - mse: 0.5435 - val_loss: 0.5949 - val_mse: 0.5949\n",
            "Epoch 63/500\n",
            "1/1 [==============================] - 0s 16ms/step - loss: 0.5248 - mse: 0.5248 - val_loss: 0.5865 - val_mse: 0.5865\n",
            "Epoch 64/500\n",
            "1/1 [==============================] - 0s 14ms/step - loss: 0.4933 - mse: 0.4933 - val_loss: 0.5782 - val_mse: 0.5782\n",
            "Epoch 65/500\n",
            "1/1 [==============================] - 0s 16ms/step - loss: 0.5104 - mse: 0.5104 - val_loss: 0.5702 - val_mse: 0.5702\n",
            "Epoch 66/500\n",
            "1/1 [==============================] - 0s 19ms/step - loss: 0.5128 - mse: 0.5128 - val_loss: 0.5612 - val_mse: 0.5612\n",
            "Epoch 67/500\n",
            "1/1 [==============================] - 0s 17ms/step - loss: 0.5416 - mse: 0.5416 - val_loss: 0.5516 - val_mse: 0.5516\n",
            "Epoch 68/500\n",
            "1/1 [==============================] - 0s 16ms/step - loss: 0.5558 - mse: 0.5558 - val_loss: 0.5416 - val_mse: 0.5416\n",
            "Epoch 69/500\n",
            "1/1 [==============================] - 0s 15ms/step - loss: 0.5576 - mse: 0.5576 - val_loss: 0.5324 - val_mse: 0.5324\n",
            "Epoch 70/500\n",
            "1/1 [==============================] - 0s 16ms/step - loss: 0.4930 - mse: 0.4930 - val_loss: 0.5240 - val_mse: 0.5240\n",
            "Epoch 71/500\n",
            "1/1 [==============================] - 0s 16ms/step - loss: 0.5070 - mse: 0.5070 - val_loss: 0.5166 - val_mse: 0.5166\n",
            "Epoch 72/500\n",
            "1/1 [==============================] - 0s 16ms/step - loss: 0.5088 - mse: 0.5088 - val_loss: 0.5097 - val_mse: 0.5097\n",
            "Epoch 73/500\n",
            "1/1 [==============================] - 0s 15ms/step - loss: 0.5312 - mse: 0.5312 - val_loss: 0.5028 - val_mse: 0.5028\n",
            "Epoch 74/500\n",
            "1/1 [==============================] - 0s 17ms/step - loss: 0.4952 - mse: 0.4952 - val_loss: 0.4957 - val_mse: 0.4957\n",
            "Epoch 75/500\n",
            "1/1 [==============================] - 0s 17ms/step - loss: 0.4842 - mse: 0.4842 - val_loss: 0.4891 - val_mse: 0.4891\n",
            "Epoch 76/500\n",
            "1/1 [==============================] - 0s 16ms/step - loss: 0.4509 - mse: 0.4509 - val_loss: 0.4832 - val_mse: 0.4832\n",
            "Epoch 77/500\n",
            "1/1 [==============================] - 0s 17ms/step - loss: 0.4671 - mse: 0.4671 - val_loss: 0.4772 - val_mse: 0.4772\n",
            "Epoch 78/500\n",
            "1/1 [==============================] - 0s 18ms/step - loss: 0.5008 - mse: 0.5008 - val_loss: 0.4721 - val_mse: 0.4721\n",
            "Epoch 79/500\n",
            "1/1 [==============================] - 0s 17ms/step - loss: 0.4653 - mse: 0.4653 - val_loss: 0.4671 - val_mse: 0.4671\n",
            "Epoch 80/500\n",
            "1/1 [==============================] - 0s 18ms/step - loss: 0.4616 - mse: 0.4616 - val_loss: 0.4620 - val_mse: 0.4620\n",
            "Epoch 81/500\n",
            "1/1 [==============================] - 0s 18ms/step - loss: 0.4722 - mse: 0.4722 - val_loss: 0.4572 - val_mse: 0.4572\n",
            "Epoch 82/500\n",
            "1/1 [==============================] - 0s 16ms/step - loss: 0.5247 - mse: 0.5247 - val_loss: 0.4516 - val_mse: 0.4516\n",
            "Epoch 83/500\n",
            "1/1 [==============================] - 0s 16ms/step - loss: 0.3932 - mse: 0.3932 - val_loss: 0.4461 - val_mse: 0.4461\n",
            "Epoch 84/500\n",
            "1/1 [==============================] - 0s 16ms/step - loss: 0.4450 - mse: 0.4450 - val_loss: 0.4415 - val_mse: 0.4415\n",
            "Epoch 85/500\n",
            "1/1 [==============================] - 0s 15ms/step - loss: 0.5181 - mse: 0.5181 - val_loss: 0.4375 - val_mse: 0.4375\n",
            "Epoch 86/500\n",
            "1/1 [==============================] - 0s 17ms/step - loss: 0.4385 - mse: 0.4385 - val_loss: 0.4336 - val_mse: 0.4336\n",
            "Epoch 87/500\n",
            "1/1 [==============================] - 0s 17ms/step - loss: 0.4283 - mse: 0.4283 - val_loss: 0.4301 - val_mse: 0.4301\n",
            "Epoch 88/500\n",
            "1/1 [==============================] - 0s 20ms/step - loss: 0.4480 - mse: 0.4480 - val_loss: 0.4266 - val_mse: 0.4266\n",
            "Epoch 89/500\n",
            "1/1 [==============================] - 0s 18ms/step - loss: 0.4087 - mse: 0.4087 - val_loss: 0.4232 - val_mse: 0.4232\n",
            "Epoch 90/500\n",
            "1/1 [==============================] - 0s 16ms/step - loss: 0.4303 - mse: 0.4303 - val_loss: 0.4201 - val_mse: 0.4201\n",
            "Epoch 91/500\n",
            "1/1 [==============================] - 0s 16ms/step - loss: 0.4709 - mse: 0.4709 - val_loss: 0.4173 - val_mse: 0.4173\n",
            "Epoch 92/500\n",
            "1/1 [==============================] - 0s 16ms/step - loss: 0.4113 - mse: 0.4113 - val_loss: 0.4144 - val_mse: 0.4144\n",
            "Epoch 93/500\n",
            "1/1 [==============================] - 0s 16ms/step - loss: 0.4355 - mse: 0.4355 - val_loss: 0.4118 - val_mse: 0.4118\n",
            "Epoch 94/500\n",
            "1/1 [==============================] - 0s 18ms/step - loss: 0.4672 - mse: 0.4672 - val_loss: 0.4096 - val_mse: 0.4096\n",
            "Epoch 95/500\n",
            "1/1 [==============================] - 0s 16ms/step - loss: 0.4145 - mse: 0.4145 - val_loss: 0.4074 - val_mse: 0.4074\n",
            "Epoch 96/500\n",
            "1/1 [==============================] - 0s 15ms/step - loss: 0.3993 - mse: 0.3993 - val_loss: 0.4054 - val_mse: 0.4054\n",
            "Epoch 97/500\n",
            "1/1 [==============================] - 0s 21ms/step - loss: 0.3954 - mse: 0.3954 - val_loss: 0.4036 - val_mse: 0.4036\n",
            "Epoch 98/500\n",
            "1/1 [==============================] - 0s 16ms/step - loss: 0.4075 - mse: 0.4075 - val_loss: 0.4029 - val_mse: 0.4029\n",
            "Epoch 99/500\n",
            "1/1 [==============================] - 0s 17ms/step - loss: 0.3690 - mse: 0.3690 - val_loss: 0.4022 - val_mse: 0.4022\n",
            "Epoch 100/500\n",
            "1/1 [==============================] - 0s 16ms/step - loss: 0.4368 - mse: 0.4368 - val_loss: 0.4007 - val_mse: 0.4007\n",
            "Epoch 101/500\n",
            "1/1 [==============================] - 0s 16ms/step - loss: 0.4135 - mse: 0.4135 - val_loss: 0.4003 - val_mse: 0.4003\n",
            "Epoch 102/500\n",
            "1/1 [==============================] - 0s 15ms/step - loss: 0.4241 - mse: 0.4241 - val_loss: 0.3984 - val_mse: 0.3984\n",
            "Epoch 103/500\n",
            "1/1 [==============================] - 0s 15ms/step - loss: 0.4301 - mse: 0.4301 - val_loss: 0.3948 - val_mse: 0.3948\n",
            "Epoch 104/500\n",
            "1/1 [==============================] - 0s 15ms/step - loss: 0.4089 - mse: 0.4089 - val_loss: 0.3913 - val_mse: 0.3913\n",
            "Epoch 105/500\n",
            "1/1 [==============================] - 0s 17ms/step - loss: 0.4224 - mse: 0.4224 - val_loss: 0.3890 - val_mse: 0.3890\n",
            "Epoch 106/500\n",
            "1/1 [==============================] - 0s 17ms/step - loss: 0.3561 - mse: 0.3561 - val_loss: 0.3875 - val_mse: 0.3875\n",
            "Epoch 107/500\n",
            "1/1 [==============================] - 0s 17ms/step - loss: 0.3673 - mse: 0.3673 - val_loss: 0.3875 - val_mse: 0.3875\n",
            "Epoch 108/500\n",
            "1/1 [==============================] - 0s 20ms/step - loss: 0.4173 - mse: 0.4173 - val_loss: 0.3875 - val_mse: 0.3875\n",
            "Epoch 109/500\n",
            "1/1 [==============================] - 0s 17ms/step - loss: 0.4000 - mse: 0.4000 - val_loss: 0.3852 - val_mse: 0.3852\n",
            "Epoch 110/500\n",
            "1/1 [==============================] - 0s 15ms/step - loss: 0.3700 - mse: 0.3700 - val_loss: 0.3820 - val_mse: 0.3820\n",
            "Epoch 111/500\n",
            "1/1 [==============================] - 0s 16ms/step - loss: 0.4063 - mse: 0.4063 - val_loss: 0.3806 - val_mse: 0.3806\n",
            "Epoch 112/500\n",
            "1/1 [==============================] - 0s 17ms/step - loss: 0.4232 - mse: 0.4232 - val_loss: 0.3821 - val_mse: 0.3821\n",
            "Epoch 113/500\n",
            "1/1 [==============================] - 0s 17ms/step - loss: 0.3698 - mse: 0.3698 - val_loss: 0.3844 - val_mse: 0.3844\n",
            "Epoch 114/500\n",
            "1/1 [==============================] - 0s 16ms/step - loss: 0.4214 - mse: 0.4214 - val_loss: 0.3866 - val_mse: 0.3866\n",
            "Epoch 115/500\n",
            "1/1 [==============================] - 0s 15ms/step - loss: 0.3716 - mse: 0.3716 - val_loss: 0.3877 - val_mse: 0.3877\n",
            "Epoch 116/500\n",
            "1/1 [==============================] - 0s 15ms/step - loss: 0.3677 - mse: 0.3677 - val_loss: 0.3860 - val_mse: 0.3860\n",
            "Epoch 117/500\n",
            "1/1 [==============================] - 0s 15ms/step - loss: 0.4554 - mse: 0.4554 - val_loss: 0.3826 - val_mse: 0.3826\n",
            "Epoch 118/500\n",
            "1/1 [==============================] - 0s 16ms/step - loss: 0.3805 - mse: 0.3805 - val_loss: 0.3809 - val_mse: 0.3809\n",
            "Epoch 119/500\n",
            "1/1 [==============================] - 0s 18ms/step - loss: 0.3991 - mse: 0.3991 - val_loss: 0.3776 - val_mse: 0.3776\n",
            "Epoch 120/500\n",
            "1/1 [==============================] - 0s 15ms/step - loss: 0.3873 - mse: 0.3873 - val_loss: 0.3749 - val_mse: 0.3749\n",
            "Epoch 121/500\n",
            "1/1 [==============================] - 0s 17ms/step - loss: 0.3650 - mse: 0.3650 - val_loss: 0.3734 - val_mse: 0.3734\n",
            "Epoch 122/500\n",
            "1/1 [==============================] - 0s 17ms/step - loss: 0.3531 - mse: 0.3531 - val_loss: 0.3721 - val_mse: 0.3721\n",
            "Epoch 123/500\n",
            "1/1 [==============================] - 0s 17ms/step - loss: 0.4313 - mse: 0.4313 - val_loss: 0.3703 - val_mse: 0.3703\n",
            "Epoch 124/500\n",
            "1/1 [==============================] - 0s 15ms/step - loss: 0.3971 - mse: 0.3971 - val_loss: 0.3691 - val_mse: 0.3691\n",
            "Epoch 125/500\n",
            "1/1 [==============================] - 0s 15ms/step - loss: 0.3412 - mse: 0.3412 - val_loss: 0.3679 - val_mse: 0.3679\n",
            "Epoch 126/500\n",
            "1/1 [==============================] - 0s 16ms/step - loss: 0.3336 - mse: 0.3336 - val_loss: 0.3669 - val_mse: 0.3669\n",
            "Epoch 127/500\n",
            "1/1 [==============================] - 0s 15ms/step - loss: 0.3444 - mse: 0.3444 - val_loss: 0.3663 - val_mse: 0.3663\n",
            "Epoch 128/500\n",
            "1/1 [==============================] - 0s 17ms/step - loss: 0.3293 - mse: 0.3293 - val_loss: 0.3662 - val_mse: 0.3662\n",
            "Epoch 129/500\n",
            "1/1 [==============================] - 0s 17ms/step - loss: 0.4301 - mse: 0.4301 - val_loss: 0.3656 - val_mse: 0.3656\n",
            "Epoch 130/500\n",
            "1/1 [==============================] - 0s 17ms/step - loss: 0.3635 - mse: 0.3635 - val_loss: 0.3652 - val_mse: 0.3652\n",
            "Epoch 131/500\n",
            "1/1 [==============================] - 0s 17ms/step - loss: 0.4052 - mse: 0.4052 - val_loss: 0.3649 - val_mse: 0.3649\n",
            "Epoch 132/500\n",
            "1/1 [==============================] - 0s 18ms/step - loss: 0.3675 - mse: 0.3675 - val_loss: 0.3638 - val_mse: 0.3638\n",
            "Epoch 133/500\n",
            "1/1 [==============================] - 0s 21ms/step - loss: 0.4902 - mse: 0.4902 - val_loss: 0.3624 - val_mse: 0.3624\n",
            "Epoch 134/500\n",
            "1/1 [==============================] - 0s 15ms/step - loss: 0.3950 - mse: 0.3950 - val_loss: 0.3606 - val_mse: 0.3606\n",
            "Epoch 135/500\n",
            "1/1 [==============================] - 0s 17ms/step - loss: 0.3746 - mse: 0.3746 - val_loss: 0.3595 - val_mse: 0.3595\n",
            "Epoch 136/500\n",
            "1/1 [==============================] - 0s 17ms/step - loss: 0.3523 - mse: 0.3523 - val_loss: 0.3583 - val_mse: 0.3583\n",
            "Epoch 137/500\n",
            "1/1 [==============================] - 0s 16ms/step - loss: 0.3758 - mse: 0.3758 - val_loss: 0.3581 - val_mse: 0.3581\n",
            "Epoch 138/500\n",
            "1/1 [==============================] - 0s 15ms/step - loss: 0.3439 - mse: 0.3439 - val_loss: 0.3571 - val_mse: 0.3571\n",
            "Epoch 139/500\n",
            "1/1 [==============================] - 0s 16ms/step - loss: 0.3726 - mse: 0.3726 - val_loss: 0.3567 - val_mse: 0.3567\n",
            "Epoch 140/500\n",
            "1/1 [==============================] - 0s 17ms/step - loss: 0.3586 - mse: 0.3586 - val_loss: 0.3565 - val_mse: 0.3565\n",
            "Epoch 141/500\n",
            "1/1 [==============================] - 0s 17ms/step - loss: 0.3466 - mse: 0.3466 - val_loss: 0.3566 - val_mse: 0.3566\n",
            "Epoch 142/500\n",
            "1/1 [==============================] - 0s 18ms/step - loss: 0.3423 - mse: 0.3423 - val_loss: 0.3569 - val_mse: 0.3569\n",
            "Epoch 143/500\n",
            "1/1 [==============================] - 0s 16ms/step - loss: 0.4061 - mse: 0.4061 - val_loss: 0.3567 - val_mse: 0.3567\n",
            "Epoch 144/500\n",
            "1/1 [==============================] - 0s 17ms/step - loss: 0.3670 - mse: 0.3670 - val_loss: 0.3556 - val_mse: 0.3556\n",
            "Epoch 145/500\n",
            "1/1 [==============================] - 0s 15ms/step - loss: 0.3584 - mse: 0.3584 - val_loss: 0.3539 - val_mse: 0.3539\n",
            "Epoch 146/500\n",
            "1/1 [==============================] - 0s 16ms/step - loss: 0.4039 - mse: 0.4039 - val_loss: 0.3520 - val_mse: 0.3520\n",
            "Epoch 147/500\n",
            "1/1 [==============================] - 0s 20ms/step - loss: 0.3597 - mse: 0.3597 - val_loss: 0.3508 - val_mse: 0.3508\n",
            "Epoch 148/500\n",
            "1/1 [==============================] - 0s 18ms/step - loss: 0.3765 - mse: 0.3765 - val_loss: 0.3498 - val_mse: 0.3498\n",
            "Epoch 149/500\n",
            "1/1 [==============================] - 0s 17ms/step - loss: 0.3472 - mse: 0.3472 - val_loss: 0.3488 - val_mse: 0.3488\n",
            "Epoch 150/500\n",
            "1/1 [==============================] - 0s 18ms/step - loss: 0.3148 - mse: 0.3148 - val_loss: 0.3482 - val_mse: 0.3482\n",
            "Epoch 151/500\n",
            "1/1 [==============================] - 0s 18ms/step - loss: 0.3427 - mse: 0.3427 - val_loss: 0.3476 - val_mse: 0.3476\n",
            "Epoch 152/500\n",
            "1/1 [==============================] - 0s 17ms/step - loss: 0.4007 - mse: 0.4007 - val_loss: 0.3474 - val_mse: 0.3474\n",
            "Epoch 153/500\n",
            "1/1 [==============================] - 0s 17ms/step - loss: 0.4000 - mse: 0.4000 - val_loss: 0.3467 - val_mse: 0.3467\n",
            "Epoch 154/500\n",
            "1/1 [==============================] - 0s 19ms/step - loss: 0.3311 - mse: 0.3311 - val_loss: 0.3460 - val_mse: 0.3460\n",
            "Epoch 155/500\n",
            "1/1 [==============================] - 0s 19ms/step - loss: 0.3770 - mse: 0.3770 - val_loss: 0.3445 - val_mse: 0.3445\n",
            "Epoch 156/500\n",
            "1/1 [==============================] - 0s 17ms/step - loss: 0.3322 - mse: 0.3322 - val_loss: 0.3433 - val_mse: 0.3433\n",
            "Epoch 157/500\n",
            "1/1 [==============================] - 0s 18ms/step - loss: 0.3883 - mse: 0.3883 - val_loss: 0.3426 - val_mse: 0.3426\n",
            "Epoch 158/500\n",
            "1/1 [==============================] - 0s 16ms/step - loss: 0.3108 - mse: 0.3108 - val_loss: 0.3416 - val_mse: 0.3416\n",
            "Epoch 159/500\n",
            "1/1 [==============================] - 0s 16ms/step - loss: 0.3440 - mse: 0.3440 - val_loss: 0.3411 - val_mse: 0.3411\n",
            "Epoch 160/500\n",
            "1/1 [==============================] - 0s 20ms/step - loss: 0.3862 - mse: 0.3862 - val_loss: 0.3409 - val_mse: 0.3409\n",
            "Epoch 161/500\n",
            "1/1 [==============================] - 0s 18ms/step - loss: 0.3419 - mse: 0.3419 - val_loss: 0.3407 - val_mse: 0.3407\n",
            "Epoch 162/500\n",
            "1/1 [==============================] - 0s 17ms/step - loss: 0.3981 - mse: 0.3981 - val_loss: 0.3404 - val_mse: 0.3404\n",
            "Epoch 163/500\n",
            "1/1 [==============================] - 0s 16ms/step - loss: 0.3391 - mse: 0.3391 - val_loss: 0.3402 - val_mse: 0.3402\n",
            "Epoch 164/500\n",
            "1/1 [==============================] - 0s 16ms/step - loss: 0.3614 - mse: 0.3614 - val_loss: 0.3399 - val_mse: 0.3399\n",
            "Epoch 165/500\n",
            "1/1 [==============================] - 0s 15ms/step - loss: 0.3698 - mse: 0.3698 - val_loss: 0.3388 - val_mse: 0.3388\n",
            "Epoch 166/500\n",
            "1/1 [==============================] - 0s 14ms/step - loss: 0.3940 - mse: 0.3940 - val_loss: 0.3375 - val_mse: 0.3375\n",
            "Epoch 167/500\n",
            "1/1 [==============================] - 0s 15ms/step - loss: 0.3391 - mse: 0.3391 - val_loss: 0.3356 - val_mse: 0.3356\n",
            "Epoch 168/500\n",
            "1/1 [==============================] - 0s 16ms/step - loss: 0.3512 - mse: 0.3512 - val_loss: 0.3346 - val_mse: 0.3346\n",
            "Epoch 169/500\n",
            "1/1 [==============================] - 0s 22ms/step - loss: 0.3743 - mse: 0.3743 - val_loss: 0.3335 - val_mse: 0.3335\n",
            "Epoch 170/500\n",
            "1/1 [==============================] - 0s 17ms/step - loss: 0.3462 - mse: 0.3462 - val_loss: 0.3328 - val_mse: 0.3328\n",
            "Epoch 171/500\n",
            "1/1 [==============================] - 0s 22ms/step - loss: 0.3529 - mse: 0.3529 - val_loss: 0.3324 - val_mse: 0.3324\n",
            "Epoch 172/500\n",
            "1/1 [==============================] - 0s 16ms/step - loss: 0.3334 - mse: 0.3334 - val_loss: 0.3320 - val_mse: 0.3320\n",
            "Epoch 173/500\n",
            "1/1 [==============================] - 0s 17ms/step - loss: 0.3335 - mse: 0.3335 - val_loss: 0.3316 - val_mse: 0.3316\n",
            "Epoch 174/500\n",
            "1/1 [==============================] - 0s 15ms/step - loss: 0.2927 - mse: 0.2927 - val_loss: 0.3308 - val_mse: 0.3308\n",
            "Epoch 175/500\n",
            "1/1 [==============================] - 0s 17ms/step - loss: 0.3532 - mse: 0.3532 - val_loss: 0.3296 - val_mse: 0.3296\n",
            "Epoch 176/500\n",
            "1/1 [==============================] - 0s 16ms/step - loss: 0.3602 - mse: 0.3602 - val_loss: 0.3285 - val_mse: 0.3285\n",
            "Epoch 177/500\n",
            "1/1 [==============================] - 0s 17ms/step - loss: 0.3272 - mse: 0.3272 - val_loss: 0.3274 - val_mse: 0.3274\n",
            "Epoch 178/500\n",
            "1/1 [==============================] - 0s 15ms/step - loss: 0.3520 - mse: 0.3520 - val_loss: 0.3266 - val_mse: 0.3266\n",
            "Epoch 179/500\n",
            "1/1 [==============================] - 0s 16ms/step - loss: 0.3233 - mse: 0.3233 - val_loss: 0.3258 - val_mse: 0.3258\n",
            "Epoch 180/500\n",
            "1/1 [==============================] - 0s 20ms/step - loss: 0.3835 - mse: 0.3835 - val_loss: 0.3251 - val_mse: 0.3251\n",
            "Epoch 181/500\n",
            "1/1 [==============================] - 0s 16ms/step - loss: 0.3330 - mse: 0.3330 - val_loss: 0.3247 - val_mse: 0.3247\n",
            "Epoch 182/500\n",
            "1/1 [==============================] - 0s 16ms/step - loss: 0.3252 - mse: 0.3252 - val_loss: 0.3244 - val_mse: 0.3244\n",
            "Epoch 183/500\n",
            "1/1 [==============================] - 0s 15ms/step - loss: 0.3531 - mse: 0.3531 - val_loss: 0.3245 - val_mse: 0.3245\n",
            "Epoch 184/500\n",
            "1/1 [==============================] - 0s 16ms/step - loss: 0.2890 - mse: 0.2890 - val_loss: 0.3251 - val_mse: 0.3251\n",
            "Epoch 185/500\n",
            "1/1 [==============================] - 0s 16ms/step - loss: 0.3340 - mse: 0.3340 - val_loss: 0.3261 - val_mse: 0.3261\n",
            "Epoch 186/500\n",
            "1/1 [==============================] - 0s 17ms/step - loss: 0.3775 - mse: 0.3775 - val_loss: 0.3259 - val_mse: 0.3259\n",
            "Epoch 187/500\n",
            "1/1 [==============================] - 0s 16ms/step - loss: 0.3284 - mse: 0.3284 - val_loss: 0.3253 - val_mse: 0.3253\n",
            "Epoch 188/500\n",
            "1/1 [==============================] - 0s 18ms/step - loss: 0.3428 - mse: 0.3428 - val_loss: 0.3241 - val_mse: 0.3241\n",
            "Epoch 189/500\n",
            "1/1 [==============================] - 0s 19ms/step - loss: 0.3311 - mse: 0.3311 - val_loss: 0.3231 - val_mse: 0.3231\n",
            "Epoch 190/500\n",
            "1/1 [==============================] - 0s 21ms/step - loss: 0.3831 - mse: 0.3831 - val_loss: 0.3218 - val_mse: 0.3218\n",
            "Epoch 191/500\n",
            "1/1 [==============================] - 0s 22ms/step - loss: 0.3490 - mse: 0.3490 - val_loss: 0.3211 - val_mse: 0.3211\n",
            "Epoch 192/500\n",
            "1/1 [==============================] - 0s 19ms/step - loss: 0.3454 - mse: 0.3454 - val_loss: 0.3203 - val_mse: 0.3203\n",
            "Epoch 193/500\n",
            "1/1 [==============================] - 0s 20ms/step - loss: 0.3464 - mse: 0.3464 - val_loss: 0.3198 - val_mse: 0.3198\n",
            "Epoch 194/500\n",
            "1/1 [==============================] - 0s 21ms/step - loss: 0.3494 - mse: 0.3494 - val_loss: 0.3191 - val_mse: 0.3191\n",
            "Epoch 195/500\n",
            "1/1 [==============================] - 0s 19ms/step - loss: 0.3165 - mse: 0.3165 - val_loss: 0.3184 - val_mse: 0.3184\n",
            "Epoch 196/500\n",
            "1/1 [==============================] - 0s 19ms/step - loss: 0.4112 - mse: 0.4112 - val_loss: 0.3179 - val_mse: 0.3179\n",
            "Epoch 197/500\n",
            "1/1 [==============================] - 0s 20ms/step - loss: 0.3306 - mse: 0.3306 - val_loss: 0.3175 - val_mse: 0.3175\n",
            "Epoch 198/500\n",
            "1/1 [==============================] - 0s 17ms/step - loss: 0.3506 - mse: 0.3506 - val_loss: 0.3174 - val_mse: 0.3174\n",
            "Epoch 199/500\n",
            "1/1 [==============================] - 0s 20ms/step - loss: 0.3307 - mse: 0.3307 - val_loss: 0.3169 - val_mse: 0.3169\n",
            "Epoch 200/500\n",
            "1/1 [==============================] - 0s 16ms/step - loss: 0.3052 - mse: 0.3052 - val_loss: 0.3163 - val_mse: 0.3163\n",
            "Epoch 201/500\n",
            "1/1 [==============================] - 0s 17ms/step - loss: 0.3498 - mse: 0.3498 - val_loss: 0.3157 - val_mse: 0.3157\n",
            "Epoch 202/500\n",
            "1/1 [==============================] - 0s 17ms/step - loss: 0.3655 - mse: 0.3655 - val_loss: 0.3149 - val_mse: 0.3149\n",
            "Epoch 203/500\n",
            "1/1 [==============================] - 0s 17ms/step - loss: 0.3715 - mse: 0.3715 - val_loss: 0.3142 - val_mse: 0.3142\n",
            "Epoch 204/500\n",
            "1/1 [==============================] - 0s 15ms/step - loss: 0.3330 - mse: 0.3330 - val_loss: 0.3137 - val_mse: 0.3137\n",
            "Epoch 205/500\n",
            "1/1 [==============================] - 0s 15ms/step - loss: 0.3658 - mse: 0.3658 - val_loss: 0.3133 - val_mse: 0.3133\n",
            "Epoch 206/500\n",
            "1/1 [==============================] - 0s 17ms/step - loss: 0.3311 - mse: 0.3311 - val_loss: 0.3130 - val_mse: 0.3130\n",
            "Epoch 207/500\n",
            "1/1 [==============================] - 0s 14ms/step - loss: 0.3053 - mse: 0.3053 - val_loss: 0.3128 - val_mse: 0.3128\n",
            "Epoch 208/500\n",
            "1/1 [==============================] - 0s 15ms/step - loss: 0.3246 - mse: 0.3246 - val_loss: 0.3125 - val_mse: 0.3125\n",
            "Epoch 209/500\n",
            "1/1 [==============================] - 0s 27ms/step - loss: 0.3210 - mse: 0.3210 - val_loss: 0.3124 - val_mse: 0.3124\n",
            "Epoch 210/500\n",
            "1/1 [==============================] - 0s 17ms/step - loss: 0.3500 - mse: 0.3500 - val_loss: 0.3124 - val_mse: 0.3124\n",
            "Epoch 211/500\n",
            "1/1 [==============================] - 0s 17ms/step - loss: 0.3285 - mse: 0.3285 - val_loss: 0.3125 - val_mse: 0.3125\n",
            "Epoch 212/500\n",
            "1/1 [==============================] - 0s 16ms/step - loss: 0.3577 - mse: 0.3577 - val_loss: 0.3126 - val_mse: 0.3126\n",
            "Epoch 213/500\n",
            "1/1 [==============================] - 0s 16ms/step - loss: 0.3260 - mse: 0.3260 - val_loss: 0.3125 - val_mse: 0.3125\n",
            "Epoch 214/500\n",
            "1/1 [==============================] - 0s 14ms/step - loss: 0.3718 - mse: 0.3718 - val_loss: 0.3125 - val_mse: 0.3125\n",
            "Epoch 215/500\n",
            "1/1 [==============================] - 0s 14ms/step - loss: 0.3356 - mse: 0.3356 - val_loss: 0.3125 - val_mse: 0.3125\n",
            "Epoch 216/500\n",
            "1/1 [==============================] - 0s 16ms/step - loss: 0.3020 - mse: 0.3020 - val_loss: 0.3125 - val_mse: 0.3125\n",
            "Epoch 217/500\n",
            "1/1 [==============================] - 0s 17ms/step - loss: 0.3409 - mse: 0.3409 - val_loss: 0.3127 - val_mse: 0.3127\n",
            "Epoch 218/500\n",
            "1/1 [==============================] - 0s 18ms/step - loss: 0.3618 - mse: 0.3618 - val_loss: 0.3124 - val_mse: 0.3124\n",
            "Epoch 219/500\n",
            "1/1 [==============================] - 0s 16ms/step - loss: 0.3242 - mse: 0.3242 - val_loss: 0.3121 - val_mse: 0.3121\n",
            "Epoch 220/500\n",
            "1/1 [==============================] - 0s 16ms/step - loss: 0.3293 - mse: 0.3293 - val_loss: 0.3119 - val_mse: 0.3119\n",
            "Epoch 221/500\n",
            "1/1 [==============================] - 0s 15ms/step - loss: 0.3132 - mse: 0.3132 - val_loss: 0.3112 - val_mse: 0.3112\n",
            "Epoch 222/500\n",
            "1/1 [==============================] - 0s 15ms/step - loss: 0.3376 - mse: 0.3376 - val_loss: 0.3103 - val_mse: 0.3103\n",
            "Epoch 223/500\n",
            "1/1 [==============================] - 0s 15ms/step - loss: 0.3081 - mse: 0.3081 - val_loss: 0.3096 - val_mse: 0.3096\n",
            "Epoch 224/500\n",
            "1/1 [==============================] - 0s 15ms/step - loss: 0.2926 - mse: 0.2926 - val_loss: 0.3093 - val_mse: 0.3093\n",
            "Epoch 225/500\n",
            "1/1 [==============================] - 0s 15ms/step - loss: 0.3933 - mse: 0.3933 - val_loss: 0.3087 - val_mse: 0.3087\n",
            "Epoch 226/500\n",
            "1/1 [==============================] - 0s 16ms/step - loss: 0.3678 - mse: 0.3678 - val_loss: 0.3083 - val_mse: 0.3083\n",
            "Epoch 227/500\n",
            "1/1 [==============================] - 0s 15ms/step - loss: 0.3728 - mse: 0.3728 - val_loss: 0.3081 - val_mse: 0.3081\n",
            "Epoch 228/500\n",
            "1/1 [==============================] - 0s 20ms/step - loss: 0.3264 - mse: 0.3264 - val_loss: 0.3079 - val_mse: 0.3079\n",
            "Epoch 229/500\n",
            "1/1 [==============================] - 0s 16ms/step - loss: 0.2878 - mse: 0.2878 - val_loss: 0.3076 - val_mse: 0.3076\n",
            "Epoch 230/500\n",
            "1/1 [==============================] - 0s 15ms/step - loss: 0.3079 - mse: 0.3079 - val_loss: 0.3077 - val_mse: 0.3077\n",
            "Epoch 231/500\n",
            "1/1 [==============================] - 0s 15ms/step - loss: 0.3421 - mse: 0.3421 - val_loss: 0.3079 - val_mse: 0.3079\n",
            "Epoch 232/500\n",
            "1/1 [==============================] - 0s 15ms/step - loss: 0.3346 - mse: 0.3346 - val_loss: 0.3078 - val_mse: 0.3078\n",
            "Epoch 233/500\n",
            "1/1 [==============================] - 0s 15ms/step - loss: 0.3283 - mse: 0.3283 - val_loss: 0.3078 - val_mse: 0.3078\n",
            "Epoch 234/500\n",
            "1/1 [==============================] - 0s 17ms/step - loss: 0.3374 - mse: 0.3374 - val_loss: 0.3075 - val_mse: 0.3075\n",
            "Epoch 235/500\n",
            "1/1 [==============================] - 0s 16ms/step - loss: 0.3028 - mse: 0.3028 - val_loss: 0.3073 - val_mse: 0.3073\n",
            "Epoch 236/500\n",
            "1/1 [==============================] - 0s 15ms/step - loss: 0.3385 - mse: 0.3385 - val_loss: 0.3073 - val_mse: 0.3073\n",
            "Epoch 237/500\n",
            "1/1 [==============================] - 0s 16ms/step - loss: 0.3474 - mse: 0.3474 - val_loss: 0.3071 - val_mse: 0.3071\n",
            "Epoch 238/500\n",
            "1/1 [==============================] - 0s 16ms/step - loss: 0.3337 - mse: 0.3337 - val_loss: 0.3069 - val_mse: 0.3069\n",
            "Epoch 239/500\n",
            "1/1 [==============================] - 0s 19ms/step - loss: 0.3200 - mse: 0.3200 - val_loss: 0.3061 - val_mse: 0.3061\n",
            "Epoch 240/500\n",
            "1/1 [==============================] - 0s 15ms/step - loss: 0.3171 - mse: 0.3171 - val_loss: 0.3051 - val_mse: 0.3051\n",
            "Epoch 241/500\n",
            "1/1 [==============================] - 0s 15ms/step - loss: 0.3166 - mse: 0.3166 - val_loss: 0.3045 - val_mse: 0.3045\n",
            "Epoch 242/500\n",
            "1/1 [==============================] - 0s 16ms/step - loss: 0.3066 - mse: 0.3066 - val_loss: 0.3040 - val_mse: 0.3040\n",
            "Epoch 243/500\n",
            "1/1 [==============================] - 0s 15ms/step - loss: 0.3265 - mse: 0.3265 - val_loss: 0.3035 - val_mse: 0.3035\n",
            "Epoch 244/500\n",
            "1/1 [==============================] - 0s 14ms/step - loss: 0.3154 - mse: 0.3154 - val_loss: 0.3033 - val_mse: 0.3033\n",
            "Epoch 245/500\n",
            "1/1 [==============================] - 0s 17ms/step - loss: 0.3310 - mse: 0.3310 - val_loss: 0.3033 - val_mse: 0.3033\n",
            "Epoch 246/500\n",
            "1/1 [==============================] - 0s 16ms/step - loss: 0.3319 - mse: 0.3319 - val_loss: 0.3034 - val_mse: 0.3034\n",
            "Epoch 247/500\n",
            "1/1 [==============================] - 0s 15ms/step - loss: 0.3292 - mse: 0.3292 - val_loss: 0.3038 - val_mse: 0.3038\n",
            "Epoch 248/500\n",
            "1/1 [==============================] - 0s 17ms/step - loss: 0.3090 - mse: 0.3090 - val_loss: 0.3039 - val_mse: 0.3039\n",
            "Epoch 249/500\n",
            "1/1 [==============================] - 0s 15ms/step - loss: 0.3088 - mse: 0.3088 - val_loss: 0.3039 - val_mse: 0.3039\n",
            "Epoch 250/500\n",
            "1/1 [==============================] - 0s 16ms/step - loss: 0.3445 - mse: 0.3445 - val_loss: 0.3042 - val_mse: 0.3042\n",
            "Epoch 251/500\n",
            "1/1 [==============================] - 0s 17ms/step - loss: 0.3472 - mse: 0.3472 - val_loss: 0.3044 - val_mse: 0.3044\n",
            "Epoch 252/500\n",
            "1/1 [==============================] - 0s 17ms/step - loss: 0.3471 - mse: 0.3471 - val_loss: 0.3045 - val_mse: 0.3045\n",
            "Epoch 253/500\n",
            "1/1 [==============================] - 0s 15ms/step - loss: 0.2997 - mse: 0.2997 - val_loss: 0.3043 - val_mse: 0.3043\n",
            "Epoch 254/500\n",
            "1/1 [==============================] - 0s 15ms/step - loss: 0.3266 - mse: 0.3266 - val_loss: 0.3042 - val_mse: 0.3042\n",
            "Epoch 255/500\n",
            "1/1 [==============================] - 0s 14ms/step - loss: 0.3366 - mse: 0.3366 - val_loss: 0.3040 - val_mse: 0.3040\n",
            "Epoch 256/500\n",
            "1/1 [==============================] - 0s 16ms/step - loss: 0.3059 - mse: 0.3059 - val_loss: 0.3042 - val_mse: 0.3042\n",
            "Epoch 257/500\n",
            "1/1 [==============================] - 0s 16ms/step - loss: 0.2970 - mse: 0.2970 - val_loss: 0.3042 - val_mse: 0.3042\n",
            "Epoch 258/500\n",
            "1/1 [==============================] - 0s 16ms/step - loss: 0.3200 - mse: 0.3200 - val_loss: 0.3039 - val_mse: 0.3039\n",
            "Epoch 259/500\n",
            "1/1 [==============================] - 0s 15ms/step - loss: 0.3459 - mse: 0.3459 - val_loss: 0.3035 - val_mse: 0.3035\n",
            "Epoch 260/500\n",
            "1/1 [==============================] - 0s 14ms/step - loss: 0.3103 - mse: 0.3103 - val_loss: 0.3030 - val_mse: 0.3030\n",
            "Epoch 261/500\n",
            "1/1 [==============================] - 0s 16ms/step - loss: 0.3129 - mse: 0.3129 - val_loss: 0.3023 - val_mse: 0.3023\n",
            "Epoch 262/500\n",
            "1/1 [==============================] - 0s 17ms/step - loss: 0.3075 - mse: 0.3075 - val_loss: 0.3017 - val_mse: 0.3017\n",
            "Epoch 263/500\n",
            "1/1 [==============================] - 0s 19ms/step - loss: 0.2867 - mse: 0.2867 - val_loss: 0.3012 - val_mse: 0.3012\n",
            "Epoch 264/500\n",
            "1/1 [==============================] - 0s 17ms/step - loss: 0.3089 - mse: 0.3089 - val_loss: 0.3010 - val_mse: 0.3010\n",
            "Epoch 265/500\n",
            "1/1 [==============================] - 0s 17ms/step - loss: 0.3003 - mse: 0.3003 - val_loss: 0.3012 - val_mse: 0.3012\n",
            "Epoch 266/500\n",
            "1/1 [==============================] - 0s 19ms/step - loss: 0.3524 - mse: 0.3524 - val_loss: 0.3013 - val_mse: 0.3013\n",
            "Epoch 267/500\n",
            "1/1 [==============================] - 0s 16ms/step - loss: 0.3253 - mse: 0.3253 - val_loss: 0.3016 - val_mse: 0.3016\n",
            "Epoch 268/500\n",
            "1/1 [==============================] - 0s 19ms/step - loss: 0.3269 - mse: 0.3269 - val_loss: 0.3022 - val_mse: 0.3022\n",
            "Epoch 269/500\n",
            "1/1 [==============================] - 0s 15ms/step - loss: 0.3093 - mse: 0.3093 - val_loss: 0.3027 - val_mse: 0.3027\n",
            "Epoch 270/500\n",
            "1/1 [==============================] - 0s 15ms/step - loss: 0.3514 - mse: 0.3514 - val_loss: 0.3030 - val_mse: 0.3030\n",
            "Epoch 271/500\n",
            "1/1 [==============================] - 0s 16ms/step - loss: 0.3324 - mse: 0.3324 - val_loss: 0.3035 - val_mse: 0.3035\n",
            "Epoch 272/500\n",
            "1/1 [==============================] - 0s 14ms/step - loss: 0.3245 - mse: 0.3245 - val_loss: 0.3038 - val_mse: 0.3038\n",
            "Epoch 273/500\n",
            "1/1 [==============================] - 0s 14ms/step - loss: 0.3402 - mse: 0.3402 - val_loss: 0.3036 - val_mse: 0.3036\n",
            "Epoch 274/500\n",
            "1/1 [==============================] - 0s 15ms/step - loss: 0.3329 - mse: 0.3329 - val_loss: 0.3031 - val_mse: 0.3031\n",
            "Epoch 275/500\n",
            "1/1 [==============================] - 0s 16ms/step - loss: 0.3295 - mse: 0.3295 - val_loss: 0.3022 - val_mse: 0.3022\n",
            "Epoch 276/500\n",
            "1/1 [==============================] - 0s 16ms/step - loss: 0.3436 - mse: 0.3436 - val_loss: 0.3015 - val_mse: 0.3015\n",
            "Epoch 277/500\n",
            "1/1 [==============================] - 0s 19ms/step - loss: 0.3091 - mse: 0.3091 - val_loss: 0.3009 - val_mse: 0.3009\n",
            "Epoch 278/500\n",
            "1/1 [==============================] - 0s 15ms/step - loss: 0.2968 - mse: 0.2968 - val_loss: 0.3004 - val_mse: 0.3004\n",
            "Epoch 279/500\n",
            "1/1 [==============================] - 0s 16ms/step - loss: 0.3245 - mse: 0.3245 - val_loss: 0.2998 - val_mse: 0.2998\n",
            "Epoch 280/500\n",
            "1/1 [==============================] - 0s 16ms/step - loss: 0.3346 - mse: 0.3346 - val_loss: 0.2995 - val_mse: 0.2995\n",
            "Epoch 281/500\n",
            "1/1 [==============================] - 0s 16ms/step - loss: 0.3209 - mse: 0.3209 - val_loss: 0.2992 - val_mse: 0.2992\n",
            "Epoch 282/500\n",
            "1/1 [==============================] - 0s 15ms/step - loss: 0.3003 - mse: 0.3003 - val_loss: 0.2990 - val_mse: 0.2990\n",
            "Epoch 283/500\n",
            "1/1 [==============================] - 0s 18ms/step - loss: 0.3531 - mse: 0.3531 - val_loss: 0.2989 - val_mse: 0.2989\n",
            "Epoch 284/500\n",
            "1/1 [==============================] - 0s 17ms/step - loss: 0.3444 - mse: 0.3444 - val_loss: 0.2987 - val_mse: 0.2987\n",
            "Epoch 285/500\n",
            "1/1 [==============================] - 0s 19ms/step - loss: 0.3633 - mse: 0.3633 - val_loss: 0.2984 - val_mse: 0.2984\n",
            "Epoch 286/500\n",
            "1/1 [==============================] - 0s 24ms/step - loss: 0.3117 - mse: 0.3117 - val_loss: 0.2982 - val_mse: 0.2982\n",
            "Epoch 287/500\n",
            "1/1 [==============================] - 0s 17ms/step - loss: 0.3254 - mse: 0.3254 - val_loss: 0.2980 - val_mse: 0.2980\n",
            "Epoch 288/500\n",
            "1/1 [==============================] - 0s 22ms/step - loss: 0.3310 - mse: 0.3310 - val_loss: 0.2979 - val_mse: 0.2979\n",
            "Epoch 289/500\n",
            "1/1 [==============================] - 0s 19ms/step - loss: 0.3071 - mse: 0.3071 - val_loss: 0.2977 - val_mse: 0.2977\n",
            "Epoch 290/500\n",
            "1/1 [==============================] - 0s 18ms/step - loss: 0.3218 - mse: 0.3218 - val_loss: 0.2974 - val_mse: 0.2974\n",
            "Epoch 291/500\n",
            "1/1 [==============================] - 0s 18ms/step - loss: 0.3262 - mse: 0.3262 - val_loss: 0.2970 - val_mse: 0.2970\n",
            "Epoch 292/500\n",
            "1/1 [==============================] - 0s 23ms/step - loss: 0.3117 - mse: 0.3117 - val_loss: 0.2967 - val_mse: 0.2967\n",
            "Epoch 293/500\n",
            "1/1 [==============================] - 0s 17ms/step - loss: 0.3347 - mse: 0.3347 - val_loss: 0.2966 - val_mse: 0.2966\n",
            "Epoch 294/500\n",
            "1/1 [==============================] - 0s 16ms/step - loss: 0.3290 - mse: 0.3290 - val_loss: 0.2967 - val_mse: 0.2967\n",
            "Epoch 295/500\n",
            "1/1 [==============================] - 0s 19ms/step - loss: 0.3812 - mse: 0.3812 - val_loss: 0.2970 - val_mse: 0.2970\n",
            "Epoch 296/500\n",
            "1/1 [==============================] - 0s 17ms/step - loss: 0.3239 - mse: 0.3239 - val_loss: 0.2970 - val_mse: 0.2970\n",
            "Epoch 297/500\n",
            "1/1 [==============================] - 0s 17ms/step - loss: 0.2969 - mse: 0.2969 - val_loss: 0.2971 - val_mse: 0.2971\n",
            "Epoch 298/500\n",
            "1/1 [==============================] - 0s 19ms/step - loss: 0.2808 - mse: 0.2808 - val_loss: 0.2971 - val_mse: 0.2971\n",
            "Epoch 299/500\n",
            "1/1 [==============================] - 0s 16ms/step - loss: 0.3144 - mse: 0.3144 - val_loss: 0.2971 - val_mse: 0.2971\n",
            "Epoch 300/500\n",
            "1/1 [==============================] - 0s 19ms/step - loss: 0.3006 - mse: 0.3006 - val_loss: 0.2970 - val_mse: 0.2970\n",
            "Epoch 301/500\n",
            "1/1 [==============================] - 0s 18ms/step - loss: 0.3195 - mse: 0.3195 - val_loss: 0.2969 - val_mse: 0.2969\n",
            "Epoch 302/500\n",
            "1/1 [==============================] - 0s 16ms/step - loss: 0.3120 - mse: 0.3120 - val_loss: 0.2966 - val_mse: 0.2966\n",
            "Epoch 303/500\n",
            "1/1 [==============================] - 0s 19ms/step - loss: 0.3112 - mse: 0.3112 - val_loss: 0.2964 - val_mse: 0.2964\n",
            "Epoch 304/500\n",
            "1/1 [==============================] - 0s 17ms/step - loss: 0.3218 - mse: 0.3218 - val_loss: 0.2960 - val_mse: 0.2960\n",
            "Epoch 305/500\n",
            "1/1 [==============================] - 0s 18ms/step - loss: 0.3302 - mse: 0.3302 - val_loss: 0.2957 - val_mse: 0.2957\n",
            "Epoch 306/500\n",
            "1/1 [==============================] - 0s 15ms/step - loss: 0.3255 - mse: 0.3255 - val_loss: 0.2954 - val_mse: 0.2954\n",
            "Epoch 307/500\n",
            "1/1 [==============================] - 0s 17ms/step - loss: 0.3358 - mse: 0.3358 - val_loss: 0.2952 - val_mse: 0.2952\n",
            "Epoch 308/500\n",
            "1/1 [==============================] - 0s 16ms/step - loss: 0.3179 - mse: 0.3179 - val_loss: 0.2951 - val_mse: 0.2951\n",
            "Epoch 309/500\n",
            "1/1 [==============================] - 0s 15ms/step - loss: 0.3155 - mse: 0.3155 - val_loss: 0.2950 - val_mse: 0.2950\n",
            "Epoch 310/500\n",
            "1/1 [==============================] - 0s 15ms/step - loss: 0.3093 - mse: 0.3093 - val_loss: 0.2952 - val_mse: 0.2952\n",
            "Epoch 311/500\n",
            "1/1 [==============================] - 0s 14ms/step - loss: 0.3081 - mse: 0.3081 - val_loss: 0.2953 - val_mse: 0.2953\n",
            "Epoch 312/500\n",
            "1/1 [==============================] - 0s 27ms/step - loss: 0.2996 - mse: 0.2996 - val_loss: 0.2953 - val_mse: 0.2953\n",
            "Epoch 313/500\n",
            "1/1 [==============================] - 0s 15ms/step - loss: 0.3430 - mse: 0.3430 - val_loss: 0.2957 - val_mse: 0.2957\n",
            "Epoch 314/500\n",
            "1/1 [==============================] - 0s 16ms/step - loss: 0.2866 - mse: 0.2866 - val_loss: 0.2960 - val_mse: 0.2960\n",
            "Epoch 315/500\n",
            "1/1 [==============================] - 0s 15ms/step - loss: 0.3460 - mse: 0.3460 - val_loss: 0.2962 - val_mse: 0.2962\n",
            "Epoch 316/500\n",
            "1/1 [==============================] - 0s 19ms/step - loss: 0.3407 - mse: 0.3407 - val_loss: 0.2960 - val_mse: 0.2960\n",
            "Epoch 317/500\n",
            "1/1 [==============================] - 0s 16ms/step - loss: 0.3367 - mse: 0.3367 - val_loss: 0.2960 - val_mse: 0.2960\n",
            "Epoch 318/500\n",
            "1/1 [==============================] - 0s 17ms/step - loss: 0.3243 - mse: 0.3243 - val_loss: 0.2962 - val_mse: 0.2962\n",
            "Epoch 319/500\n",
            "1/1 [==============================] - 0s 18ms/step - loss: 0.3085 - mse: 0.3085 - val_loss: 0.2961 - val_mse: 0.2961\n",
            "Epoch 320/500\n",
            "1/1 [==============================] - 0s 17ms/step - loss: 0.3407 - mse: 0.3407 - val_loss: 0.2964 - val_mse: 0.2964\n",
            "Epoch 321/500\n",
            "1/1 [==============================] - 0s 20ms/step - loss: 0.2955 - mse: 0.2955 - val_loss: 0.2966 - val_mse: 0.2966\n",
            "Epoch 322/500\n",
            "1/1 [==============================] - 0s 15ms/step - loss: 0.3063 - mse: 0.3063 - val_loss: 0.2962 - val_mse: 0.2962\n",
            "Epoch 323/500\n",
            "1/1 [==============================] - 0s 19ms/step - loss: 0.2990 - mse: 0.2990 - val_loss: 0.2955 - val_mse: 0.2955\n",
            "Epoch 324/500\n",
            "1/1 [==============================] - 0s 17ms/step - loss: 0.3018 - mse: 0.3018 - val_loss: 0.2947 - val_mse: 0.2947\n",
            "Epoch 325/500\n",
            "1/1 [==============================] - 0s 16ms/step - loss: 0.3129 - mse: 0.3129 - val_loss: 0.2938 - val_mse: 0.2938\n",
            "Epoch 326/500\n",
            "1/1 [==============================] - 0s 15ms/step - loss: 0.3162 - mse: 0.3162 - val_loss: 0.2931 - val_mse: 0.2931\n",
            "Epoch 327/500\n",
            "1/1 [==============================] - 0s 14ms/step - loss: 0.2723 - mse: 0.2723 - val_loss: 0.2926 - val_mse: 0.2926\n",
            "Epoch 328/500\n",
            "1/1 [==============================] - 0s 17ms/step - loss: 0.3176 - mse: 0.3176 - val_loss: 0.2925 - val_mse: 0.2925\n",
            "Epoch 329/500\n",
            "1/1 [==============================] - 0s 15ms/step - loss: 0.3127 - mse: 0.3127 - val_loss: 0.2926 - val_mse: 0.2926\n",
            "Epoch 330/500\n",
            "1/1 [==============================] - 0s 15ms/step - loss: 0.3223 - mse: 0.3223 - val_loss: 0.2927 - val_mse: 0.2927\n",
            "Epoch 331/500\n",
            "1/1 [==============================] - 0s 16ms/step - loss: 0.3122 - mse: 0.3122 - val_loss: 0.2929 - val_mse: 0.2929\n",
            "Epoch 332/500\n",
            "1/1 [==============================] - 0s 15ms/step - loss: 0.3051 - mse: 0.3051 - val_loss: 0.2930 - val_mse: 0.2930\n",
            "Epoch 333/500\n",
            "1/1 [==============================] - 0s 15ms/step - loss: 0.2966 - mse: 0.2966 - val_loss: 0.2929 - val_mse: 0.2929\n",
            "Epoch 334/500\n",
            "1/1 [==============================] - 0s 17ms/step - loss: 0.2849 - mse: 0.2849 - val_loss: 0.2928 - val_mse: 0.2928\n",
            "Epoch 335/500\n",
            "1/1 [==============================] - 0s 17ms/step - loss: 0.3136 - mse: 0.3136 - val_loss: 0.2926 - val_mse: 0.2926\n",
            "Epoch 336/500\n",
            "1/1 [==============================] - 0s 16ms/step - loss: 0.3193 - mse: 0.3193 - val_loss: 0.2926 - val_mse: 0.2926\n",
            "Epoch 337/500\n",
            "1/1 [==============================] - 0s 18ms/step - loss: 0.3045 - mse: 0.3045 - val_loss: 0.2926 - val_mse: 0.2926\n",
            "Epoch 338/500\n",
            "1/1 [==============================] - 0s 13ms/step - loss: 0.3163 - mse: 0.3163 - val_loss: 0.2927 - val_mse: 0.2927\n",
            "Epoch 339/500\n",
            "1/1 [==============================] - 0s 20ms/step - loss: 0.2963 - mse: 0.2963 - val_loss: 0.2930 - val_mse: 0.2930\n",
            "Epoch 340/500\n",
            "1/1 [==============================] - 0s 18ms/step - loss: 0.3096 - mse: 0.3096 - val_loss: 0.2932 - val_mse: 0.2932\n",
            "Epoch 341/500\n",
            "1/1 [==============================] - 0s 19ms/step - loss: 0.2827 - mse: 0.2827 - val_loss: 0.2935 - val_mse: 0.2935\n",
            "Epoch 342/500\n",
            "1/1 [==============================] - 0s 15ms/step - loss: 0.3149 - mse: 0.3149 - val_loss: 0.2940 - val_mse: 0.2940\n",
            "Epoch 343/500\n",
            "1/1 [==============================] - 0s 16ms/step - loss: 0.3386 - mse: 0.3386 - val_loss: 0.2944 - val_mse: 0.2944\n",
            "Epoch 344/500\n",
            "1/1 [==============================] - 0s 16ms/step - loss: 0.3295 - mse: 0.3295 - val_loss: 0.2944 - val_mse: 0.2944\n",
            "Epoch 345/500\n",
            "1/1 [==============================] - 0s 21ms/step - loss: 0.3171 - mse: 0.3171 - val_loss: 0.2937 - val_mse: 0.2937\n",
            "Epoch 346/500\n",
            "1/1 [==============================] - 0s 15ms/step - loss: 0.3165 - mse: 0.3165 - val_loss: 0.2935 - val_mse: 0.2935\n",
            "Epoch 347/500\n",
            "1/1 [==============================] - 0s 17ms/step - loss: 0.3076 - mse: 0.3076 - val_loss: 0.2932 - val_mse: 0.2932\n",
            "Epoch 348/500\n",
            "1/1 [==============================] - 0s 18ms/step - loss: 0.3010 - mse: 0.3010 - val_loss: 0.2931 - val_mse: 0.2931\n",
            "Epoch 349/500\n",
            "1/1 [==============================] - 0s 16ms/step - loss: 0.2919 - mse: 0.2919 - val_loss: 0.2930 - val_mse: 0.2930\n",
            "Epoch 350/500\n",
            "1/1 [==============================] - 0s 16ms/step - loss: 0.3116 - mse: 0.3116 - val_loss: 0.2930 - val_mse: 0.2930\n",
            "Epoch 351/500\n",
            "1/1 [==============================] - 0s 14ms/step - loss: 0.3079 - mse: 0.3079 - val_loss: 0.2929 - val_mse: 0.2929\n",
            "Epoch 352/500\n",
            "1/1 [==============================] - 0s 16ms/step - loss: 0.3135 - mse: 0.3135 - val_loss: 0.2930 - val_mse: 0.2930\n",
            "Epoch 353/500\n",
            "1/1 [==============================] - 0s 24ms/step - loss: 0.3034 - mse: 0.3034 - val_loss: 0.2932 - val_mse: 0.2932\n",
            "Epoch 354/500\n",
            "1/1 [==============================] - 0s 16ms/step - loss: 0.3021 - mse: 0.3021 - val_loss: 0.2933 - val_mse: 0.2933\n",
            "Epoch 355/500\n",
            "1/1 [==============================] - 0s 17ms/step - loss: 0.2864 - mse: 0.2864 - val_loss: 0.2935 - val_mse: 0.2935\n",
            "Epoch 356/500\n",
            "1/1 [==============================] - 0s 16ms/step - loss: 0.3080 - mse: 0.3080 - val_loss: 0.2938 - val_mse: 0.2938\n",
            "Epoch 357/500\n",
            "1/1 [==============================] - 0s 19ms/step - loss: 0.2783 - mse: 0.2783 - val_loss: 0.2942 - val_mse: 0.2942\n",
            "Epoch 358/500\n",
            "1/1 [==============================] - 0s 15ms/step - loss: 0.3206 - mse: 0.3206 - val_loss: 0.2949 - val_mse: 0.2949\n",
            "Epoch 359/500\n",
            "1/1 [==============================] - 0s 15ms/step - loss: 0.3066 - mse: 0.3066 - val_loss: 0.2954 - val_mse: 0.2954\n",
            "Epoch 360/500\n",
            "1/1 [==============================] - 0s 15ms/step - loss: 0.2976 - mse: 0.2976 - val_loss: 0.2956 - val_mse: 0.2956\n",
            "Epoch 361/500\n",
            "1/1 [==============================] - 0s 19ms/step - loss: 0.3331 - mse: 0.3331 - val_loss: 0.2953 - val_mse: 0.2953\n",
            "Epoch 362/500\n",
            "1/1 [==============================] - 0s 17ms/step - loss: 0.2954 - mse: 0.2954 - val_loss: 0.2950 - val_mse: 0.2950\n",
            "Epoch 363/500\n",
            "1/1 [==============================] - 0s 18ms/step - loss: 0.3125 - mse: 0.3125 - val_loss: 0.2945 - val_mse: 0.2945\n",
            "Epoch 364/500\n",
            "1/1 [==============================] - 0s 17ms/step - loss: 0.3386 - mse: 0.3386 - val_loss: 0.2940 - val_mse: 0.2940\n",
            "Epoch 365/500\n",
            "1/1 [==============================] - 0s 19ms/step - loss: 0.3010 - mse: 0.3010 - val_loss: 0.2934 - val_mse: 0.2934\n",
            "Epoch 366/500\n",
            "1/1 [==============================] - 0s 18ms/step - loss: 0.3082 - mse: 0.3082 - val_loss: 0.2927 - val_mse: 0.2927\n",
            "Epoch 367/500\n",
            "1/1 [==============================] - 0s 16ms/step - loss: 0.3155 - mse: 0.3155 - val_loss: 0.2923 - val_mse: 0.2923\n",
            "Epoch 368/500\n",
            "1/1 [==============================] - 0s 15ms/step - loss: 0.3236 - mse: 0.3236 - val_loss: 0.2919 - val_mse: 0.2919\n",
            "Epoch 369/500\n",
            "1/1 [==============================] - 0s 16ms/step - loss: 0.2976 - mse: 0.2976 - val_loss: 0.2915 - val_mse: 0.2915\n",
            "Epoch 370/500\n",
            "1/1 [==============================] - 0s 23ms/step - loss: 0.3256 - mse: 0.3256 - val_loss: 0.2911 - val_mse: 0.2911\n",
            "Epoch 371/500\n",
            "1/1 [==============================] - 0s 18ms/step - loss: 0.2983 - mse: 0.2983 - val_loss: 0.2908 - val_mse: 0.2908\n",
            "Epoch 372/500\n",
            "1/1 [==============================] - 0s 14ms/step - loss: 0.3240 - mse: 0.3240 - val_loss: 0.2910 - val_mse: 0.2910\n",
            "Epoch 373/500\n",
            "1/1 [==============================] - 0s 16ms/step - loss: 0.3229 - mse: 0.3229 - val_loss: 0.2911 - val_mse: 0.2911\n",
            "Epoch 374/500\n",
            "1/1 [==============================] - 0s 16ms/step - loss: 0.3426 - mse: 0.3426 - val_loss: 0.2912 - val_mse: 0.2912\n",
            "Epoch 375/500\n",
            "1/1 [==============================] - 0s 16ms/step - loss: 0.2869 - mse: 0.2869 - val_loss: 0.2914 - val_mse: 0.2914\n",
            "Epoch 376/500\n",
            "1/1 [==============================] - 0s 15ms/step - loss: 0.3243 - mse: 0.3243 - val_loss: 0.2914 - val_mse: 0.2914\n",
            "Epoch 377/500\n",
            "1/1 [==============================] - 0s 17ms/step - loss: 0.2915 - mse: 0.2915 - val_loss: 0.2916 - val_mse: 0.2916\n",
            "Epoch 378/500\n",
            "1/1 [==============================] - 0s 15ms/step - loss: 0.3197 - mse: 0.3197 - val_loss: 0.2916 - val_mse: 0.2916\n",
            "Epoch 379/500\n",
            "1/1 [==============================] - 0s 17ms/step - loss: 0.3065 - mse: 0.3065 - val_loss: 0.2914 - val_mse: 0.2914\n",
            "Epoch 380/500\n",
            "1/1 [==============================] - 0s 18ms/step - loss: 0.3235 - mse: 0.3235 - val_loss: 0.2912 - val_mse: 0.2912\n",
            "Epoch 381/500\n",
            "1/1 [==============================] - 0s 22ms/step - loss: 0.3110 - mse: 0.3110 - val_loss: 0.2912 - val_mse: 0.2912\n",
            "Epoch 382/500\n",
            "1/1 [==============================] - 0s 17ms/step - loss: 0.2879 - mse: 0.2879 - val_loss: 0.2912 - val_mse: 0.2912\n",
            "Epoch 383/500\n",
            "1/1 [==============================] - 0s 16ms/step - loss: 0.3216 - mse: 0.3216 - val_loss: 0.2912 - val_mse: 0.2912\n",
            "Epoch 384/500\n",
            "1/1 [==============================] - 0s 17ms/step - loss: 0.2979 - mse: 0.2979 - val_loss: 0.2910 - val_mse: 0.2910\n",
            "Epoch 385/500\n",
            "1/1 [==============================] - 0s 18ms/step - loss: 0.3216 - mse: 0.3216 - val_loss: 0.2908 - val_mse: 0.2908\n",
            "Epoch 386/500\n",
            "1/1 [==============================] - 0s 17ms/step - loss: 0.2987 - mse: 0.2987 - val_loss: 0.2908 - val_mse: 0.2908\n",
            "Epoch 387/500\n",
            "1/1 [==============================] - 0s 19ms/step - loss: 0.3129 - mse: 0.3129 - val_loss: 0.2909 - val_mse: 0.2909\n",
            "Epoch 388/500\n",
            "1/1 [==============================] - 0s 15ms/step - loss: 0.3278 - mse: 0.3278 - val_loss: 0.2908 - val_mse: 0.2908\n",
            "Epoch 389/500\n",
            "1/1 [==============================] - 0s 16ms/step - loss: 0.3014 - mse: 0.3014 - val_loss: 0.2908 - val_mse: 0.2908\n",
            "Epoch 390/500\n",
            "1/1 [==============================] - 0s 18ms/step - loss: 0.3273 - mse: 0.3273 - val_loss: 0.2907 - val_mse: 0.2907\n",
            "Epoch 391/500\n",
            "1/1 [==============================] - 0s 18ms/step - loss: 0.2807 - mse: 0.2807 - val_loss: 0.2909 - val_mse: 0.2909\n",
            "Epoch 392/500\n",
            "1/1 [==============================] - 0s 16ms/step - loss: 0.3075 - mse: 0.3075 - val_loss: 0.2911 - val_mse: 0.2911\n",
            "Epoch 393/500\n",
            "1/1 [==============================] - 0s 21ms/step - loss: 0.3170 - mse: 0.3170 - val_loss: 0.2913 - val_mse: 0.2913\n",
            "Epoch 394/500\n",
            "1/1 [==============================] - 0s 15ms/step - loss: 0.3112 - mse: 0.3112 - val_loss: 0.2913 - val_mse: 0.2913\n",
            "Epoch 395/500\n",
            "1/1 [==============================] - 0s 19ms/step - loss: 0.3013 - mse: 0.3013 - val_loss: 0.2914 - val_mse: 0.2914\n",
            "Epoch 396/500\n",
            "1/1 [==============================] - 0s 16ms/step - loss: 0.2771 - mse: 0.2771 - val_loss: 0.2914 - val_mse: 0.2914\n",
            "Epoch 397/500\n",
            "1/1 [==============================] - 0s 18ms/step - loss: 0.3051 - mse: 0.3051 - val_loss: 0.2914 - val_mse: 0.2914\n",
            "Epoch 398/500\n",
            "1/1 [==============================] - 0s 16ms/step - loss: 0.3381 - mse: 0.3381 - val_loss: 0.2914 - val_mse: 0.2914\n",
            "Epoch 399/500\n",
            "1/1 [==============================] - 0s 20ms/step - loss: 0.3047 - mse: 0.3047 - val_loss: 0.2915 - val_mse: 0.2915\n",
            "Epoch 400/500\n",
            "1/1 [==============================] - 0s 15ms/step - loss: 0.3019 - mse: 0.3019 - val_loss: 0.2917 - val_mse: 0.2917\n",
            "Epoch 401/500\n",
            "1/1 [==============================] - 0s 21ms/step - loss: 0.3219 - mse: 0.3219 - val_loss: 0.2916 - val_mse: 0.2916\n",
            "Epoch 402/500\n",
            "1/1 [==============================] - 0s 18ms/step - loss: 0.3376 - mse: 0.3376 - val_loss: 0.2917 - val_mse: 0.2917\n",
            "Epoch 403/500\n",
            "1/1 [==============================] - 0s 21ms/step - loss: 0.3159 - mse: 0.3159 - val_loss: 0.2916 - val_mse: 0.2916\n",
            "Epoch 404/500\n",
            "1/1 [==============================] - 0s 21ms/step - loss: 0.3260 - mse: 0.3260 - val_loss: 0.2916 - val_mse: 0.2916\n",
            "Epoch 405/500\n",
            "1/1 [==============================] - 0s 16ms/step - loss: 0.3114 - mse: 0.3114 - val_loss: 0.2915 - val_mse: 0.2915\n",
            "Epoch 406/500\n",
            "1/1 [==============================] - 0s 17ms/step - loss: 0.2927 - mse: 0.2927 - val_loss: 0.2917 - val_mse: 0.2917\n",
            "Epoch 407/500\n",
            "1/1 [==============================] - 0s 16ms/step - loss: 0.3093 - mse: 0.3093 - val_loss: 0.2919 - val_mse: 0.2919\n",
            "Epoch 408/500\n",
            "1/1 [==============================] - 0s 17ms/step - loss: 0.2943 - mse: 0.2943 - val_loss: 0.2916 - val_mse: 0.2916\n",
            "Epoch 409/500\n",
            "1/1 [==============================] - 0s 15ms/step - loss: 0.2852 - mse: 0.2852 - val_loss: 0.2910 - val_mse: 0.2910\n",
            "Epoch 410/500\n",
            "1/1 [==============================] - 0s 16ms/step - loss: 0.2907 - mse: 0.2907 - val_loss: 0.2904 - val_mse: 0.2904\n",
            "Epoch 411/500\n",
            "1/1 [==============================] - 0s 16ms/step - loss: 0.2978 - mse: 0.2978 - val_loss: 0.2901 - val_mse: 0.2901\n",
            "Epoch 412/500\n",
            "1/1 [==============================] - 0s 20ms/step - loss: 0.2650 - mse: 0.2650 - val_loss: 0.2899 - val_mse: 0.2899\n",
            "Epoch 413/500\n",
            "1/1 [==============================] - 0s 18ms/step - loss: 0.3051 - mse: 0.3051 - val_loss: 0.2899 - val_mse: 0.2899\n",
            "Epoch 414/500\n",
            "1/1 [==============================] - 0s 16ms/step - loss: 0.3320 - mse: 0.3320 - val_loss: 0.2899 - val_mse: 0.2899\n",
            "Epoch 415/500\n",
            "1/1 [==============================] - 0s 14ms/step - loss: 0.2798 - mse: 0.2798 - val_loss: 0.2897 - val_mse: 0.2897\n",
            "Epoch 416/500\n",
            "1/1 [==============================] - 0s 20ms/step - loss: 0.3224 - mse: 0.3224 - val_loss: 0.2896 - val_mse: 0.2896\n",
            "Epoch 417/500\n",
            "1/1 [==============================] - 0s 16ms/step - loss: 0.3294 - mse: 0.3294 - val_loss: 0.2899 - val_mse: 0.2899\n",
            "Epoch 418/500\n",
            "1/1 [==============================] - 0s 17ms/step - loss: 0.3071 - mse: 0.3071 - val_loss: 0.2906 - val_mse: 0.2906\n",
            "Epoch 419/500\n",
            "1/1 [==============================] - 0s 14ms/step - loss: 0.3374 - mse: 0.3374 - val_loss: 0.2917 - val_mse: 0.2917\n",
            "Epoch 420/500\n",
            "1/1 [==============================] - 0s 17ms/step - loss: 0.3109 - mse: 0.3109 - val_loss: 0.2927 - val_mse: 0.2927\n",
            "Epoch 421/500\n",
            "1/1 [==============================] - 0s 18ms/step - loss: 0.2837 - mse: 0.2837 - val_loss: 0.2936 - val_mse: 0.2936\n",
            "Epoch 422/500\n",
            "1/1 [==============================] - 0s 22ms/step - loss: 0.3053 - mse: 0.3053 - val_loss: 0.2938 - val_mse: 0.2938\n",
            "Epoch 423/500\n",
            "1/1 [==============================] - 0s 17ms/step - loss: 0.3017 - mse: 0.3017 - val_loss: 0.2937 - val_mse: 0.2937\n",
            "Epoch 424/500\n",
            "1/1 [==============================] - 0s 18ms/step - loss: 0.3045 - mse: 0.3045 - val_loss: 0.2931 - val_mse: 0.2931\n",
            "Epoch 425/500\n",
            "1/1 [==============================] - 0s 17ms/step - loss: 0.3044 - mse: 0.3044 - val_loss: 0.2925 - val_mse: 0.2925\n",
            "Epoch 426/500\n",
            "1/1 [==============================] - 0s 17ms/step - loss: 0.3024 - mse: 0.3024 - val_loss: 0.2917 - val_mse: 0.2917\n",
            "Epoch 427/500\n",
            "1/1 [==============================] - 0s 16ms/step - loss: 0.3367 - mse: 0.3367 - val_loss: 0.2911 - val_mse: 0.2911\n",
            "Epoch 428/500\n",
            "1/1 [==============================] - 0s 16ms/step - loss: 0.3168 - mse: 0.3168 - val_loss: 0.2908 - val_mse: 0.2908\n",
            "Epoch 429/500\n",
            "1/1 [==============================] - 0s 20ms/step - loss: 0.3304 - mse: 0.3304 - val_loss: 0.2907 - val_mse: 0.2907\n",
            "Epoch 430/500\n",
            "1/1 [==============================] - 0s 14ms/step - loss: 0.2892 - mse: 0.2892 - val_loss: 0.2907 - val_mse: 0.2907\n",
            "Epoch 431/500\n",
            "1/1 [==============================] - 0s 21ms/step - loss: 0.3070 - mse: 0.3070 - val_loss: 0.2907 - val_mse: 0.2907\n",
            "Epoch 432/500\n",
            "1/1 [==============================] - 0s 16ms/step - loss: 0.3043 - mse: 0.3043 - val_loss: 0.2906 - val_mse: 0.2906\n",
            "Epoch 433/500\n",
            "1/1 [==============================] - 0s 22ms/step - loss: 0.2858 - mse: 0.2858 - val_loss: 0.2906 - val_mse: 0.2906\n",
            "Epoch 434/500\n",
            "1/1 [==============================] - 0s 16ms/step - loss: 0.2748 - mse: 0.2748 - val_loss: 0.2906 - val_mse: 0.2906\n",
            "Epoch 435/500\n",
            "1/1 [==============================] - 0s 19ms/step - loss: 0.3483 - mse: 0.3483 - val_loss: 0.2908 - val_mse: 0.2908\n",
            "Epoch 436/500\n",
            "1/1 [==============================] - 0s 20ms/step - loss: 0.2962 - mse: 0.2962 - val_loss: 0.2909 - val_mse: 0.2909\n",
            "Epoch 437/500\n",
            "1/1 [==============================] - 0s 20ms/step - loss: 0.2805 - mse: 0.2805 - val_loss: 0.2911 - val_mse: 0.2911\n",
            "Epoch 438/500\n",
            "1/1 [==============================] - 0s 17ms/step - loss: 0.2999 - mse: 0.2999 - val_loss: 0.2913 - val_mse: 0.2913\n",
            "Epoch 439/500\n",
            "1/1 [==============================] - 0s 18ms/step - loss: 0.2988 - mse: 0.2988 - val_loss: 0.2913 - val_mse: 0.2913\n",
            "Epoch 440/500\n",
            "1/1 [==============================] - 0s 17ms/step - loss: 0.3109 - mse: 0.3109 - val_loss: 0.2909 - val_mse: 0.2909\n",
            "Epoch 441/500\n",
            "1/1 [==============================] - 0s 20ms/step - loss: 0.2858 - mse: 0.2858 - val_loss: 0.2904 - val_mse: 0.2904\n",
            "Epoch 442/500\n",
            "1/1 [==============================] - 0s 15ms/step - loss: 0.3100 - mse: 0.3100 - val_loss: 0.2903 - val_mse: 0.2903\n",
            "Epoch 443/500\n",
            "1/1 [==============================] - 0s 17ms/step - loss: 0.2825 - mse: 0.2825 - val_loss: 0.2899 - val_mse: 0.2899\n",
            "Epoch 444/500\n",
            "1/1 [==============================] - 0s 22ms/step - loss: 0.3406 - mse: 0.3406 - val_loss: 0.2898 - val_mse: 0.2898\n",
            "Epoch 445/500\n",
            "1/1 [==============================] - 0s 17ms/step - loss: 0.3080 - mse: 0.3080 - val_loss: 0.2898 - val_mse: 0.2898\n",
            "Epoch 446/500\n",
            "1/1 [==============================] - 0s 17ms/step - loss: 0.3103 - mse: 0.3103 - val_loss: 0.2897 - val_mse: 0.2897\n",
            "Epoch 447/500\n",
            "1/1 [==============================] - 0s 16ms/step - loss: 0.2992 - mse: 0.2992 - val_loss: 0.2896 - val_mse: 0.2896\n",
            "Epoch 448/500\n",
            "1/1 [==============================] - 0s 18ms/step - loss: 0.3273 - mse: 0.3273 - val_loss: 0.2894 - val_mse: 0.2894\n",
            "Epoch 449/500\n",
            "1/1 [==============================] - 0s 16ms/step - loss: 0.2864 - mse: 0.2864 - val_loss: 0.2895 - val_mse: 0.2895\n",
            "Epoch 450/500\n",
            "1/1 [==============================] - 0s 26ms/step - loss: 0.2896 - mse: 0.2896 - val_loss: 0.2896 - val_mse: 0.2896\n",
            "Epoch 451/500\n",
            "1/1 [==============================] - 0s 15ms/step - loss: 0.2738 - mse: 0.2738 - val_loss: 0.2898 - val_mse: 0.2898\n",
            "Epoch 452/500\n",
            "1/1 [==============================] - 0s 24ms/step - loss: 0.3096 - mse: 0.3096 - val_loss: 0.2900 - val_mse: 0.2900\n",
            "Epoch 453/500\n",
            "1/1 [==============================] - 0s 15ms/step - loss: 0.3116 - mse: 0.3116 - val_loss: 0.2901 - val_mse: 0.2901\n",
            "Epoch 454/500\n",
            "1/1 [==============================] - 0s 14ms/step - loss: 0.3077 - mse: 0.3077 - val_loss: 0.2898 - val_mse: 0.2898\n",
            "Epoch 455/500\n",
            "1/1 [==============================] - 0s 17ms/step - loss: 0.2736 - mse: 0.2736 - val_loss: 0.2893 - val_mse: 0.2893\n",
            "Epoch 456/500\n",
            "1/1 [==============================] - 0s 18ms/step - loss: 0.3360 - mse: 0.3360 - val_loss: 0.2888 - val_mse: 0.2888\n",
            "Epoch 457/500\n",
            "1/1 [==============================] - 0s 17ms/step - loss: 0.2716 - mse: 0.2716 - val_loss: 0.2887 - val_mse: 0.2887\n",
            "Epoch 458/500\n",
            "1/1 [==============================] - 0s 19ms/step - loss: 0.2892 - mse: 0.2892 - val_loss: 0.2887 - val_mse: 0.2887\n",
            "Epoch 459/500\n",
            "1/1 [==============================] - 0s 17ms/step - loss: 0.2890 - mse: 0.2890 - val_loss: 0.2888 - val_mse: 0.2888\n",
            "Epoch 460/500\n",
            "1/1 [==============================] - 0s 34ms/step - loss: 0.2968 - mse: 0.2968 - val_loss: 0.2890 - val_mse: 0.2890\n",
            "Epoch 461/500\n",
            "1/1 [==============================] - 0s 19ms/step - loss: 0.2777 - mse: 0.2777 - val_loss: 0.2892 - val_mse: 0.2892\n",
            "Epoch 462/500\n",
            "1/1 [==============================] - 0s 19ms/step - loss: 0.3055 - mse: 0.3055 - val_loss: 0.2897 - val_mse: 0.2897\n",
            "Epoch 463/500\n",
            "1/1 [==============================] - 0s 17ms/step - loss: 0.3222 - mse: 0.3222 - val_loss: 0.2903 - val_mse: 0.2903\n",
            "Epoch 464/500\n",
            "1/1 [==============================] - 0s 18ms/step - loss: 0.3358 - mse: 0.3358 - val_loss: 0.2906 - val_mse: 0.2906\n",
            "Epoch 465/500\n",
            "1/1 [==============================] - 0s 19ms/step - loss: 0.3130 - mse: 0.3130 - val_loss: 0.2905 - val_mse: 0.2905\n",
            "Epoch 466/500\n",
            "1/1 [==============================] - 0s 18ms/step - loss: 0.2711 - mse: 0.2711 - val_loss: 0.2906 - val_mse: 0.2906\n",
            "Epoch 467/500\n",
            "1/1 [==============================] - 0s 17ms/step - loss: 0.3163 - mse: 0.3163 - val_loss: 0.2906 - val_mse: 0.2906\n",
            "Epoch 468/500\n",
            "1/1 [==============================] - 0s 22ms/step - loss: 0.3197 - mse: 0.3197 - val_loss: 0.2907 - val_mse: 0.2907\n",
            "Epoch 469/500\n",
            "1/1 [==============================] - 0s 17ms/step - loss: 0.2906 - mse: 0.2906 - val_loss: 0.2908 - val_mse: 0.2908\n",
            "Epoch 470/500\n",
            "1/1 [==============================] - 0s 19ms/step - loss: 0.3275 - mse: 0.3275 - val_loss: 0.2911 - val_mse: 0.2911\n",
            "Epoch 471/500\n",
            "1/1 [==============================] - 0s 18ms/step - loss: 0.3204 - mse: 0.3204 - val_loss: 0.2914 - val_mse: 0.2914\n",
            "Epoch 472/500\n",
            "1/1 [==============================] - 0s 19ms/step - loss: 0.2967 - mse: 0.2967 - val_loss: 0.2914 - val_mse: 0.2914\n",
            "Epoch 473/500\n",
            "1/1 [==============================] - 0s 17ms/step - loss: 0.3089 - mse: 0.3089 - val_loss: 0.2915 - val_mse: 0.2915\n",
            "Epoch 474/500\n",
            "1/1 [==============================] - 0s 23ms/step - loss: 0.3282 - mse: 0.3282 - val_loss: 0.2921 - val_mse: 0.2921\n",
            "Epoch 475/500\n",
            "1/1 [==============================] - 0s 17ms/step - loss: 0.2897 - mse: 0.2897 - val_loss: 0.2926 - val_mse: 0.2926\n",
            "Epoch 476/500\n",
            "1/1 [==============================] - 0s 17ms/step - loss: 0.3103 - mse: 0.3103 - val_loss: 0.2927 - val_mse: 0.2927\n",
            "Epoch 477/500\n",
            "1/1 [==============================] - 0s 17ms/step - loss: 0.3270 - mse: 0.3270 - val_loss: 0.2927 - val_mse: 0.2927\n",
            "Epoch 478/500\n",
            "1/1 [==============================] - 0s 19ms/step - loss: 0.3414 - mse: 0.3414 - val_loss: 0.2924 - val_mse: 0.2924\n",
            "Epoch 479/500\n",
            "1/1 [==============================] - 0s 25ms/step - loss: 0.3596 - mse: 0.3596 - val_loss: 0.2923 - val_mse: 0.2923\n",
            "Epoch 480/500\n",
            "1/1 [==============================] - 0s 19ms/step - loss: 0.3259 - mse: 0.3259 - val_loss: 0.2922 - val_mse: 0.2922\n",
            "Epoch 481/500\n",
            "1/1 [==============================] - 0s 20ms/step - loss: 0.3287 - mse: 0.3287 - val_loss: 0.2922 - val_mse: 0.2922\n",
            "Epoch 482/500\n",
            "1/1 [==============================] - 0s 18ms/step - loss: 0.3009 - mse: 0.3009 - val_loss: 0.2921 - val_mse: 0.2921\n",
            "Epoch 483/500\n",
            "1/1 [==============================] - 0s 20ms/step - loss: 0.2925 - mse: 0.2925 - val_loss: 0.2921 - val_mse: 0.2921\n",
            "Epoch 484/500\n",
            "1/1 [==============================] - 0s 17ms/step - loss: 0.3065 - mse: 0.3065 - val_loss: 0.2921 - val_mse: 0.2921\n",
            "Epoch 485/500\n",
            "1/1 [==============================] - 0s 17ms/step - loss: 0.2866 - mse: 0.2866 - val_loss: 0.2921 - val_mse: 0.2921\n",
            "Epoch 486/500\n",
            "1/1 [==============================] - 0s 17ms/step - loss: 0.3258 - mse: 0.3258 - val_loss: 0.2919 - val_mse: 0.2919\n",
            "Epoch 487/500\n",
            "1/1 [==============================] - 0s 19ms/step - loss: 0.2732 - mse: 0.2732 - val_loss: 0.2917 - val_mse: 0.2917\n",
            "Epoch 488/500\n",
            "1/1 [==============================] - 0s 17ms/step - loss: 0.3010 - mse: 0.3010 - val_loss: 0.2916 - val_mse: 0.2916\n",
            "Epoch 489/500\n",
            "1/1 [==============================] - 0s 27ms/step - loss: 0.2978 - mse: 0.2978 - val_loss: 0.2912 - val_mse: 0.2912\n",
            "Epoch 490/500\n",
            "1/1 [==============================] - 0s 18ms/step - loss: 0.2933 - mse: 0.2933 - val_loss: 0.2905 - val_mse: 0.2905\n",
            "Epoch 491/500\n",
            "1/1 [==============================] - 0s 20ms/step - loss: 0.2908 - mse: 0.2908 - val_loss: 0.2896 - val_mse: 0.2896\n",
            "Epoch 492/500\n",
            "1/1 [==============================] - 0s 17ms/step - loss: 0.2738 - mse: 0.2738 - val_loss: 0.2889 - val_mse: 0.2889\n",
            "Epoch 493/500\n",
            "1/1 [==============================] - 0s 18ms/step - loss: 0.2925 - mse: 0.2925 - val_loss: 0.2884 - val_mse: 0.2884\n",
            "Epoch 494/500\n",
            "1/1 [==============================] - 0s 17ms/step - loss: 0.3005 - mse: 0.3005 - val_loss: 0.2881 - val_mse: 0.2881\n",
            "Epoch 495/500\n",
            "1/1 [==============================] - 0s 20ms/step - loss: 0.3038 - mse: 0.3038 - val_loss: 0.2877 - val_mse: 0.2877\n",
            "Epoch 496/500\n",
            "1/1 [==============================] - 0s 17ms/step - loss: 0.3073 - mse: 0.3073 - val_loss: 0.2876 - val_mse: 0.2876\n",
            "Epoch 497/500\n",
            "1/1 [==============================] - 0s 18ms/step - loss: 0.3182 - mse: 0.3182 - val_loss: 0.2874 - val_mse: 0.2874\n",
            "Epoch 498/500\n",
            "1/1 [==============================] - 0s 21ms/step - loss: 0.3166 - mse: 0.3166 - val_loss: 0.2873 - val_mse: 0.2873\n",
            "Epoch 499/500\n",
            "1/1 [==============================] - 0s 17ms/step - loss: 0.2802 - mse: 0.2802 - val_loss: 0.2873 - val_mse: 0.2873\n",
            "Epoch 500/500\n",
            "1/1 [==============================] - 0s 18ms/step - loss: 0.2932 - mse: 0.2932 - val_loss: 0.2875 - val_mse: 0.2875\n"
          ],
          "name": "stdout"
        }
      ]
    },
    {
      "cell_type": "code",
      "metadata": {
        "colab": {
          "base_uri": "https://localhost:8080/",
          "height": 283
        },
        "id": "t_rehxnJ5mt2",
        "outputId": "4921648d-64d8-493a-e376-04464b34a78b"
      },
      "source": [
        "def plot_loss(history):\n",
        "  plt.plot(history.history['loss'], label='loss')\n",
        "  plt.plot(history.history['val_loss'], label='val_loss')\n",
        "  plt.ylim([0, 0.5])\n",
        "  plt.xlabel('Epoch')\n",
        "  plt.ylabel('Error ')\n",
        "  plt.legend()\n",
        "  plt.grid(True)\n",
        "\n",
        "plot_loss(history)"
      ],
      "execution_count": 69,
      "outputs": [
        {
          "output_type": "display_data",
          "data": {
            "image/png": "[encoded data removed]",
            "text/plain": [
              "<Figure size 432x288 with 1 Axes>"
            ]
          },
          "metadata": {
            "tags": [],
            "needs_background": "light"
          }
        }
      ]
    },
    {
      "cell_type": "code",
      "metadata": {
        "colab": {
          "base_uri": "https://localhost:8080/"
        },
        "id": "OR_yocbLJKYk",
        "outputId": "5178ac63-100a-4348-f79c-9b912cc0bb66"
      },
      "source": [
        "results = model0.evaluate(XX_test_n, yy_test_n)\n",
        "\n",
        "print('loss test data: ', results[0])\n",
        "print('mse test data: ', results[1])\n",
        "\n",
        "results = model0.evaluate(XX_train_n, yy_train_n)\n",
        "\n",
        "print('loss train data: ', results[0])\n",
        "print('mse train data: ', results[1])"
      ],
      "execution_count": 70,
      "outputs": [
        {
          "output_type": "stream",
          "text": [
            "5/5 [==============================] - 0s 2ms/step - loss: 0.2875 - mse: 0.2875\n",
            "loss test data:  0.2874968349933624\n",
            "mse test data:  0.2874968349933624\n",
            "5/5 [==============================] - 0s 2ms/step - loss: 0.2728 - mse: 0.2728\n",
            "loss train data:  0.27284443378448486\n",
            "mse train data:  0.27284443378448486\n"
          ],
          "name": "stdout"
        }
      ]
    },
    {
      "cell_type": "code",
      "metadata": {
        "colab": {
          "base_uri": "https://localhost:8080/",
          "height": 445
        },
        "id": "1kFN7YDYJKPu",
        "outputId": "2e8f5942-d344-4503-8f2a-b5a3ed0b070e"
      },
      "source": [
        "fig = plt.figure(figsize=(7,7))\n",
        "\n",
        "plt.plot(XX_train_n,yy_train_n, 'o', color='blue', label='Training points')\n",
        "plt.plot(XX_test_n,yy_test_n, 'o', color='green', label='Testing points')\n",
        "\n",
        "points = np.linspace(min(XX_test_n), max(XX_test_n),num=100)\n",
        "plt.plot(points, (funct(points*std+mean)-mean1)/std1,  color='red', label='Function')\n",
        "\n",
        "plt.plot(points, model0.predict(points),  color='orange', label='Neural net')\n",
        "\n",
        "\n",
        "plt.legend()\n",
        "\n",
        "\n",
        "plt.show"
      ],
      "execution_count": 71,
      "outputs": [
        {
          "output_type": "execute_result",
          "data": {
            "text/plain": [
              "<function matplotlib.pyplot.show>"
            ]
          },
          "metadata": {
            "tags": []
          },
          "execution_count": 71
        },
        {
          "output_type": "display_data",
          "data": {
            "image/png": "[encoded data removed]",
            "text/plain": [
              "<Figure size 504x504 with 1 Axes>"
            ]
          },
          "metadata": {
            "tags": [],
            "needs_background": "light"
          }
        }
      ]
    },
    {
      "cell_type": "code",
      "metadata": {
        "id": "gkgYnI2GL7TW"
      },
      "source": [
        ""
      ],
      "execution_count": 71,
      "outputs": []
    },
    {
      "cell_type": "markdown",
      "metadata": {
        "id": "jRePUL7XWQtC"
      },
      "source": [
        "## Visualizing the Optimization History"
      ]
    },
    {
      "cell_type": "code",
      "metadata": {
        "id": "2K0KNXBIWQtC",
        "colab": {
          "base_uri": "https://localhost:8080/",
          "height": 542
        },
        "outputId": "2e8b06aa-f7eb-40f9-b780-17f7b0c192e3"
      },
      "source": [
        "from optuna.visualization import plot_optimization_history\n",
        "\n",
        "plot_optimization_history(study)"
      ],
      "execution_count": 72,
      "outputs": [
        {
          "output_type": "display_data",
          "data": {
            "text/html": [
              "<html>\n",
              "<head><meta charset=\"utf-8\" /></head>\n",
              "<body>\n",
              "    <div>\n",
              "            <script src=\"https://cdnjs.cloudflare.com/ajax/libs/mathjax/2.7.5/MathJax.js?config=TeX-AMS-MML_SVG\"></script><script type=\"text/javascript\">if (window.MathJax) {MathJax.Hub.Config({SVG: {font: \"STIX-Web\"}});}</script>\n",
              "                <script type=\"text/javascript\">window.PlotlyConfig = {MathJaxConfig: 'local'};</script>\n",
              "        <script src=\"https://cdn.plot.ly/plotly-latest.min.js\"></script>    \n",
              "            <div id=\"c0815ee0-98bf-4533-9cfc-77979da03092\" class=\"plotly-graph-div\" style=\"height:525px; width:100%;\"></div>\n",
              "            <script type=\"text/javascript\">\n",
              "                \n",
              "                    window.PLOTLYENV=window.PLOTLYENV || {};\n",
              "                    \n",
              "                if (document.getElementById(\"c0815ee0-98bf-4533-9cfc-77979da03092\")) {\n",
              "                    Plotly.newPlot(\n",
              "                        'c0815ee0-98bf-4533-9cfc-77979da03092',\n",
              "                        [{\"mode\": \"markers\", \"name\": \"Objective Value\", \"type\": \"scatter\", \"x\": [0, 1, 2, 3, 4, 5, 6, 7, 8, 9, 10, 11, 12, 13, 14, 15, 16, 17, 18, 19], \"y\": [1.1757116317749023, 0.6118298172950745, 1.175047516822815, 1.3296476602554321, 1.1799153089523315, 1.1750881671905518, 1.1789339780807495, 1.2400474548339844, 1.1717005968093872, 0.3084108829498291, 0.3135738968849182, 0.2939203381538391, 0.3092486262321472, 0.3155052661895752, 0.2992593050003052, 1.012425422668457, 0.343039333820343, 0.29543572664260864, 0.2817273437976837, 0.2957034409046173]}, {\"name\": \"Best Value\", \"type\": \"scatter\", \"x\": [0, 1, 2, 3, 4, 5, 6, 7, 8, 9, 10, 11, 12, 13, 14, 15, 16, 17, 18, 19], \"y\": [1.1757116317749023, 0.6118298172950745, 0.6118298172950745, 0.6118298172950745, 0.6118298172950745, 0.6118298172950745, 0.6118298172950745, 0.6118298172950745, 0.6118298172950745, 0.3084108829498291, 0.3084108829498291, 0.2939203381538391, 0.2939203381538391, 0.2939203381538391, 0.2939203381538391, 0.2939203381538391, 0.2939203381538391, 0.2939203381538391, 0.2817273437976837, 0.2817273437976837]}],\n",
              "                        {\"template\": {\"data\": {\"bar\": [{\"error_x\": {\"color\": \"#2a3f5f\"}, \"error_y\": {\"color\": \"#2a3f5f\"}, \"marker\": {\"line\": {\"color\": \"#E5ECF6\", \"width\": 0.5}}, \"type\": \"bar\"}], \"barpolar\": [{\"marker\": {\"line\": {\"color\": \"#E5ECF6\", \"width\": 0.5}}, \"type\": \"barpolar\"}], \"carpet\": [{\"aaxis\": {\"endlinecolor\": \"#2a3f5f\", \"gridcolor\": \"white\", \"linecolor\": \"white\", \"minorgridcolor\": \"white\", \"startlinecolor\": \"#2a3f5f\"}, \"baxis\": {\"endlinecolor\": \"#2a3f5f\", \"gridcolor\": \"white\", \"linecolor\": \"white\", \"minorgridcolor\": \"white\", \"startlinecolor\": \"#2a3f5f\"}, \"type\": \"carpet\"}], \"choropleth\": [{\"colorbar\": {\"outlinewidth\": 0, \"ticks\": \"\"}, \"type\": \"choropleth\"}], \"contour\": [{\"colorbar\": {\"outlinewidth\": 0, \"ticks\": \"\"}, \"colorscale\": [[0.0, \"#0d0887\"], [0.1111111111111111, \"#46039f\"], [0.2222222222222222, \"#7201a8\"], [0.3333333333333333, \"#9c179e\"], [0.4444444444444444, \"#bd3786\"], [0.5555555555555556, \"#d8576b\"], [0.6666666666666666, \"#ed7953\"], [0.7777777777777778, \"#fb9f3a\"], [0.8888888888888888, \"#fdca26\"], [1.0, \"#f0f921\"]], \"type\": \"contour\"}], \"contourcarpet\": [{\"colorbar\": {\"outlinewidth\": 0, \"ticks\": \"\"}, \"type\": \"contourcarpet\"}], \"heatmap\": [{\"colorbar\": {\"outlinewidth\": 0, \"ticks\": \"\"}, \"colorscale\": [[0.0, \"#0d0887\"], [0.1111111111111111, \"#46039f\"], [0.2222222222222222, \"#7201a8\"], [0.3333333333333333, \"#9c179e\"], [0.4444444444444444, \"#bd3786\"], [0.5555555555555556, \"#d8576b\"], [0.6666666666666666, \"#ed7953\"], [0.7777777777777778, \"#fb9f3a\"], [0.8888888888888888, \"#fdca26\"], [1.0, \"#f0f921\"]], \"type\": \"heatmap\"}], \"heatmapgl\": [{\"colorbar\": {\"outlinewidth\": 0, \"ticks\": \"\"}, \"colorscale\": [[0.0, \"#0d0887\"], [0.1111111111111111, \"#46039f\"], [0.2222222222222222, \"#7201a8\"], [0.3333333333333333, \"#9c179e\"], [0.4444444444444444, \"#bd3786\"], [0.5555555555555556, \"#d8576b\"], [0.6666666666666666, \"#ed7953\"], [0.7777777777777778, \"#fb9f3a\"], [0.8888888888888888, \"#fdca26\"], [1.0, \"#f0f921\"]], \"type\": \"heatmapgl\"}], \"histogram\": [{\"marker\": {\"colorbar\": {\"outlinewidth\": 0, \"ticks\": \"\"}}, \"type\": \"histogram\"}], \"histogram2d\": [{\"colorbar\": {\"outlinewidth\": 0, \"ticks\": \"\"}, \"colorscale\": [[0.0, \"#0d0887\"], [0.1111111111111111, \"#46039f\"], [0.2222222222222222, \"#7201a8\"], [0.3333333333333333, \"#9c179e\"], [0.4444444444444444, \"#bd3786\"], [0.5555555555555556, \"#d8576b\"], [0.6666666666666666, \"#ed7953\"], [0.7777777777777778, \"#fb9f3a\"], [0.8888888888888888, \"#fdca26\"], [1.0, \"#f0f921\"]], \"type\": \"histogram2d\"}], \"histogram2dcontour\": [{\"colorbar\": {\"outlinewidth\": 0, \"ticks\": \"\"}, \"colorscale\": [[0.0, \"#0d0887\"], [0.1111111111111111, \"#46039f\"], [0.2222222222222222, \"#7201a8\"], [0.3333333333333333, \"#9c179e\"], [0.4444444444444444, \"#bd3786\"], [0.5555555555555556, \"#d8576b\"], [0.6666666666666666, \"#ed7953\"], [0.7777777777777778, \"#fb9f3a\"], [0.8888888888888888, \"#fdca26\"], [1.0, \"#f0f921\"]], \"type\": \"histogram2dcontour\"}], \"mesh3d\": [{\"colorbar\": {\"outlinewidth\": 0, \"ticks\": \"\"}, \"type\": \"mesh3d\"}], \"parcoords\": [{\"line\": {\"colorbar\": {\"outlinewidth\": 0, \"ticks\": \"\"}}, \"type\": \"parcoords\"}], \"pie\": [{\"automargin\": true, \"type\": \"pie\"}], \"scatter\": [{\"marker\": {\"colorbar\": {\"outlinewidth\": 0, \"ticks\": \"\"}}, \"type\": \"scatter\"}], \"scatter3d\": [{\"line\": {\"colorbar\": {\"outlinewidth\": 0, \"ticks\": \"\"}}, \"marker\": {\"colorbar\": {\"outlinewidth\": 0, \"ticks\": \"\"}}, \"type\": \"scatter3d\"}], \"scattercarpet\": [{\"marker\": {\"colorbar\": {\"outlinewidth\": 0, \"ticks\": \"\"}}, \"type\": \"scattercarpet\"}], \"scattergeo\": [{\"marker\": {\"colorbar\": {\"outlinewidth\": 0, \"ticks\": \"\"}}, \"type\": \"scattergeo\"}], \"scattergl\": [{\"marker\": {\"colorbar\": {\"outlinewidth\": 0, \"ticks\": \"\"}}, \"type\": \"scattergl\"}], \"scattermapbox\": [{\"marker\": {\"colorbar\": {\"outlinewidth\": 0, \"ticks\": \"\"}}, \"type\": \"scattermapbox\"}], \"scatterpolar\": [{\"marker\": {\"colorbar\": {\"outlinewidth\": 0, \"ticks\": \"\"}}, \"type\": \"scatterpolar\"}], \"scatterpolargl\": [{\"marker\": {\"colorbar\": {\"outlinewidth\": 0, \"ticks\": \"\"}}, \"type\": \"scatterpolargl\"}], \"scatterternary\": [{\"marker\": {\"colorbar\": {\"outlinewidth\": 0, \"ticks\": \"\"}}, \"type\": \"scatterternary\"}], \"surface\": [{\"colorbar\": {\"outlinewidth\": 0, \"ticks\": \"\"}, \"colorscale\": [[0.0, \"#0d0887\"], [0.1111111111111111, \"#46039f\"], [0.2222222222222222, \"#7201a8\"], [0.3333333333333333, \"#9c179e\"], [0.4444444444444444, \"#bd3786\"], [0.5555555555555556, \"#d8576b\"], [0.6666666666666666, \"#ed7953\"], [0.7777777777777778, \"#fb9f3a\"], [0.8888888888888888, \"#fdca26\"], [1.0, \"#f0f921\"]], \"type\": \"surface\"}], \"table\": [{\"cells\": {\"fill\": {\"color\": \"#EBF0F8\"}, \"line\": {\"color\": \"white\"}}, \"header\": {\"fill\": {\"color\": \"#C8D4E3\"}, \"line\": {\"color\": \"white\"}}, \"type\": \"table\"}]}, \"layout\": {\"annotationdefaults\": {\"arrowcolor\": \"#2a3f5f\", \"arrowhead\": 0, \"arrowwidth\": 1}, \"coloraxis\": {\"colorbar\": {\"outlinewidth\": 0, \"ticks\": \"\"}}, \"colorscale\": {\"diverging\": [[0, \"#8e0152\"], [0.1, \"#c51b7d\"], [0.2, \"#de77ae\"], [0.3, \"#f1b6da\"], [0.4, \"#fde0ef\"], [0.5, \"#f7f7f7\"], [0.6, \"#e6f5d0\"], [0.7, \"#b8e186\"], [0.8, \"#7fbc41\"], [0.9, \"#4d9221\"], [1, \"#276419\"]], \"sequential\": [[0.0, \"#0d0887\"], [0.1111111111111111, \"#46039f\"], [0.2222222222222222, \"#7201a8\"], [0.3333333333333333, \"#9c179e\"], [0.4444444444444444, \"#bd3786\"], [0.5555555555555556, \"#d8576b\"], [0.6666666666666666, \"#ed7953\"], [0.7777777777777778, \"#fb9f3a\"], [0.8888888888888888, \"#fdca26\"], [1.0, \"#f0f921\"]], \"sequentialminus\": [[0.0, \"#0d0887\"], [0.1111111111111111, \"#46039f\"], [0.2222222222222222, \"#7201a8\"], [0.3333333333333333, \"#9c179e\"], [0.4444444444444444, \"#bd3786\"], [0.5555555555555556, \"#d8576b\"], [0.6666666666666666, \"#ed7953\"], [0.7777777777777778, \"#fb9f3a\"], [0.8888888888888888, \"#fdca26\"], [1.0, \"#f0f921\"]]}, \"colorway\": [\"#636efa\", \"#EF553B\", \"#00cc96\", \"#ab63fa\", \"#FFA15A\", \"#19d3f3\", \"#FF6692\", \"#B6E880\", \"#FF97FF\", \"#FECB52\"], \"font\": {\"color\": \"#2a3f5f\"}, \"geo\": {\"bgcolor\": \"white\", \"lakecolor\": \"white\", \"landcolor\": \"#E5ECF6\", \"showlakes\": true, \"showland\": true, \"subunitcolor\": \"white\"}, \"hoverlabel\": {\"align\": \"left\"}, \"hovermode\": \"closest\", \"mapbox\": {\"style\": \"light\"}, \"paper_bgcolor\": \"white\", \"plot_bgcolor\": \"#E5ECF6\", \"polar\": {\"angularaxis\": {\"gridcolor\": \"white\", \"linecolor\": \"white\", \"ticks\": \"\"}, \"bgcolor\": \"#E5ECF6\", \"radialaxis\": {\"gridcolor\": \"white\", \"linecolor\": \"white\", \"ticks\": \"\"}}, \"scene\": {\"xaxis\": {\"backgroundcolor\": \"#E5ECF6\", \"gridcolor\": \"white\", \"gridwidth\": 2, \"linecolor\": \"white\", \"showbackground\": true, \"ticks\": \"\", \"zerolinecolor\": \"white\"}, \"yaxis\": {\"backgroundcolor\": \"#E5ECF6\", \"gridcolor\": \"white\", \"gridwidth\": 2, \"linecolor\": \"white\", \"showbackground\": true, \"ticks\": \"\", \"zerolinecolor\": \"white\"}, \"zaxis\": {\"backgroundcolor\": \"#E5ECF6\", \"gridcolor\": \"white\", \"gridwidth\": 2, \"linecolor\": \"white\", \"showbackground\": true, \"ticks\": \"\", \"zerolinecolor\": \"white\"}}, \"shapedefaults\": {\"line\": {\"color\": \"#2a3f5f\"}}, \"ternary\": {\"aaxis\": {\"gridcolor\": \"white\", \"linecolor\": \"white\", \"ticks\": \"\"}, \"baxis\": {\"gridcolor\": \"white\", \"linecolor\": \"white\", \"ticks\": \"\"}, \"bgcolor\": \"#E5ECF6\", \"caxis\": {\"gridcolor\": \"white\", \"linecolor\": \"white\", \"ticks\": \"\"}}, \"title\": {\"x\": 0.05}, \"xaxis\": {\"automargin\": true, \"gridcolor\": \"white\", \"linecolor\": \"white\", \"ticks\": \"\", \"title\": {\"standoff\": 15}, \"zerolinecolor\": \"white\", \"zerolinewidth\": 2}, \"yaxis\": {\"automargin\": true, \"gridcolor\": \"white\", \"linecolor\": \"white\", \"ticks\": \"\", \"title\": {\"standoff\": 15}, \"zerolinecolor\": \"white\", \"zerolinewidth\": 2}}}, \"title\": {\"text\": \"Optimization History Plot\"}, \"xaxis\": {\"title\": {\"text\": \"#Trials\"}}, \"yaxis\": {\"title\": {\"text\": \"Objective Value\"}}},\n",
              "                        {\"responsive\": true}\n",
              "                    ).then(function(){\n",
              "                            \n",
              "var gd = document.getElementById('c0815ee0-98bf-4533-9cfc-77979da03092');\n",
              "var x = new MutationObserver(function (mutations, observer) {{\n",
              "        var display = window.getComputedStyle(gd).display;\n",
              "        if (!display || display === 'none') {{\n",
              "            console.log([gd, 'removed!']);\n",
              "            Plotly.purge(gd);\n",
              "            observer.disconnect();\n",
              "        }}\n",
              "}});\n",
              "\n",
              "// Listen for the removal of the full notebook cells\n",
              "var notebookContainer = gd.closest('#notebook-container');\n",
              "if (notebookContainer) {{\n",
              "    x.observe(notebookContainer, {childList: true});\n",
              "}}\n",
              "\n",
              "// Listen for the clearing of the current output cell\n",
              "var outputEl = gd.closest('.output');\n",
              "if (outputEl) {{\n",
              "    x.observe(outputEl, {childList: true});\n",
              "}}\n",
              "\n",
              "                        })\n",
              "                };\n",
              "                \n",
              "            </script>\n",
              "        </div>\n",
              "</body>\n",
              "</html>"
            ]
          },
          "metadata": {
            "tags": []
          }
        }
      ]
    },
    {
      "cell_type": "markdown",
      "metadata": {
        "id": "OeL4FGcZWQtE"
      },
      "source": [
        "## Visualizing High-dimensional Parameter Relationships"
      ]
    },
    {
      "cell_type": "code",
      "metadata": {
        "id": "aq42Sf07WQtF",
        "colab": {
          "base_uri": "https://localhost:8080/",
          "height": 542
        },
        "outputId": "6ba7366b-be60-412b-81b1-51adc27273a3"
      },
      "source": [
        "from optuna.visualization import plot_parallel_coordinate\n",
        "\n",
        "plot_parallel_coordinate(study)"
      ],
      "execution_count": 73,
      "outputs": [
        {
          "output_type": "display_data",
          "data": {
            "text/html": [
              "<html>\n",
              "<head><meta charset=\"utf-8\" /></head>\n",
              "<body>\n",
              "    <div>\n",
              "            <script src=\"https://cdnjs.cloudflare.com/ajax/libs/mathjax/2.7.5/MathJax.js?config=TeX-AMS-MML_SVG\"></script><script type=\"text/javascript\">if (window.MathJax) {MathJax.Hub.Config({SVG: {font: \"STIX-Web\"}});}</script>\n",
              "                <script type=\"text/javascript\">window.PlotlyConfig = {MathJaxConfig: 'local'};</script>\n",
              "        <script src=\"https://cdn.plot.ly/plotly-latest.min.js\"></script>    \n",
              "            <div id=\"af83ebc0-b73b-48a6-9a29-bd89fed70514\" class=\"plotly-graph-div\" style=\"height:525px; width:100%;\"></div>\n",
              "            <script type=\"text/javascript\">\n",
              "                \n",
              "                    window.PLOTLYENV=window.PLOTLYENV || {};\n",
              "                    \n",
              "                if (document.getElementById(\"af83ebc0-b73b-48a6-9a29-bd89fed70514\")) {\n",
              "                    Plotly.newPlot(\n",
              "                        'af83ebc0-b73b-48a6-9a29-bd89fed70514',\n",
              "                        [{\"dimensions\": [{\"label\": \"Objective Value\", \"range\": [0.2817273437976837, 1.3296476602554321], \"values\": [1.1757116317749023, 0.6118298172950745, 1.175047516822815, 1.3296476602554321, 1.1799153089523315, 1.1750881671905518, 1.1789339780807495, 1.2400474548339844, 1.1717005968093872, 0.3084108829498291, 0.3135738968849182, 0.2939203381538391, 0.3092486262321472, 0.3155052661895752, 0.2992593050003052, 1.012425422668457, 0.343039333820343, 0.29543572664260864, 0.2817273437976837, 0.2957034409046173]}, {\"label\": \"activation\", \"range\": [0, 2], \"ticktext\": [[\"linear\", 0], [\"sigmoid\", 1], [\"relu\", 2]], \"tickvals\": [0, 1, 2], \"values\": [0, 1, 0, 1, 0, 0, 0, 1, 1, 2, 2, 2, 2, 2, 2, 2, 2, 2, 2, 2]}, {\"label\": \"dropout\", \"range\": [0.01059651133381103, 0.7571128232981162], \"values\": [0.608455933413442, 0.613260274592911, 0.7474745118039717, 0.5649289229399924, 0.7571128232981162, 0.741094607654609, 0.7261625891574386, 0.15882438215913794, 0.01588556923498743, 0.04790808278497112, 0.2750447468667447, 0.250486943434799, 0.01059651133381103, 0.20218688324472023, 0.3436528380166316, 0.39258737099051644, 0.3817485955848035, 0.29159727955594356, 0.476813720818517, 0.5074714287478298]}, {\"label\": \"lr\", \"range\": [1.0899899974679983e-05, 0.04708900453228313], \"values\": [0.00010479369486410936, 0.00543293144940597, 0.0001414850743099902, 0.024284893225957338, 0.025252721721650533, 0.00019434368835999613, 0.04708900453228313, 1.0899899974679983e-05, 0.0009126092563752785, 0.0010799239908668764, 0.002350643742856316, 0.0019946441437487814, 0.0007051124913061503, 0.0064470758416236736, 0.00033825853681736527, 1.9641946348104e-05, 4.944671684199537e-05, 0.0003720482585209111, 0.003700485566856586, 0.0048011864301330575]}, {\"label\": \"units\", \"range\": [56.0, 2047.0], \"values\": [1566.0, 56.0, 1155.0, 1367.0, 1745.0, 308.0, 1635.0, 1657.0, 704.0, 1110.0, 823.0, 762.0, 566.0, 1099.0, 879.0, 452.0, 2047.0, 867.0, 178.0, 287.0]}], \"labelangle\": 30, \"labelside\": \"bottom\", \"line\": {\"color\": [1.1757116317749023, 0.6118298172950745, 1.175047516822815, 1.3296476602554321, 1.1799153089523315, 1.1750881671905518, 1.1789339780807495, 1.2400474548339844, 1.1717005968093872, 0.3084108829498291, 0.3135738968849182, 0.2939203381538391, 0.3092486262321472, 0.3155052661895752, 0.2992593050003052, 1.012425422668457, 0.343039333820343, 0.29543572664260864, 0.2817273437976837, 0.2957034409046173], \"colorbar\": {\"title\": {\"text\": \"Objective Value\"}}, \"colorscale\": [[0.0, \"rgb(247,251,255)\"], [0.125, \"rgb(222,235,247)\"], [0.25, \"rgb(198,219,239)\"], [0.375, \"rgb(158,202,225)\"], [0.5, \"rgb(107,174,214)\"], [0.625, \"rgb(66,146,198)\"], [0.75, \"rgb(33,113,181)\"], [0.875, \"rgb(8,81,156)\"], [1.0, \"rgb(8,48,107)\"]], \"reversescale\": true, \"showscale\": true}, \"type\": \"parcoords\"}],\n",
              "                        {\"template\": {\"data\": {\"bar\": [{\"error_x\": {\"color\": \"#2a3f5f\"}, \"error_y\": {\"color\": \"#2a3f5f\"}, \"marker\": {\"line\": {\"color\": \"#E5ECF6\", \"width\": 0.5}}, \"type\": \"bar\"}], \"barpolar\": [{\"marker\": {\"line\": {\"color\": \"#E5ECF6\", \"width\": 0.5}}, \"type\": \"barpolar\"}], \"carpet\": [{\"aaxis\": {\"endlinecolor\": \"#2a3f5f\", \"gridcolor\": \"white\", \"linecolor\": \"white\", \"minorgridcolor\": \"white\", \"startlinecolor\": \"#2a3f5f\"}, \"baxis\": {\"endlinecolor\": \"#2a3f5f\", \"gridcolor\": \"white\", \"linecolor\": \"white\", \"minorgridcolor\": \"white\", \"startlinecolor\": \"#2a3f5f\"}, \"type\": \"carpet\"}], \"choropleth\": [{\"colorbar\": {\"outlinewidth\": 0, \"ticks\": \"\"}, \"type\": \"choropleth\"}], \"contour\": [{\"colorbar\": {\"outlinewidth\": 0, \"ticks\": \"\"}, \"colorscale\": [[0.0, \"#0d0887\"], [0.1111111111111111, \"#46039f\"], [0.2222222222222222, \"#7201a8\"], [0.3333333333333333, \"#9c179e\"], [0.4444444444444444, \"#bd3786\"], [0.5555555555555556, \"#d8576b\"], [0.6666666666666666, \"#ed7953\"], [0.7777777777777778, \"#fb9f3a\"], [0.8888888888888888, \"#fdca26\"], [1.0, \"#f0f921\"]], \"type\": \"contour\"}], \"contourcarpet\": [{\"colorbar\": {\"outlinewidth\": 0, \"ticks\": \"\"}, \"type\": \"contourcarpet\"}], \"heatmap\": [{\"colorbar\": {\"outlinewidth\": 0, \"ticks\": \"\"}, \"colorscale\": [[0.0, \"#0d0887\"], [0.1111111111111111, \"#46039f\"], [0.2222222222222222, \"#7201a8\"], [0.3333333333333333, \"#9c179e\"], [0.4444444444444444, \"#bd3786\"], [0.5555555555555556, \"#d8576b\"], [0.6666666666666666, \"#ed7953\"], [0.7777777777777778, \"#fb9f3a\"], [0.8888888888888888, \"#fdca26\"], [1.0, \"#f0f921\"]], \"type\": \"heatmap\"}], \"heatmapgl\": [{\"colorbar\": {\"outlinewidth\": 0, \"ticks\": \"\"}, \"colorscale\": [[0.0, \"#0d0887\"], [0.1111111111111111, \"#46039f\"], [0.2222222222222222, \"#7201a8\"], [0.3333333333333333, \"#9c179e\"], [0.4444444444444444, \"#bd3786\"], [0.5555555555555556, \"#d8576b\"], [0.6666666666666666, \"#ed7953\"], [0.7777777777777778, \"#fb9f3a\"], [0.8888888888888888, \"#fdca26\"], [1.0, \"#f0f921\"]], \"type\": \"heatmapgl\"}], \"histogram\": [{\"marker\": {\"colorbar\": {\"outlinewidth\": 0, \"ticks\": \"\"}}, \"type\": \"histogram\"}], \"histogram2d\": [{\"colorbar\": {\"outlinewidth\": 0, \"ticks\": \"\"}, \"colorscale\": [[0.0, \"#0d0887\"], [0.1111111111111111, \"#46039f\"], [0.2222222222222222, \"#7201a8\"], [0.3333333333333333, \"#9c179e\"], [0.4444444444444444, \"#bd3786\"], [0.5555555555555556, \"#d8576b\"], [0.6666666666666666, \"#ed7953\"], [0.7777777777777778, \"#fb9f3a\"], [0.8888888888888888, \"#fdca26\"], [1.0, \"#f0f921\"]], \"type\": \"histogram2d\"}], \"histogram2dcontour\": [{\"colorbar\": {\"outlinewidth\": 0, \"ticks\": \"\"}, \"colorscale\": [[0.0, \"#0d0887\"], [0.1111111111111111, \"#46039f\"], [0.2222222222222222, \"#7201a8\"], [0.3333333333333333, \"#9c179e\"], [0.4444444444444444, \"#bd3786\"], [0.5555555555555556, \"#d8576b\"], [0.6666666666666666, \"#ed7953\"], [0.7777777777777778, \"#fb9f3a\"], [0.8888888888888888, \"#fdca26\"], [1.0, \"#f0f921\"]], \"type\": \"histogram2dcontour\"}], \"mesh3d\": [{\"colorbar\": {\"outlinewidth\": 0, \"ticks\": \"\"}, \"type\": \"mesh3d\"}], \"parcoords\": [{\"line\": {\"colorbar\": {\"outlinewidth\": 0, \"ticks\": \"\"}}, \"type\": \"parcoords\"}], \"pie\": [{\"automargin\": true, \"type\": \"pie\"}], \"scatter\": [{\"marker\": {\"colorbar\": {\"outlinewidth\": 0, \"ticks\": \"\"}}, \"type\": \"scatter\"}], \"scatter3d\": [{\"line\": {\"colorbar\": {\"outlinewidth\": 0, \"ticks\": \"\"}}, \"marker\": {\"colorbar\": {\"outlinewidth\": 0, \"ticks\": \"\"}}, \"type\": \"scatter3d\"}], \"scattercarpet\": [{\"marker\": {\"colorbar\": {\"outlinewidth\": 0, \"ticks\": \"\"}}, \"type\": \"scattercarpet\"}], \"scattergeo\": [{\"marker\": {\"colorbar\": {\"outlinewidth\": 0, \"ticks\": \"\"}}, \"type\": \"scattergeo\"}], \"scattergl\": [{\"marker\": {\"colorbar\": {\"outlinewidth\": 0, \"ticks\": \"\"}}, \"type\": \"scattergl\"}], \"scattermapbox\": [{\"marker\": {\"colorbar\": {\"outlinewidth\": 0, \"ticks\": \"\"}}, \"type\": \"scattermapbox\"}], \"scatterpolar\": [{\"marker\": {\"colorbar\": {\"outlinewidth\": 0, \"ticks\": \"\"}}, \"type\": \"scatterpolar\"}], \"scatterpolargl\": [{\"marker\": {\"colorbar\": {\"outlinewidth\": 0, \"ticks\": \"\"}}, \"type\": \"scatterpolargl\"}], \"scatterternary\": [{\"marker\": {\"colorbar\": {\"outlinewidth\": 0, \"ticks\": \"\"}}, \"type\": \"scatterternary\"}], \"surface\": [{\"colorbar\": {\"outlinewidth\": 0, \"ticks\": \"\"}, \"colorscale\": [[0.0, \"#0d0887\"], [0.1111111111111111, \"#46039f\"], [0.2222222222222222, \"#7201a8\"], [0.3333333333333333, \"#9c179e\"], [0.4444444444444444, \"#bd3786\"], [0.5555555555555556, \"#d8576b\"], [0.6666666666666666, \"#ed7953\"], [0.7777777777777778, \"#fb9f3a\"], [0.8888888888888888, \"#fdca26\"], [1.0, \"#f0f921\"]], \"type\": \"surface\"}], \"table\": [{\"cells\": {\"fill\": {\"color\": \"#EBF0F8\"}, \"line\": {\"color\": \"white\"}}, \"header\": {\"fill\": {\"color\": \"#C8D4E3\"}, \"line\": {\"color\": \"white\"}}, \"type\": \"table\"}]}, \"layout\": {\"annotationdefaults\": {\"arrowcolor\": \"#2a3f5f\", \"arrowhead\": 0, \"arrowwidth\": 1}, \"coloraxis\": {\"colorbar\": {\"outlinewidth\": 0, \"ticks\": \"\"}}, \"colorscale\": {\"diverging\": [[0, \"#8e0152\"], [0.1, \"#c51b7d\"], [0.2, \"#de77ae\"], [0.3, \"#f1b6da\"], [0.4, \"#fde0ef\"], [0.5, \"#f7f7f7\"], [0.6, \"#e6f5d0\"], [0.7, \"#b8e186\"], [0.8, \"#7fbc41\"], [0.9, \"#4d9221\"], [1, \"#276419\"]], \"sequential\": [[0.0, \"#0d0887\"], [0.1111111111111111, \"#46039f\"], [0.2222222222222222, \"#7201a8\"], [0.3333333333333333, \"#9c179e\"], [0.4444444444444444, \"#bd3786\"], [0.5555555555555556, \"#d8576b\"], [0.6666666666666666, \"#ed7953\"], [0.7777777777777778, \"#fb9f3a\"], [0.8888888888888888, \"#fdca26\"], [1.0, \"#f0f921\"]], \"sequentialminus\": [[0.0, \"#0d0887\"], [0.1111111111111111, \"#46039f\"], [0.2222222222222222, \"#7201a8\"], [0.3333333333333333, \"#9c179e\"], [0.4444444444444444, \"#bd3786\"], [0.5555555555555556, \"#d8576b\"], [0.6666666666666666, \"#ed7953\"], [0.7777777777777778, \"#fb9f3a\"], [0.8888888888888888, \"#fdca26\"], [1.0, \"#f0f921\"]]}, \"colorway\": [\"#636efa\", \"#EF553B\", \"#00cc96\", \"#ab63fa\", \"#FFA15A\", \"#19d3f3\", \"#FF6692\", \"#B6E880\", \"#FF97FF\", \"#FECB52\"], \"font\": {\"color\": \"#2a3f5f\"}, \"geo\": {\"bgcolor\": \"white\", \"lakecolor\": \"white\", \"landcolor\": \"#E5ECF6\", \"showlakes\": true, \"showland\": true, \"subunitcolor\": \"white\"}, \"hoverlabel\": {\"align\": \"left\"}, \"hovermode\": \"closest\", \"mapbox\": {\"style\": \"light\"}, \"paper_bgcolor\": \"white\", \"plot_bgcolor\": \"#E5ECF6\", \"polar\": {\"angularaxis\": {\"gridcolor\": \"white\", \"linecolor\": \"white\", \"ticks\": \"\"}, \"bgcolor\": \"#E5ECF6\", \"radialaxis\": {\"gridcolor\": \"white\", \"linecolor\": \"white\", \"ticks\": \"\"}}, \"scene\": {\"xaxis\": {\"backgroundcolor\": \"#E5ECF6\", \"gridcolor\": \"white\", \"gridwidth\": 2, \"linecolor\": \"white\", \"showbackground\": true, \"ticks\": \"\", \"zerolinecolor\": \"white\"}, \"yaxis\": {\"backgroundcolor\": \"#E5ECF6\", \"gridcolor\": \"white\", \"gridwidth\": 2, \"linecolor\": \"white\", \"showbackground\": true, \"ticks\": \"\", \"zerolinecolor\": \"white\"}, \"zaxis\": {\"backgroundcolor\": \"#E5ECF6\", \"gridcolor\": \"white\", \"gridwidth\": 2, \"linecolor\": \"white\", \"showbackground\": true, \"ticks\": \"\", \"zerolinecolor\": \"white\"}}, \"shapedefaults\": {\"line\": {\"color\": \"#2a3f5f\"}}, \"ternary\": {\"aaxis\": {\"gridcolor\": \"white\", \"linecolor\": \"white\", \"ticks\": \"\"}, \"baxis\": {\"gridcolor\": \"white\", \"linecolor\": \"white\", \"ticks\": \"\"}, \"bgcolor\": \"#E5ECF6\", \"caxis\": {\"gridcolor\": \"white\", \"linecolor\": \"white\", \"ticks\": \"\"}}, \"title\": {\"x\": 0.05}, \"xaxis\": {\"automargin\": true, \"gridcolor\": \"white\", \"linecolor\": \"white\", \"ticks\": \"\", \"title\": {\"standoff\": 15}, \"zerolinecolor\": \"white\", \"zerolinewidth\": 2}, \"yaxis\": {\"automargin\": true, \"gridcolor\": \"white\", \"linecolor\": \"white\", \"ticks\": \"\", \"title\": {\"standoff\": 15}, \"zerolinecolor\": \"white\", \"zerolinewidth\": 2}}}, \"title\": {\"text\": \"Parallel Coordinate Plot\"}},\n",
              "                        {\"responsive\": true}\n",
              "                    ).then(function(){\n",
              "                            \n",
              "var gd = document.getElementById('af83ebc0-b73b-48a6-9a29-bd89fed70514');\n",
              "var x = new MutationObserver(function (mutations, observer) {{\n",
              "        var display = window.getComputedStyle(gd).display;\n",
              "        if (!display || display === 'none') {{\n",
              "            console.log([gd, 'removed!']);\n",
              "            Plotly.purge(gd);\n",
              "            observer.disconnect();\n",
              "        }}\n",
              "}});\n",
              "\n",
              "// Listen for the removal of the full notebook cells\n",
              "var notebookContainer = gd.closest('#notebook-container');\n",
              "if (notebookContainer) {{\n",
              "    x.observe(notebookContainer, {childList: true});\n",
              "}}\n",
              "\n",
              "// Listen for the clearing of the current output cell\n",
              "var outputEl = gd.closest('.output');\n",
              "if (outputEl) {{\n",
              "    x.observe(outputEl, {childList: true});\n",
              "}}\n",
              "\n",
              "                        })\n",
              "                };\n",
              "                \n",
              "            </script>\n",
              "        </div>\n",
              "</body>\n",
              "</html>"
            ]
          },
          "metadata": {
            "tags": []
          }
        }
      ]
    },
    {
      "cell_type": "markdown",
      "metadata": {
        "id": "P0dTS1crWQtF"
      },
      "source": [
        "## Visualizing Parameter Relationships"
      ]
    },
    {
      "cell_type": "code",
      "metadata": {
        "id": "q2cxMKtkWQtF",
        "colab": {
          "base_uri": "https://localhost:8080/",
          "height": 542
        },
        "outputId": "35b16c71-d1bf-4499-b363-4ea49f979c44"
      },
      "source": [
        "from optuna.visualization import plot_contour\n",
        "\n",
        "plot_contour(study)"
      ],
      "execution_count": 74,
      "outputs": [
        {
          "output_type": "display_data",
          "data": {
            "text/html": [
              "<html>\n",
              "<head><meta charset=\"utf-8\" /></head>\n",
              "<body>\n",
              "    <div>\n",
              "            <script src=\"https://cdnjs.cloudflare.com/ajax/libs/mathjax/2.7.5/MathJax.js?config=TeX-AMS-MML_SVG\"></script><script type=\"text/javascript\">if (window.MathJax) {MathJax.Hub.Config({SVG: {font: \"STIX-Web\"}});}</script>\n",
              "                <script type=\"text/javascript\">window.PlotlyConfig = {MathJaxConfig: 'local'};</script>\n",
              "        <script src=\"https://cdn.plot.ly/plotly-latest.min.js\"></script>    \n",
              "            <div id=\"5c73ee1f-a751-4e39-98c4-7102763da37e\" class=\"plotly-graph-div\" style=\"height:525px; width:100%;\"></div>\n",
              "            <script type=\"text/javascript\">\n",
              "                \n",
              "                    window.PLOTLYENV=window.PLOTLYENV || {};\n",
              "                    \n",
              "                if (document.getElementById(\"5c73ee1f-a751-4e39-98c4-7102763da37e\")) {\n",
              "                    Plotly.newPlot(\n",
              "                        '5c73ee1f-a751-4e39-98c4-7102763da37e',\n",
              "                        [{\"type\": \"scatter\", \"xaxis\": \"x\", \"yaxis\": \"y\"}, {\"colorbar\": {\"title\": {\"text\": \"Objective Value\"}}, \"colorscale\": [[0, \"rgb(220,220,220)\"], [0.30000000000000004, \"rgb(106,137,247)\"], [0.4, \"rgb(90,120,245)\"], [0.5, \"rgb(70,100,245)\"], [0.65, \"rgb(40,60,190)\"], [1, \"rgb(5,10,172)\"]], \"connectgaps\": true, \"contours\": {\"coloring\": \"heatmap\"}, \"hoverinfo\": \"none\", \"line\": {\"smoothing\": 1.3}, \"showscale\": true, \"type\": \"contour\", \"x\": [\"linear\", \"relu\", \"sigmoid\"], \"xaxis\": \"x5\", \"y\": [-0.02672930426440423, 0.01059651133381103, 0.01588556923498743, 0.04790808278497112, 0.15882438215913794, 0.20218688324472023, 0.250486943434799, 0.2750447468667447, 0.29159727955594356, 0.3436528380166316, 0.3817485955848035, 0.39258737099051644, 0.476813720818517, 0.5074714287478298, 0.5649289229399924, 0.608455933413442, 0.613260274592911, 0.7261625891574386, 0.741094607654609, 0.7474745118039717, 0.7571128232981162, 0.7944386388963315], \"yaxis\": \"y5\", \"z\": [[null, null, null], [null, 0.3092486262321472, null], [null, null, 1.1717005968093872], [null, 0.3084108829498291, null], [null, null, 1.2400474548339844], [null, 0.3155052661895752, null], [null, 0.2939203381538391, null], [null, 0.3135738968849182, null], [null, 0.29543572664260864, null], [null, 0.2992593050003052, null], [null, 0.343039333820343, null], [null, 1.012425422668457, null], [null, 0.2817273437976837, null], [null, 0.2957034409046173, null], [null, null, 1.3296476602554321], [1.1757116317749023, null, null], [null, null, 0.6118298172950745], [1.1789339780807495, null, null], [1.1750881671905518, null, null], [1.175047516822815, null, null], [1.1799153089523315, null, null], [null, null, null]]}, {\"marker\": {\"color\": \"black\", \"line\": {\"color\": \"Grey\", \"width\": 0.5}}, \"mode\": \"markers\", \"showlegend\": false, \"type\": \"scatter\", \"x\": [\"linear\", \"sigmoid\", \"linear\", \"sigmoid\", \"linear\", \"linear\", \"linear\", \"sigmoid\", \"sigmoid\", \"relu\", \"relu\", \"relu\", \"relu\", \"relu\", \"relu\", \"relu\", \"relu\", \"relu\", \"relu\", \"relu\"], \"xaxis\": \"x5\", \"y\": [0.608455933413442, 0.613260274592911, 0.7474745118039717, 0.5649289229399924, 0.7571128232981162, 0.741094607654609, 0.7261625891574386, 0.15882438215913794, 0.01588556923498743, 0.04790808278497112, 0.2750447468667447, 0.250486943434799, 0.01059651133381103, 0.20218688324472023, 0.3436528380166316, 0.39258737099051644, 0.3817485955848035, 0.29159727955594356, 0.476813720818517, 0.5074714287478298], \"yaxis\": \"y5\"}, {\"colorbar\": {\"title\": {\"text\": \"Objective Value\"}}, \"colorscale\": [[0, \"rgb(220,220,220)\"], [0.30000000000000004, \"rgb(106,137,247)\"], [0.4, \"rgb(90,120,245)\"], [0.5, \"rgb(70,100,245)\"], [0.65, \"rgb(40,60,190)\"], [1, \"rgb(5,10,172)\"]], \"connectgaps\": true, \"contours\": {\"coloring\": \"heatmap\"}, \"hoverinfo\": \"none\", \"line\": {\"smoothing\": 1.3}, \"showscale\": false, \"type\": \"contour\", \"x\": [\"linear\", \"relu\", \"sigmoid\"], \"xaxis\": \"x9\", \"y\": [7.172121905504087e-06, 1.0899899974679983e-05, 1.9641946348104e-05, 4.944671684199537e-05, 0.00010479369486410936, 0.0001414850743099902, 0.00019434368835999613, 0.00033825853681736527, 0.0003720482585209111, 0.0007051124913061503, 0.0009126092563752785, 0.0010799239908668764, 0.0019946441437487814, 0.002350643742856316, 0.003700485566856586, 0.0048011864301330575, 0.00543293144940597, 0.0064470758416236736, 0.024284893225957338, 0.025252721721650533, 0.04708900453228313, 0.07156395918413563], \"yaxis\": \"y9\", \"z\": [[null, null, null], [null, null, 1.2400474548339844], [null, 1.012425422668457, null], [null, 0.343039333820343, null], [1.1757116317749023, null, null], [1.175047516822815, null, null], [1.1750881671905518, null, null], [null, 0.2992593050003052, null], [null, 0.29543572664260864, null], [null, 0.3092486262321472, null], [null, null, 1.1717005968093872], [null, 0.3084108829498291, null], [null, 0.2939203381538391, null], [null, 0.3135738968849182, null], [null, 0.2817273437976837, null], [null, 0.2957034409046173, null], [null, null, 0.6118298172950745], [null, 0.3155052661895752, null], [null, null, 1.3296476602554321], [1.1799153089523315, null, null], [1.1789339780807495, null, null], [null, null, null]]}, {\"marker\": {\"color\": \"black\", \"line\": {\"color\": \"Grey\", \"width\": 0.5}}, \"mode\": \"markers\", \"showlegend\": false, \"type\": \"scatter\", \"x\": [\"linear\", \"sigmoid\", \"linear\", \"sigmoid\", \"linear\", \"linear\", \"linear\", \"sigmoid\", \"sigmoid\", \"relu\", \"relu\", \"relu\", \"relu\", \"relu\", \"relu\", \"relu\", \"relu\", \"relu\", \"relu\", \"relu\"], \"xaxis\": \"x9\", \"y\": [0.00010479369486410936, 0.00543293144940597, 0.0001414850743099902, 0.024284893225957338, 0.025252721721650533, 0.00019434368835999613, 0.04708900453228313, 1.0899899974679983e-05, 0.0009126092563752785, 0.0010799239908668764, 0.002350643742856316, 0.0019946441437487814, 0.0007051124913061503, 0.0064470758416236736, 0.00033825853681736527, 1.9641946348104e-05, 4.944671684199537e-05, 0.0003720482585209111, 0.003700485566856586, 0.0048011864301330575], \"yaxis\": \"y9\"}, {\"colorbar\": {\"title\": {\"text\": \"Objective Value\"}}, \"colorscale\": [[0, \"rgb(220,220,220)\"], [0.30000000000000004, \"rgb(106,137,247)\"], [0.4, \"rgb(90,120,245)\"], [0.5, \"rgb(70,100,245)\"], [0.65, \"rgb(40,60,190)\"], [1, \"rgb(5,10,172)\"]], \"connectgaps\": true, \"contours\": {\"coloring\": \"heatmap\"}, \"hoverinfo\": \"none\", \"line\": {\"smoothing\": 1.3}, \"showscale\": false, \"type\": \"contour\", \"x\": [\"linear\", \"relu\", \"sigmoid\"], \"xaxis\": \"x13\", \"y\": [-43.55000000000001, 56.0, 178.0, 287.0, 308.0, 452.0, 566.0, 704.0, 762.0, 823.0, 867.0, 879.0, 1099.0, 1110.0, 1155.0, 1367.0, 1566.0, 1635.0, 1657.0, 1745.0, 2047.0, 2146.55], \"yaxis\": \"y13\", \"z\": [[null, null, null], [null, null, 0.6118298172950745], [null, 0.2817273437976837, null], [null, 0.2957034409046173, null], [1.1750881671905518, null, null], [null, 1.012425422668457, null], [null, 0.3092486262321472, null], [null, null, 1.1717005968093872], [null, 0.2939203381538391, null], [null, 0.3135738968849182, null], [null, 0.29543572664260864, null], [null, 0.2992593050003052, null], [null, 0.3155052661895752, null], [null, 0.3084108829498291, null], [1.175047516822815, null, null], [null, null, 1.3296476602554321], [1.1757116317749023, null, null], [1.1789339780807495, null, null], [null, null, 1.2400474548339844], [1.1799153089523315, null, null], [null, 0.343039333820343, null], [null, null, null]]}, {\"marker\": {\"color\": \"black\", \"line\": {\"color\": \"Grey\", \"width\": 0.5}}, \"mode\": \"markers\", \"showlegend\": false, \"type\": \"scatter\", \"x\": [\"linear\", \"sigmoid\", \"linear\", \"sigmoid\", \"linear\", \"linear\", \"linear\", \"sigmoid\", \"sigmoid\", \"relu\", \"relu\", \"relu\", \"relu\", \"relu\", \"relu\", \"relu\", \"relu\", \"relu\", \"relu\", \"relu\"], \"xaxis\": \"x13\", \"y\": [1566.0, 56.0, 1155.0, 1367.0, 1745.0, 308.0, 1635.0, 1657.0, 704.0, 1110.0, 823.0, 762.0, 566.0, 1099.0, 879.0, 452.0, 2047.0, 867.0, 178.0, 287.0], \"yaxis\": \"y13\"}, {\"colorbar\": {\"title\": {\"text\": \"Objective Value\"}}, \"colorscale\": [[0, \"rgb(220,220,220)\"], [0.30000000000000004, \"rgb(106,137,247)\"], [0.4, \"rgb(90,120,245)\"], [0.5, \"rgb(70,100,245)\"], [0.65, \"rgb(40,60,190)\"], [1, \"rgb(5,10,172)\"]], \"connectgaps\": true, \"contours\": {\"coloring\": \"heatmap\"}, \"hoverinfo\": \"none\", \"line\": {\"smoothing\": 1.3}, \"showscale\": false, \"type\": \"contour\", \"x\": [-0.02672930426440423, 0.01059651133381103, 0.01588556923498743, 0.04790808278497112, 0.15882438215913794, 0.20218688324472023, 0.250486943434799, 0.2750447468667447, 0.29159727955594356, 0.3436528380166316, 0.3817485955848035, 0.39258737099051644, 0.476813720818517, 0.5074714287478298, 0.5649289229399924, 0.608455933413442, 0.613260274592911, 0.7261625891574386, 0.741094607654609, 0.7474745118039717, 0.7571128232981162, 0.7944386388963315], \"xaxis\": \"x2\", \"y\": [\"linear\", \"relu\", \"sigmoid\"], \"yaxis\": \"y2\", \"z\": [[null, null, null, null, null, null, null, null, null, null, null, null, null, null, null, 1.1757116317749023, null, 1.1789339780807495, 1.1750881671905518, 1.175047516822815, 1.1799153089523315, null], [null, 0.3092486262321472, null, 0.3084108829498291, null, 0.3155052661895752, 0.2939203381538391, 0.3135738968849182, 0.29543572664260864, 0.2992593050003052, 0.343039333820343, 1.012425422668457, 0.2817273437976837, 0.2957034409046173, null, null, null, null, null, null, null, null], [null, null, 1.1717005968093872, null, 1.2400474548339844, null, null, null, null, null, null, null, null, null, 1.3296476602554321, null, 0.6118298172950745, null, null, null, null, null]]}, {\"marker\": {\"color\": \"black\", \"line\": {\"color\": \"Grey\", \"width\": 0.5}}, \"mode\": \"markers\", \"showlegend\": false, \"type\": \"scatter\", \"x\": [0.608455933413442, 0.613260274592911, 0.7474745118039717, 0.5649289229399924, 0.7571128232981162, 0.741094607654609, 0.7261625891574386, 0.15882438215913794, 0.01588556923498743, 0.04790808278497112, 0.2750447468667447, 0.250486943434799, 0.01059651133381103, 0.20218688324472023, 0.3436528380166316, 0.39258737099051644, 0.3817485955848035, 0.29159727955594356, 0.476813720818517, 0.5074714287478298], \"xaxis\": \"x2\", \"y\": [\"linear\", \"sigmoid\", \"linear\", \"sigmoid\", \"linear\", \"linear\", \"linear\", \"sigmoid\", \"sigmoid\", \"relu\", \"relu\", \"relu\", \"relu\", \"relu\", \"relu\", \"relu\", \"relu\", \"relu\", \"relu\", \"relu\"], \"yaxis\": \"y2\"}, {\"type\": \"scatter\", \"xaxis\": \"x6\", \"yaxis\": \"y6\"}, {\"colorbar\": {\"title\": {\"text\": \"Objective Value\"}}, \"colorscale\": [[0, \"rgb(220,220,220)\"], [0.30000000000000004, \"rgb(106,137,247)\"], [0.4, \"rgb(90,120,245)\"], [0.5, \"rgb(70,100,245)\"], [0.65, \"rgb(40,60,190)\"], [1, \"rgb(5,10,172)\"]], \"connectgaps\": true, \"contours\": {\"coloring\": \"heatmap\"}, \"hoverinfo\": \"none\", \"line\": {\"smoothing\": 1.3}, \"showscale\": false, \"type\": \"contour\", \"x\": [-0.02672930426440423, 0.01059651133381103, 0.01588556923498743, 0.04790808278497112, 0.15882438215913794, 0.20218688324472023, 0.250486943434799, 0.2750447468667447, 0.29159727955594356, 0.3436528380166316, 0.3817485955848035, 0.39258737099051644, 0.476813720818517, 0.5074714287478298, 0.5649289229399924, 0.608455933413442, 0.613260274592911, 0.7261625891574386, 0.741094607654609, 0.7474745118039717, 0.7571128232981162, 0.7944386388963315], \"xaxis\": \"x10\", \"y\": [7.172121905504087e-06, 1.0899899974679983e-05, 1.9641946348104e-05, 4.944671684199537e-05, 0.00010479369486410936, 0.0001414850743099902, 0.00019434368835999613, 0.00033825853681736527, 0.0003720482585209111, 0.0007051124913061503, 0.0009126092563752785, 0.0010799239908668764, 0.0019946441437487814, 0.002350643742856316, 0.003700485566856586, 0.0048011864301330575, 0.00543293144940597, 0.0064470758416236736, 0.024284893225957338, 0.025252721721650533, 0.04708900453228313, 0.07156395918413563], \"yaxis\": \"y10\", \"z\": [[null, null, null, null, null, null, null, null, null, null, null, null, null, null, null, null, null, null, null, null, null, null], [null, null, null, null, 1.2400474548339844, null, null, null, null, null, null, null, null, null, null, null, null, null, null, null, null, null], [null, null, null, null, null, null, null, null, null, null, null, 1.012425422668457, null, null, null, null, null, null, null, null, null, null], [null, null, null, null, null, null, null, null, null, null, 0.343039333820343, null, null, null, null, null, null, null, null, null, null, null], [null, null, null, null, null, null, null, null, null, null, null, null, null, null, null, 1.1757116317749023, null, null, null, null, null, null], [null, null, null, null, null, null, null, null, null, null, null, null, null, null, null, null, null, null, null, 1.175047516822815, null, null], [null, null, null, null, null, null, null, null, null, null, null, null, null, null, null, null, null, null, 1.1750881671905518, null, null, null], [null, null, null, null, null, null, null, null, null, 0.2992593050003052, null, null, null, null, null, null, null, null, null, null, null, null], [null, null, null, null, null, null, null, null, 0.29543572664260864, null, null, null, null, null, null, null, null, null, null, null, null, null], [null, 0.3092486262321472, null, null, null, null, null, null, null, null, null, null, null, null, null, null, null, null, null, null, null, null], [null, null, 1.1717005968093872, null, null, null, null, null, null, null, null, null, null, null, null, null, null, null, null, null, null, null], [null, null, null, 0.3084108829498291, null, null, null, null, null, null, null, null, null, null, null, null, null, null, null, null, null, null], [null, null, null, null, null, null, 0.2939203381538391, null, null, null, null, null, null, null, null, null, null, null, null, null, null, null], [null, null, null, null, null, null, null, 0.3135738968849182, null, null, null, null, null, null, null, null, null, null, null, null, null, null], [null, null, null, null, null, null, null, null, null, null, null, null, 0.2817273437976837, null, null, null, null, null, null, null, null, null], [null, null, null, null, null, null, null, null, null, null, null, null, null, 0.2957034409046173, null, null, null, null, null, null, null, null], [null, null, null, null, null, null, null, null, null, null, null, null, null, null, null, null, 0.6118298172950745, null, null, null, null, null], [null, null, null, null, null, 0.3155052661895752, null, null, null, null, null, null, null, null, null, null, null, null, null, null, null, null], [null, null, null, null, null, null, null, null, null, null, null, null, null, null, 1.3296476602554321, null, null, null, null, null, null, null], [null, null, null, null, null, null, null, null, null, null, null, null, null, null, null, null, null, null, null, null, 1.1799153089523315, null], [null, null, null, null, null, null, null, null, null, null, null, null, null, null, null, null, null, 1.1789339780807495, null, null, null, null], [null, null, null, null, null, null, null, null, null, null, null, null, null, null, null, null, null, null, null, null, null, null]]}, {\"marker\": {\"color\": \"black\", \"line\": {\"color\": \"Grey\", \"width\": 0.5}}, \"mode\": \"markers\", \"showlegend\": false, \"type\": \"scatter\", \"x\": [0.608455933413442, 0.613260274592911, 0.7474745118039717, 0.5649289229399924, 0.7571128232981162, 0.741094607654609, 0.7261625891574386, 0.15882438215913794, 0.01588556923498743, 0.04790808278497112, 0.2750447468667447, 0.250486943434799, 0.01059651133381103, 0.20218688324472023, 0.3436528380166316, 0.39258737099051644, 0.3817485955848035, 0.29159727955594356, 0.476813720818517, 0.5074714287478298], \"xaxis\": \"x10\", \"y\": [0.00010479369486410936, 0.00543293144940597, 0.0001414850743099902, 0.024284893225957338, 0.025252721721650533, 0.00019434368835999613, 0.04708900453228313, 1.0899899974679983e-05, 0.0009126092563752785, 0.0010799239908668764, 0.002350643742856316, 0.0019946441437487814, 0.0007051124913061503, 0.0064470758416236736, 0.00033825853681736527, 1.9641946348104e-05, 4.944671684199537e-05, 0.0003720482585209111, 0.003700485566856586, 0.0048011864301330575], \"yaxis\": \"y10\"}, {\"colorbar\": {\"title\": {\"text\": \"Objective Value\"}}, \"colorscale\": [[0, \"rgb(220,220,220)\"], [0.30000000000000004, \"rgb(106,137,247)\"], [0.4, \"rgb(90,120,245)\"], [0.5, \"rgb(70,100,245)\"], [0.65, \"rgb(40,60,190)\"], [1, \"rgb(5,10,172)\"]], \"connectgaps\": true, \"contours\": {\"coloring\": \"heatmap\"}, \"hoverinfo\": \"none\", \"line\": {\"smoothing\": 1.3}, \"showscale\": false, \"type\": \"contour\", \"x\": [-0.02672930426440423, 0.01059651133381103, 0.01588556923498743, 0.04790808278497112, 0.15882438215913794, 0.20218688324472023, 0.250486943434799, 0.2750447468667447, 0.29159727955594356, 0.3436528380166316, 0.3817485955848035, 0.39258737099051644, 0.476813720818517, 0.5074714287478298, 0.5649289229399924, 0.608455933413442, 0.613260274592911, 0.7261625891574386, 0.741094607654609, 0.7474745118039717, 0.7571128232981162, 0.7944386388963315], \"xaxis\": \"x14\", \"y\": [-43.55000000000001, 56.0, 178.0, 287.0, 308.0, 452.0, 566.0, 704.0, 762.0, 823.0, 867.0, 879.0, 1099.0, 1110.0, 1155.0, 1367.0, 1566.0, 1635.0, 1657.0, 1745.0, 2047.0, 2146.55], \"yaxis\": \"y14\", \"z\": [[null, null, null, null, null, null, null, null, null, null, null, null, null, null, null, null, null, null, null, null, null, null], [null, null, null, null, null, null, null, null, null, null, null, null, null, null, null, null, 0.6118298172950745, null, null, null, null, null], [null, null, null, null, null, null, null, null, null, null, null, null, 0.2817273437976837, null, null, null, null, null, null, null, null, null], [null, null, null, null, null, null, null, null, null, null, null, null, null, 0.2957034409046173, null, null, null, null, null, null, null, null], [null, null, null, null, null, null, null, null, null, null, null, null, null, null, null, null, null, null, 1.1750881671905518, null, null, null], [null, null, null, null, null, null, null, null, null, null, null, 1.012425422668457, null, null, null, null, null, null, null, null, null, null], [null, 0.3092486262321472, null, null, null, null, null, null, null, null, null, null, null, null, null, null, null, null, null, null, null, null], [null, null, 1.1717005968093872, null, null, null, null, null, null, null, null, null, null, null, null, null, null, null, null, null, null, null], [null, null, null, null, null, null, 0.2939203381538391, null, null, null, null, null, null, null, null, null, null, null, null, null, null, null], [null, null, null, null, null, null, null, 0.3135738968849182, null, null, null, null, null, null, null, null, null, null, null, null, null, null], [null, null, null, null, null, null, null, null, 0.29543572664260864, null, null, null, null, null, null, null, null, null, null, null, null, null], [null, null, null, null, null, null, null, null, null, 0.2992593050003052, null, null, null, null, null, null, null, null, null, null, null, null], [null, null, null, null, null, 0.3155052661895752, null, null, null, null, null, null, null, null, null, null, null, null, null, null, null, null], [null, null, null, 0.3084108829498291, null, null, null, null, null, null, null, null, null, null, null, null, null, null, null, null, null, null], [null, null, null, null, null, null, null, null, null, null, null, null, null, null, null, null, null, null, null, 1.175047516822815, null, null], [null, null, null, null, null, null, null, null, null, null, null, null, null, null, 1.3296476602554321, null, null, null, null, null, null, null], [null, null, null, null, null, null, null, null, null, null, null, null, null, null, null, 1.1757116317749023, null, null, null, null, null, null], [null, null, null, null, null, null, null, null, null, null, null, null, null, null, null, null, null, 1.1789339780807495, null, null, null, null], [null, null, null, null, 1.2400474548339844, null, null, null, null, null, null, null, null, null, null, null, null, null, null, null, null, null], [null, null, null, null, null, null, null, null, null, null, null, null, null, null, null, null, null, null, null, null, 1.1799153089523315, null], [null, null, null, null, null, null, null, null, null, null, 0.343039333820343, null, null, null, null, null, null, null, null, null, null, null], [null, null, null, null, null, null, null, null, null, null, null, null, null, null, null, null, null, null, null, null, null, null]]}, {\"marker\": {\"color\": \"black\", \"line\": {\"color\": \"Grey\", \"width\": 0.5}}, \"mode\": \"markers\", \"showlegend\": false, \"type\": \"scatter\", \"x\": [0.608455933413442, 0.613260274592911, 0.7474745118039717, 0.5649289229399924, 0.7571128232981162, 0.741094607654609, 0.7261625891574386, 0.15882438215913794, 0.01588556923498743, 0.04790808278497112, 0.2750447468667447, 0.250486943434799, 0.01059651133381103, 0.20218688324472023, 0.3436528380166316, 0.39258737099051644, 0.3817485955848035, 0.29159727955594356, 0.476813720818517, 0.5074714287478298], \"xaxis\": \"x14\", \"y\": [1566.0, 56.0, 1155.0, 1367.0, 1745.0, 308.0, 1635.0, 1657.0, 704.0, 1110.0, 823.0, 762.0, 566.0, 1099.0, 879.0, 452.0, 2047.0, 867.0, 178.0, 287.0], \"yaxis\": \"y14\"}, {\"colorbar\": {\"title\": {\"text\": \"Objective Value\"}}, \"colorscale\": [[0, \"rgb(220,220,220)\"], [0.30000000000000004, \"rgb(106,137,247)\"], [0.4, \"rgb(90,120,245)\"], [0.5, \"rgb(70,100,245)\"], [0.65, \"rgb(40,60,190)\"], [1, \"rgb(5,10,172)\"]], \"connectgaps\": true, \"contours\": {\"coloring\": \"heatmap\"}, \"hoverinfo\": \"none\", \"line\": {\"smoothing\": 1.3}, \"showscale\": false, \"type\": \"contour\", \"x\": [7.172121905504087e-06, 1.0899899974679983e-05, 1.9641946348104e-05, 4.944671684199537e-05, 0.00010479369486410936, 0.0001414850743099902, 0.00019434368835999613, 0.00033825853681736527, 0.0003720482585209111, 0.0007051124913061503, 0.0009126092563752785, 0.0010799239908668764, 0.0019946441437487814, 0.002350643742856316, 0.003700485566856586, 0.0048011864301330575, 0.00543293144940597, 0.0064470758416236736, 0.024284893225957338, 0.025252721721650533, 0.04708900453228313, 0.07156395918413563], \"xaxis\": \"x3\", \"y\": [\"linear\", \"relu\", \"sigmoid\"], \"yaxis\": \"y3\", \"z\": [[null, null, null, null, 1.1757116317749023, 1.175047516822815, 1.1750881671905518, null, null, null, null, null, null, null, null, null, null, null, null, 1.1799153089523315, 1.1789339780807495, null], [null, null, 1.012425422668457, 0.343039333820343, null, null, null, 0.2992593050003052, 0.29543572664260864, 0.3092486262321472, null, 0.3084108829498291, 0.2939203381538391, 0.3135738968849182, 0.2817273437976837, 0.2957034409046173, null, 0.3155052661895752, null, null, null, null], [null, 1.2400474548339844, null, null, null, null, null, null, null, null, 1.1717005968093872, null, null, null, null, null, 0.6118298172950745, null, 1.3296476602554321, null, null, null]]}, {\"marker\": {\"color\": \"black\", \"line\": {\"color\": \"Grey\", \"width\": 0.5}}, \"mode\": \"markers\", \"showlegend\": false, \"type\": \"scatter\", \"x\": [0.00010479369486410936, 0.00543293144940597, 0.0001414850743099902, 0.024284893225957338, 0.025252721721650533, 0.00019434368835999613, 0.04708900453228313, 1.0899899974679983e-05, 0.0009126092563752785, 0.0010799239908668764, 0.002350643742856316, 0.0019946441437487814, 0.0007051124913061503, 0.0064470758416236736, 0.00033825853681736527, 1.9641946348104e-05, 4.944671684199537e-05, 0.0003720482585209111, 0.003700485566856586, 0.0048011864301330575], \"xaxis\": \"x3\", \"y\": [\"linear\", \"sigmoid\", \"linear\", \"sigmoid\", \"linear\", \"linear\", \"linear\", \"sigmoid\", \"sigmoid\", \"relu\", \"relu\", \"relu\", \"relu\", \"relu\", \"relu\", \"relu\", \"relu\", \"relu\", \"relu\", \"relu\"], \"yaxis\": \"y3\"}, {\"colorbar\": {\"title\": {\"text\": \"Objective Value\"}}, \"colorscale\": [[0, \"rgb(220,220,220)\"], [0.30000000000000004, \"rgb(106,137,247)\"], [0.4, \"rgb(90,120,245)\"], [0.5, \"rgb(70,100,245)\"], [0.65, \"rgb(40,60,190)\"], [1, \"rgb(5,10,172)\"]], \"connectgaps\": true, \"contours\": {\"coloring\": \"heatmap\"}, \"hoverinfo\": \"none\", \"line\": {\"smoothing\": 1.3}, \"showscale\": false, \"type\": \"contour\", \"x\": [7.172121905504087e-06, 1.0899899974679983e-05, 1.9641946348104e-05, 4.944671684199537e-05, 0.00010479369486410936, 0.0001414850743099902, 0.00019434368835999613, 0.00033825853681736527, 0.0003720482585209111, 0.0007051124913061503, 0.0009126092563752785, 0.0010799239908668764, 0.0019946441437487814, 0.002350643742856316, 0.003700485566856586, 0.0048011864301330575, 0.00543293144940597, 0.0064470758416236736, 0.024284893225957338, 0.025252721721650533, 0.04708900453228313, 0.07156395918413563], \"xaxis\": \"x7\", \"y\": [-0.02672930426440423, 0.01059651133381103, 0.01588556923498743, 0.04790808278497112, 0.15882438215913794, 0.20218688324472023, 0.250486943434799, 0.2750447468667447, 0.29159727955594356, 0.3436528380166316, 0.3817485955848035, 0.39258737099051644, 0.476813720818517, 0.5074714287478298, 0.5649289229399924, 0.608455933413442, 0.613260274592911, 0.7261625891574386, 0.741094607654609, 0.7474745118039717, 0.7571128232981162, 0.7944386388963315], \"yaxis\": \"y7\", \"z\": [[null, null, null, null, null, null, null, null, null, null, null, null, null, null, null, null, null, null, null, null, null, null], [null, null, null, null, null, null, null, null, null, 0.3092486262321472, null, null, null, null, null, null, null, null, null, null, null, null], [null, null, null, null, null, null, null, null, null, null, 1.1717005968093872, null, null, null, null, null, null, null, null, null, null, null], [null, null, null, null, null, null, null, null, null, null, null, 0.3084108829498291, null, null, null, null, null, null, null, null, null, null], [null, 1.2400474548339844, null, null, null, null, null, null, null, null, null, null, null, null, null, null, null, null, null, null, null, null], [null, null, null, null, null, null, null, null, null, null, null, null, null, null, null, null, null, 0.3155052661895752, null, null, null, null], [null, null, null, null, null, null, null, null, null, null, null, null, 0.2939203381538391, null, null, null, null, null, null, null, null, null], [null, null, null, null, null, null, null, null, null, null, null, null, null, 0.3135738968849182, null, null, null, null, null, null, null, null], [null, null, null, null, null, null, null, null, 0.29543572664260864, null, null, null, null, null, null, null, null, null, null, null, null, null], [null, null, null, null, null, null, null, 0.2992593050003052, null, null, null, null, null, null, null, null, null, null, null, null, null, null], [null, null, null, 0.343039333820343, null, null, null, null, null, null, null, null, null, null, null, null, null, null, null, null, null, null], [null, null, 1.012425422668457, null, null, null, null, null, null, null, null, null, null, null, null, null, null, null, null, null, null, null], [null, null, null, null, null, null, null, null, null, null, null, null, null, null, 0.2817273437976837, null, null, null, null, null, null, null], [null, null, null, null, null, null, null, null, null, null, null, null, null, null, null, 0.2957034409046173, null, null, null, null, null, null], [null, null, null, null, null, null, null, null, null, null, null, null, null, null, null, null, null, null, 1.3296476602554321, null, null, null], [null, null, null, null, 1.1757116317749023, null, null, null, null, null, null, null, null, null, null, null, null, null, null, null, null, null], [null, null, null, null, null, null, null, null, null, null, null, null, null, null, null, null, 0.6118298172950745, null, null, null, null, null], [null, null, null, null, null, null, null, null, null, null, null, null, null, null, null, null, null, null, null, null, 1.1789339780807495, null], [null, null, null, null, null, null, 1.1750881671905518, null, null, null, null, null, null, null, null, null, null, null, null, null, null, null], [null, null, null, null, null, 1.175047516822815, null, null, null, null, null, null, null, null, null, null, null, null, null, null, null, null], [null, null, null, null, null, null, null, null, null, null, null, null, null, null, null, null, null, null, null, 1.1799153089523315, null, null], [null, null, null, null, null, null, null, null, null, null, null, null, null, null, null, null, null, null, null, null, null, null]]}, {\"marker\": {\"color\": \"black\", \"line\": {\"color\": \"Grey\", \"width\": 0.5}}, \"mode\": \"markers\", \"showlegend\": false, \"type\": \"scatter\", \"x\": [0.00010479369486410936, 0.00543293144940597, 0.0001414850743099902, 0.024284893225957338, 0.025252721721650533, 0.00019434368835999613, 0.04708900453228313, 1.0899899974679983e-05, 0.0009126092563752785, 0.0010799239908668764, 0.002350643742856316, 0.0019946441437487814, 0.0007051124913061503, 0.0064470758416236736, 0.00033825853681736527, 1.9641946348104e-05, 4.944671684199537e-05, 0.0003720482585209111, 0.003700485566856586, 0.0048011864301330575], \"xaxis\": \"x7\", \"y\": [0.608455933413442, 0.613260274592911, 0.7474745118039717, 0.5649289229399924, 0.7571128232981162, 0.741094607654609, 0.7261625891574386, 0.15882438215913794, 0.01588556923498743, 0.04790808278497112, 0.2750447468667447, 0.250486943434799, 0.01059651133381103, 0.20218688324472023, 0.3436528380166316, 0.39258737099051644, 0.3817485955848035, 0.29159727955594356, 0.476813720818517, 0.5074714287478298], \"yaxis\": \"y7\"}, {\"type\": \"scatter\", \"xaxis\": \"x11\", \"yaxis\": \"y11\"}, {\"colorbar\": {\"title\": {\"text\": \"Objective Value\"}}, \"colorscale\": [[0, \"rgb(220,220,220)\"], [0.30000000000000004, \"rgb(106,137,247)\"], [0.4, \"rgb(90,120,245)\"], [0.5, \"rgb(70,100,245)\"], [0.65, \"rgb(40,60,190)\"], [1, \"rgb(5,10,172)\"]], \"connectgaps\": true, \"contours\": {\"coloring\": \"heatmap\"}, \"hoverinfo\": \"none\", \"line\": {\"smoothing\": 1.3}, \"showscale\": false, \"type\": \"contour\", \"x\": [7.172121905504087e-06, 1.0899899974679983e-05, 1.9641946348104e-05, 4.944671684199537e-05, 0.00010479369486410936, 0.0001414850743099902, 0.00019434368835999613, 0.00033825853681736527, 0.0003720482585209111, 0.0007051124913061503, 0.0009126092563752785, 0.0010799239908668764, 0.0019946441437487814, 0.002350643742856316, 0.003700485566856586, 0.0048011864301330575, 0.00543293144940597, 0.0064470758416236736, 0.024284893225957338, 0.025252721721650533, 0.04708900453228313, 0.07156395918413563], \"xaxis\": \"x15\", \"y\": [-43.55000000000001, 56.0, 178.0, 287.0, 308.0, 452.0, 566.0, 704.0, 762.0, 823.0, 867.0, 879.0, 1099.0, 1110.0, 1155.0, 1367.0, 1566.0, 1635.0, 1657.0, 1745.0, 2047.0, 2146.55], \"yaxis\": \"y15\", \"z\": [[null, null, null, null, null, null, null, null, null, null, null, null, null, null, null, null, null, null, null, null, null, null], [null, null, null, null, null, null, null, null, null, null, null, null, null, null, null, null, 0.6118298172950745, null, null, null, null, null], [null, null, null, null, null, null, null, null, null, null, null, null, null, null, 0.2817273437976837, null, null, null, null, null, null, null], [null, null, null, null, null, null, null, null, null, null, null, null, null, null, null, 0.2957034409046173, null, null, null, null, null, null], [null, null, null, null, null, null, 1.1750881671905518, null, null, null, null, null, null, null, null, null, null, null, null, null, null, null], [null, null, 1.012425422668457, null, null, null, null, null, null, null, null, null, null, null, null, null, null, null, null, null, null, null], [null, null, null, null, null, null, null, null, null, 0.3092486262321472, null, null, null, null, null, null, null, null, null, null, null, null], [null, null, null, null, null, null, null, null, null, null, 1.1717005968093872, null, null, null, null, null, null, null, null, null, null, null], [null, null, null, null, null, null, null, null, null, null, null, null, 0.2939203381538391, null, null, null, null, null, null, null, null, null], [null, null, null, null, null, null, null, null, null, null, null, null, null, 0.3135738968849182, null, null, null, null, null, null, null, null], [null, null, null, null, null, null, null, null, 0.29543572664260864, null, null, null, null, null, null, null, null, null, null, null, null, null], [null, null, null, null, null, null, null, 0.2992593050003052, null, null, null, null, null, null, null, null, null, null, null, null, null, null], [null, null, null, null, null, null, null, null, null, null, null, null, null, null, null, null, null, 0.3155052661895752, null, null, null, null], [null, null, null, null, null, null, null, null, null, null, null, 0.3084108829498291, null, null, null, null, null, null, null, null, null, null], [null, null, null, null, null, 1.175047516822815, null, null, null, null, null, null, null, null, null, null, null, null, null, null, null, null], [null, null, null, null, null, null, null, null, null, null, null, null, null, null, null, null, null, null, 1.3296476602554321, null, null, null], [null, null, null, null, 1.1757116317749023, null, null, null, null, null, null, null, null, null, null, null, null, null, null, null, null, null], [null, null, null, null, null, null, null, null, null, null, null, null, null, null, null, null, null, null, null, null, 1.1789339780807495, null], [null, 1.2400474548339844, null, null, null, null, null, null, null, null, null, null, null, null, null, null, null, null, null, null, null, null], [null, null, null, null, null, null, null, null, null, null, null, null, null, null, null, null, null, null, null, 1.1799153089523315, null, null], [null, null, null, 0.343039333820343, null, null, null, null, null, null, null, null, null, null, null, null, null, null, null, null, null, null], [null, null, null, null, null, null, null, null, null, null, null, null, null, null, null, null, null, null, null, null, null, null]]}, {\"marker\": {\"color\": \"black\", \"line\": {\"color\": \"Grey\", \"width\": 0.5}}, \"mode\": \"markers\", \"showlegend\": false, \"type\": \"scatter\", \"x\": [0.00010479369486410936, 0.00543293144940597, 0.0001414850743099902, 0.024284893225957338, 0.025252721721650533, 0.00019434368835999613, 0.04708900453228313, 1.0899899974679983e-05, 0.0009126092563752785, 0.0010799239908668764, 0.002350643742856316, 0.0019946441437487814, 0.0007051124913061503, 0.0064470758416236736, 0.00033825853681736527, 1.9641946348104e-05, 4.944671684199537e-05, 0.0003720482585209111, 0.003700485566856586, 0.0048011864301330575], \"xaxis\": \"x15\", \"y\": [1566.0, 56.0, 1155.0, 1367.0, 1745.0, 308.0, 1635.0, 1657.0, 704.0, 1110.0, 823.0, 762.0, 566.0, 1099.0, 879.0, 452.0, 2047.0, 867.0, 178.0, 287.0], \"yaxis\": \"y15\"}, {\"colorbar\": {\"title\": {\"text\": \"Objective Value\"}}, \"colorscale\": [[0, \"rgb(220,220,220)\"], [0.30000000000000004, \"rgb(106,137,247)\"], [0.4, \"rgb(90,120,245)\"], [0.5, \"rgb(70,100,245)\"], [0.65, \"rgb(40,60,190)\"], [1, \"rgb(5,10,172)\"]], \"connectgaps\": true, \"contours\": {\"coloring\": \"heatmap\"}, \"hoverinfo\": \"none\", \"line\": {\"smoothing\": 1.3}, \"showscale\": false, \"type\": \"contour\", \"x\": [-43.55000000000001, 56.0, 178.0, 287.0, 308.0, 452.0, 566.0, 704.0, 762.0, 823.0, 867.0, 879.0, 1099.0, 1110.0, 1155.0, 1367.0, 1566.0, 1635.0, 1657.0, 1745.0, 2047.0, 2146.55], \"xaxis\": \"x4\", \"y\": [\"linear\", \"relu\", \"sigmoid\"], \"yaxis\": \"y4\", \"z\": [[null, null, null, null, 1.1750881671905518, null, null, null, null, null, null, null, null, null, 1.175047516822815, null, 1.1757116317749023, 1.1789339780807495, null, 1.1799153089523315, null, null], [null, null, 0.2817273437976837, 0.2957034409046173, null, 1.012425422668457, 0.3092486262321472, null, 0.2939203381538391, 0.3135738968849182, 0.29543572664260864, 0.2992593050003052, 0.3155052661895752, 0.3084108829498291, null, null, null, null, null, null, 0.343039333820343, null], [null, 0.6118298172950745, null, null, null, null, null, 1.1717005968093872, null, null, null, null, null, null, null, 1.3296476602554321, null, null, 1.2400474548339844, null, null, null]]}, {\"marker\": {\"color\": \"black\", \"line\": {\"color\": \"Grey\", \"width\": 0.5}}, \"mode\": \"markers\", \"showlegend\": false, \"type\": \"scatter\", \"x\": [1566.0, 56.0, 1155.0, 1367.0, 1745.0, 308.0, 1635.0, 1657.0, 704.0, 1110.0, 823.0, 762.0, 566.0, 1099.0, 879.0, 452.0, 2047.0, 867.0, 178.0, 287.0], \"xaxis\": \"x4\", \"y\": [\"linear\", \"sigmoid\", \"linear\", \"sigmoid\", \"linear\", \"linear\", \"linear\", \"sigmoid\", \"sigmoid\", \"relu\", \"relu\", \"relu\", \"relu\", \"relu\", \"relu\", \"relu\", \"relu\", \"relu\", \"relu\", \"relu\"], \"yaxis\": \"y4\"}, {\"colorbar\": {\"title\": {\"text\": \"Objective Value\"}}, \"colorscale\": [[0, \"rgb(220,220,220)\"], [0.30000000000000004, \"rgb(106,137,247)\"], [0.4, \"rgb(90,120,245)\"], [0.5, \"rgb(70,100,245)\"], [0.65, \"rgb(40,60,190)\"], [1, \"rgb(5,10,172)\"]], \"connectgaps\": true, \"contours\": {\"coloring\": \"heatmap\"}, \"hoverinfo\": \"none\", \"line\": {\"smoothing\": 1.3}, \"showscale\": false, \"type\": \"contour\", \"x\": [-43.55000000000001, 56.0, 178.0, 287.0, 308.0, 452.0, 566.0, 704.0, 762.0, 823.0, 867.0, 879.0, 1099.0, 1110.0, 1155.0, 1367.0, 1566.0, 1635.0, 1657.0, 1745.0, 2047.0, 2146.55], \"xaxis\": \"x8\", \"y\": [-0.02672930426440423, 0.01059651133381103, 0.01588556923498743, 0.04790808278497112, 0.15882438215913794, 0.20218688324472023, 0.250486943434799, 0.2750447468667447, 0.29159727955594356, 0.3436528380166316, 0.3817485955848035, 0.39258737099051644, 0.476813720818517, 0.5074714287478298, 0.5649289229399924, 0.608455933413442, 0.613260274592911, 0.7261625891574386, 0.741094607654609, 0.7474745118039717, 0.7571128232981162, 0.7944386388963315], \"yaxis\": \"y8\", \"z\": [[null, null, null, null, null, null, null, null, null, null, null, null, null, null, null, null, null, null, null, null, null, null], [null, null, null, null, null, null, 0.3092486262321472, null, null, null, null, null, null, null, null, null, null, null, null, null, null, null], [null, null, null, null, null, null, null, 1.1717005968093872, null, null, null, null, null, null, null, null, null, null, null, null, null, null], [null, null, null, null, null, null, null, null, null, null, null, null, null, 0.3084108829498291, null, null, null, null, null, null, null, null], [null, null, null, null, null, null, null, null, null, null, null, null, null, null, null, null, null, null, 1.2400474548339844, null, null, null], [null, null, null, null, null, null, null, null, null, null, null, null, 0.3155052661895752, null, null, null, null, null, null, null, null, null], [null, null, null, null, null, null, null, null, 0.2939203381538391, null, null, null, null, null, null, null, null, null, null, null, null, null], [null, null, null, null, null, null, null, null, null, 0.3135738968849182, null, null, null, null, null, null, null, null, null, null, null, null], [null, null, null, null, null, null, null, null, null, null, 0.29543572664260864, null, null, null, null, null, null, null, null, null, null, null], [null, null, null, null, null, null, null, null, null, null, null, 0.2992593050003052, null, null, null, null, null, null, null, null, null, null], [null, null, null, null, null, null, null, null, null, null, null, null, null, null, null, null, null, null, null, null, 0.343039333820343, null], [null, null, null, null, null, 1.012425422668457, null, null, null, null, null, null, null, null, null, null, null, null, null, null, null, null], [null, null, 0.2817273437976837, null, null, null, null, null, null, null, null, null, null, null, null, null, null, null, null, null, null, null], [null, null, null, 0.2957034409046173, null, null, null, null, null, null, null, null, null, null, null, null, null, null, null, null, null, null], [null, null, null, null, null, null, null, null, null, null, null, null, null, null, null, 1.3296476602554321, null, null, null, null, null, null], [null, null, null, null, null, null, null, null, null, null, null, null, null, null, null, null, 1.1757116317749023, null, null, null, null, null], [null, 0.6118298172950745, null, null, null, null, null, null, null, null, null, null, null, null, null, null, null, null, null, null, null, null], [null, null, null, null, null, null, null, null, null, null, null, null, null, null, null, null, null, 1.1789339780807495, null, null, null, null], [null, null, null, null, 1.1750881671905518, null, null, null, null, null, null, null, null, null, null, null, null, null, null, null, null, null], [null, null, null, null, null, null, null, null, null, null, null, null, null, null, 1.175047516822815, null, null, null, null, null, null, null], [null, null, null, null, null, null, null, null, null, null, null, null, null, null, null, null, null, null, null, 1.1799153089523315, null, null], [null, null, null, null, null, null, null, null, null, null, null, null, null, null, null, null, null, null, null, null, null, null]]}, {\"marker\": {\"color\": \"black\", \"line\": {\"color\": \"Grey\", \"width\": 0.5}}, \"mode\": \"markers\", \"showlegend\": false, \"type\": \"scatter\", \"x\": [1566.0, 56.0, 1155.0, 1367.0, 1745.0, 308.0, 1635.0, 1657.0, 704.0, 1110.0, 823.0, 762.0, 566.0, 1099.0, 879.0, 452.0, 2047.0, 867.0, 178.0, 287.0], \"xaxis\": \"x8\", \"y\": [0.608455933413442, 0.613260274592911, 0.7474745118039717, 0.5649289229399924, 0.7571128232981162, 0.741094607654609, 0.7261625891574386, 0.15882438215913794, 0.01588556923498743, 0.04790808278497112, 0.2750447468667447, 0.250486943434799, 0.01059651133381103, 0.20218688324472023, 0.3436528380166316, 0.39258737099051644, 0.3817485955848035, 0.29159727955594356, 0.476813720818517, 0.5074714287478298], \"yaxis\": \"y8\"}, {\"colorbar\": {\"title\": {\"text\": \"Objective Value\"}}, \"colorscale\": [[0, \"rgb(220,220,220)\"], [0.30000000000000004, \"rgb(106,137,247)\"], [0.4, \"rgb(90,120,245)\"], [0.5, \"rgb(70,100,245)\"], [0.65, \"rgb(40,60,190)\"], [1, \"rgb(5,10,172)\"]], \"connectgaps\": true, \"contours\": {\"coloring\": \"heatmap\"}, \"hoverinfo\": \"none\", \"line\": {\"smoothing\": 1.3}, \"showscale\": false, \"type\": \"contour\", \"x\": [-43.55000000000001, 56.0, 178.0, 287.0, 308.0, 452.0, 566.0, 704.0, 762.0, 823.0, 867.0, 879.0, 1099.0, 1110.0, 1155.0, 1367.0, 1566.0, 1635.0, 1657.0, 1745.0, 2047.0, 2146.55], \"xaxis\": \"x12\", \"y\": [7.172121905504087e-06, 1.0899899974679983e-05, 1.9641946348104e-05, 4.944671684199537e-05, 0.00010479369486410936, 0.0001414850743099902, 0.00019434368835999613, 0.00033825853681736527, 0.0003720482585209111, 0.0007051124913061503, 0.0009126092563752785, 0.0010799239908668764, 0.0019946441437487814, 0.002350643742856316, 0.003700485566856586, 0.0048011864301330575, 0.00543293144940597, 0.0064470758416236736, 0.024284893225957338, 0.025252721721650533, 0.04708900453228313, 0.07156395918413563], \"yaxis\": \"y12\", \"z\": [[null, null, null, null, null, null, null, null, null, null, null, null, null, null, null, null, null, null, null, null, null, null], [null, null, null, null, null, null, null, null, null, null, null, null, null, null, null, null, null, null, 1.2400474548339844, null, null, null], [null, null, null, null, null, 1.012425422668457, null, null, null, null, null, null, null, null, null, null, null, null, null, null, null, null], [null, null, null, null, null, null, null, null, null, null, null, null, null, null, null, null, null, null, null, null, 0.343039333820343, null], [null, null, null, null, null, null, null, null, null, null, null, null, null, null, null, null, 1.1757116317749023, null, null, null, null, null], [null, null, null, null, null, null, null, null, null, null, null, null, null, null, 1.175047516822815, null, null, null, null, null, null, null], [null, null, null, null, 1.1750881671905518, null, null, null, null, null, null, null, null, null, null, null, null, null, null, null, null, null], [null, null, null, null, null, null, null, null, null, null, null, 0.2992593050003052, null, null, null, null, null, null, null, null, null, null], [null, null, null, null, null, null, null, null, null, null, 0.29543572664260864, null, null, null, null, null, null, null, null, null, null, null], [null, null, null, null, null, null, 0.3092486262321472, null, null, null, null, null, null, null, null, null, null, null, null, null, null, null], [null, null, null, null, null, null, null, 1.1717005968093872, null, null, null, null, null, null, null, null, null, null, null, null, null, null], [null, null, null, null, null, null, null, null, null, null, null, null, null, 0.3084108829498291, null, null, null, null, null, null, null, null], [null, null, null, null, null, null, null, null, 0.2939203381538391, null, null, null, null, null, null, null, null, null, null, null, null, null], [null, null, null, null, null, null, null, null, null, 0.3135738968849182, null, null, null, null, null, null, null, null, null, null, null, null], [null, null, 0.2817273437976837, null, null, null, null, null, null, null, null, null, null, null, null, null, null, null, null, null, null, null], [null, null, null, 0.2957034409046173, null, null, null, null, null, null, null, null, null, null, null, null, null, null, null, null, null, null], [null, 0.6118298172950745, null, null, null, null, null, null, null, null, null, null, null, null, null, null, null, null, null, null, null, null], [null, null, null, null, null, null, null, null, null, null, null, null, 0.3155052661895752, null, null, null, null, null, null, null, null, null], [null, null, null, null, null, null, null, null, null, null, null, null, null, null, null, 1.3296476602554321, null, null, null, null, null, null], [null, null, null, null, null, null, null, null, null, null, null, null, null, null, null, null, null, null, null, 1.1799153089523315, null, null], [null, null, null, null, null, null, null, null, null, null, null, null, null, null, null, null, null, 1.1789339780807495, null, null, null, null], [null, null, null, null, null, null, null, null, null, null, null, null, null, null, null, null, null, null, null, null, null, null]]}, {\"marker\": {\"color\": \"black\", \"line\": {\"color\": \"Grey\", \"width\": 0.5}}, \"mode\": \"markers\", \"showlegend\": false, \"type\": \"scatter\", \"x\": [1566.0, 56.0, 1155.0, 1367.0, 1745.0, 308.0, 1635.0, 1657.0, 704.0, 1110.0, 823.0, 762.0, 566.0, 1099.0, 879.0, 452.0, 2047.0, 867.0, 178.0, 287.0], \"xaxis\": \"x12\", \"y\": [0.00010479369486410936, 0.00543293144940597, 0.0001414850743099902, 0.024284893225957338, 0.025252721721650533, 0.00019434368835999613, 0.04708900453228313, 1.0899899974679983e-05, 0.0009126092563752785, 0.0010799239908668764, 0.002350643742856316, 0.0019946441437487814, 0.0007051124913061503, 0.0064470758416236736, 0.00033825853681736527, 1.9641946348104e-05, 4.944671684199537e-05, 0.0003720482585209111, 0.003700485566856586, 0.0048011864301330575], \"yaxis\": \"y12\"}, {\"type\": \"scatter\", \"xaxis\": \"x16\", \"yaxis\": \"y16\"}],\n",
              "                        {\"template\": {\"data\": {\"bar\": [{\"error_x\": {\"color\": \"#2a3f5f\"}, \"error_y\": {\"color\": \"#2a3f5f\"}, \"marker\": {\"line\": {\"color\": \"#E5ECF6\", \"width\": 0.5}}, \"type\": \"bar\"}], \"barpolar\": [{\"marker\": {\"line\": {\"color\": \"#E5ECF6\", \"width\": 0.5}}, \"type\": \"barpolar\"}], \"carpet\": [{\"aaxis\": {\"endlinecolor\": \"#2a3f5f\", \"gridcolor\": \"white\", \"linecolor\": \"white\", \"minorgridcolor\": \"white\", \"startlinecolor\": \"#2a3f5f\"}, \"baxis\": {\"endlinecolor\": \"#2a3f5f\", \"gridcolor\": \"white\", \"linecolor\": \"white\", \"minorgridcolor\": \"white\", \"startlinecolor\": \"#2a3f5f\"}, \"type\": \"carpet\"}], \"choropleth\": [{\"colorbar\": {\"outlinewidth\": 0, \"ticks\": \"\"}, \"type\": \"choropleth\"}], \"contour\": [{\"colorbar\": {\"outlinewidth\": 0, \"ticks\": \"\"}, \"colorscale\": [[0.0, \"#0d0887\"], [0.1111111111111111, \"#46039f\"], [0.2222222222222222, \"#7201a8\"], [0.3333333333333333, \"#9c179e\"], [0.4444444444444444, \"#bd3786\"], [0.5555555555555556, \"#d8576b\"], [0.6666666666666666, \"#ed7953\"], [0.7777777777777778, \"#fb9f3a\"], [0.8888888888888888, \"#fdca26\"], [1.0, \"#f0f921\"]], \"type\": \"contour\"}], \"contourcarpet\": [{\"colorbar\": {\"outlinewidth\": 0, \"ticks\": \"\"}, \"type\": \"contourcarpet\"}], \"heatmap\": [{\"colorbar\": {\"outlinewidth\": 0, \"ticks\": \"\"}, \"colorscale\": [[0.0, \"#0d0887\"], [0.1111111111111111, \"#46039f\"], [0.2222222222222222, \"#7201a8\"], [0.3333333333333333, \"#9c179e\"], [0.4444444444444444, \"#bd3786\"], [0.5555555555555556, \"#d8576b\"], [0.6666666666666666, \"#ed7953\"], [0.7777777777777778, \"#fb9f3a\"], [0.8888888888888888, \"#fdca26\"], [1.0, \"#f0f921\"]], \"type\": \"heatmap\"}], \"heatmapgl\": [{\"colorbar\": {\"outlinewidth\": 0, \"ticks\": \"\"}, \"colorscale\": [[0.0, \"#0d0887\"], [0.1111111111111111, \"#46039f\"], [0.2222222222222222, \"#7201a8\"], [0.3333333333333333, \"#9c179e\"], [0.4444444444444444, \"#bd3786\"], [0.5555555555555556, \"#d8576b\"], [0.6666666666666666, \"#ed7953\"], [0.7777777777777778, \"#fb9f3a\"], [0.8888888888888888, \"#fdca26\"], [1.0, \"#f0f921\"]], \"type\": \"heatmapgl\"}], \"histogram\": [{\"marker\": {\"colorbar\": {\"outlinewidth\": 0, \"ticks\": \"\"}}, \"type\": \"histogram\"}], \"histogram2d\": [{\"colorbar\": {\"outlinewidth\": 0, \"ticks\": \"\"}, \"colorscale\": [[0.0, \"#0d0887\"], [0.1111111111111111, \"#46039f\"], [0.2222222222222222, \"#7201a8\"], [0.3333333333333333, \"#9c179e\"], [0.4444444444444444, \"#bd3786\"], [0.5555555555555556, \"#d8576b\"], [0.6666666666666666, \"#ed7953\"], [0.7777777777777778, \"#fb9f3a\"], [0.8888888888888888, \"#fdca26\"], [1.0, \"#f0f921\"]], \"type\": \"histogram2d\"}], \"histogram2dcontour\": [{\"colorbar\": {\"outlinewidth\": 0, \"ticks\": \"\"}, \"colorscale\": [[0.0, \"#0d0887\"], [0.1111111111111111, \"#46039f\"], [0.2222222222222222, \"#7201a8\"], [0.3333333333333333, \"#9c179e\"], [0.4444444444444444, \"#bd3786\"], [0.5555555555555556, \"#d8576b\"], [0.6666666666666666, \"#ed7953\"], [0.7777777777777778, \"#fb9f3a\"], [0.8888888888888888, \"#fdca26\"], [1.0, \"#f0f921\"]], \"type\": \"histogram2dcontour\"}], \"mesh3d\": [{\"colorbar\": {\"outlinewidth\": 0, \"ticks\": \"\"}, \"type\": \"mesh3d\"}], \"parcoords\": [{\"line\": {\"colorbar\": {\"outlinewidth\": 0, \"ticks\": \"\"}}, \"type\": \"parcoords\"}], \"pie\": [{\"automargin\": true, \"type\": \"pie\"}], \"scatter\": [{\"marker\": {\"colorbar\": {\"outlinewidth\": 0, \"ticks\": \"\"}}, \"type\": \"scatter\"}], \"scatter3d\": [{\"line\": {\"colorbar\": {\"outlinewidth\": 0, \"ticks\": \"\"}}, \"marker\": {\"colorbar\": {\"outlinewidth\": 0, \"ticks\": \"\"}}, \"type\": \"scatter3d\"}], \"scattercarpet\": [{\"marker\": {\"colorbar\": {\"outlinewidth\": 0, \"ticks\": \"\"}}, \"type\": \"scattercarpet\"}], \"scattergeo\": [{\"marker\": {\"colorbar\": {\"outlinewidth\": 0, \"ticks\": \"\"}}, \"type\": \"scattergeo\"}], \"scattergl\": [{\"marker\": {\"colorbar\": {\"outlinewidth\": 0, \"ticks\": \"\"}}, \"type\": \"scattergl\"}], \"scattermapbox\": [{\"marker\": {\"colorbar\": {\"outlinewidth\": 0, \"ticks\": \"\"}}, \"type\": \"scattermapbox\"}], \"scatterpolar\": [{\"marker\": {\"colorbar\": {\"outlinewidth\": 0, \"ticks\": \"\"}}, \"type\": \"scatterpolar\"}], \"scatterpolargl\": [{\"marker\": {\"colorbar\": {\"outlinewidth\": 0, \"ticks\": \"\"}}, \"type\": \"scatterpolargl\"}], \"scatterternary\": [{\"marker\": {\"colorbar\": {\"outlinewidth\": 0, \"ticks\": \"\"}}, \"type\": \"scatterternary\"}], \"surface\": [{\"colorbar\": {\"outlinewidth\": 0, \"ticks\": \"\"}, \"colorscale\": [[0.0, \"#0d0887\"], [0.1111111111111111, \"#46039f\"], [0.2222222222222222, \"#7201a8\"], [0.3333333333333333, \"#9c179e\"], [0.4444444444444444, \"#bd3786\"], [0.5555555555555556, \"#d8576b\"], [0.6666666666666666, \"#ed7953\"], [0.7777777777777778, \"#fb9f3a\"], [0.8888888888888888, \"#fdca26\"], [1.0, \"#f0f921\"]], \"type\": \"surface\"}], \"table\": [{\"cells\": {\"fill\": {\"color\": \"#EBF0F8\"}, \"line\": {\"color\": \"white\"}}, \"header\": {\"fill\": {\"color\": \"#C8D4E3\"}, \"line\": {\"color\": \"white\"}}, \"type\": \"table\"}]}, \"layout\": {\"annotationdefaults\": {\"arrowcolor\": \"#2a3f5f\", \"arrowhead\": 0, \"arrowwidth\": 1}, \"coloraxis\": {\"colorbar\": {\"outlinewidth\": 0, \"ticks\": \"\"}}, \"colorscale\": {\"diverging\": [[0, \"#8e0152\"], [0.1, \"#c51b7d\"], [0.2, \"#de77ae\"], [0.3, \"#f1b6da\"], [0.4, \"#fde0ef\"], [0.5, \"#f7f7f7\"], [0.6, \"#e6f5d0\"], [0.7, \"#b8e186\"], [0.8, \"#7fbc41\"], [0.9, \"#4d9221\"], [1, \"#276419\"]], \"sequential\": [[0.0, \"#0d0887\"], [0.1111111111111111, \"#46039f\"], [0.2222222222222222, \"#7201a8\"], [0.3333333333333333, \"#9c179e\"], [0.4444444444444444, \"#bd3786\"], [0.5555555555555556, \"#d8576b\"], [0.6666666666666666, \"#ed7953\"], [0.7777777777777778, \"#fb9f3a\"], [0.8888888888888888, \"#fdca26\"], [1.0, \"#f0f921\"]], \"sequentialminus\": [[0.0, \"#0d0887\"], [0.1111111111111111, \"#46039f\"], [0.2222222222222222, \"#7201a8\"], [0.3333333333333333, \"#9c179e\"], [0.4444444444444444, \"#bd3786\"], [0.5555555555555556, \"#d8576b\"], [0.6666666666666666, \"#ed7953\"], [0.7777777777777778, \"#fb9f3a\"], [0.8888888888888888, \"#fdca26\"], [1.0, \"#f0f921\"]]}, \"colorway\": [\"#636efa\", \"#EF553B\", \"#00cc96\", \"#ab63fa\", \"#FFA15A\", \"#19d3f3\", \"#FF6692\", \"#B6E880\", \"#FF97FF\", \"#FECB52\"], \"font\": {\"color\": \"#2a3f5f\"}, \"geo\": {\"bgcolor\": \"white\", \"lakecolor\": \"white\", \"landcolor\": \"#E5ECF6\", \"showlakes\": true, \"showland\": true, \"subunitcolor\": \"white\"}, \"hoverlabel\": {\"align\": \"left\"}, \"hovermode\": \"closest\", \"mapbox\": {\"style\": \"light\"}, \"paper_bgcolor\": \"white\", \"plot_bgcolor\": \"#E5ECF6\", \"polar\": {\"angularaxis\": {\"gridcolor\": \"white\", \"linecolor\": \"white\", \"ticks\": \"\"}, \"bgcolor\": \"#E5ECF6\", \"radialaxis\": {\"gridcolor\": \"white\", \"linecolor\": \"white\", \"ticks\": \"\"}}, \"scene\": {\"xaxis\": {\"backgroundcolor\": \"#E5ECF6\", \"gridcolor\": \"white\", \"gridwidth\": 2, \"linecolor\": \"white\", \"showbackground\": true, \"ticks\": \"\", \"zerolinecolor\": \"white\"}, \"yaxis\": {\"backgroundcolor\": \"#E5ECF6\", \"gridcolor\": \"white\", \"gridwidth\": 2, \"linecolor\": \"white\", \"showbackground\": true, \"ticks\": \"\", \"zerolinecolor\": \"white\"}, \"zaxis\": {\"backgroundcolor\": \"#E5ECF6\", \"gridcolor\": \"white\", \"gridwidth\": 2, \"linecolor\": \"white\", \"showbackground\": true, \"ticks\": \"\", \"zerolinecolor\": \"white\"}}, \"shapedefaults\": {\"line\": {\"color\": \"#2a3f5f\"}}, \"ternary\": {\"aaxis\": {\"gridcolor\": \"white\", \"linecolor\": \"white\", \"ticks\": \"\"}, \"baxis\": {\"gridcolor\": \"white\", \"linecolor\": \"white\", \"ticks\": \"\"}, \"bgcolor\": \"#E5ECF6\", \"caxis\": {\"gridcolor\": \"white\", \"linecolor\": \"white\", \"ticks\": \"\"}}, \"title\": {\"x\": 0.05}, \"xaxis\": {\"automargin\": true, \"gridcolor\": \"white\", \"linecolor\": \"white\", \"ticks\": \"\", \"title\": {\"standoff\": 15}, \"zerolinecolor\": \"white\", \"zerolinewidth\": 2}, \"yaxis\": {\"automargin\": true, \"gridcolor\": \"white\", \"linecolor\": \"white\", \"ticks\": \"\", \"title\": {\"standoff\": 15}, \"zerolinecolor\": \"white\", \"zerolinewidth\": 2}}}, \"title\": {\"text\": \"Contour Plot\"}, \"xaxis\": {\"anchor\": \"y\", \"domain\": [0.0, 0.2125], \"matches\": \"x13\", \"range\": [\"linear\", \"sigmoid\"], \"showticklabels\": false}, \"xaxis10\": {\"anchor\": \"y10\", \"domain\": [0.2625, 0.475], \"matches\": \"x14\", \"range\": [-0.02672930426440423, 0.7944386388963315], \"showticklabels\": false}, \"xaxis11\": {\"anchor\": \"y11\", \"domain\": [0.525, 0.7375], \"matches\": \"x15\", \"range\": [-5.144352337286403, -1.1453056406555473], \"showticklabels\": false, \"type\": \"log\"}, \"xaxis12\": {\"anchor\": \"y12\", \"domain\": [0.7875, 1.0], \"matches\": \"x16\", \"range\": [-43.55000000000001, 2146.55], \"showticklabels\": false}, \"xaxis13\": {\"anchor\": \"y13\", \"domain\": [0.0, 0.2125], \"range\": [\"linear\", \"sigmoid\"], \"title\": {\"text\": \"activation\"}}, \"xaxis14\": {\"anchor\": \"y14\", \"domain\": [0.2625, 0.475], \"range\": [-0.02672930426440423, 0.7944386388963315], \"title\": {\"text\": \"dropout\"}}, \"xaxis15\": {\"anchor\": \"y15\", \"domain\": [0.525, 0.7375], \"range\": [-5.144352337286403, -1.1453056406555473], \"title\": {\"text\": \"lr\"}, \"type\": \"log\"}, \"xaxis16\": {\"anchor\": \"y16\", \"domain\": [0.7875, 1.0], \"range\": [-43.55000000000001, 2146.55], \"title\": {\"text\": \"units\"}}, \"xaxis2\": {\"anchor\": \"y2\", \"domain\": [0.2625, 0.475], \"matches\": \"x14\", \"range\": [-0.02672930426440423, 0.7944386388963315], \"showticklabels\": false}, \"xaxis3\": {\"anchor\": \"y3\", \"domain\": [0.525, 0.7375], \"matches\": \"x15\", \"range\": [-5.144352337286403, -1.1453056406555473], \"showticklabels\": false, \"type\": \"log\"}, \"xaxis4\": {\"anchor\": \"y4\", \"domain\": [0.7875, 1.0], \"matches\": \"x16\", \"range\": [-43.55000000000001, 2146.55], \"showticklabels\": false}, \"xaxis5\": {\"anchor\": \"y5\", \"domain\": [0.0, 0.2125], \"matches\": \"x13\", \"range\": [\"linear\", \"sigmoid\"], \"showticklabels\": false}, \"xaxis6\": {\"anchor\": \"y6\", \"domain\": [0.2625, 0.475], \"matches\": \"x14\", \"range\": [-0.02672930426440423, 0.7944386388963315], \"showticklabels\": false}, \"xaxis7\": {\"anchor\": \"y7\", \"domain\": [0.525, 0.7375], \"matches\": \"x15\", \"range\": [-5.144352337286403, -1.1453056406555473], \"showticklabels\": false, \"type\": \"log\"}, \"xaxis8\": {\"anchor\": \"y8\", \"domain\": [0.7875, 1.0], \"matches\": \"x16\", \"range\": [-43.55000000000001, 2146.55], \"showticklabels\": false}, \"xaxis9\": {\"anchor\": \"y9\", \"domain\": [0.0, 0.2125], \"matches\": \"x13\", \"range\": [\"linear\", \"sigmoid\"], \"showticklabels\": false}, \"yaxis\": {\"anchor\": \"x\", \"domain\": [0.80625, 1.0], \"range\": [\"linear\", \"sigmoid\"], \"title\": {\"text\": \"activation\"}}, \"yaxis10\": {\"anchor\": \"x10\", \"domain\": [0.26875, 0.4625], \"matches\": \"y9\", \"range\": [-5.144352337286403, -1.1453056406555473], \"showticklabels\": false, \"type\": \"log\"}, \"yaxis11\": {\"anchor\": \"x11\", \"domain\": [0.26875, 0.4625], \"matches\": \"y9\", \"range\": [-5.144352337286403, -1.1453056406555473], \"showticklabels\": false, \"type\": \"log\"}, \"yaxis12\": {\"anchor\": \"x12\", \"domain\": [0.26875, 0.4625], \"matches\": \"y9\", \"range\": [-5.144352337286403, -1.1453056406555473], \"showticklabels\": false, \"type\": \"log\"}, \"yaxis13\": {\"anchor\": \"x13\", \"domain\": [0.0, 0.19375], \"range\": [-43.55000000000001, 2146.55], \"title\": {\"text\": \"units\"}}, \"yaxis14\": {\"anchor\": \"x14\", \"domain\": [0.0, 0.19375], \"matches\": \"y13\", \"range\": [-43.55000000000001, 2146.55], \"showticklabels\": false}, \"yaxis15\": {\"anchor\": \"x15\", \"domain\": [0.0, 0.19375], \"matches\": \"y13\", \"range\": [-43.55000000000001, 2146.55], \"showticklabels\": false}, \"yaxis16\": {\"anchor\": \"x16\", \"domain\": [0.0, 0.19375], \"matches\": \"y13\", \"range\": [-43.55000000000001, 2146.55], \"showticklabels\": false}, \"yaxis2\": {\"anchor\": \"x2\", \"domain\": [0.80625, 1.0], \"matches\": \"y\", \"range\": [\"linear\", \"sigmoid\"], \"showticklabels\": false}, \"yaxis3\": {\"anchor\": \"x3\", \"domain\": [0.80625, 1.0], \"matches\": \"y\", \"range\": [\"linear\", \"sigmoid\"], \"showticklabels\": false}, \"yaxis4\": {\"anchor\": \"x4\", \"domain\": [0.80625, 1.0], \"matches\": \"y\", \"range\": [\"linear\", \"sigmoid\"], \"showticklabels\": false}, \"yaxis5\": {\"anchor\": \"x5\", \"domain\": [0.5375, 0.73125], \"range\": [-0.02672930426440423, 0.7944386388963315], \"title\": {\"text\": \"dropout\"}}, \"yaxis6\": {\"anchor\": \"x6\", \"domain\": [0.5375, 0.73125], \"matches\": \"y5\", \"range\": [-0.02672930426440423, 0.7944386388963315], \"showticklabels\": false}, \"yaxis7\": {\"anchor\": \"x7\", \"domain\": [0.5375, 0.73125], \"matches\": \"y5\", \"range\": [-0.02672930426440423, 0.7944386388963315], \"showticklabels\": false}, \"yaxis8\": {\"anchor\": \"x8\", \"domain\": [0.5375, 0.73125], \"matches\": \"y5\", \"range\": [-0.02672930426440423, 0.7944386388963315], \"showticklabels\": false}, \"yaxis9\": {\"anchor\": \"x9\", \"domain\": [0.26875, 0.4625], \"range\": [-5.144352337286403, -1.1453056406555473], \"title\": {\"text\": \"lr\"}, \"type\": \"log\"}},\n",
              "                        {\"responsive\": true}\n",
              "                    ).then(function(){\n",
              "                            \n",
              "var gd = document.getElementById('5c73ee1f-a751-4e39-98c4-7102763da37e');\n",
              "var x = new MutationObserver(function (mutations, observer) {{\n",
              "        var display = window.getComputedStyle(gd).display;\n",
              "        if (!display || display === 'none') {{\n",
              "            console.log([gd, 'removed!']);\n",
              "            Plotly.purge(gd);\n",
              "            observer.disconnect();\n",
              "        }}\n",
              "}});\n",
              "\n",
              "// Listen for the removal of the full notebook cells\n",
              "var notebookContainer = gd.closest('#notebook-container');\n",
              "if (notebookContainer) {{\n",
              "    x.observe(notebookContainer, {childList: true});\n",
              "}}\n",
              "\n",
              "// Listen for the clearing of the current output cell\n",
              "var outputEl = gd.closest('.output');\n",
              "if (outputEl) {{\n",
              "    x.observe(outputEl, {childList: true});\n",
              "}}\n",
              "\n",
              "                        })\n",
              "                };\n",
              "                \n",
              "            </script>\n",
              "        </div>\n",
              "</body>\n",
              "</html>"
            ]
          },
          "metadata": {
            "tags": []
          }
        }
      ]
    },
    {
      "cell_type": "code",
      "metadata": {
        "id": "gLt-QeM5LyyL"
      },
      "source": [
        ""
      ],
      "execution_count": 74,
      "outputs": []
    },
    {
      "cell_type": "markdown",
      "metadata": {
        "id": "csdeTh8YWQtF"
      },
      "source": [
        "### Selecting Parameters to Visualize"
      ]
    },
    {
      "cell_type": "code",
      "metadata": {
        "id": "kMn2JiwzWQtF",
        "colab": {
          "base_uri": "https://localhost:8080/",
          "height": 542
        },
        "outputId": "4ffe912a-9a7b-436c-b7d9-9b0362da053b"
      },
      "source": [
        "plot_contour(study, params=['units', 'dropout'])"
      ],
      "execution_count": 75,
      "outputs": [
        {
          "output_type": "display_data",
          "data": {
            "text/html": [
              "<html>\n",
              "<head><meta charset=\"utf-8\" /></head>\n",
              "<body>\n",
              "    <div>\n",
              "            <script src=\"https://cdnjs.cloudflare.com/ajax/libs/mathjax/2.7.5/MathJax.js?config=TeX-AMS-MML_SVG\"></script><script type=\"text/javascript\">if (window.MathJax) {MathJax.Hub.Config({SVG: {font: \"STIX-Web\"}});}</script>\n",
              "                <script type=\"text/javascript\">window.PlotlyConfig = {MathJaxConfig: 'local'};</script>\n",
              "        <script src=\"https://cdn.plot.ly/plotly-latest.min.js\"></script>    \n",
              "            <div id=\"3e80789b-495b-4e54-b65d-36dd4e96d2da\" class=\"plotly-graph-div\" style=\"height:525px; width:100%;\"></div>\n",
              "            <script type=\"text/javascript\">\n",
              "                \n",
              "                    window.PLOTLYENV=window.PLOTLYENV || {};\n",
              "                    \n",
              "                if (document.getElementById(\"3e80789b-495b-4e54-b65d-36dd4e96d2da\")) {\n",
              "                    Plotly.newPlot(\n",
              "                        '3e80789b-495b-4e54-b65d-36dd4e96d2da',\n",
              "                        [{\"colorbar\": {\"title\": {\"text\": \"Objective Value\"}}, \"colorscale\": [[0, \"rgb(220,220,220)\"], [0.30000000000000004, \"rgb(106,137,247)\"], [0.4, \"rgb(90,120,245)\"], [0.5, \"rgb(70,100,245)\"], [0.65, \"rgb(40,60,190)\"], [1, \"rgb(5,10,172)\"]], \"connectgaps\": true, \"contours\": {\"coloring\": \"heatmap\"}, \"hoverinfo\": \"none\", \"line\": {\"smoothing\": 1.3}, \"type\": \"contour\", \"x\": [-0.02672930426440423, 0.01059651133381103, 0.01588556923498743, 0.04790808278497112, 0.15882438215913794, 0.20218688324472023, 0.250486943434799, 0.2750447468667447, 0.29159727955594356, 0.3436528380166316, 0.3817485955848035, 0.39258737099051644, 0.476813720818517, 0.5074714287478298, 0.5649289229399924, 0.608455933413442, 0.613260274592911, 0.7261625891574386, 0.741094607654609, 0.7474745118039717, 0.7571128232981162, 0.7944386388963315], \"y\": [-43.55000000000001, 56.0, 178.0, 287.0, 308.0, 452.0, 566.0, 704.0, 762.0, 823.0, 867.0, 879.0, 1099.0, 1110.0, 1155.0, 1367.0, 1566.0, 1635.0, 1657.0, 1745.0, 2047.0, 2146.55], \"z\": [[null, null, null, null, null, null, null, null, null, null, null, null, null, null, null, null, null, null, null, null, null, null], [null, null, null, null, null, null, null, null, null, null, null, null, null, null, null, null, 0.6118298172950745, null, null, null, null, null], [null, null, null, null, null, null, null, null, null, null, null, null, 0.2817273437976837, null, null, null, null, null, null, null, null, null], [null, null, null, null, null, null, null, null, null, null, null, null, null, 0.2957034409046173, null, null, null, null, null, null, null, null], [null, null, null, null, null, null, null, null, null, null, null, null, null, null, null, null, null, null, 1.1750881671905518, null, null, null], [null, null, null, null, null, null, null, null, null, null, null, 1.012425422668457, null, null, null, null, null, null, null, null, null, null], [null, 0.3092486262321472, null, null, null, null, null, null, null, null, null, null, null, null, null, null, null, null, null, null, null, null], [null, null, 1.1717005968093872, null, null, null, null, null, null, null, null, null, null, null, null, null, null, null, null, null, null, null], [null, null, null, null, null, null, 0.2939203381538391, null, null, null, null, null, null, null, null, null, null, null, null, null, null, null], [null, null, null, null, null, null, null, 0.3135738968849182, null, null, null, null, null, null, null, null, null, null, null, null, null, null], [null, null, null, null, null, null, null, null, 0.29543572664260864, null, null, null, null, null, null, null, null, null, null, null, null, null], [null, null, null, null, null, null, null, null, null, 0.2992593050003052, null, null, null, null, null, null, null, null, null, null, null, null], [null, null, null, null, null, 0.3155052661895752, null, null, null, null, null, null, null, null, null, null, null, null, null, null, null, null], [null, null, null, 0.3084108829498291, null, null, null, null, null, null, null, null, null, null, null, null, null, null, null, null, null, null], [null, null, null, null, null, null, null, null, null, null, null, null, null, null, null, null, null, null, null, 1.175047516822815, null, null], [null, null, null, null, null, null, null, null, null, null, null, null, null, null, 1.3296476602554321, null, null, null, null, null, null, null], [null, null, null, null, null, null, null, null, null, null, null, null, null, null, null, 1.1757116317749023, null, null, null, null, null, null], [null, null, null, null, null, null, null, null, null, null, null, null, null, null, null, null, null, 1.1789339780807495, null, null, null, null], [null, null, null, null, 1.2400474548339844, null, null, null, null, null, null, null, null, null, null, null, null, null, null, null, null, null], [null, null, null, null, null, null, null, null, null, null, null, null, null, null, null, null, null, null, null, null, 1.1799153089523315, null], [null, null, null, null, null, null, null, null, null, null, 0.343039333820343, null, null, null, null, null, null, null, null, null, null, null], [null, null, null, null, null, null, null, null, null, null, null, null, null, null, null, null, null, null, null, null, null, null]]}, {\"marker\": {\"color\": \"black\", \"line\": {\"color\": \"Grey\", \"width\": 0.5}}, \"mode\": \"markers\", \"showlegend\": false, \"type\": \"scatter\", \"x\": [0.608455933413442, 0.613260274592911, 0.7474745118039717, 0.5649289229399924, 0.7571128232981162, 0.741094607654609, 0.7261625891574386, 0.15882438215913794, 0.01588556923498743, 0.04790808278497112, 0.2750447468667447, 0.250486943434799, 0.01059651133381103, 0.20218688324472023, 0.3436528380166316, 0.39258737099051644, 0.3817485955848035, 0.29159727955594356, 0.476813720818517, 0.5074714287478298], \"y\": [1566.0, 56.0, 1155.0, 1367.0, 1745.0, 308.0, 1635.0, 1657.0, 704.0, 1110.0, 823.0, 762.0, 566.0, 1099.0, 879.0, 452.0, 2047.0, 867.0, 178.0, 287.0]}],\n",
              "                        {\"template\": {\"data\": {\"bar\": [{\"error_x\": {\"color\": \"#2a3f5f\"}, \"error_y\": {\"color\": \"#2a3f5f\"}, \"marker\": {\"line\": {\"color\": \"#E5ECF6\", \"width\": 0.5}}, \"type\": \"bar\"}], \"barpolar\": [{\"marker\": {\"line\": {\"color\": \"#E5ECF6\", \"width\": 0.5}}, \"type\": \"barpolar\"}], \"carpet\": [{\"aaxis\": {\"endlinecolor\": \"#2a3f5f\", \"gridcolor\": \"white\", \"linecolor\": \"white\", \"minorgridcolor\": \"white\", \"startlinecolor\": \"#2a3f5f\"}, \"baxis\": {\"endlinecolor\": \"#2a3f5f\", \"gridcolor\": \"white\", \"linecolor\": \"white\", \"minorgridcolor\": \"white\", \"startlinecolor\": \"#2a3f5f\"}, \"type\": \"carpet\"}], \"choropleth\": [{\"colorbar\": {\"outlinewidth\": 0, \"ticks\": \"\"}, \"type\": \"choropleth\"}], \"contour\": [{\"colorbar\": {\"outlinewidth\": 0, \"ticks\": \"\"}, \"colorscale\": [[0.0, \"#0d0887\"], [0.1111111111111111, \"#46039f\"], [0.2222222222222222, \"#7201a8\"], [0.3333333333333333, \"#9c179e\"], [0.4444444444444444, \"#bd3786\"], [0.5555555555555556, \"#d8576b\"], [0.6666666666666666, \"#ed7953\"], [0.7777777777777778, \"#fb9f3a\"], [0.8888888888888888, \"#fdca26\"], [1.0, \"#f0f921\"]], \"type\": \"contour\"}], \"contourcarpet\": [{\"colorbar\": {\"outlinewidth\": 0, \"ticks\": \"\"}, \"type\": \"contourcarpet\"}], \"heatmap\": [{\"colorbar\": {\"outlinewidth\": 0, \"ticks\": \"\"}, \"colorscale\": [[0.0, \"#0d0887\"], [0.1111111111111111, \"#46039f\"], [0.2222222222222222, \"#7201a8\"], [0.3333333333333333, \"#9c179e\"], [0.4444444444444444, \"#bd3786\"], [0.5555555555555556, \"#d8576b\"], [0.6666666666666666, \"#ed7953\"], [0.7777777777777778, \"#fb9f3a\"], [0.8888888888888888, \"#fdca26\"], [1.0, \"#f0f921\"]], \"type\": \"heatmap\"}], \"heatmapgl\": [{\"colorbar\": {\"outlinewidth\": 0, \"ticks\": \"\"}, \"colorscale\": [[0.0, \"#0d0887\"], [0.1111111111111111, \"#46039f\"], [0.2222222222222222, \"#7201a8\"], [0.3333333333333333, \"#9c179e\"], [0.4444444444444444, \"#bd3786\"], [0.5555555555555556, \"#d8576b\"], [0.6666666666666666, \"#ed7953\"], [0.7777777777777778, \"#fb9f3a\"], [0.8888888888888888, \"#fdca26\"], [1.0, \"#f0f921\"]], \"type\": \"heatmapgl\"}], \"histogram\": [{\"marker\": {\"colorbar\": {\"outlinewidth\": 0, \"ticks\": \"\"}}, \"type\": \"histogram\"}], \"histogram2d\": [{\"colorbar\": {\"outlinewidth\": 0, \"ticks\": \"\"}, \"colorscale\": [[0.0, \"#0d0887\"], [0.1111111111111111, \"#46039f\"], [0.2222222222222222, \"#7201a8\"], [0.3333333333333333, \"#9c179e\"], [0.4444444444444444, \"#bd3786\"], [0.5555555555555556, \"#d8576b\"], [0.6666666666666666, \"#ed7953\"], [0.7777777777777778, \"#fb9f3a\"], [0.8888888888888888, \"#fdca26\"], [1.0, \"#f0f921\"]], \"type\": \"histogram2d\"}], \"histogram2dcontour\": [{\"colorbar\": {\"outlinewidth\": 0, \"ticks\": \"\"}, \"colorscale\": [[0.0, \"#0d0887\"], [0.1111111111111111, \"#46039f\"], [0.2222222222222222, \"#7201a8\"], [0.3333333333333333, \"#9c179e\"], [0.4444444444444444, \"#bd3786\"], [0.5555555555555556, \"#d8576b\"], [0.6666666666666666, \"#ed7953\"], [0.7777777777777778, \"#fb9f3a\"], [0.8888888888888888, \"#fdca26\"], [1.0, \"#f0f921\"]], \"type\": \"histogram2dcontour\"}], \"mesh3d\": [{\"colorbar\": {\"outlinewidth\": 0, \"ticks\": \"\"}, \"type\": \"mesh3d\"}], \"parcoords\": [{\"line\": {\"colorbar\": {\"outlinewidth\": 0, \"ticks\": \"\"}}, \"type\": \"parcoords\"}], \"pie\": [{\"automargin\": true, \"type\": \"pie\"}], \"scatter\": [{\"marker\": {\"colorbar\": {\"outlinewidth\": 0, \"ticks\": \"\"}}, \"type\": \"scatter\"}], \"scatter3d\": [{\"line\": {\"colorbar\": {\"outlinewidth\": 0, \"ticks\": \"\"}}, \"marker\": {\"colorbar\": {\"outlinewidth\": 0, \"ticks\": \"\"}}, \"type\": \"scatter3d\"}], \"scattercarpet\": [{\"marker\": {\"colorbar\": {\"outlinewidth\": 0, \"ticks\": \"\"}}, \"type\": \"scattercarpet\"}], \"scattergeo\": [{\"marker\": {\"colorbar\": {\"outlinewidth\": 0, \"ticks\": \"\"}}, \"type\": \"scattergeo\"}], \"scattergl\": [{\"marker\": {\"colorbar\": {\"outlinewidth\": 0, \"ticks\": \"\"}}, \"type\": \"scattergl\"}], \"scattermapbox\": [{\"marker\": {\"colorbar\": {\"outlinewidth\": 0, \"ticks\": \"\"}}, \"type\": \"scattermapbox\"}], \"scatterpolar\": [{\"marker\": {\"colorbar\": {\"outlinewidth\": 0, \"ticks\": \"\"}}, \"type\": \"scatterpolar\"}], \"scatterpolargl\": [{\"marker\": {\"colorbar\": {\"outlinewidth\": 0, \"ticks\": \"\"}}, \"type\": \"scatterpolargl\"}], \"scatterternary\": [{\"marker\": {\"colorbar\": {\"outlinewidth\": 0, \"ticks\": \"\"}}, \"type\": \"scatterternary\"}], \"surface\": [{\"colorbar\": {\"outlinewidth\": 0, \"ticks\": \"\"}, \"colorscale\": [[0.0, \"#0d0887\"], [0.1111111111111111, \"#46039f\"], [0.2222222222222222, \"#7201a8\"], [0.3333333333333333, \"#9c179e\"], [0.4444444444444444, \"#bd3786\"], [0.5555555555555556, \"#d8576b\"], [0.6666666666666666, \"#ed7953\"], [0.7777777777777778, \"#fb9f3a\"], [0.8888888888888888, \"#fdca26\"], [1.0, \"#f0f921\"]], \"type\": \"surface\"}], \"table\": [{\"cells\": {\"fill\": {\"color\": \"#EBF0F8\"}, \"line\": {\"color\": \"white\"}}, \"header\": {\"fill\": {\"color\": \"#C8D4E3\"}, \"line\": {\"color\": \"white\"}}, \"type\": \"table\"}]}, \"layout\": {\"annotationdefaults\": {\"arrowcolor\": \"#2a3f5f\", \"arrowhead\": 0, \"arrowwidth\": 1}, \"coloraxis\": {\"colorbar\": {\"outlinewidth\": 0, \"ticks\": \"\"}}, \"colorscale\": {\"diverging\": [[0, \"#8e0152\"], [0.1, \"#c51b7d\"], [0.2, \"#de77ae\"], [0.3, \"#f1b6da\"], [0.4, \"#fde0ef\"], [0.5, \"#f7f7f7\"], [0.6, \"#e6f5d0\"], [0.7, \"#b8e186\"], [0.8, \"#7fbc41\"], [0.9, \"#4d9221\"], [1, \"#276419\"]], \"sequential\": [[0.0, \"#0d0887\"], [0.1111111111111111, \"#46039f\"], [0.2222222222222222, \"#7201a8\"], [0.3333333333333333, \"#9c179e\"], [0.4444444444444444, \"#bd3786\"], [0.5555555555555556, \"#d8576b\"], [0.6666666666666666, \"#ed7953\"], [0.7777777777777778, \"#fb9f3a\"], [0.8888888888888888, \"#fdca26\"], [1.0, \"#f0f921\"]], \"sequentialminus\": [[0.0, \"#0d0887\"], [0.1111111111111111, \"#46039f\"], [0.2222222222222222, \"#7201a8\"], [0.3333333333333333, \"#9c179e\"], [0.4444444444444444, \"#bd3786\"], [0.5555555555555556, \"#d8576b\"], [0.6666666666666666, \"#ed7953\"], [0.7777777777777778, \"#fb9f3a\"], [0.8888888888888888, \"#fdca26\"], [1.0, \"#f0f921\"]]}, \"colorway\": [\"#636efa\", \"#EF553B\", \"#00cc96\", \"#ab63fa\", \"#FFA15A\", \"#19d3f3\", \"#FF6692\", \"#B6E880\", \"#FF97FF\", \"#FECB52\"], \"font\": {\"color\": \"#2a3f5f\"}, \"geo\": {\"bgcolor\": \"white\", \"lakecolor\": \"white\", \"landcolor\": \"#E5ECF6\", \"showlakes\": true, \"showland\": true, \"subunitcolor\": \"white\"}, \"hoverlabel\": {\"align\": \"left\"}, \"hovermode\": \"closest\", \"mapbox\": {\"style\": \"light\"}, \"paper_bgcolor\": \"white\", \"plot_bgcolor\": \"#E5ECF6\", \"polar\": {\"angularaxis\": {\"gridcolor\": \"white\", \"linecolor\": \"white\", \"ticks\": \"\"}, \"bgcolor\": \"#E5ECF6\", \"radialaxis\": {\"gridcolor\": \"white\", \"linecolor\": \"white\", \"ticks\": \"\"}}, \"scene\": {\"xaxis\": {\"backgroundcolor\": \"#E5ECF6\", \"gridcolor\": \"white\", \"gridwidth\": 2, \"linecolor\": \"white\", \"showbackground\": true, \"ticks\": \"\", \"zerolinecolor\": \"white\"}, \"yaxis\": {\"backgroundcolor\": \"#E5ECF6\", \"gridcolor\": \"white\", \"gridwidth\": 2, \"linecolor\": \"white\", \"showbackground\": true, \"ticks\": \"\", \"zerolinecolor\": \"white\"}, \"zaxis\": {\"backgroundcolor\": \"#E5ECF6\", \"gridcolor\": \"white\", \"gridwidth\": 2, \"linecolor\": \"white\", \"showbackground\": true, \"ticks\": \"\", \"zerolinecolor\": \"white\"}}, \"shapedefaults\": {\"line\": {\"color\": \"#2a3f5f\"}}, \"ternary\": {\"aaxis\": {\"gridcolor\": \"white\", \"linecolor\": \"white\", \"ticks\": \"\"}, \"baxis\": {\"gridcolor\": \"white\", \"linecolor\": \"white\", \"ticks\": \"\"}, \"bgcolor\": \"#E5ECF6\", \"caxis\": {\"gridcolor\": \"white\", \"linecolor\": \"white\", \"ticks\": \"\"}}, \"title\": {\"x\": 0.05}, \"xaxis\": {\"automargin\": true, \"gridcolor\": \"white\", \"linecolor\": \"white\", \"ticks\": \"\", \"title\": {\"standoff\": 15}, \"zerolinecolor\": \"white\", \"zerolinewidth\": 2}, \"yaxis\": {\"automargin\": true, \"gridcolor\": \"white\", \"linecolor\": \"white\", \"ticks\": \"\", \"title\": {\"standoff\": 15}, \"zerolinecolor\": \"white\", \"zerolinewidth\": 2}}}, \"title\": {\"text\": \"Contour Plot\"}, \"xaxis\": {\"range\": [-0.02672930426440423, 0.7944386388963315], \"title\": {\"text\": \"dropout\"}}, \"yaxis\": {\"range\": [-43.55000000000001, 2146.55], \"title\": {\"text\": \"units\"}}},\n",
              "                        {\"responsive\": true}\n",
              "                    ).then(function(){\n",
              "                            \n",
              "var gd = document.getElementById('3e80789b-495b-4e54-b65d-36dd4e96d2da');\n",
              "var x = new MutationObserver(function (mutations, observer) {{\n",
              "        var display = window.getComputedStyle(gd).display;\n",
              "        if (!display || display === 'none') {{\n",
              "            console.log([gd, 'removed!']);\n",
              "            Plotly.purge(gd);\n",
              "            observer.disconnect();\n",
              "        }}\n",
              "}});\n",
              "\n",
              "// Listen for the removal of the full notebook cells\n",
              "var notebookContainer = gd.closest('#notebook-container');\n",
              "if (notebookContainer) {{\n",
              "    x.observe(notebookContainer, {childList: true});\n",
              "}}\n",
              "\n",
              "// Listen for the clearing of the current output cell\n",
              "var outputEl = gd.closest('.output');\n",
              "if (outputEl) {{\n",
              "    x.observe(outputEl, {childList: true});\n",
              "}}\n",
              "\n",
              "                        })\n",
              "                };\n",
              "                \n",
              "            </script>\n",
              "        </div>\n",
              "</body>\n",
              "</html>"
            ]
          },
          "metadata": {
            "tags": []
          }
        }
      ]
    },
    {
      "cell_type": "markdown",
      "metadata": {
        "id": "LgJwzjCaWQtF"
      },
      "source": [
        "## Visualizing Individual Parameters"
      ]
    },
    {
      "cell_type": "code",
      "metadata": {
        "id": "YgV8JzH7WQtF",
        "colab": {
          "base_uri": "https://localhost:8080/",
          "height": 542
        },
        "outputId": "5b7a79d8-bd35-4d4a-d46d-27412d67eb22"
      },
      "source": [
        "from optuna.visualization import plot_slice\n",
        "\n",
        "plot_slice(study)"
      ],
      "execution_count": 76,
      "outputs": [
        {
          "output_type": "display_data",
          "data": {
            "text/html": [
              "<html>\n",
              "<head><meta charset=\"utf-8\" /></head>\n",
              "<body>\n",
              "    <div>\n",
              "            <script src=\"https://cdnjs.cloudflare.com/ajax/libs/mathjax/2.7.5/MathJax.js?config=TeX-AMS-MML_SVG\"></script><script type=\"text/javascript\">if (window.MathJax) {MathJax.Hub.Config({SVG: {font: \"STIX-Web\"}});}</script>\n",
              "                <script type=\"text/javascript\">window.PlotlyConfig = {MathJaxConfig: 'local'};</script>\n",
              "        <script src=\"https://cdn.plot.ly/plotly-latest.min.js\"></script>    \n",
              "            <div id=\"4df84612-89c6-4931-90bb-d105d87c8363\" class=\"plotly-graph-div\" style=\"height:525px; width:1200px;\"></div>\n",
              "            <script type=\"text/javascript\">\n",
              "                \n",
              "                    window.PLOTLYENV=window.PLOTLYENV || {};\n",
              "                    \n",
              "                if (document.getElementById(\"4df84612-89c6-4931-90bb-d105d87c8363\")) {\n",
              "                    Plotly.newPlot(\n",
              "                        '4df84612-89c6-4931-90bb-d105d87c8363',\n",
              "                        [{\"marker\": {\"color\": [0, 1, 2, 3, 4, 5, 6, 7, 8, 9, 10, 11, 12, 13, 14, 15, 16, 17, 18, 19], \"colorbar\": {\"title\": {\"text\": \"#Trials\"}, \"x\": 1.0, \"xpad\": 40}, \"colorscale\": [[0.0, \"rgb(247,251,255)\"], [0.125, \"rgb(222,235,247)\"], [0.25, \"rgb(198,219,239)\"], [0.375, \"rgb(158,202,225)\"], [0.5, \"rgb(107,174,214)\"], [0.625, \"rgb(66,146,198)\"], [0.75, \"rgb(33,113,181)\"], [0.875, \"rgb(8,81,156)\"], [1.0, \"rgb(8,48,107)\"]], \"line\": {\"color\": \"Grey\", \"width\": 0.5}, \"showscale\": true}, \"mode\": \"markers\", \"showlegend\": false, \"type\": \"scatter\", \"x\": [\"linear\", \"sigmoid\", \"linear\", \"sigmoid\", \"linear\", \"linear\", \"linear\", \"sigmoid\", \"sigmoid\", \"relu\", \"relu\", \"relu\", \"relu\", \"relu\", \"relu\", \"relu\", \"relu\", \"relu\", \"relu\", \"relu\"], \"xaxis\": \"x\", \"y\": [1.1757116317749023, 0.6118298172950745, 1.175047516822815, 1.3296476602554321, 1.1799153089523315, 1.1750881671905518, 1.1789339780807495, 1.2400474548339844, 1.1717005968093872, 0.3084108829498291, 0.3135738968849182, 0.2939203381538391, 0.3092486262321472, 0.3155052661895752, 0.2992593050003052, 1.012425422668457, 0.343039333820343, 0.29543572664260864, 0.2817273437976837, 0.2957034409046173], \"yaxis\": \"y\"}, {\"marker\": {\"color\": [0, 1, 2, 3, 4, 5, 6, 7, 8, 9, 10, 11, 12, 13, 14, 15, 16, 17, 18, 19], \"colorbar\": {\"title\": {\"text\": \"#Trials\"}, \"x\": 1.0, \"xpad\": 40}, \"colorscale\": [[0.0, \"rgb(247,251,255)\"], [0.125, \"rgb(222,235,247)\"], [0.25, \"rgb(198,219,239)\"], [0.375, \"rgb(158,202,225)\"], [0.5, \"rgb(107,174,214)\"], [0.625, \"rgb(66,146,198)\"], [0.75, \"rgb(33,113,181)\"], [0.875, \"rgb(8,81,156)\"], [1.0, \"rgb(8,48,107)\"]], \"line\": {\"color\": \"Grey\", \"width\": 0.5}, \"showscale\": false}, \"mode\": \"markers\", \"showlegend\": false, \"type\": \"scatter\", \"x\": [0.608455933413442, 0.613260274592911, 0.7474745118039717, 0.5649289229399924, 0.7571128232981162, 0.741094607654609, 0.7261625891574386, 0.15882438215913794, 0.01588556923498743, 0.04790808278497112, 0.2750447468667447, 0.250486943434799, 0.01059651133381103, 0.20218688324472023, 0.3436528380166316, 0.39258737099051644, 0.3817485955848035, 0.29159727955594356, 0.476813720818517, 0.5074714287478298], \"xaxis\": \"x2\", \"y\": [1.1757116317749023, 0.6118298172950745, 1.175047516822815, 1.3296476602554321, 1.1799153089523315, 1.1750881671905518, 1.1789339780807495, 1.2400474548339844, 1.1717005968093872, 0.3084108829498291, 0.3135738968849182, 0.2939203381538391, 0.3092486262321472, 0.3155052661895752, 0.2992593050003052, 1.012425422668457, 0.343039333820343, 0.29543572664260864, 0.2817273437976837, 0.2957034409046173], \"yaxis\": \"y2\"}, {\"marker\": {\"color\": [0, 1, 2, 3, 4, 5, 6, 7, 8, 9, 10, 11, 12, 13, 14, 15, 16, 17, 18, 19], \"colorbar\": {\"title\": {\"text\": \"#Trials\"}, \"x\": 1.0, \"xpad\": 40}, \"colorscale\": [[0.0, \"rgb(247,251,255)\"], [0.125, \"rgb(222,235,247)\"], [0.25, \"rgb(198,219,239)\"], [0.375, \"rgb(158,202,225)\"], [0.5, \"rgb(107,174,214)\"], [0.625, \"rgb(66,146,198)\"], [0.75, \"rgb(33,113,181)\"], [0.875, \"rgb(8,81,156)\"], [1.0, \"rgb(8,48,107)\"]], \"line\": {\"color\": \"Grey\", \"width\": 0.5}, \"showscale\": false}, \"mode\": \"markers\", \"showlegend\": false, \"type\": \"scatter\", \"x\": [0.00010479369486410936, 0.00543293144940597, 0.0001414850743099902, 0.024284893225957338, 0.025252721721650533, 0.00019434368835999613, 0.04708900453228313, 1.0899899974679983e-05, 0.0009126092563752785, 0.0010799239908668764, 0.002350643742856316, 0.0019946441437487814, 0.0007051124913061503, 0.0064470758416236736, 0.00033825853681736527, 1.9641946348104e-05, 4.944671684199537e-05, 0.0003720482585209111, 0.003700485566856586, 0.0048011864301330575], \"xaxis\": \"x3\", \"y\": [1.1757116317749023, 0.6118298172950745, 1.175047516822815, 1.3296476602554321, 1.1799153089523315, 1.1750881671905518, 1.1789339780807495, 1.2400474548339844, 1.1717005968093872, 0.3084108829498291, 0.3135738968849182, 0.2939203381538391, 0.3092486262321472, 0.3155052661895752, 0.2992593050003052, 1.012425422668457, 0.343039333820343, 0.29543572664260864, 0.2817273437976837, 0.2957034409046173], \"yaxis\": \"y3\"}, {\"marker\": {\"color\": [0, 1, 2, 3, 4, 5, 6, 7, 8, 9, 10, 11, 12, 13, 14, 15, 16, 17, 18, 19], \"colorbar\": {\"title\": {\"text\": \"#Trials\"}, \"x\": 1.0, \"xpad\": 40}, \"colorscale\": [[0.0, \"rgb(247,251,255)\"], [0.125, \"rgb(222,235,247)\"], [0.25, \"rgb(198,219,239)\"], [0.375, \"rgb(158,202,225)\"], [0.5, \"rgb(107,174,214)\"], [0.625, \"rgb(66,146,198)\"], [0.75, \"rgb(33,113,181)\"], [0.875, \"rgb(8,81,156)\"], [1.0, \"rgb(8,48,107)\"]], \"line\": {\"color\": \"Grey\", \"width\": 0.5}, \"showscale\": false}, \"mode\": \"markers\", \"showlegend\": false, \"type\": \"scatter\", \"x\": [1566.0, 56.0, 1155.0, 1367.0, 1745.0, 308.0, 1635.0, 1657.0, 704.0, 1110.0, 823.0, 762.0, 566.0, 1099.0, 879.0, 452.0, 2047.0, 867.0, 178.0, 287.0], \"xaxis\": \"x4\", \"y\": [1.1757116317749023, 0.6118298172950745, 1.175047516822815, 1.3296476602554321, 1.1799153089523315, 1.1750881671905518, 1.1789339780807495, 1.2400474548339844, 1.1717005968093872, 0.3084108829498291, 0.3135738968849182, 0.2939203381538391, 0.3092486262321472, 0.3155052661895752, 0.2992593050003052, 1.012425422668457, 0.343039333820343, 0.29543572664260864, 0.2817273437976837, 0.2957034409046173], \"yaxis\": \"y4\"}],\n",
              "                        {\"template\": {\"data\": {\"bar\": [{\"error_x\": {\"color\": \"#2a3f5f\"}, \"error_y\": {\"color\": \"#2a3f5f\"}, \"marker\": {\"line\": {\"color\": \"#E5ECF6\", \"width\": 0.5}}, \"type\": \"bar\"}], \"barpolar\": [{\"marker\": {\"line\": {\"color\": \"#E5ECF6\", \"width\": 0.5}}, \"type\": \"barpolar\"}], \"carpet\": [{\"aaxis\": {\"endlinecolor\": \"#2a3f5f\", \"gridcolor\": \"white\", \"linecolor\": \"white\", \"minorgridcolor\": \"white\", \"startlinecolor\": \"#2a3f5f\"}, \"baxis\": {\"endlinecolor\": \"#2a3f5f\", \"gridcolor\": \"white\", \"linecolor\": \"white\", \"minorgridcolor\": \"white\", \"startlinecolor\": \"#2a3f5f\"}, \"type\": \"carpet\"}], \"choropleth\": [{\"colorbar\": {\"outlinewidth\": 0, \"ticks\": \"\"}, \"type\": \"choropleth\"}], \"contour\": [{\"colorbar\": {\"outlinewidth\": 0, \"ticks\": \"\"}, \"colorscale\": [[0.0, \"#0d0887\"], [0.1111111111111111, \"#46039f\"], [0.2222222222222222, \"#7201a8\"], [0.3333333333333333, \"#9c179e\"], [0.4444444444444444, \"#bd3786\"], [0.5555555555555556, \"#d8576b\"], [0.6666666666666666, \"#ed7953\"], [0.7777777777777778, \"#fb9f3a\"], [0.8888888888888888, \"#fdca26\"], [1.0, \"#f0f921\"]], \"type\": \"contour\"}], \"contourcarpet\": [{\"colorbar\": {\"outlinewidth\": 0, \"ticks\": \"\"}, \"type\": \"contourcarpet\"}], \"heatmap\": [{\"colorbar\": {\"outlinewidth\": 0, \"ticks\": \"\"}, \"colorscale\": [[0.0, \"#0d0887\"], [0.1111111111111111, \"#46039f\"], [0.2222222222222222, \"#7201a8\"], [0.3333333333333333, \"#9c179e\"], [0.4444444444444444, \"#bd3786\"], [0.5555555555555556, \"#d8576b\"], [0.6666666666666666, \"#ed7953\"], [0.7777777777777778, \"#fb9f3a\"], [0.8888888888888888, \"#fdca26\"], [1.0, \"#f0f921\"]], \"type\": \"heatmap\"}], \"heatmapgl\": [{\"colorbar\": {\"outlinewidth\": 0, \"ticks\": \"\"}, \"colorscale\": [[0.0, \"#0d0887\"], [0.1111111111111111, \"#46039f\"], [0.2222222222222222, \"#7201a8\"], [0.3333333333333333, \"#9c179e\"], [0.4444444444444444, \"#bd3786\"], [0.5555555555555556, \"#d8576b\"], [0.6666666666666666, \"#ed7953\"], [0.7777777777777778, \"#fb9f3a\"], [0.8888888888888888, \"#fdca26\"], [1.0, \"#f0f921\"]], \"type\": \"heatmapgl\"}], \"histogram\": [{\"marker\": {\"colorbar\": {\"outlinewidth\": 0, \"ticks\": \"\"}}, \"type\": \"histogram\"}], \"histogram2d\": [{\"colorbar\": {\"outlinewidth\": 0, \"ticks\": \"\"}, \"colorscale\": [[0.0, \"#0d0887\"], [0.1111111111111111, \"#46039f\"], [0.2222222222222222, \"#7201a8\"], [0.3333333333333333, \"#9c179e\"], [0.4444444444444444, \"#bd3786\"], [0.5555555555555556, \"#d8576b\"], [0.6666666666666666, \"#ed7953\"], [0.7777777777777778, \"#fb9f3a\"], [0.8888888888888888, \"#fdca26\"], [1.0, \"#f0f921\"]], \"type\": \"histogram2d\"}], \"histogram2dcontour\": [{\"colorbar\": {\"outlinewidth\": 0, \"ticks\": \"\"}, \"colorscale\": [[0.0, \"#0d0887\"], [0.1111111111111111, \"#46039f\"], [0.2222222222222222, \"#7201a8\"], [0.3333333333333333, \"#9c179e\"], [0.4444444444444444, \"#bd3786\"], [0.5555555555555556, \"#d8576b\"], [0.6666666666666666, \"#ed7953\"], [0.7777777777777778, \"#fb9f3a\"], [0.8888888888888888, \"#fdca26\"], [1.0, \"#f0f921\"]], \"type\": \"histogram2dcontour\"}], \"mesh3d\": [{\"colorbar\": {\"outlinewidth\": 0, \"ticks\": \"\"}, \"type\": \"mesh3d\"}], \"parcoords\": [{\"line\": {\"colorbar\": {\"outlinewidth\": 0, \"ticks\": \"\"}}, \"type\": \"parcoords\"}], \"pie\": [{\"automargin\": true, \"type\": \"pie\"}], \"scatter\": [{\"marker\": {\"colorbar\": {\"outlinewidth\": 0, \"ticks\": \"\"}}, \"type\": \"scatter\"}], \"scatter3d\": [{\"line\": {\"colorbar\": {\"outlinewidth\": 0, \"ticks\": \"\"}}, \"marker\": {\"colorbar\": {\"outlinewidth\": 0, \"ticks\": \"\"}}, \"type\": \"scatter3d\"}], \"scattercarpet\": [{\"marker\": {\"colorbar\": {\"outlinewidth\": 0, \"ticks\": \"\"}}, \"type\": \"scattercarpet\"}], \"scattergeo\": [{\"marker\": {\"colorbar\": {\"outlinewidth\": 0, \"ticks\": \"\"}}, \"type\": \"scattergeo\"}], \"scattergl\": [{\"marker\": {\"colorbar\": {\"outlinewidth\": 0, \"ticks\": \"\"}}, \"type\": \"scattergl\"}], \"scattermapbox\": [{\"marker\": {\"colorbar\": {\"outlinewidth\": 0, \"ticks\": \"\"}}, \"type\": \"scattermapbox\"}], \"scatterpolar\": [{\"marker\": {\"colorbar\": {\"outlinewidth\": 0, \"ticks\": \"\"}}, \"type\": \"scatterpolar\"}], \"scatterpolargl\": [{\"marker\": {\"colorbar\": {\"outlinewidth\": 0, \"ticks\": \"\"}}, \"type\": \"scatterpolargl\"}], \"scatterternary\": [{\"marker\": {\"colorbar\": {\"outlinewidth\": 0, \"ticks\": \"\"}}, \"type\": \"scatterternary\"}], \"surface\": [{\"colorbar\": {\"outlinewidth\": 0, \"ticks\": \"\"}, \"colorscale\": [[0.0, \"#0d0887\"], [0.1111111111111111, \"#46039f\"], [0.2222222222222222, \"#7201a8\"], [0.3333333333333333, \"#9c179e\"], [0.4444444444444444, \"#bd3786\"], [0.5555555555555556, \"#d8576b\"], [0.6666666666666666, \"#ed7953\"], [0.7777777777777778, \"#fb9f3a\"], [0.8888888888888888, \"#fdca26\"], [1.0, \"#f0f921\"]], \"type\": \"surface\"}], \"table\": [{\"cells\": {\"fill\": {\"color\": \"#EBF0F8\"}, \"line\": {\"color\": \"white\"}}, \"header\": {\"fill\": {\"color\": \"#C8D4E3\"}, \"line\": {\"color\": \"white\"}}, \"type\": \"table\"}]}, \"layout\": {\"annotationdefaults\": {\"arrowcolor\": \"#2a3f5f\", \"arrowhead\": 0, \"arrowwidth\": 1}, \"coloraxis\": {\"colorbar\": {\"outlinewidth\": 0, \"ticks\": \"\"}}, \"colorscale\": {\"diverging\": [[0, \"#8e0152\"], [0.1, \"#c51b7d\"], [0.2, \"#de77ae\"], [0.3, \"#f1b6da\"], [0.4, \"#fde0ef\"], [0.5, \"#f7f7f7\"], [0.6, \"#e6f5d0\"], [0.7, \"#b8e186\"], [0.8, \"#7fbc41\"], [0.9, \"#4d9221\"], [1, \"#276419\"]], \"sequential\": [[0.0, \"#0d0887\"], [0.1111111111111111, \"#46039f\"], [0.2222222222222222, \"#7201a8\"], [0.3333333333333333, \"#9c179e\"], [0.4444444444444444, \"#bd3786\"], [0.5555555555555556, \"#d8576b\"], [0.6666666666666666, \"#ed7953\"], [0.7777777777777778, \"#fb9f3a\"], [0.8888888888888888, \"#fdca26\"], [1.0, \"#f0f921\"]], \"sequentialminus\": [[0.0, \"#0d0887\"], [0.1111111111111111, \"#46039f\"], [0.2222222222222222, \"#7201a8\"], [0.3333333333333333, \"#9c179e\"], [0.4444444444444444, \"#bd3786\"], [0.5555555555555556, \"#d8576b\"], [0.6666666666666666, \"#ed7953\"], [0.7777777777777778, \"#fb9f3a\"], [0.8888888888888888, \"#fdca26\"], [1.0, \"#f0f921\"]]}, \"colorway\": [\"#636efa\", \"#EF553B\", \"#00cc96\", \"#ab63fa\", \"#FFA15A\", \"#19d3f3\", \"#FF6692\", \"#B6E880\", \"#FF97FF\", \"#FECB52\"], \"font\": {\"color\": \"#2a3f5f\"}, \"geo\": {\"bgcolor\": \"white\", \"lakecolor\": \"white\", \"landcolor\": \"#E5ECF6\", \"showlakes\": true, \"showland\": true, \"subunitcolor\": \"white\"}, \"hoverlabel\": {\"align\": \"left\"}, \"hovermode\": \"closest\", \"mapbox\": {\"style\": \"light\"}, \"paper_bgcolor\": \"white\", \"plot_bgcolor\": \"#E5ECF6\", \"polar\": {\"angularaxis\": {\"gridcolor\": \"white\", \"linecolor\": \"white\", \"ticks\": \"\"}, \"bgcolor\": \"#E5ECF6\", \"radialaxis\": {\"gridcolor\": \"white\", \"linecolor\": \"white\", \"ticks\": \"\"}}, \"scene\": {\"xaxis\": {\"backgroundcolor\": \"#E5ECF6\", \"gridcolor\": \"white\", \"gridwidth\": 2, \"linecolor\": \"white\", \"showbackground\": true, \"ticks\": \"\", \"zerolinecolor\": \"white\"}, \"yaxis\": {\"backgroundcolor\": \"#E5ECF6\", \"gridcolor\": \"white\", \"gridwidth\": 2, \"linecolor\": \"white\", \"showbackground\": true, \"ticks\": \"\", \"zerolinecolor\": \"white\"}, \"zaxis\": {\"backgroundcolor\": \"#E5ECF6\", \"gridcolor\": \"white\", \"gridwidth\": 2, \"linecolor\": \"white\", \"showbackground\": true, \"ticks\": \"\", \"zerolinecolor\": \"white\"}}, \"shapedefaults\": {\"line\": {\"color\": \"#2a3f5f\"}}, \"ternary\": {\"aaxis\": {\"gridcolor\": \"white\", \"linecolor\": \"white\", \"ticks\": \"\"}, \"baxis\": {\"gridcolor\": \"white\", \"linecolor\": \"white\", \"ticks\": \"\"}, \"bgcolor\": \"#E5ECF6\", \"caxis\": {\"gridcolor\": \"white\", \"linecolor\": \"white\", \"ticks\": \"\"}}, \"title\": {\"x\": 0.05}, \"xaxis\": {\"automargin\": true, \"gridcolor\": \"white\", \"linecolor\": \"white\", \"ticks\": \"\", \"title\": {\"standoff\": 15}, \"zerolinecolor\": \"white\", \"zerolinewidth\": 2}, \"yaxis\": {\"automargin\": true, \"gridcolor\": \"white\", \"linecolor\": \"white\", \"ticks\": \"\", \"title\": {\"standoff\": 15}, \"zerolinecolor\": \"white\", \"zerolinewidth\": 2}}}, \"title\": {\"text\": \"Slice Plot\"}, \"width\": 1200, \"xaxis\": {\"anchor\": \"y\", \"domain\": [0.0, 0.2125], \"title\": {\"text\": \"activation\"}}, \"xaxis2\": {\"anchor\": \"y2\", \"domain\": [0.2625, 0.475], \"title\": {\"text\": \"dropout\"}}, \"xaxis3\": {\"anchor\": \"y3\", \"domain\": [0.525, 0.7375], \"title\": {\"text\": \"lr\"}, \"type\": \"log\"}, \"xaxis4\": {\"anchor\": \"y4\", \"domain\": [0.7875, 1.0], \"title\": {\"text\": \"units\"}}, \"yaxis\": {\"anchor\": \"x\", \"domain\": [0.0, 1.0], \"title\": {\"text\": \"Objective Value\"}}, \"yaxis2\": {\"anchor\": \"x2\", \"domain\": [0.0, 1.0], \"matches\": \"y\", \"showticklabels\": false}, \"yaxis3\": {\"anchor\": \"x3\", \"domain\": [0.0, 1.0], \"matches\": \"y\", \"showticklabels\": false}, \"yaxis4\": {\"anchor\": \"x4\", \"domain\": [0.0, 1.0], \"matches\": \"y\", \"showticklabels\": false}},\n",
              "                        {\"responsive\": true}\n",
              "                    ).then(function(){\n",
              "                            \n",
              "var gd = document.getElementById('4df84612-89c6-4931-90bb-d105d87c8363');\n",
              "var x = new MutationObserver(function (mutations, observer) {{\n",
              "        var display = window.getComputedStyle(gd).display;\n",
              "        if (!display || display === 'none') {{\n",
              "            console.log([gd, 'removed!']);\n",
              "            Plotly.purge(gd);\n",
              "            observer.disconnect();\n",
              "        }}\n",
              "}});\n",
              "\n",
              "// Listen for the removal of the full notebook cells\n",
              "var notebookContainer = gd.closest('#notebook-container');\n",
              "if (notebookContainer) {{\n",
              "    x.observe(notebookContainer, {childList: true});\n",
              "}}\n",
              "\n",
              "// Listen for the clearing of the current output cell\n",
              "var outputEl = gd.closest('.output');\n",
              "if (outputEl) {{\n",
              "    x.observe(outputEl, {childList: true});\n",
              "}}\n",
              "\n",
              "                        })\n",
              "                };\n",
              "                \n",
              "            </script>\n",
              "        </div>\n",
              "</body>\n",
              "</html>"
            ]
          },
          "metadata": {
            "tags": []
          }
        }
      ]
    },
    {
      "cell_type": "markdown",
      "metadata": {
        "id": "kcRm3F6mWQtF"
      },
      "source": [
        "### Selecting Parameters to Visualize"
      ]
    },
    {
      "cell_type": "code",
      "metadata": {
        "id": "xtWB263PWQtF",
        "colab": {
          "base_uri": "https://localhost:8080/",
          "height": 542
        },
        "outputId": "73d806cd-5f49-4277-c5b4-5af8c304770d"
      },
      "source": [
        "plot_slice(study, params=['units', 'dropout'])"
      ],
      "execution_count": 77,
      "outputs": [
        {
          "output_type": "display_data",
          "data": {
            "text/html": [
              "<html>\n",
              "<head><meta charset=\"utf-8\" /></head>\n",
              "<body>\n",
              "    <div>\n",
              "            <script src=\"https://cdnjs.cloudflare.com/ajax/libs/mathjax/2.7.5/MathJax.js?config=TeX-AMS-MML_SVG\"></script><script type=\"text/javascript\">if (window.MathJax) {MathJax.Hub.Config({SVG: {font: \"STIX-Web\"}});}</script>\n",
              "                <script type=\"text/javascript\">window.PlotlyConfig = {MathJaxConfig: 'local'};</script>\n",
              "        <script src=\"https://cdn.plot.ly/plotly-latest.min.js\"></script>    \n",
              "            <div id=\"66444e50-3b0a-4ef4-b307-91ba4a99e742\" class=\"plotly-graph-div\" style=\"height:525px; width:100%;\"></div>\n",
              "            <script type=\"text/javascript\">\n",
              "                \n",
              "                    window.PLOTLYENV=window.PLOTLYENV || {};\n",
              "                    \n",
              "                if (document.getElementById(\"66444e50-3b0a-4ef4-b307-91ba4a99e742\")) {\n",
              "                    Plotly.newPlot(\n",
              "                        '66444e50-3b0a-4ef4-b307-91ba4a99e742',\n",
              "                        [{\"marker\": {\"color\": [0, 1, 2, 3, 4, 5, 6, 7, 8, 9, 10, 11, 12, 13, 14, 15, 16, 17, 18, 19], \"colorbar\": {\"title\": {\"text\": \"#Trials\"}, \"x\": 1.0, \"xpad\": 40}, \"colorscale\": [[0.0, \"rgb(247,251,255)\"], [0.125, \"rgb(222,235,247)\"], [0.25, \"rgb(198,219,239)\"], [0.375, \"rgb(158,202,225)\"], [0.5, \"rgb(107,174,214)\"], [0.625, \"rgb(66,146,198)\"], [0.75, \"rgb(33,113,181)\"], [0.875, \"rgb(8,81,156)\"], [1.0, \"rgb(8,48,107)\"]], \"line\": {\"color\": \"Grey\", \"width\": 0.5}, \"showscale\": true}, \"mode\": \"markers\", \"showlegend\": false, \"type\": \"scatter\", \"x\": [0.608455933413442, 0.613260274592911, 0.7474745118039717, 0.5649289229399924, 0.7571128232981162, 0.741094607654609, 0.7261625891574386, 0.15882438215913794, 0.01588556923498743, 0.04790808278497112, 0.2750447468667447, 0.250486943434799, 0.01059651133381103, 0.20218688324472023, 0.3436528380166316, 0.39258737099051644, 0.3817485955848035, 0.29159727955594356, 0.476813720818517, 0.5074714287478298], \"xaxis\": \"x\", \"y\": [1.1757116317749023, 0.6118298172950745, 1.175047516822815, 1.3296476602554321, 1.1799153089523315, 1.1750881671905518, 1.1789339780807495, 1.2400474548339844, 1.1717005968093872, 0.3084108829498291, 0.3135738968849182, 0.2939203381538391, 0.3092486262321472, 0.3155052661895752, 0.2992593050003052, 1.012425422668457, 0.343039333820343, 0.29543572664260864, 0.2817273437976837, 0.2957034409046173], \"yaxis\": \"y\"}, {\"marker\": {\"color\": [0, 1, 2, 3, 4, 5, 6, 7, 8, 9, 10, 11, 12, 13, 14, 15, 16, 17, 18, 19], \"colorbar\": {\"title\": {\"text\": \"#Trials\"}, \"x\": 1.0, \"xpad\": 40}, \"colorscale\": [[0.0, \"rgb(247,251,255)\"], [0.125, \"rgb(222,235,247)\"], [0.25, \"rgb(198,219,239)\"], [0.375, \"rgb(158,202,225)\"], [0.5, \"rgb(107,174,214)\"], [0.625, \"rgb(66,146,198)\"], [0.75, \"rgb(33,113,181)\"], [0.875, \"rgb(8,81,156)\"], [1.0, \"rgb(8,48,107)\"]], \"line\": {\"color\": \"Grey\", \"width\": 0.5}, \"showscale\": false}, \"mode\": \"markers\", \"showlegend\": false, \"type\": \"scatter\", \"x\": [1566.0, 56.0, 1155.0, 1367.0, 1745.0, 308.0, 1635.0, 1657.0, 704.0, 1110.0, 823.0, 762.0, 566.0, 1099.0, 879.0, 452.0, 2047.0, 867.0, 178.0, 287.0], \"xaxis\": \"x2\", \"y\": [1.1757116317749023, 0.6118298172950745, 1.175047516822815, 1.3296476602554321, 1.1799153089523315, 1.1750881671905518, 1.1789339780807495, 1.2400474548339844, 1.1717005968093872, 0.3084108829498291, 0.3135738968849182, 0.2939203381538391, 0.3092486262321472, 0.3155052661895752, 0.2992593050003052, 1.012425422668457, 0.343039333820343, 0.29543572664260864, 0.2817273437976837, 0.2957034409046173], \"yaxis\": \"y2\"}],\n",
              "                        {\"template\": {\"data\": {\"bar\": [{\"error_x\": {\"color\": \"#2a3f5f\"}, \"error_y\": {\"color\": \"#2a3f5f\"}, \"marker\": {\"line\": {\"color\": \"#E5ECF6\", \"width\": 0.5}}, \"type\": \"bar\"}], \"barpolar\": [{\"marker\": {\"line\": {\"color\": \"#E5ECF6\", \"width\": 0.5}}, \"type\": \"barpolar\"}], \"carpet\": [{\"aaxis\": {\"endlinecolor\": \"#2a3f5f\", \"gridcolor\": \"white\", \"linecolor\": \"white\", \"minorgridcolor\": \"white\", \"startlinecolor\": \"#2a3f5f\"}, \"baxis\": {\"endlinecolor\": \"#2a3f5f\", \"gridcolor\": \"white\", \"linecolor\": \"white\", \"minorgridcolor\": \"white\", \"startlinecolor\": \"#2a3f5f\"}, \"type\": \"carpet\"}], \"choropleth\": [{\"colorbar\": {\"outlinewidth\": 0, \"ticks\": \"\"}, \"type\": \"choropleth\"}], \"contour\": [{\"colorbar\": {\"outlinewidth\": 0, \"ticks\": \"\"}, \"colorscale\": [[0.0, \"#0d0887\"], [0.1111111111111111, \"#46039f\"], [0.2222222222222222, \"#7201a8\"], [0.3333333333333333, \"#9c179e\"], [0.4444444444444444, \"#bd3786\"], [0.5555555555555556, \"#d8576b\"], [0.6666666666666666, \"#ed7953\"], [0.7777777777777778, \"#fb9f3a\"], [0.8888888888888888, \"#fdca26\"], [1.0, \"#f0f921\"]], \"type\": \"contour\"}], \"contourcarpet\": [{\"colorbar\": {\"outlinewidth\": 0, \"ticks\": \"\"}, \"type\": \"contourcarpet\"}], \"heatmap\": [{\"colorbar\": {\"outlinewidth\": 0, \"ticks\": \"\"}, \"colorscale\": [[0.0, \"#0d0887\"], [0.1111111111111111, \"#46039f\"], [0.2222222222222222, \"#7201a8\"], [0.3333333333333333, \"#9c179e\"], [0.4444444444444444, \"#bd3786\"], [0.5555555555555556, \"#d8576b\"], [0.6666666666666666, \"#ed7953\"], [0.7777777777777778, \"#fb9f3a\"], [0.8888888888888888, \"#fdca26\"], [1.0, \"#f0f921\"]], \"type\": \"heatmap\"}], \"heatmapgl\": [{\"colorbar\": {\"outlinewidth\": 0, \"ticks\": \"\"}, \"colorscale\": [[0.0, \"#0d0887\"], [0.1111111111111111, \"#46039f\"], [0.2222222222222222, \"#7201a8\"], [0.3333333333333333, \"#9c179e\"], [0.4444444444444444, \"#bd3786\"], [0.5555555555555556, \"#d8576b\"], [0.6666666666666666, \"#ed7953\"], [0.7777777777777778, \"#fb9f3a\"], [0.8888888888888888, \"#fdca26\"], [1.0, \"#f0f921\"]], \"type\": \"heatmapgl\"}], \"histogram\": [{\"marker\": {\"colorbar\": {\"outlinewidth\": 0, \"ticks\": \"\"}}, \"type\": \"histogram\"}], \"histogram2d\": [{\"colorbar\": {\"outlinewidth\": 0, \"ticks\": \"\"}, \"colorscale\": [[0.0, \"#0d0887\"], [0.1111111111111111, \"#46039f\"], [0.2222222222222222, \"#7201a8\"], [0.3333333333333333, \"#9c179e\"], [0.4444444444444444, \"#bd3786\"], [0.5555555555555556, \"#d8576b\"], [0.6666666666666666, \"#ed7953\"], [0.7777777777777778, \"#fb9f3a\"], [0.8888888888888888, \"#fdca26\"], [1.0, \"#f0f921\"]], \"type\": \"histogram2d\"}], \"histogram2dcontour\": [{\"colorbar\": {\"outlinewidth\": 0, \"ticks\": \"\"}, \"colorscale\": [[0.0, \"#0d0887\"], [0.1111111111111111, \"#46039f\"], [0.2222222222222222, \"#7201a8\"], [0.3333333333333333, \"#9c179e\"], [0.4444444444444444, \"#bd3786\"], [0.5555555555555556, \"#d8576b\"], [0.6666666666666666, \"#ed7953\"], [0.7777777777777778, \"#fb9f3a\"], [0.8888888888888888, \"#fdca26\"], [1.0, \"#f0f921\"]], \"type\": \"histogram2dcontour\"}], \"mesh3d\": [{\"colorbar\": {\"outlinewidth\": 0, \"ticks\": \"\"}, \"type\": \"mesh3d\"}], \"parcoords\": [{\"line\": {\"colorbar\": {\"outlinewidth\": 0, \"ticks\": \"\"}}, \"type\": \"parcoords\"}], \"pie\": [{\"automargin\": true, \"type\": \"pie\"}], \"scatter\": [{\"marker\": {\"colorbar\": {\"outlinewidth\": 0, \"ticks\": \"\"}}, \"type\": \"scatter\"}], \"scatter3d\": [{\"line\": {\"colorbar\": {\"outlinewidth\": 0, \"ticks\": \"\"}}, \"marker\": {\"colorbar\": {\"outlinewidth\": 0, \"ticks\": \"\"}}, \"type\": \"scatter3d\"}], \"scattercarpet\": [{\"marker\": {\"colorbar\": {\"outlinewidth\": 0, \"ticks\": \"\"}}, \"type\": \"scattercarpet\"}], \"scattergeo\": [{\"marker\": {\"colorbar\": {\"outlinewidth\": 0, \"ticks\": \"\"}}, \"type\": \"scattergeo\"}], \"scattergl\": [{\"marker\": {\"colorbar\": {\"outlinewidth\": 0, \"ticks\": \"\"}}, \"type\": \"scattergl\"}], \"scattermapbox\": [{\"marker\": {\"colorbar\": {\"outlinewidth\": 0, \"ticks\": \"\"}}, \"type\": \"scattermapbox\"}], \"scatterpolar\": [{\"marker\": {\"colorbar\": {\"outlinewidth\": 0, \"ticks\": \"\"}}, \"type\": \"scatterpolar\"}], \"scatterpolargl\": [{\"marker\": {\"colorbar\": {\"outlinewidth\": 0, \"ticks\": \"\"}}, \"type\": \"scatterpolargl\"}], \"scatterternary\": [{\"marker\": {\"colorbar\": {\"outlinewidth\": 0, \"ticks\": \"\"}}, \"type\": \"scatterternary\"}], \"surface\": [{\"colorbar\": {\"outlinewidth\": 0, \"ticks\": \"\"}, \"colorscale\": [[0.0, \"#0d0887\"], [0.1111111111111111, \"#46039f\"], [0.2222222222222222, \"#7201a8\"], [0.3333333333333333, \"#9c179e\"], [0.4444444444444444, \"#bd3786\"], [0.5555555555555556, \"#d8576b\"], [0.6666666666666666, \"#ed7953\"], [0.7777777777777778, \"#fb9f3a\"], [0.8888888888888888, \"#fdca26\"], [1.0, \"#f0f921\"]], \"type\": \"surface\"}], \"table\": [{\"cells\": {\"fill\": {\"color\": \"#EBF0F8\"}, \"line\": {\"color\": \"white\"}}, \"header\": {\"fill\": {\"color\": \"#C8D4E3\"}, \"line\": {\"color\": \"white\"}}, \"type\": \"table\"}]}, \"layout\": {\"annotationdefaults\": {\"arrowcolor\": \"#2a3f5f\", \"arrowhead\": 0, \"arrowwidth\": 1}, \"coloraxis\": {\"colorbar\": {\"outlinewidth\": 0, \"ticks\": \"\"}}, \"colorscale\": {\"diverging\": [[0, \"#8e0152\"], [0.1, \"#c51b7d\"], [0.2, \"#de77ae\"], [0.3, \"#f1b6da\"], [0.4, \"#fde0ef\"], [0.5, \"#f7f7f7\"], [0.6, \"#e6f5d0\"], [0.7, \"#b8e186\"], [0.8, \"#7fbc41\"], [0.9, \"#4d9221\"], [1, \"#276419\"]], \"sequential\": [[0.0, \"#0d0887\"], [0.1111111111111111, \"#46039f\"], [0.2222222222222222, \"#7201a8\"], [0.3333333333333333, \"#9c179e\"], [0.4444444444444444, \"#bd3786\"], [0.5555555555555556, \"#d8576b\"], [0.6666666666666666, \"#ed7953\"], [0.7777777777777778, \"#fb9f3a\"], [0.8888888888888888, \"#fdca26\"], [1.0, \"#f0f921\"]], \"sequentialminus\": [[0.0, \"#0d0887\"], [0.1111111111111111, \"#46039f\"], [0.2222222222222222, \"#7201a8\"], [0.3333333333333333, \"#9c179e\"], [0.4444444444444444, \"#bd3786\"], [0.5555555555555556, \"#d8576b\"], [0.6666666666666666, \"#ed7953\"], [0.7777777777777778, \"#fb9f3a\"], [0.8888888888888888, \"#fdca26\"], [1.0, \"#f0f921\"]]}, \"colorway\": [\"#636efa\", \"#EF553B\", \"#00cc96\", \"#ab63fa\", \"#FFA15A\", \"#19d3f3\", \"#FF6692\", \"#B6E880\", \"#FF97FF\", \"#FECB52\"], \"font\": {\"color\": \"#2a3f5f\"}, \"geo\": {\"bgcolor\": \"white\", \"lakecolor\": \"white\", \"landcolor\": \"#E5ECF6\", \"showlakes\": true, \"showland\": true, \"subunitcolor\": \"white\"}, \"hoverlabel\": {\"align\": \"left\"}, \"hovermode\": \"closest\", \"mapbox\": {\"style\": \"light\"}, \"paper_bgcolor\": \"white\", \"plot_bgcolor\": \"#E5ECF6\", \"polar\": {\"angularaxis\": {\"gridcolor\": \"white\", \"linecolor\": \"white\", \"ticks\": \"\"}, \"bgcolor\": \"#E5ECF6\", \"radialaxis\": {\"gridcolor\": \"white\", \"linecolor\": \"white\", \"ticks\": \"\"}}, \"scene\": {\"xaxis\": {\"backgroundcolor\": \"#E5ECF6\", \"gridcolor\": \"white\", \"gridwidth\": 2, \"linecolor\": \"white\", \"showbackground\": true, \"ticks\": \"\", \"zerolinecolor\": \"white\"}, \"yaxis\": {\"backgroundcolor\": \"#E5ECF6\", \"gridcolor\": \"white\", \"gridwidth\": 2, \"linecolor\": \"white\", \"showbackground\": true, \"ticks\": \"\", \"zerolinecolor\": \"white\"}, \"zaxis\": {\"backgroundcolor\": \"#E5ECF6\", \"gridcolor\": \"white\", \"gridwidth\": 2, \"linecolor\": \"white\", \"showbackground\": true, \"ticks\": \"\", \"zerolinecolor\": \"white\"}}, \"shapedefaults\": {\"line\": {\"color\": \"#2a3f5f\"}}, \"ternary\": {\"aaxis\": {\"gridcolor\": \"white\", \"linecolor\": \"white\", \"ticks\": \"\"}, \"baxis\": {\"gridcolor\": \"white\", \"linecolor\": \"white\", \"ticks\": \"\"}, \"bgcolor\": \"#E5ECF6\", \"caxis\": {\"gridcolor\": \"white\", \"linecolor\": \"white\", \"ticks\": \"\"}}, \"title\": {\"x\": 0.05}, \"xaxis\": {\"automargin\": true, \"gridcolor\": \"white\", \"linecolor\": \"white\", \"ticks\": \"\", \"title\": {\"standoff\": 15}, \"zerolinecolor\": \"white\", \"zerolinewidth\": 2}, \"yaxis\": {\"automargin\": true, \"gridcolor\": \"white\", \"linecolor\": \"white\", \"ticks\": \"\", \"title\": {\"standoff\": 15}, \"zerolinecolor\": \"white\", \"zerolinewidth\": 2}}}, \"title\": {\"text\": \"Slice Plot\"}, \"xaxis\": {\"anchor\": \"y\", \"domain\": [0.0, 0.45], \"title\": {\"text\": \"dropout\"}}, \"xaxis2\": {\"anchor\": \"y2\", \"domain\": [0.55, 1.0], \"title\": {\"text\": \"units\"}}, \"yaxis\": {\"anchor\": \"x\", \"domain\": [0.0, 1.0], \"title\": {\"text\": \"Objective Value\"}}, \"yaxis2\": {\"anchor\": \"x2\", \"domain\": [0.0, 1.0], \"matches\": \"y\", \"showticklabels\": false}},\n",
              "                        {\"responsive\": true}\n",
              "                    ).then(function(){\n",
              "                            \n",
              "var gd = document.getElementById('66444e50-3b0a-4ef4-b307-91ba4a99e742');\n",
              "var x = new MutationObserver(function (mutations, observer) {{\n",
              "        var display = window.getComputedStyle(gd).display;\n",
              "        if (!display || display === 'none') {{\n",
              "            console.log([gd, 'removed!']);\n",
              "            Plotly.purge(gd);\n",
              "            observer.disconnect();\n",
              "        }}\n",
              "}});\n",
              "\n",
              "// Listen for the removal of the full notebook cells\n",
              "var notebookContainer = gd.closest('#notebook-container');\n",
              "if (notebookContainer) {{\n",
              "    x.observe(notebookContainer, {childList: true});\n",
              "}}\n",
              "\n",
              "// Listen for the clearing of the current output cell\n",
              "var outputEl = gd.closest('.output');\n",
              "if (outputEl) {{\n",
              "    x.observe(outputEl, {childList: true});\n",
              "}}\n",
              "\n",
              "                        })\n",
              "                };\n",
              "                \n",
              "            </script>\n",
              "        </div>\n",
              "</body>\n",
              "</html>"
            ]
          },
          "metadata": {
            "tags": []
          }
        }
      ]
    },
    {
      "cell_type": "markdown",
      "metadata": {
        "id": "pRuVvWaoWQtF"
      },
      "source": [
        "## Visualizing Parameter Importances"
      ]
    },
    {
      "cell_type": "code",
      "metadata": {
        "id": "akCMURHCWQtF",
        "colab": {
          "base_uri": "https://localhost:8080/",
          "height": 542
        },
        "outputId": "9f4d8711-31dc-4a2b-dd93-315fee9dc781"
      },
      "source": [
        "from optuna.visualization import plot_param_importances\n",
        "\n",
        "plot_param_importances(study)"
      ],
      "execution_count": 78,
      "outputs": [
        {
          "output_type": "display_data",
          "data": {
            "text/html": [
              "<html>\n",
              "<head><meta charset=\"utf-8\" /></head>\n",
              "<body>\n",
              "    <div>\n",
              "            <script src=\"https://cdnjs.cloudflare.com/ajax/libs/mathjax/2.7.5/MathJax.js?config=TeX-AMS-MML_SVG\"></script><script type=\"text/javascript\">if (window.MathJax) {MathJax.Hub.Config({SVG: {font: \"STIX-Web\"}});}</script>\n",
              "                <script type=\"text/javascript\">window.PlotlyConfig = {MathJaxConfig: 'local'};</script>\n",
              "        <script src=\"https://cdn.plot.ly/plotly-latest.min.js\"></script>    \n",
              "            <div id=\"9fe77d27-911a-4fee-a0fb-bd6a5824a2b9\" class=\"plotly-graph-div\" style=\"height:525px; width:100%;\"></div>\n",
              "            <script type=\"text/javascript\">\n",
              "                \n",
              "                    window.PLOTLYENV=window.PLOTLYENV || {};\n",
              "                    \n",
              "                if (document.getElementById(\"9fe77d27-911a-4fee-a0fb-bd6a5824a2b9\")) {\n",
              "                    Plotly.newPlot(\n",
              "                        '9fe77d27-911a-4fee-a0fb-bd6a5824a2b9',\n",
              "                        [{\"cliponaxis\": false, \"hovertemplate\": [\"lr (LogUniformDistribution): 0.017226425470600562<extra></extra>\", \"dropout (UniformDistribution): 0.047601909560996775<extra></extra>\", \"units (DiscreteUniformDistribution): 0.0778656398701628<extra></extra>\", \"activation (CategoricalDistribution): 0.8573060250982399<extra></extra>\"], \"marker\": {\"color\": [\"rgb(8,48,107)\", \"rgb(8,48,107)\", \"rgb(8,48,107)\", \"rgb(66,146,198)\"]}, \"orientation\": \"h\", \"text\": [\"0.017226425470600562\", \"0.047601909560996775\", \"0.0778656398701628\", \"0.8573060250982399\"], \"textposition\": \"outside\", \"texttemplate\": \"%{text:.2f}\", \"type\": \"bar\", \"x\": [0.017226425470600562, 0.047601909560996775, 0.0778656398701628, 0.8573060250982399], \"y\": [\"lr\", \"dropout\", \"units\", \"activation\"]}],\n",
              "                        {\"showlegend\": false, \"template\": {\"data\": {\"bar\": [{\"error_x\": {\"color\": \"#2a3f5f\"}, \"error_y\": {\"color\": \"#2a3f5f\"}, \"marker\": {\"line\": {\"color\": \"#E5ECF6\", \"width\": 0.5}}, \"type\": \"bar\"}], \"barpolar\": [{\"marker\": {\"line\": {\"color\": \"#E5ECF6\", \"width\": 0.5}}, \"type\": \"barpolar\"}], \"carpet\": [{\"aaxis\": {\"endlinecolor\": \"#2a3f5f\", \"gridcolor\": \"white\", \"linecolor\": \"white\", \"minorgridcolor\": \"white\", \"startlinecolor\": \"#2a3f5f\"}, \"baxis\": {\"endlinecolor\": \"#2a3f5f\", \"gridcolor\": \"white\", \"linecolor\": \"white\", \"minorgridcolor\": \"white\", \"startlinecolor\": \"#2a3f5f\"}, \"type\": \"carpet\"}], \"choropleth\": [{\"colorbar\": {\"outlinewidth\": 0, \"ticks\": \"\"}, \"type\": \"choropleth\"}], \"contour\": [{\"colorbar\": {\"outlinewidth\": 0, \"ticks\": \"\"}, \"colorscale\": [[0.0, \"#0d0887\"], [0.1111111111111111, \"#46039f\"], [0.2222222222222222, \"#7201a8\"], [0.3333333333333333, \"#9c179e\"], [0.4444444444444444, \"#bd3786\"], [0.5555555555555556, \"#d8576b\"], [0.6666666666666666, \"#ed7953\"], [0.7777777777777778, \"#fb9f3a\"], [0.8888888888888888, \"#fdca26\"], [1.0, \"#f0f921\"]], \"type\": \"contour\"}], \"contourcarpet\": [{\"colorbar\": {\"outlinewidth\": 0, \"ticks\": \"\"}, \"type\": \"contourcarpet\"}], \"heatmap\": [{\"colorbar\": {\"outlinewidth\": 0, \"ticks\": \"\"}, \"colorscale\": [[0.0, \"#0d0887\"], [0.1111111111111111, \"#46039f\"], [0.2222222222222222, \"#7201a8\"], [0.3333333333333333, \"#9c179e\"], [0.4444444444444444, \"#bd3786\"], [0.5555555555555556, \"#d8576b\"], [0.6666666666666666, \"#ed7953\"], [0.7777777777777778, \"#fb9f3a\"], [0.8888888888888888, \"#fdca26\"], [1.0, \"#f0f921\"]], \"type\": \"heatmap\"}], \"heatmapgl\": [{\"colorbar\": {\"outlinewidth\": 0, \"ticks\": \"\"}, \"colorscale\": [[0.0, \"#0d0887\"], [0.1111111111111111, \"#46039f\"], [0.2222222222222222, \"#7201a8\"], [0.3333333333333333, \"#9c179e\"], [0.4444444444444444, \"#bd3786\"], [0.5555555555555556, \"#d8576b\"], [0.6666666666666666, \"#ed7953\"], [0.7777777777777778, \"#fb9f3a\"], [0.8888888888888888, \"#fdca26\"], [1.0, \"#f0f921\"]], \"type\": \"heatmapgl\"}], \"histogram\": [{\"marker\": {\"colorbar\": {\"outlinewidth\": 0, \"ticks\": \"\"}}, \"type\": \"histogram\"}], \"histogram2d\": [{\"colorbar\": {\"outlinewidth\": 0, \"ticks\": \"\"}, \"colorscale\": [[0.0, \"#0d0887\"], [0.1111111111111111, \"#46039f\"], [0.2222222222222222, \"#7201a8\"], [0.3333333333333333, \"#9c179e\"], [0.4444444444444444, \"#bd3786\"], [0.5555555555555556, \"#d8576b\"], [0.6666666666666666, \"#ed7953\"], [0.7777777777777778, \"#fb9f3a\"], [0.8888888888888888, \"#fdca26\"], [1.0, \"#f0f921\"]], \"type\": \"histogram2d\"}], \"histogram2dcontour\": [{\"colorbar\": {\"outlinewidth\": 0, \"ticks\": \"\"}, \"colorscale\": [[0.0, \"#0d0887\"], [0.1111111111111111, \"#46039f\"], [0.2222222222222222, \"#7201a8\"], [0.3333333333333333, \"#9c179e\"], [0.4444444444444444, \"#bd3786\"], [0.5555555555555556, \"#d8576b\"], [0.6666666666666666, \"#ed7953\"], [0.7777777777777778, \"#fb9f3a\"], [0.8888888888888888, \"#fdca26\"], [1.0, \"#f0f921\"]], \"type\": \"histogram2dcontour\"}], \"mesh3d\": [{\"colorbar\": {\"outlinewidth\": 0, \"ticks\": \"\"}, \"type\": \"mesh3d\"}], \"parcoords\": [{\"line\": {\"colorbar\": {\"outlinewidth\": 0, \"ticks\": \"\"}}, \"type\": \"parcoords\"}], \"pie\": [{\"automargin\": true, \"type\": \"pie\"}], \"scatter\": [{\"marker\": {\"colorbar\": {\"outlinewidth\": 0, \"ticks\": \"\"}}, \"type\": \"scatter\"}], \"scatter3d\": [{\"line\": {\"colorbar\": {\"outlinewidth\": 0, \"ticks\": \"\"}}, \"marker\": {\"colorbar\": {\"outlinewidth\": 0, \"ticks\": \"\"}}, \"type\": \"scatter3d\"}], \"scattercarpet\": [{\"marker\": {\"colorbar\": {\"outlinewidth\": 0, \"ticks\": \"\"}}, \"type\": \"scattercarpet\"}], \"scattergeo\": [{\"marker\": {\"colorbar\": {\"outlinewidth\": 0, \"ticks\": \"\"}}, \"type\": \"scattergeo\"}], \"scattergl\": [{\"marker\": {\"colorbar\": {\"outlinewidth\": 0, \"ticks\": \"\"}}, \"type\": \"scattergl\"}], \"scattermapbox\": [{\"marker\": {\"colorbar\": {\"outlinewidth\": 0, \"ticks\": \"\"}}, \"type\": \"scattermapbox\"}], \"scatterpolar\": [{\"marker\": {\"colorbar\": {\"outlinewidth\": 0, \"ticks\": \"\"}}, \"type\": \"scatterpolar\"}], \"scatterpolargl\": [{\"marker\": {\"colorbar\": {\"outlinewidth\": 0, \"ticks\": \"\"}}, \"type\": \"scatterpolargl\"}], \"scatterternary\": [{\"marker\": {\"colorbar\": {\"outlinewidth\": 0, \"ticks\": \"\"}}, \"type\": \"scatterternary\"}], \"surface\": [{\"colorbar\": {\"outlinewidth\": 0, \"ticks\": \"\"}, \"colorscale\": [[0.0, \"#0d0887\"], [0.1111111111111111, \"#46039f\"], [0.2222222222222222, \"#7201a8\"], [0.3333333333333333, \"#9c179e\"], [0.4444444444444444, \"#bd3786\"], [0.5555555555555556, \"#d8576b\"], [0.6666666666666666, \"#ed7953\"], [0.7777777777777778, \"#fb9f3a\"], [0.8888888888888888, \"#fdca26\"], [1.0, \"#f0f921\"]], \"type\": \"surface\"}], \"table\": [{\"cells\": {\"fill\": {\"color\": \"#EBF0F8\"}, \"line\": {\"color\": \"white\"}}, \"header\": {\"fill\": {\"color\": \"#C8D4E3\"}, \"line\": {\"color\": \"white\"}}, \"type\": \"table\"}]}, \"layout\": {\"annotationdefaults\": {\"arrowcolor\": \"#2a3f5f\", \"arrowhead\": 0, \"arrowwidth\": 1}, \"coloraxis\": {\"colorbar\": {\"outlinewidth\": 0, \"ticks\": \"\"}}, \"colorscale\": {\"diverging\": [[0, \"#8e0152\"], [0.1, \"#c51b7d\"], [0.2, \"#de77ae\"], [0.3, \"#f1b6da\"], [0.4, \"#fde0ef\"], [0.5, \"#f7f7f7\"], [0.6, \"#e6f5d0\"], [0.7, \"#b8e186\"], [0.8, \"#7fbc41\"], [0.9, \"#4d9221\"], [1, \"#276419\"]], \"sequential\": [[0.0, \"#0d0887\"], [0.1111111111111111, \"#46039f\"], [0.2222222222222222, \"#7201a8\"], [0.3333333333333333, \"#9c179e\"], [0.4444444444444444, \"#bd3786\"], [0.5555555555555556, \"#d8576b\"], [0.6666666666666666, \"#ed7953\"], [0.7777777777777778, \"#fb9f3a\"], [0.8888888888888888, \"#fdca26\"], [1.0, \"#f0f921\"]], \"sequentialminus\": [[0.0, \"#0d0887\"], [0.1111111111111111, \"#46039f\"], [0.2222222222222222, \"#7201a8\"], [0.3333333333333333, \"#9c179e\"], [0.4444444444444444, \"#bd3786\"], [0.5555555555555556, \"#d8576b\"], [0.6666666666666666, \"#ed7953\"], [0.7777777777777778, \"#fb9f3a\"], [0.8888888888888888, \"#fdca26\"], [1.0, \"#f0f921\"]]}, \"colorway\": [\"#636efa\", \"#EF553B\", \"#00cc96\", \"#ab63fa\", \"#FFA15A\", \"#19d3f3\", \"#FF6692\", \"#B6E880\", \"#FF97FF\", \"#FECB52\"], \"font\": {\"color\": \"#2a3f5f\"}, \"geo\": {\"bgcolor\": \"white\", \"lakecolor\": \"white\", \"landcolor\": \"#E5ECF6\", \"showlakes\": true, \"showland\": true, \"subunitcolor\": \"white\"}, \"hoverlabel\": {\"align\": \"left\"}, \"hovermode\": \"closest\", \"mapbox\": {\"style\": \"light\"}, \"paper_bgcolor\": \"white\", \"plot_bgcolor\": \"#E5ECF6\", \"polar\": {\"angularaxis\": {\"gridcolor\": \"white\", \"linecolor\": \"white\", \"ticks\": \"\"}, \"bgcolor\": \"#E5ECF6\", \"radialaxis\": {\"gridcolor\": \"white\", \"linecolor\": \"white\", \"ticks\": \"\"}}, \"scene\": {\"xaxis\": {\"backgroundcolor\": \"#E5ECF6\", \"gridcolor\": \"white\", \"gridwidth\": 2, \"linecolor\": \"white\", \"showbackground\": true, \"ticks\": \"\", \"zerolinecolor\": \"white\"}, \"yaxis\": {\"backgroundcolor\": \"#E5ECF6\", \"gridcolor\": \"white\", \"gridwidth\": 2, \"linecolor\": \"white\", \"showbackground\": true, \"ticks\": \"\", \"zerolinecolor\": \"white\"}, \"zaxis\": {\"backgroundcolor\": \"#E5ECF6\", \"gridcolor\": \"white\", \"gridwidth\": 2, \"linecolor\": \"white\", \"showbackground\": true, \"ticks\": \"\", \"zerolinecolor\": \"white\"}}, \"shapedefaults\": {\"line\": {\"color\": \"#2a3f5f\"}}, \"ternary\": {\"aaxis\": {\"gridcolor\": \"white\", \"linecolor\": \"white\", \"ticks\": \"\"}, \"baxis\": {\"gridcolor\": \"white\", \"linecolor\": \"white\", \"ticks\": \"\"}, \"bgcolor\": \"#E5ECF6\", \"caxis\": {\"gridcolor\": \"white\", \"linecolor\": \"white\", \"ticks\": \"\"}}, \"title\": {\"x\": 0.05}, \"xaxis\": {\"automargin\": true, \"gridcolor\": \"white\", \"linecolor\": \"white\", \"ticks\": \"\", \"title\": {\"standoff\": 15}, \"zerolinecolor\": \"white\", \"zerolinewidth\": 2}, \"yaxis\": {\"automargin\": true, \"gridcolor\": \"white\", \"linecolor\": \"white\", \"ticks\": \"\", \"title\": {\"standoff\": 15}, \"zerolinecolor\": \"white\", \"zerolinewidth\": 2}}}, \"title\": {\"text\": \"Hyperparameter Importances\"}, \"xaxis\": {\"title\": {\"text\": \"Importance\"}}, \"yaxis\": {\"title\": {\"text\": \"Hyperparameter\"}}},\n",
              "                        {\"responsive\": true}\n",
              "                    ).then(function(){\n",
              "                            \n",
              "var gd = document.getElementById('9fe77d27-911a-4fee-a0fb-bd6a5824a2b9');\n",
              "var x = new MutationObserver(function (mutations, observer) {{\n",
              "        var display = window.getComputedStyle(gd).display;\n",
              "        if (!display || display === 'none') {{\n",
              "            console.log([gd, 'removed!']);\n",
              "            Plotly.purge(gd);\n",
              "            observer.disconnect();\n",
              "        }}\n",
              "}});\n",
              "\n",
              "// Listen for the removal of the full notebook cells\n",
              "var notebookContainer = gd.closest('#notebook-container');\n",
              "if (notebookContainer) {{\n",
              "    x.observe(notebookContainer, {childList: true});\n",
              "}}\n",
              "\n",
              "// Listen for the clearing of the current output cell\n",
              "var outputEl = gd.closest('.output');\n",
              "if (outputEl) {{\n",
              "    x.observe(outputEl, {childList: true});\n",
              "}}\n",
              "\n",
              "                        })\n",
              "                };\n",
              "                \n",
              "            </script>\n",
              "        </div>\n",
              "</body>\n",
              "</html>"
            ]
          },
          "metadata": {
            "tags": []
          }
        }
      ]
    }
  ]
}