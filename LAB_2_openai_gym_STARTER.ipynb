{
  "nbformat": 4,
  "nbformat_minor": 0,
  "metadata": {
    "colab": {
      "name": "LAB_2_openai_gym_STARTER.ipynb",
      "provenance": [],
      "authorship_tag": "ABX9TyOaloIbSnmKGmFldf96LedC",
      "include_colab_link": true
    },
    "kernelspec": {
      "name": "python3",
      "display_name": "Python 3"
    },
    "language_info": {
      "name": "python"
    }
  },
  "cells": [
    {
      "cell_type": "markdown",
      "metadata": {
        "id": "view-in-github",
        "colab_type": "text"
      },
      "source": [
        "<a href=\"https://colab.research.google.com/github/janzaw04/myTestRep/blob/main/LAB_2_openai_gym_STARTER.ipynb\" target=\"_parent\"><img src=\"https://colab.research.google.com/assets/colab-badge.svg\" alt=\"Open In Colab\"/></a>"
      ]
    },
    {
      "cell_type": "code",
      "metadata": {
        "colab": {
          "base_uri": "https://localhost:8080/"
        },
        "id": "yTXhgvA_Sr9N",
        "outputId": "c2a2ba04-ae98-44f6-b872-6641305fc384"
      },
      "source": [
        "# Rozwiązanie dla renderowania środowiska OpenAI Gym dla Google Colab, źródło:\n",
        "# Yandex Data School, Higher School of Economics, Practical_RL Course, Github, https://github.com/yandexdataschool/Practical_RL/blob/master/setup_colab.sh\n",
        "\n",
        "import sys, os\n",
        "if 'google.colab' in sys.modules and not os.path.exists('.setup_complete'):\n",
        "    !wget -q https://raw.githubusercontent.com/yandexdataschool/Practical_RL/master/setup_colab.sh -O- | bash\n",
        "    !touch .setup_complete\n",
        "\n",
        "if type(os.environ.get(\"DISPLAY\")) is not str or len(os.environ.get(\"DISPLAY\")) == 0:\n",
        "    !bash ../xvfb start\n",
        "    os.environ['DISPLAY'] = ':1'"
      ],
      "execution_count": 1,
      "outputs": [
        {
          "output_type": "stream",
          "text": [
            "Selecting previously unselected package xvfb.\n",
            "(Reading database ... 160980 files and directories currently installed.)\n",
            "Preparing to unpack .../xvfb_2%3a1.19.6-1ubuntu4.8_amd64.deb ...\n",
            "Unpacking xvfb (2:1.19.6-1ubuntu4.8) ...\n",
            "Setting up xvfb (2:1.19.6-1ubuntu4.8) ...\n",
            "Processing triggers for man-db (2.8.3-2ubuntu0.1) ...\n",
            "Starting virtual X frame buffer: Xvfb.\n"
          ],
          "name": "stdout"
        }
      ]
    },
    {
      "cell_type": "code",
      "metadata": {
        "colab": {
          "base_uri": "https://localhost:8080/",
          "height": 34
        },
        "id": "mQ3dOHlnSwlh",
        "outputId": "a2e7deb9-220e-4b7f-a285-bc0733c6404b"
      },
      "source": [
        "import matplotlib.pyplot as plt\n",
        "%matplotlib inline\n",
        "plt.figure(figsize=(4, 3))\n",
        "\n",
        "from IPython import display\n",
        "display.clear_output(wait=True)"
      ],
      "execution_count": 2,
      "outputs": [
        {
          "output_type": "display_data",
          "data": {
            "text/plain": [
              "<Figure size 288x216 with 0 Axes>"
            ]
          },
          "metadata": {
            "tags": []
          }
        }
      ]
    },
    {
      "cell_type": "code",
      "metadata": {
        "colab": {
          "base_uri": "https://localhost:8080/"
        },
        "id": "qYkkJ6KfSyV-",
        "outputId": "e704c22f-5153-4c6b-cd94-7af1b92b3c4a"
      },
      "source": [
        "import gym\n",
        "\n",
        "env = gym.make(\"MountainCar-v0\")\n",
        "env.reset()"
      ],
      "execution_count": 3,
      "outputs": [
        {
          "output_type": "execute_result",
          "data": {
            "text/plain": [
              "array([-0.49448245,  0.        ])"
            ]
          },
          "metadata": {
            "tags": []
          },
          "execution_count": 3
        }
      ]
    },
    {
      "cell_type": "code",
      "metadata": {
        "colab": {
          "base_uri": "https://localhost:8080/"
        },
        "id": "2pKLH03iS0AA",
        "outputId": "cdf753ba-2d27-47d7-c4eb-552a33bf75c4"
      },
      "source": [
        "print(env.reset())\n",
        "observation0 = env.reset()\n",
        "print(observation0)"
      ],
      "execution_count": 4,
      "outputs": [
        {
          "output_type": "stream",
          "text": [
            "[-0.5416036  0.       ]\n",
            "[-0.54540459  0.        ]\n"
          ],
          "name": "stdout"
        }
      ]
    },
    {
      "cell_type": "code",
      "metadata": {
        "colab": {
          "base_uri": "https://localhost:8080/"
        },
        "id": "EKr8N_yDS1uG",
        "outputId": "a373c58e-513a-445a-aa75-982fe7a3e5ef"
      },
      "source": [
        "env.reset()"
      ],
      "execution_count": 5,
      "outputs": [
        {
          "output_type": "execute_result",
          "data": {
            "text/plain": [
              "array([-0.55141865,  0.        ])"
            ]
          },
          "metadata": {
            "tags": []
          },
          "execution_count": 5
        }
      ]
    },
    {
      "cell_type": "code",
      "metadata": {
        "colab": {
          "base_uri": "https://localhost:8080/"
        },
        "id": "CLcTdO4VS4LC",
        "outputId": "7929e628-d3a6-4d84-e562-5c1f2e5987cd"
      },
      "source": [
        "for t in range(100):\n",
        "  action = env.action_space.sample()\n",
        "  observation, reward, done, info = env.step(action)\n",
        "  print(t, observation, reward, done)"
      ],
      "execution_count": 6,
      "outputs": [
        {
          "output_type": "stream",
          "text": [
            "0 [-0.55021024  0.00120841] -1.0 False\n",
            "1 [-5.49802463e-01  4.07780996e-04] -1.0 False\n",
            "2 [-5.50198357e-01 -3.95893699e-04] -1.0 False\n",
            "3 [-0.55139497 -0.00119661] -1.0 False\n",
            "4 [-0.55238334 -0.00098838] -1.0 False\n",
            "5 [-0.55415611 -0.00177276] -1.0 False\n",
            "6 [-0.55670001 -0.0025439 ] -1.0 False\n",
            "7 [-0.55999606 -0.00329605] -1.0 False\n",
            "8 [-0.56401968 -0.00402361] -1.0 False\n",
            "9 [-0.56774088 -0.0037212 ] -1.0 False\n",
            "10 [-0.57013198 -0.0023911 ] -1.0 False\n",
            "11 [-0.57317521 -0.00304323] -1.0 False\n",
            "12 [-0.57684799 -0.00367278] -1.0 False\n",
            "13 [-0.5801231  -0.00327511] -1.0 False\n",
            "14 [-0.58197631 -0.0018532 ] -1.0 False\n",
            "15 [-0.58339391 -0.00141761] -1.0 False\n",
            "16 [-0.58436546 -0.00097155] -1.0 False\n",
            "17 [-0.58588377 -0.00151832] -1.0 False\n",
            "18 [-5.85937665e-01 -5.38914670e-05] -1.0 False\n",
            "19 [-0.58452674  0.00141093] -1.0 False\n",
            "20 [-0.58266139  0.00186535] -1.0 False\n",
            "21 [-0.58135538  0.001306  ] -1.0 False\n",
            "22 [-0.57861837  0.00273701] -1.0 False\n",
            "23 [-0.57547058  0.00314779] -1.0 False\n",
            "24 [-0.57193532  0.00353526] -1.0 False\n",
            "25 [-0.5690388   0.00289652] -1.0 False\n",
            "26 [-0.56680254  0.00223626] -1.0 False\n",
            "27 [-0.56324316  0.00355938] -1.0 False\n",
            "28 [-0.56038714  0.00285602] -1.0 False\n",
            "29 [-0.55625577  0.00413137] -1.0 False\n",
            "30 [-0.55187987  0.0043759 ] -1.0 False\n",
            "31 [-0.54829211  0.00358776] -1.0 False\n",
            "32 [-0.54551932  0.00277279] -1.0 False\n",
            "33 [-0.54258225  0.00293707] -1.0 False\n",
            "34 [-0.53850287  0.00407937] -1.0 False\n",
            "35 [-0.53431176  0.00419112] -1.0 False\n",
            "36 [-0.53004031  0.00427145] -1.0 False\n",
            "37 [-0.52572055  0.00431976] -1.0 False\n",
            "38 [-0.52138488  0.00433567] -1.0 False\n",
            "39 [-0.51806581  0.00331907] -1.0 False\n",
            "40 [-0.51378824  0.00427757] -1.0 False\n",
            "41 [-0.50958423  0.004204  ] -1.0 False\n",
            "42 [-0.50448531  0.00509893] -1.0 False\n",
            "43 [-0.50052965  0.00395565] -1.0 False\n",
            "44 [-0.49674688  0.00378277] -1.0 False\n",
            "45 [-0.49416528  0.0025816 ] -1.0 False\n",
            "46 [-0.49080414  0.00336114] -1.0 False\n",
            "47 [-0.48668857  0.00411557] -1.0 False\n",
            "48 [-0.48384925  0.00283931] -1.0 False\n",
            "49 [-0.48130736  0.0025419 ] -1.0 False\n",
            "50 [-0.47908179  0.00222556] -1.0 False\n",
            "51 [-0.47618912  0.00289268] -1.0 False\n",
            "52 [-0.47265082  0.0035383 ] -1.0 False\n",
            "53 [-0.47049314  0.00215768] -1.0 False\n",
            "54 [-0.46873207  0.00176107] -1.0 False\n",
            "55 [-0.46638065  0.00235142] -1.0 False\n",
            "56 [-0.46345625  0.00292439] -1.0 False\n",
            "57 [-0.46098049  0.00247577] -1.0 False\n",
            "58 [-0.4599716   0.00100889] -1.0 False\n",
            "59 [-0.46043703 -0.00046542] -1.0 False\n",
            "60 [-4.60373333e-01  6.36919899e-05] -1.0 False\n",
            "61 [-4.60780994e-01 -4.07660604e-04] -1.0 False\n",
            "62 [-0.462657   -0.00187601] -1.0 False\n",
            "63 [-0.46498754 -0.00233053] -1.0 False\n",
            "64 [-0.46875539 -0.00376785] -1.0 False\n",
            "65 [-0.47193272 -0.00317733] -1.0 False\n",
            "66 [-0.47449599 -0.00256327] -1.0 False\n",
            "67 [-0.4764262  -0.00193021] -1.0 False\n",
            "68 [-0.47870903 -0.00228283] -1.0 False\n",
            "69 [-0.48132751 -0.00261848] -1.0 False\n",
            "70 [-0.48326218 -0.00193467] -1.0 False\n",
            "71 [-0.48549864 -0.00223646] -1.0 False\n",
            "72 [-0.48802022 -0.00252158] -1.0 False\n",
            "73 [-0.48980814 -0.00178792] -1.0 False\n",
            "74 [-0.49184905 -0.00204091] -1.0 False\n",
            "75 [-0.49512773 -0.00327868] -1.0 False\n",
            "76 [-0.49761968 -0.00249195] -1.0 False\n",
            "77 [-0.50030627 -0.0026866 ] -1.0 False\n",
            "78 [-0.50216742 -0.00186115] -1.0 False\n",
            "79 [-0.50318919 -0.00102177] -1.0 False\n",
            "80 [-0.50436394 -0.00117475] -1.0 False\n",
            "81 [-5.04682872e-01 -3.18929476e-04] -1.0 False\n",
            "82 [-5.05143594e-01 -4.60722624e-04] -1.0 False\n",
            "83 [-0.50574266 -0.00059907] -1.0 False\n",
            "84 [-0.50647558 -0.00073292] -1.0 False\n",
            "85 [-0.50833687 -0.00186129] -1.0 False\n",
            "86 [-0.51031259 -0.00197571] -1.0 False\n",
            "87 [-0.51338792 -0.00307533] -1.0 False\n",
            "88 [-0.51653983 -0.0031519 ] -1.0 False\n",
            "89 [-0.51974467 -0.00320484] -1.0 False\n",
            "90 [-0.52297841 -0.00323375] -1.0 False\n",
            "91 [-0.52521681 -0.0022384 ] -1.0 False\n",
            "92 [-0.52844308 -0.00322626] -1.0 False\n",
            "93 [-0.53063301 -0.00218993] -1.0 False\n",
            "94 [-0.53277019 -0.00213718] -1.0 False\n",
            "95 [-0.5348386 -0.0020684] -1.0 False\n",
            "96 [-0.53782272 -0.00298412] -1.0 False\n",
            "97 [-0.54070019 -0.00287747] -1.0 False\n",
            "98 [-0.54444946 -0.00374927] -1.0 False\n",
            "99 [-0.54804245 -0.00359299] -1.0 False\n"
          ],
          "name": "stdout"
        }
      ]
    },
    {
      "cell_type": "code",
      "metadata": {
        "id": "POgG36DPS66U"
      },
      "source": [
        "def policy(observation, t):\n",
        "  \n",
        "  actions = {'left': 0, 'stop': 1, 'right': 2}\n",
        "  position, velocity = observation\n",
        "  if velocity > 0:\n",
        "    action = actions['right']\n",
        "  elif velocity < 0:\n",
        "    action = actions['left']\n",
        "  else:\n",
        "    action = actions['left']\n",
        "  return action\n",
        "  \n",
        "  return actions['right']"
      ],
      "execution_count": 7,
      "outputs": []
    },
    {
      "cell_type": "code",
      "metadata": {
        "colab": {
          "base_uri": "https://localhost:8080/",
          "height": 269
        },
        "id": "DlGpFeYGS89U",
        "outputId": "d2bc6c12-40d5-431e-cb97-9a91ad9b76a4"
      },
      "source": [
        "observation = env.reset()\n",
        "\n",
        "for t in range(199):\n",
        "  plt.gca().clear\n",
        "\n",
        "  actions = policy(observation, t)\n",
        "  observation, reward, done, info = env.step(actions)\n",
        "\n",
        "  plt.imshow(env.render('rgb_array'))\n",
        "  display.display(plt.gcf())\n",
        "  display.clear_output(wait=True)\n",
        "\n",
        "  if done:\n",
        "    break"
      ],
      "execution_count": 8,
      "outputs": [
        {
          "output_type": "display_data",
          "data": {
            "image/png": "[encoded data removed]",
            "text/plain": [
              "<Figure size 432x288 with 1 Axes>"
            ]
          },
          "metadata": {
            "tags": [],
            "needs_background": "light"
          }
        }
      ]
    },
    {
      "cell_type": "code",
      "metadata": {
        "colab": {
          "base_uri": "https://localhost:8080/"
        },
        "id": "sEC3qIhxS_Rr",
        "outputId": "6c0d60c5-d531-44b1-f9d7-fd36a6c461b1"
      },
      "source": [
        "observation = env.reset()\n",
        "\n",
        "for t in range(199):\n",
        "  \n",
        "  actions = policy(observation, t)\n",
        "  observation, reward, done, info = env.step(actions)\n",
        "  print(t, observation, reward, done)\n",
        "\n",
        "  if done:\n",
        "    break"
      ],
      "execution_count": 9,
      "outputs": [
        {
          "output_type": "stream",
          "text": [
            "0 [-5.91995052e-01 -4.94249589e-04] -1.0 False\n",
            "1 [-0.59297992 -0.00098487] -1.0 False\n",
            "2 [-0.59444818 -0.00146826] -1.0 False\n",
            "3 [-0.59638906 -0.00194088] -1.0 False\n",
            "4 [-0.59878835 -0.00239928] -1.0 False\n",
            "5 [-0.60162848 -0.00284013] -1.0 False\n",
            "6 [-0.60488872 -0.00326024] -1.0 False\n",
            "7 [-0.6085453  -0.00365659] -1.0 False\n",
            "8 [-0.61257167 -0.00402636] -1.0 False\n",
            "9 [-0.61693863 -0.00436696] -1.0 False\n",
            "10 [-0.62161466 -0.00467603] -1.0 False\n",
            "11 [-0.62656611 -0.00495146] -1.0 False\n",
            "12 [-0.63175754 -0.00519142] -1.0 False\n",
            "13 [-0.63715193 -0.00539439] -1.0 False\n",
            "14 [-0.64271105 -0.00555912] -1.0 False\n",
            "15 [-0.64839572 -0.00568467] -1.0 False\n",
            "16 [-0.65416612 -0.0057704 ] -1.0 False\n",
            "17 [-0.65998212 -0.005816  ] -1.0 False\n",
            "18 [-0.66580355 -0.00582143] -1.0 False\n",
            "19 [-0.67159049 -0.00578695] -1.0 False\n",
            "20 [-0.67730361 -0.00571312] -1.0 False\n",
            "21 [-0.68290436 -0.00560075] -1.0 False\n",
            "22 [-0.68835529 -0.00545092] -1.0 False\n",
            "23 [-0.69362024 -0.00526495] -1.0 False\n",
            "24 [-0.69866461 -0.00504437] -1.0 False\n",
            "25 [-0.70345552 -0.00479091] -1.0 False\n",
            "26 [-0.70796201 -0.00450649] -1.0 False\n",
            "27 [-0.7121552  -0.00419319] -1.0 False\n",
            "28 [-0.71600844 -0.00385324] -1.0 False\n",
            "29 [-0.71949742 -0.00348898] -1.0 False\n",
            "30 [-0.72260029 -0.00310287] -1.0 False\n",
            "31 [-0.72529774 -0.00269745] -1.0 False\n",
            "32 [-0.72757309 -0.00227535] -1.0 False\n",
            "33 [-0.72941233 -0.00183924] -1.0 False\n",
            "34 [-0.73080419 -0.00139186] -1.0 False\n",
            "35 [-0.73174018 -0.00093599] -1.0 False\n",
            "36 [-7.32214594e-01 -4.74413270e-04] -1.0 False\n",
            "37 [-7.32224546e-01 -9.95247775e-06] -1.0 False\n",
            "38 [-7.31769977e-01  4.54568810e-04] -1.0 False\n",
            "39 [-0.72885365  0.00291633] -1.0 False\n",
            "40 [-0.72349337  0.00536028] -1.0 False\n",
            "41 [-0.71572213  0.00777124] -1.0 False\n",
            "42 [-0.70558844  0.0101337 ] -1.0 False\n",
            "43 [-0.69315662  0.01243181] -1.0 False\n",
            "44 [-0.67850726  0.01464936] -1.0 False\n",
            "45 [-0.66173746  0.0167698 ] -1.0 False\n",
            "46 [-0.64296102  0.01877644] -1.0 False\n",
            "47 [-0.62230836  0.02065265] -1.0 False\n",
            "48 [-0.59992617  0.0223822 ] -1.0 False\n",
            "49 [-0.5759765   0.02394967] -1.0 False\n",
            "50 [-0.55063562  0.02534088] -1.0 False\n",
            "51 [-0.52409218  0.02654344] -1.0 False\n",
            "52 [-0.49654504  0.02754714] -1.0 False\n",
            "53 [-0.46820058  0.02834446] -1.0 False\n",
            "54 [-0.4392697   0.02893088] -1.0 False\n",
            "55 [-0.40996456  0.02930514] -1.0 False\n",
            "56 [-0.38049527  0.02946929] -1.0 False\n",
            "57 [-0.35106659  0.02942868] -1.0 False\n",
            "58 [-0.32187488  0.0291917 ] -1.0 False\n",
            "59 [-0.29310544  0.02876944] -1.0 False\n",
            "60 [-0.26493019  0.02817525] -1.0 False\n",
            "61 [-0.23750603  0.02742416] -1.0 False\n",
            "62 [-0.21097366  0.02653237] -1.0 False\n",
            "63 [-0.18545705  0.02551661] -1.0 False\n",
            "64 [-0.16106339  0.02439367] -1.0 False\n",
            "65 [-0.13788351  0.02317987] -1.0 False\n",
            "66 [-0.11599279  0.02189072] -1.0 False\n",
            "67 [-0.09545222  0.02054056] -1.0 False\n",
            "68 [-0.07630986  0.01914237] -1.0 False\n",
            "69 [-0.05860227  0.01770759] -1.0 False\n",
            "70 [-0.04235614  0.01624613] -1.0 False\n",
            "71 [-0.02758986  0.01476628] -1.0 False\n",
            "72 [-0.01431501  0.01327484] -1.0 False\n",
            "73 [-0.00253787  0.01177715] -1.0 False\n",
            "74 [0.00773935 0.01027722] -1.0 False\n",
            "75 [0.01651724 0.00877789] -1.0 False\n",
            "76 [0.02379821 0.00728096] -1.0 False\n",
            "77 [0.02958554 0.00578733] -1.0 False\n",
            "78 [0.03388271 0.00429717] -1.0 False\n",
            "79 [0.03669278 0.00281008] -1.0 False\n",
            "80 [0.03801799 0.00132521] -1.0 False\n",
            "81 [ 0.03785944 -0.00015855] -1.0 False\n",
            "82 [ 0.034217   -0.00364244] -1.0 False\n",
            "83 [ 0.02708771 -0.00712928] -1.0 False\n",
            "84 [ 0.01646668 -0.01062103] -1.0 False\n",
            "85 [ 0.0023487  -0.01411798] -1.0 False\n",
            "86 [-0.01526922 -0.01761792] -1.0 False\n",
            "87 [-0.03638452 -0.0211153 ] -1.0 False\n",
            "88 [-0.06098494 -0.02460042] -1.0 False\n",
            "89 [-0.08904364 -0.0280587 ] -1.0 False\n",
            "90 [-0.12051367 -0.03147003] -1.0 False\n",
            "91 [-0.15532207 -0.03480841] -1.0 False\n",
            "92 [-0.19336395 -0.03804188] -1.0 False\n",
            "93 [-0.23449686 -0.04113291] -1.0 False\n",
            "94 [-0.27853624 -0.04403938] -1.0 False\n",
            "95 [-0.32525244 -0.0467162 ] -1.0 False\n",
            "96 [-0.37436999 -0.04911755] -1.0 False\n",
            "97 [-0.42556974 -0.05119975] -1.0 False\n",
            "98 [-0.47849416 -0.05292442] -1.0 False\n",
            "99 [-0.53275583 -0.05426167] -1.0 False\n",
            "100 [-0.58794883 -0.055193  ] -1.0 False\n",
            "101 [-0.6436622  -0.05571337] -1.0 False\n",
            "102 [-0.69949444 -0.05583224] -1.0 False\n",
            "103 [-0.75506784 -0.0555734 ] -1.0 False\n",
            "104 [-0.81004141 -0.05497357] -1.0 False\n",
            "105 [-0.86412147 -0.05408006] -1.0 False\n",
            "106 [-0.91706922 -0.05294774] -1.0 False\n",
            "107 [-0.96870505 -0.05163584] -1.0 False\n",
            "108 [-1.01890988 -0.05020483] -1.0 False\n",
            "109 [-1.06762371 -0.04871383] -1.0 False\n",
            "110 [-1.11484223 -0.04721852] -1.0 False\n",
            "111 [-1.16061205 -0.04576982] -1.0 False\n",
            "112 [-1.2  0. ] -1.0 False\n",
            "113 [-1.1987581  0.0012419] -1.0 False\n",
            "114 [-1.19427021  0.0044879 ] -1.0 False\n",
            "115 [-1.18652173  0.00774848] -1.0 False\n",
            "116 [-1.17548846  0.01103326] -1.0 False\n",
            "117 [-1.16113808  0.01435038] -1.0 False\n",
            "118 [-1.14343234  0.01770574] -1.0 False\n",
            "119 [-1.12233007  0.02110228] -1.0 False\n",
            "120 [-1.09779103  0.02453904] -1.0 False\n",
            "121 [-1.06978073  0.0280103 ] -1.0 False\n",
            "122 [-1.03827616  0.03150456] -1.0 False\n",
            "123 [-1.0032725   0.03500367] -1.0 False\n",
            "124 [-0.9647905   0.03848199] -1.0 False\n",
            "125 [-0.92288452  0.04190598] -1.0 False\n",
            "126 [-0.87765038  0.04523414] -1.0 False\n",
            "127 [-0.82923273  0.04841765] -1.0 False\n",
            "128 [-0.77783078  0.05140195] -1.0 False\n",
            "129 [-0.72370164  0.05412914] -1.0 False\n",
            "130 [-0.66716026  0.05654138] -1.0 False\n",
            "131 [-0.60857514  0.05858511] -1.0 False\n",
            "132 [-0.54835959  0.06021555] -1.0 False\n",
            "133 [-0.4869585   0.06140109] -1.0 False\n",
            "134 [-0.42483166  0.06212684] -1.0 False\n",
            "135 [-0.36243478  0.06239688] -1.0 False\n",
            "136 [-0.30020009  0.06223469] -1.0 False\n",
            "137 [-0.23851824  0.06168185] -1.0 False\n",
            "138 [-0.17772322  0.06079502] -1.0 False\n",
            "139 [-0.1180812   0.05964202] -1.0 False\n",
            "140 [-0.05978395  0.05829725] -1.0 False\n",
            "141 [-0.0029466   0.05683735] -1.0 False\n",
            "142 [0.05239085 0.05533745] -1.0 False\n",
            "143 [0.10625911 0.05386826] -1.0 False\n",
            "144 [0.15875332 0.05249421] -1.0 False\n",
            "145 [0.21002575 0.05127242] -1.0 False\n",
            "146 [0.26027822 0.05025247] -1.0 False\n",
            "147 [0.30975487 0.04947665] -1.0 False\n",
            "148 [0.35873547 0.0489806 ] -1.0 False\n",
            "149 [0.40752939 0.04879392] -1.0 False\n",
            "150 [0.45647027 0.04894088] -1.0 False\n",
            "151 [0.50591109 0.04944082] -1.0 True\n"
          ],
          "name": "stdout"
        }
      ]
    },
    {
      "cell_type": "code",
      "metadata": {
        "colab": {
          "base_uri": "https://localhost:8080/",
          "height": 129
        },
        "id": "orB8adzlTCJp",
        "outputId": "7e31625d-2f6e-4f1e-c1de-38f5ae5633df"
      },
      "source": [
        "def policy(observation, t):\n",
        "  \n",
        "  actions = {'left': 0, 'stop': 1, 'right': 2}\n",
        "  position, velocity = observation\n",
        "\n",
        "if velocity > 0:\n",
        "    action = actions['right']\n",
        "  elif velocity < 0:\n",
        "    action = actions['left']\n",
        "  else:\n",
        "    action = actions['left']\n",
        "  return action"
      ],
      "execution_count": 10,
      "outputs": [
        {
          "output_type": "error",
          "ename": "IndentationError",
          "evalue": "ignored",
          "traceback": [
            "\u001b[0;36m  File \u001b[0;32m\"<ipython-input-10-d3234179d1c5>\"\u001b[0;36m, line \u001b[0;32m8\u001b[0m\n\u001b[0;31m    elif velocity < 0:\u001b[0m\n\u001b[0m                      ^\u001b[0m\n\u001b[0;31mIndentationError\u001b[0m\u001b[0;31m:\u001b[0m unindent does not match any outer indentation level\n"
          ]
        }
      ]
    }
  ]
}