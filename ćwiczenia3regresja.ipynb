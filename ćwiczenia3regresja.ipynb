{
  "nbformat": 4,
  "nbformat_minor": 0,
  "metadata": {
    "colab": {
      "name": "ćwiczenia3regresja.ipynb",
      "provenance": [],
      "collapsed_sections": [],
      "authorship_tag": "ABX9TyNbYT8jjnB2LZ1Q7vhMVRap",
      "include_colab_link": true
    },
    "kernelspec": {
      "name": "python3",
      "display_name": "Python 3"
    }
  },
  "cells": [
    {
      "cell_type": "markdown",
      "metadata": {
        "id": "view-in-github",
        "colab_type": "text"
      },
      "source": [
        "<a href=\"https://colab.research.google.com/github/janzaw04/myTestRep/blob/main/%C4%87wiczenia3regresja.ipynb\" target=\"_parent\"><img src=\"https://colab.research.google.com/assets/colab-badge.svg\" alt=\"Open In Colab\"/></a>"
      ]
    },
    {
      "cell_type": "code",
      "metadata": {
        "id": "oBIbl9gO19vt"
      },
      "source": [
        "from keras.models import Sequential\n",
        "from keras.layers import Activation, Dense, Dropout\n",
        "from keras import optimizers\n",
        "\n",
        "import numpy as np\n",
        "import matplotlib.pyplot as plt"
      ],
      "execution_count": 164,
      "outputs": []
    },
    {
      "cell_type": "code",
      "metadata": {
        "colab": {
          "base_uri": "https://localhost:8080/"
        },
        "id": "oYUJPsSg2Dk6",
        "outputId": "eed94511-a84b-47c1-89b6-8e4da5c1347e"
      },
      "source": [
        "def funct(x):\n",
        "  return x*x*np.sin(x)+np.log(2*x)\n",
        "\n",
        "size = 100\n",
        "low=0\n",
        "high=12\n",
        "error=10\n",
        "\n",
        "XX_train = np.random.uniform(low=low, high=high, size=size)\n",
        "XX_test = np.random.uniform(low=low, high=high, size=size)\n",
        "yy_train = funct(XX_train) + np.random.normal(0., error, size)\n",
        "yy_test = funct(XX_test) + np.random.normal(0., error, size)\n",
        "\n",
        "print(XX_train.shape, yy_train.shape)"
      ],
      "execution_count": 165,
      "outputs": [
        {
          "output_type": "stream",
          "text": [
            "(100,) (100,)\n"
          ],
          "name": "stdout"
        }
      ]
    },
    {
      "cell_type": "code",
      "metadata": {
        "colab": {
          "base_uri": "https://localhost:8080/",
          "height": 479
        },
        "id": "woD6kDMN2HhT",
        "outputId": "dd9ec1aa-fa7f-4a07-faaf-b906aee5d5e4"
      },
      "source": [
        "fig = plt.figure(figsize=(7,7))\n",
        "\n",
        "plt.plot(XX_train,yy_train, 'o', color='blue', label='Training points')\n",
        "plt.plot(XX_test,yy_test, 'o', color='green', label='Testing points')\n",
        "\n",
        "points = np.linspace(low, high,num=100)\n",
        "plt.plot(points, funct(points),  color='red', label='Function')\n",
        "plt.legend()\n",
        "\n",
        "\n",
        "plt.show"
      ],
      "execution_count": 166,
      "outputs": [
        {
          "output_type": "stream",
          "text": [
            "/usr/local/lib/python3.6/dist-packages/ipykernel_launcher.py:2: RuntimeWarning: divide by zero encountered in log\n",
            "  \n"
          ],
          "name": "stderr"
        },
        {
          "output_type": "execute_result",
          "data": {
            "text/plain": [
              "<function matplotlib.pyplot.show>"
            ]
          },
          "metadata": {
            "tags": []
          },
          "execution_count": 166
        },
        {
          "output_type": "display_data",
          "data": {
            "image/png": "[encoded data removed]",
            "text/plain": [
              "<Figure size 504x504 with 1 Axes>"
            ]
          },
          "metadata": {
            "tags": [],
            "needs_background": "light"
          }
        }
      ]
    },
    {
      "cell_type": "code",
      "metadata": {
        "id": "ohOtaECy2VIC"
      },
      "source": [
        "# Tutaj należy znormalizować dane, i.e. \n",
        "# - odjąć średnią\n",
        "# - podzielić przez odchylenie standardowe\n",
        "\n",
        "# \n",
        "mean = XX_train.mean(axis=0)\n",
        "XX_train_n = XX_train-mean\n",
        "std = XX_train_n.std(axis=0)\n",
        "XX_train_n /= std\n",
        "\n",
        "# to samo dla X_test\n",
        "XX_test_n = XX_test - mean\n",
        "XX_test_n /= std\n",
        "\n",
        "# A teraz to samo dla yy_train i yy_test\n",
        "mean1 = yy_train.mean(axis=0)\n",
        "yy_train_n = yy_train-mean1\n",
        "std1 = yy_train_n.std(axis=0)\n",
        "yy_train_n /= std1\n",
        "# to samo dla y_test\n",
        "yy_test_n = yy_test - mean1\n",
        "yy_test_n /= std1"
      ],
      "execution_count": 167,
      "outputs": []
    },
    {
      "cell_type": "code",
      "metadata": {
        "colab": {
          "base_uri": "https://localhost:8080/"
        },
        "id": "EoSYTFVX3mdo",
        "outputId": "8f29349d-d6b6-4875-ad0d-2e80c6bd7626"
      },
      "source": [
        "# Zbudować sieć neuronową, działa: dwie warstwy ukryte, aktywacja relu\n",
        "# ostatnia warstwa rozmiar 1\n",
        "from keras import models\n",
        "from keras import layers\n",
        "\n",
        "model0 = Sequential()\n",
        "#.......\n",
        "model0.add(layers.Dense(1024, activation='relu', input_shape=(1,)))\n",
        "model0.add(Dropout(0.2))\n",
        "model0.add(layers.Dense(1024, activation='relu'))\n",
        "model0.add(Dropout(0.2))\n",
        "model0.add(layers.Dense(1, activation='linear'))\n",
        "\n",
        "model0.compile(optimizer='adam',\n",
        "                    loss='mean_squared_error',\n",
        "                    metrics=['mse'])\n",
        "\n",
        "model0.summary()"
      ],
      "execution_count": 174,
      "outputs": [
        {
          "output_type": "stream",
          "text": [
            "Model: \"sequential_14\"\n",
            "_________________________________________________________________\n",
            "Layer (type)                 Output Shape              Param #   \n",
            "=================================================================\n",
            "dense_36 (Dense)             (None, 1024)              2048      \n",
            "_________________________________________________________________\n",
            "dropout_8 (Dropout)          (None, 1024)              0         \n",
            "_________________________________________________________________\n",
            "dense_37 (Dense)             (None, 1024)              1049600   \n",
            "_________________________________________________________________\n",
            "dropout_9 (Dropout)          (None, 1024)              0         \n",
            "_________________________________________________________________\n",
            "dense_38 (Dense)             (None, 1)                 1025      \n",
            "=================================================================\n",
            "Total params: 1,052,673\n",
            "Trainable params: 1,052,673\n",
            "Non-trainable params: 0\n",
            "_________________________________________________________________\n"
          ],
          "name": "stdout"
        }
      ]
    },
    {
      "cell_type": "code",
      "metadata": {
        "colab": {
          "base_uri": "https://localhost:8080/"
        },
        "id": "WuKNLkKWGVy9",
        "outputId": "1c064882-80fc-4d46-f15a-f63d2900b136"
      },
      "source": [
        "history = model0.fit(XX_train_n,yy_train_n, epochs=200, batch_size=512, validation_data=(XX_test_n, yy_test_n))"
      ],
      "execution_count": 175,
      "outputs": [
        {
          "output_type": "stream",
          "text": [
            "Epoch 1/200\n",
            "1/1 [==============================] - 0s 111ms/step - loss: 1.0353 - mse: 1.0353 - val_loss: 0.9048 - val_mse: 0.9048\n",
            "Epoch 2/200\n",
            "1/1 [==============================] - 0s 21ms/step - loss: 0.8463 - mse: 0.8463 - val_loss: 0.8966 - val_mse: 0.8966\n",
            "Epoch 3/200\n",
            "1/1 [==============================] - 0s 21ms/step - loss: 0.7623 - mse: 0.7623 - val_loss: 0.9383 - val_mse: 0.9383\n",
            "Epoch 4/200\n",
            "1/1 [==============================] - 0s 21ms/step - loss: 0.7908 - mse: 0.7908 - val_loss: 0.9421 - val_mse: 0.9421\n",
            "Epoch 5/200\n",
            "1/1 [==============================] - 0s 22ms/step - loss: 0.7934 - mse: 0.7934 - val_loss: 0.8990 - val_mse: 0.8990\n",
            "Epoch 6/200\n",
            "1/1 [==============================] - 0s 28ms/step - loss: 0.7691 - mse: 0.7691 - val_loss: 0.8481 - val_mse: 0.8481\n",
            "Epoch 7/200\n",
            "1/1 [==============================] - 0s 19ms/step - loss: 0.7387 - mse: 0.7387 - val_loss: 0.8122 - val_mse: 0.8122\n",
            "Epoch 8/200\n",
            "1/1 [==============================] - 0s 20ms/step - loss: 0.7103 - mse: 0.7103 - val_loss: 0.7925 - val_mse: 0.7925\n",
            "Epoch 9/200\n",
            "1/1 [==============================] - 0s 44ms/step - loss: 0.7116 - mse: 0.7116 - val_loss: 0.7797 - val_mse: 0.7797\n",
            "Epoch 10/200\n",
            "1/1 [==============================] - 0s 29ms/step - loss: 0.7035 - mse: 0.7035 - val_loss: 0.7651 - val_mse: 0.7651\n",
            "Epoch 11/200\n",
            "1/1 [==============================] - 0s 21ms/step - loss: 0.6990 - mse: 0.6990 - val_loss: 0.7462 - val_mse: 0.7462\n",
            "Epoch 12/200\n",
            "1/1 [==============================] - 0s 22ms/step - loss: 0.6760 - mse: 0.6760 - val_loss: 0.7252 - val_mse: 0.7252\n",
            "Epoch 13/200\n",
            "1/1 [==============================] - 0s 24ms/step - loss: 0.6614 - mse: 0.6614 - val_loss: 0.7048 - val_mse: 0.7048\n",
            "Epoch 14/200\n",
            "1/1 [==============================] - 0s 20ms/step - loss: 0.6339 - mse: 0.6339 - val_loss: 0.6873 - val_mse: 0.6873\n",
            "Epoch 15/200\n",
            "1/1 [==============================] - 0s 26ms/step - loss: 0.6183 - mse: 0.6183 - val_loss: 0.6716 - val_mse: 0.6716\n",
            "Epoch 16/200\n",
            "1/1 [==============================] - 0s 23ms/step - loss: 0.5892 - mse: 0.5892 - val_loss: 0.6552 - val_mse: 0.6552\n",
            "Epoch 17/200\n",
            "1/1 [==============================] - 0s 21ms/step - loss: 0.5722 - mse: 0.5722 - val_loss: 0.6342 - val_mse: 0.6342\n",
            "Epoch 18/200\n",
            "1/1 [==============================] - 0s 22ms/step - loss: 0.5460 - mse: 0.5460 - val_loss: 0.6086 - val_mse: 0.6086\n",
            "Epoch 19/200\n",
            "1/1 [==============================] - 0s 22ms/step - loss: 0.5334 - mse: 0.5334 - val_loss: 0.5787 - val_mse: 0.5787\n",
            "Epoch 20/200\n",
            "1/1 [==============================] - 0s 22ms/step - loss: 0.5097 - mse: 0.5097 - val_loss: 0.5470 - val_mse: 0.5470\n",
            "Epoch 21/200\n",
            "1/1 [==============================] - 0s 21ms/step - loss: 0.4746 - mse: 0.4746 - val_loss: 0.5152 - val_mse: 0.5152\n",
            "Epoch 22/200\n",
            "1/1 [==============================] - 0s 21ms/step - loss: 0.4502 - mse: 0.4502 - val_loss: 0.4851 - val_mse: 0.4851\n",
            "Epoch 23/200\n",
            "1/1 [==============================] - 0s 23ms/step - loss: 0.4409 - mse: 0.4409 - val_loss: 0.4562 - val_mse: 0.4562\n",
            "Epoch 24/200\n",
            "1/1 [==============================] - 0s 21ms/step - loss: 0.4150 - mse: 0.4150 - val_loss: 0.4278 - val_mse: 0.4278\n",
            "Epoch 25/200\n",
            "1/1 [==============================] - 0s 21ms/step - loss: 0.3872 - mse: 0.3872 - val_loss: 0.4002 - val_mse: 0.4002\n",
            "Epoch 26/200\n",
            "1/1 [==============================] - 0s 22ms/step - loss: 0.3694 - mse: 0.3694 - val_loss: 0.3749 - val_mse: 0.3749\n",
            "Epoch 27/200\n",
            "1/1 [==============================] - 0s 20ms/step - loss: 0.3406 - mse: 0.3406 - val_loss: 0.3521 - val_mse: 0.3521\n",
            "Epoch 28/200\n",
            "1/1 [==============================] - 0s 22ms/step - loss: 0.3201 - mse: 0.3201 - val_loss: 0.3290 - val_mse: 0.3290\n",
            "Epoch 29/200\n",
            "1/1 [==============================] - 0s 23ms/step - loss: 0.3127 - mse: 0.3127 - val_loss: 0.3050 - val_mse: 0.3050\n",
            "Epoch 30/200\n",
            "1/1 [==============================] - 0s 23ms/step - loss: 0.2947 - mse: 0.2947 - val_loss: 0.2811 - val_mse: 0.2811\n",
            "Epoch 31/200\n",
            "1/1 [==============================] - 0s 21ms/step - loss: 0.2783 - mse: 0.2783 - val_loss: 0.2592 - val_mse: 0.2592\n",
            "Epoch 32/200\n",
            "1/1 [==============================] - 0s 25ms/step - loss: 0.2541 - mse: 0.2541 - val_loss: 0.2395 - val_mse: 0.2395\n",
            "Epoch 33/200\n",
            "1/1 [==============================] - 0s 22ms/step - loss: 0.2485 - mse: 0.2485 - val_loss: 0.2197 - val_mse: 0.2197\n",
            "Epoch 34/200\n",
            "1/1 [==============================] - 0s 21ms/step - loss: 0.2343 - mse: 0.2343 - val_loss: 0.1970 - val_mse: 0.1970\n",
            "Epoch 35/200\n",
            "1/1 [==============================] - 0s 25ms/step - loss: 0.2105 - mse: 0.2105 - val_loss: 0.1758 - val_mse: 0.1758\n",
            "Epoch 36/200\n",
            "1/1 [==============================] - 0s 23ms/step - loss: 0.1913 - mse: 0.1913 - val_loss: 0.1578 - val_mse: 0.1578\n",
            "Epoch 37/200\n",
            "1/1 [==============================] - 0s 23ms/step - loss: 0.1769 - mse: 0.1769 - val_loss: 0.1428 - val_mse: 0.1428\n",
            "Epoch 38/200\n",
            "1/1 [==============================] - 0s 22ms/step - loss: 0.1682 - mse: 0.1682 - val_loss: 0.1311 - val_mse: 0.1311\n",
            "Epoch 39/200\n",
            "1/1 [==============================] - 0s 22ms/step - loss: 0.1652 - mse: 0.1652 - val_loss: 0.1235 - val_mse: 0.1235\n",
            "Epoch 40/200\n",
            "1/1 [==============================] - 0s 21ms/step - loss: 0.1342 - mse: 0.1342 - val_loss: 0.1169 - val_mse: 0.1169\n",
            "Epoch 41/200\n",
            "1/1 [==============================] - 0s 21ms/step - loss: 0.1315 - mse: 0.1315 - val_loss: 0.1073 - val_mse: 0.1073\n",
            "Epoch 42/200\n",
            "1/1 [==============================] - 0s 25ms/step - loss: 0.1442 - mse: 0.1442 - val_loss: 0.1012 - val_mse: 0.1012\n",
            "Epoch 43/200\n",
            "1/1 [==============================] - 0s 22ms/step - loss: 0.1394 - mse: 0.1394 - val_loss: 0.0994 - val_mse: 0.0994\n",
            "Epoch 44/200\n",
            "1/1 [==============================] - 0s 22ms/step - loss: 0.1445 - mse: 0.1445 - val_loss: 0.1039 - val_mse: 0.1039\n",
            "Epoch 45/200\n",
            "1/1 [==============================] - 0s 22ms/step - loss: 0.1676 - mse: 0.1676 - val_loss: 0.1104 - val_mse: 0.1104\n",
            "Epoch 46/200\n",
            "1/1 [==============================] - 0s 22ms/step - loss: 0.1636 - mse: 0.1636 - val_loss: 0.0954 - val_mse: 0.0954\n",
            "Epoch 47/200\n",
            "1/1 [==============================] - 0s 22ms/step - loss: 0.1287 - mse: 0.1287 - val_loss: 0.0916 - val_mse: 0.0916\n",
            "Epoch 48/200\n",
            "1/1 [==============================] - 0s 26ms/step - loss: 0.1343 - mse: 0.1343 - val_loss: 0.0962 - val_mse: 0.0962\n",
            "Epoch 49/200\n",
            "1/1 [==============================] - 0s 22ms/step - loss: 0.1383 - mse: 0.1383 - val_loss: 0.1006 - val_mse: 0.1006\n",
            "Epoch 50/200\n",
            "1/1 [==============================] - 0s 22ms/step - loss: 0.1140 - mse: 0.1140 - val_loss: 0.0983 - val_mse: 0.0983\n",
            "Epoch 51/200\n",
            "1/1 [==============================] - 0s 22ms/step - loss: 0.1284 - mse: 0.1284 - val_loss: 0.0923 - val_mse: 0.0923\n",
            "Epoch 52/200\n",
            "1/1 [==============================] - 0s 24ms/step - loss: 0.1255 - mse: 0.1255 - val_loss: 0.0907 - val_mse: 0.0907\n",
            "Epoch 53/200\n",
            "1/1 [==============================] - 0s 24ms/step - loss: 0.1426 - mse: 0.1426 - val_loss: 0.0985 - val_mse: 0.0985\n",
            "Epoch 54/200\n",
            "1/1 [==============================] - 0s 22ms/step - loss: 0.1605 - mse: 0.1605 - val_loss: 0.1030 - val_mse: 0.1030\n",
            "Epoch 55/200\n",
            "1/1 [==============================] - 0s 22ms/step - loss: 0.1381 - mse: 0.1381 - val_loss: 0.0947 - val_mse: 0.0947\n",
            "Epoch 56/200\n",
            "1/1 [==============================] - 0s 23ms/step - loss: 0.1303 - mse: 0.1303 - val_loss: 0.0901 - val_mse: 0.0901\n",
            "Epoch 57/200\n",
            "1/1 [==============================] - 0s 22ms/step - loss: 0.1142 - mse: 0.1142 - val_loss: 0.0907 - val_mse: 0.0907\n",
            "Epoch 58/200\n",
            "1/1 [==============================] - 0s 23ms/step - loss: 0.1125 - mse: 0.1125 - val_loss: 0.0945 - val_mse: 0.0945\n",
            "Epoch 59/200\n",
            "1/1 [==============================] - 0s 26ms/step - loss: 0.1075 - mse: 0.1075 - val_loss: 0.0970 - val_mse: 0.0970\n",
            "Epoch 60/200\n",
            "1/1 [==============================] - 0s 23ms/step - loss: 0.1122 - mse: 0.1122 - val_loss: 0.0988 - val_mse: 0.0988\n",
            "Epoch 61/200\n",
            "1/1 [==============================] - 0s 22ms/step - loss: 0.1302 - mse: 0.1302 - val_loss: 0.0965 - val_mse: 0.0965\n",
            "Epoch 62/200\n",
            "1/1 [==============================] - 0s 22ms/step - loss: 0.1335 - mse: 0.1335 - val_loss: 0.0941 - val_mse: 0.0941\n",
            "Epoch 63/200\n",
            "1/1 [==============================] - 0s 22ms/step - loss: 0.1428 - mse: 0.1428 - val_loss: 0.0930 - val_mse: 0.0930\n",
            "Epoch 64/200\n",
            "1/1 [==============================] - 0s 24ms/step - loss: 0.1283 - mse: 0.1283 - val_loss: 0.0919 - val_mse: 0.0919\n",
            "Epoch 65/200\n",
            "1/1 [==============================] - 0s 27ms/step - loss: 0.1050 - mse: 0.1050 - val_loss: 0.0934 - val_mse: 0.0934\n",
            "Epoch 66/200\n",
            "1/1 [==============================] - 0s 22ms/step - loss: 0.1059 - mse: 0.1059 - val_loss: 0.0952 - val_mse: 0.0952\n",
            "Epoch 67/200\n",
            "1/1 [==============================] - 0s 21ms/step - loss: 0.1292 - mse: 0.1292 - val_loss: 0.0961 - val_mse: 0.0961\n",
            "Epoch 68/200\n",
            "1/1 [==============================] - 0s 22ms/step - loss: 0.1360 - mse: 0.1360 - val_loss: 0.0931 - val_mse: 0.0931\n",
            "Epoch 69/200\n",
            "1/1 [==============================] - 0s 21ms/step - loss: 0.1182 - mse: 0.1182 - val_loss: 0.0921 - val_mse: 0.0921\n",
            "Epoch 70/200\n",
            "1/1 [==============================] - 0s 22ms/step - loss: 0.1323 - mse: 0.1323 - val_loss: 0.0908 - val_mse: 0.0908\n",
            "Epoch 71/200\n",
            "1/1 [==============================] - 0s 27ms/step - loss: 0.1341 - mse: 0.1341 - val_loss: 0.0959 - val_mse: 0.0959\n",
            "Epoch 72/200\n",
            "1/1 [==============================] - 0s 21ms/step - loss: 0.1318 - mse: 0.1318 - val_loss: 0.0885 - val_mse: 0.0885\n",
            "Epoch 73/200\n",
            "1/1 [==============================] - 0s 22ms/step - loss: 0.1178 - mse: 0.1178 - val_loss: 0.0898 - val_mse: 0.0898\n",
            "Epoch 74/200\n",
            "1/1 [==============================] - 0s 25ms/step - loss: 0.1180 - mse: 0.1180 - val_loss: 0.0899 - val_mse: 0.0899\n",
            "Epoch 75/200\n",
            "1/1 [==============================] - 0s 24ms/step - loss: 0.1274 - mse: 0.1274 - val_loss: 0.0874 - val_mse: 0.0874\n",
            "Epoch 76/200\n",
            "1/1 [==============================] - 0s 23ms/step - loss: 0.1355 - mse: 0.1355 - val_loss: 0.0905 - val_mse: 0.0905\n",
            "Epoch 77/200\n",
            "1/1 [==============================] - 0s 30ms/step - loss: 0.1166 - mse: 0.1166 - val_loss: 0.0949 - val_mse: 0.0949\n",
            "Epoch 78/200\n",
            "1/1 [==============================] - 0s 24ms/step - loss: 0.1498 - mse: 0.1498 - val_loss: 0.0900 - val_mse: 0.0900\n",
            "Epoch 79/200\n",
            "1/1 [==============================] - 0s 21ms/step - loss: 0.1089 - mse: 0.1089 - val_loss: 0.0871 - val_mse: 0.0871\n",
            "Epoch 80/200\n",
            "1/1 [==============================] - 0s 22ms/step - loss: 0.1147 - mse: 0.1147 - val_loss: 0.0891 - val_mse: 0.0891\n",
            "Epoch 81/200\n",
            "1/1 [==============================] - 0s 22ms/step - loss: 0.1647 - mse: 0.1647 - val_loss: 0.0893 - val_mse: 0.0893\n",
            "Epoch 82/200\n",
            "1/1 [==============================] - 0s 21ms/step - loss: 0.1174 - mse: 0.1174 - val_loss: 0.0959 - val_mse: 0.0959\n",
            "Epoch 83/200\n",
            "1/1 [==============================] - 0s 24ms/step - loss: 0.1233 - mse: 0.1233 - val_loss: 0.0958 - val_mse: 0.0958\n",
            "Epoch 84/200\n",
            "1/1 [==============================] - 0s 26ms/step - loss: 0.1108 - mse: 0.1108 - val_loss: 0.0874 - val_mse: 0.0874\n",
            "Epoch 85/200\n",
            "1/1 [==============================] - 0s 27ms/step - loss: 0.1245 - mse: 0.1245 - val_loss: 0.0846 - val_mse: 0.0846\n",
            "Epoch 86/200\n",
            "1/1 [==============================] - 0s 23ms/step - loss: 0.1222 - mse: 0.1222 - val_loss: 0.0859 - val_mse: 0.0859\n",
            "Epoch 87/200\n",
            "1/1 [==============================] - 0s 27ms/step - loss: 0.0934 - mse: 0.0934 - val_loss: 0.0918 - val_mse: 0.0918\n",
            "Epoch 88/200\n",
            "1/1 [==============================] - 0s 23ms/step - loss: 0.1321 - mse: 0.1321 - val_loss: 0.0979 - val_mse: 0.0979\n",
            "Epoch 89/200\n",
            "1/1 [==============================] - 0s 26ms/step - loss: 0.1146 - mse: 0.1146 - val_loss: 0.0922 - val_mse: 0.0922\n",
            "Epoch 90/200\n",
            "1/1 [==============================] - 0s 23ms/step - loss: 0.1180 - mse: 0.1180 - val_loss: 0.0856 - val_mse: 0.0856\n",
            "Epoch 91/200\n",
            "1/1 [==============================] - 0s 22ms/step - loss: 0.1081 - mse: 0.1081 - val_loss: 0.0846 - val_mse: 0.0846\n",
            "Epoch 92/200\n",
            "1/1 [==============================] - 0s 24ms/step - loss: 0.1097 - mse: 0.1097 - val_loss: 0.0865 - val_mse: 0.0865\n",
            "Epoch 93/200\n",
            "1/1 [==============================] - 0s 21ms/step - loss: 0.1068 - mse: 0.1068 - val_loss: 0.0911 - val_mse: 0.0911\n",
            "Epoch 94/200\n",
            "1/1 [==============================] - 0s 23ms/step - loss: 0.1190 - mse: 0.1190 - val_loss: 0.0942 - val_mse: 0.0942\n",
            "Epoch 95/200\n",
            "1/1 [==============================] - 0s 22ms/step - loss: 0.1055 - mse: 0.1055 - val_loss: 0.0920 - val_mse: 0.0920\n",
            "Epoch 96/200\n",
            "1/1 [==============================] - 0s 23ms/step - loss: 0.1133 - mse: 0.1133 - val_loss: 0.0890 - val_mse: 0.0890\n",
            "Epoch 97/200\n",
            "1/1 [==============================] - 0s 23ms/step - loss: 0.1107 - mse: 0.1107 - val_loss: 0.0859 - val_mse: 0.0859\n",
            "Epoch 98/200\n",
            "1/1 [==============================] - 0s 22ms/step - loss: 0.0874 - mse: 0.0874 - val_loss: 0.0835 - val_mse: 0.0835\n",
            "Epoch 99/200\n",
            "1/1 [==============================] - 0s 26ms/step - loss: 0.1163 - mse: 0.1163 - val_loss: 0.0855 - val_mse: 0.0855\n",
            "Epoch 100/200\n",
            "1/1 [==============================] - 0s 25ms/step - loss: 0.1164 - mse: 0.1164 - val_loss: 0.0869 - val_mse: 0.0869\n",
            "Epoch 101/200\n",
            "1/1 [==============================] - 0s 23ms/step - loss: 0.1081 - mse: 0.1081 - val_loss: 0.0891 - val_mse: 0.0891\n",
            "Epoch 102/200\n",
            "1/1 [==============================] - 0s 22ms/step - loss: 0.1209 - mse: 0.1209 - val_loss: 0.0900 - val_mse: 0.0900\n",
            "Epoch 103/200\n",
            "1/1 [==============================] - 0s 28ms/step - loss: 0.0911 - mse: 0.0911 - val_loss: 0.0913 - val_mse: 0.0913\n",
            "Epoch 104/200\n",
            "1/1 [==============================] - 0s 24ms/step - loss: 0.0987 - mse: 0.0987 - val_loss: 0.0897 - val_mse: 0.0897\n",
            "Epoch 105/200\n",
            "1/1 [==============================] - 0s 22ms/step - loss: 0.1086 - mse: 0.1086 - val_loss: 0.0912 - val_mse: 0.0912\n",
            "Epoch 106/200\n",
            "1/1 [==============================] - 0s 24ms/step - loss: 0.1097 - mse: 0.1097 - val_loss: 0.0894 - val_mse: 0.0894\n",
            "Epoch 107/200\n",
            "1/1 [==============================] - 0s 23ms/step - loss: 0.1173 - mse: 0.1173 - val_loss: 0.0849 - val_mse: 0.0849\n",
            "Epoch 108/200\n",
            "1/1 [==============================] - 0s 22ms/step - loss: 0.1219 - mse: 0.1219 - val_loss: 0.0852 - val_mse: 0.0852\n",
            "Epoch 109/200\n",
            "1/1 [==============================] - 0s 21ms/step - loss: 0.1135 - mse: 0.1135 - val_loss: 0.0879 - val_mse: 0.0879\n",
            "Epoch 110/200\n",
            "1/1 [==============================] - 0s 23ms/step - loss: 0.1117 - mse: 0.1117 - val_loss: 0.0894 - val_mse: 0.0894\n",
            "Epoch 111/200\n",
            "1/1 [==============================] - 0s 22ms/step - loss: 0.1007 - mse: 0.1007 - val_loss: 0.0842 - val_mse: 0.0842\n",
            "Epoch 112/200\n",
            "1/1 [==============================] - 0s 24ms/step - loss: 0.1007 - mse: 0.1007 - val_loss: 0.0844 - val_mse: 0.0844\n",
            "Epoch 113/200\n",
            "1/1 [==============================] - 0s 26ms/step - loss: 0.1004 - mse: 0.1004 - val_loss: 0.0848 - val_mse: 0.0848\n",
            "Epoch 114/200\n",
            "1/1 [==============================] - 0s 23ms/step - loss: 0.1045 - mse: 0.1045 - val_loss: 0.0866 - val_mse: 0.0866\n",
            "Epoch 115/200\n",
            "1/1 [==============================] - 0s 27ms/step - loss: 0.1136 - mse: 0.1136 - val_loss: 0.0877 - val_mse: 0.0877\n",
            "Epoch 116/200\n",
            "1/1 [==============================] - 0s 22ms/step - loss: 0.0907 - mse: 0.0907 - val_loss: 0.0857 - val_mse: 0.0857\n",
            "Epoch 117/200\n",
            "1/1 [==============================] - 0s 23ms/step - loss: 0.0993 - mse: 0.0993 - val_loss: 0.0838 - val_mse: 0.0838\n",
            "Epoch 118/200\n",
            "1/1 [==============================] - 0s 22ms/step - loss: 0.1040 - mse: 0.1040 - val_loss: 0.0839 - val_mse: 0.0839\n",
            "Epoch 119/200\n",
            "1/1 [==============================] - 0s 24ms/step - loss: 0.0988 - mse: 0.0988 - val_loss: 0.0846 - val_mse: 0.0846\n",
            "Epoch 120/200\n",
            "1/1 [==============================] - 0s 26ms/step - loss: 0.1145 - mse: 0.1145 - val_loss: 0.0864 - val_mse: 0.0864\n",
            "Epoch 121/200\n",
            "1/1 [==============================] - 0s 26ms/step - loss: 0.0967 - mse: 0.0967 - val_loss: 0.0860 - val_mse: 0.0860\n",
            "Epoch 122/200\n",
            "1/1 [==============================] - 0s 22ms/step - loss: 0.0949 - mse: 0.0949 - val_loss: 0.0856 - val_mse: 0.0856\n",
            "Epoch 123/200\n",
            "1/1 [==============================] - 0s 23ms/step - loss: 0.0980 - mse: 0.0980 - val_loss: 0.0847 - val_mse: 0.0847\n",
            "Epoch 124/200\n",
            "1/1 [==============================] - 0s 21ms/step - loss: 0.1020 - mse: 0.1020 - val_loss: 0.0837 - val_mse: 0.0837\n",
            "Epoch 125/200\n",
            "1/1 [==============================] - 0s 24ms/step - loss: 0.1037 - mse: 0.1037 - val_loss: 0.0850 - val_mse: 0.0850\n",
            "Epoch 126/200\n",
            "1/1 [==============================] - 0s 25ms/step - loss: 0.0944 - mse: 0.0944 - val_loss: 0.0852 - val_mse: 0.0852\n",
            "Epoch 127/200\n",
            "1/1 [==============================] - 0s 23ms/step - loss: 0.1014 - mse: 0.1014 - val_loss: 0.0831 - val_mse: 0.0831\n",
            "Epoch 128/200\n",
            "1/1 [==============================] - 0s 22ms/step - loss: 0.0993 - mse: 0.0993 - val_loss: 0.0839 - val_mse: 0.0839\n",
            "Epoch 129/200\n",
            "1/1 [==============================] - 0s 22ms/step - loss: 0.1022 - mse: 0.1022 - val_loss: 0.0838 - val_mse: 0.0838\n",
            "Epoch 130/200\n",
            "1/1 [==============================] - 0s 23ms/step - loss: 0.0851 - mse: 0.0851 - val_loss: 0.0820 - val_mse: 0.0820\n",
            "Epoch 131/200\n",
            "1/1 [==============================] - 0s 23ms/step - loss: 0.1127 - mse: 0.1127 - val_loss: 0.0844 - val_mse: 0.0844\n",
            "Epoch 132/200\n",
            "1/1 [==============================] - 0s 25ms/step - loss: 0.1009 - mse: 0.1009 - val_loss: 0.0930 - val_mse: 0.0930\n",
            "Epoch 133/200\n",
            "1/1 [==============================] - 0s 23ms/step - loss: 0.0846 - mse: 0.0846 - val_loss: 0.0931 - val_mse: 0.0931\n",
            "Epoch 134/200\n",
            "1/1 [==============================] - 0s 23ms/step - loss: 0.0987 - mse: 0.0987 - val_loss: 0.0826 - val_mse: 0.0826\n",
            "Epoch 135/200\n",
            "1/1 [==============================] - 0s 25ms/step - loss: 0.0943 - mse: 0.0943 - val_loss: 0.0849 - val_mse: 0.0849\n",
            "Epoch 136/200\n",
            "1/1 [==============================] - 0s 26ms/step - loss: 0.1004 - mse: 0.1004 - val_loss: 0.0852 - val_mse: 0.0852\n",
            "Epoch 137/200\n",
            "1/1 [==============================] - 0s 24ms/step - loss: 0.1002 - mse: 0.1002 - val_loss: 0.0814 - val_mse: 0.0814\n",
            "Epoch 138/200\n",
            "1/1 [==============================] - 0s 22ms/step - loss: 0.0896 - mse: 0.0896 - val_loss: 0.0880 - val_mse: 0.0880\n",
            "Epoch 139/200\n",
            "1/1 [==============================] - 0s 28ms/step - loss: 0.1223 - mse: 0.1223 - val_loss: 0.0916 - val_mse: 0.0916\n",
            "Epoch 140/200\n",
            "1/1 [==============================] - 0s 24ms/step - loss: 0.1118 - mse: 0.1118 - val_loss: 0.0858 - val_mse: 0.0858\n",
            "Epoch 141/200\n",
            "1/1 [==============================] - 0s 25ms/step - loss: 0.0840 - mse: 0.0840 - val_loss: 0.0824 - val_mse: 0.0824\n",
            "Epoch 142/200\n",
            "1/1 [==============================] - 0s 24ms/step - loss: 0.0928 - mse: 0.0928 - val_loss: 0.0840 - val_mse: 0.0840\n",
            "Epoch 143/200\n",
            "1/1 [==============================] - 0s 24ms/step - loss: 0.1026 - mse: 0.1026 - val_loss: 0.0805 - val_mse: 0.0805\n",
            "Epoch 144/200\n",
            "1/1 [==============================] - 0s 22ms/step - loss: 0.1067 - mse: 0.1067 - val_loss: 0.0836 - val_mse: 0.0836\n",
            "Epoch 145/200\n",
            "1/1 [==============================] - 0s 25ms/step - loss: 0.1010 - mse: 0.1010 - val_loss: 0.0929 - val_mse: 0.0929\n",
            "Epoch 146/200\n",
            "1/1 [==============================] - 0s 25ms/step - loss: 0.1137 - mse: 0.1137 - val_loss: 0.0871 - val_mse: 0.0871\n",
            "Epoch 147/200\n",
            "1/1 [==============================] - 0s 25ms/step - loss: 0.1030 - mse: 0.1030 - val_loss: 0.0784 - val_mse: 0.0784\n",
            "Epoch 148/200\n",
            "1/1 [==============================] - 0s 21ms/step - loss: 0.0776 - mse: 0.0776 - val_loss: 0.0849 - val_mse: 0.0849\n",
            "Epoch 149/200\n",
            "1/1 [==============================] - 0s 25ms/step - loss: 0.0880 - mse: 0.0880 - val_loss: 0.0925 - val_mse: 0.0925\n",
            "Epoch 150/200\n",
            "1/1 [==============================] - 0s 24ms/step - loss: 0.1088 - mse: 0.1088 - val_loss: 0.0824 - val_mse: 0.0824\n",
            "Epoch 151/200\n",
            "1/1 [==============================] - 0s 24ms/step - loss: 0.0936 - mse: 0.0936 - val_loss: 0.0817 - val_mse: 0.0817\n",
            "Epoch 152/200\n",
            "1/1 [==============================] - 0s 22ms/step - loss: 0.0912 - mse: 0.0912 - val_loss: 0.0959 - val_mse: 0.0959\n",
            "Epoch 153/200\n",
            "1/1 [==============================] - 0s 27ms/step - loss: 0.0974 - mse: 0.0974 - val_loss: 0.0945 - val_mse: 0.0945\n",
            "Epoch 154/200\n",
            "1/1 [==============================] - 0s 29ms/step - loss: 0.0945 - mse: 0.0945 - val_loss: 0.0811 - val_mse: 0.0811\n",
            "Epoch 155/200\n",
            "1/1 [==============================] - 0s 27ms/step - loss: 0.0945 - mse: 0.0945 - val_loss: 0.0796 - val_mse: 0.0796\n",
            "Epoch 156/200\n",
            "1/1 [==============================] - 0s 22ms/step - loss: 0.0979 - mse: 0.0979 - val_loss: 0.0877 - val_mse: 0.0877\n",
            "Epoch 157/200\n",
            "1/1 [==============================] - 0s 22ms/step - loss: 0.0985 - mse: 0.0985 - val_loss: 0.0892 - val_mse: 0.0892\n",
            "Epoch 158/200\n",
            "1/1 [==============================] - 0s 27ms/step - loss: 0.1028 - mse: 0.1028 - val_loss: 0.0794 - val_mse: 0.0794\n",
            "Epoch 159/200\n",
            "1/1 [==============================] - 0s 27ms/step - loss: 0.0882 - mse: 0.0882 - val_loss: 0.0809 - val_mse: 0.0809\n",
            "Epoch 160/200\n",
            "1/1 [==============================] - 0s 24ms/step - loss: 0.1036 - mse: 0.1036 - val_loss: 0.0858 - val_mse: 0.0858\n",
            "Epoch 161/200\n",
            "1/1 [==============================] - 0s 22ms/step - loss: 0.0981 - mse: 0.0981 - val_loss: 0.0826 - val_mse: 0.0826\n",
            "Epoch 162/200\n",
            "1/1 [==============================] - 0s 23ms/step - loss: 0.0918 - mse: 0.0918 - val_loss: 0.0762 - val_mse: 0.0762\n",
            "Epoch 163/200\n",
            "1/1 [==============================] - 0s 26ms/step - loss: 0.0859 - mse: 0.0859 - val_loss: 0.0775 - val_mse: 0.0775\n",
            "Epoch 164/200\n",
            "1/1 [==============================] - 0s 25ms/step - loss: 0.0922 - mse: 0.0922 - val_loss: 0.0809 - val_mse: 0.0809\n",
            "Epoch 165/200\n",
            "1/1 [==============================] - 0s 24ms/step - loss: 0.0918 - mse: 0.0918 - val_loss: 0.0795 - val_mse: 0.0795\n",
            "Epoch 166/200\n",
            "1/1 [==============================] - 0s 27ms/step - loss: 0.0885 - mse: 0.0885 - val_loss: 0.0782 - val_mse: 0.0782\n",
            "Epoch 167/200\n",
            "1/1 [==============================] - 0s 23ms/step - loss: 0.0969 - mse: 0.0969 - val_loss: 0.0848 - val_mse: 0.0848\n",
            "Epoch 168/200\n",
            "1/1 [==============================] - 0s 25ms/step - loss: 0.1001 - mse: 0.1001 - val_loss: 0.0883 - val_mse: 0.0883\n",
            "Epoch 169/200\n",
            "1/1 [==============================] - 0s 23ms/step - loss: 0.0970 - mse: 0.0970 - val_loss: 0.0799 - val_mse: 0.0799\n",
            "Epoch 170/200\n",
            "1/1 [==============================] - 0s 24ms/step - loss: 0.0873 - mse: 0.0873 - val_loss: 0.0742 - val_mse: 0.0742\n",
            "Epoch 171/200\n",
            "1/1 [==============================] - 0s 25ms/step - loss: 0.1142 - mse: 0.1142 - val_loss: 0.0758 - val_mse: 0.0758\n",
            "Epoch 172/200\n",
            "1/1 [==============================] - 0s 22ms/step - loss: 0.0812 - mse: 0.0812 - val_loss: 0.0776 - val_mse: 0.0776\n",
            "Epoch 173/200\n",
            "1/1 [==============================] - 0s 23ms/step - loss: 0.0834 - mse: 0.0834 - val_loss: 0.0766 - val_mse: 0.0766\n",
            "Epoch 174/200\n",
            "1/1 [==============================] - 0s 26ms/step - loss: 0.0867 - mse: 0.0867 - val_loss: 0.0756 - val_mse: 0.0756\n",
            "Epoch 175/200\n",
            "1/1 [==============================] - 0s 23ms/step - loss: 0.0816 - mse: 0.0816 - val_loss: 0.0770 - val_mse: 0.0770\n",
            "Epoch 176/200\n",
            "1/1 [==============================] - 0s 28ms/step - loss: 0.0864 - mse: 0.0864 - val_loss: 0.0776 - val_mse: 0.0776\n",
            "Epoch 177/200\n",
            "1/1 [==============================] - 0s 24ms/step - loss: 0.1038 - mse: 0.1038 - val_loss: 0.0770 - val_mse: 0.0770\n",
            "Epoch 178/200\n",
            "1/1 [==============================] - 0s 25ms/step - loss: 0.0789 - mse: 0.0789 - val_loss: 0.0745 - val_mse: 0.0745\n",
            "Epoch 179/200\n",
            "1/1 [==============================] - 0s 21ms/step - loss: 0.0972 - mse: 0.0972 - val_loss: 0.0725 - val_mse: 0.0725\n",
            "Epoch 180/200\n",
            "1/1 [==============================] - 0s 22ms/step - loss: 0.0860 - mse: 0.0860 - val_loss: 0.0732 - val_mse: 0.0732\n",
            "Epoch 181/200\n",
            "1/1 [==============================] - 0s 26ms/step - loss: 0.0774 - mse: 0.0774 - val_loss: 0.0746 - val_mse: 0.0746\n",
            "Epoch 182/200\n",
            "1/1 [==============================] - 0s 31ms/step - loss: 0.0885 - mse: 0.0885 - val_loss: 0.0746 - val_mse: 0.0746\n",
            "Epoch 183/200\n",
            "1/1 [==============================] - 0s 24ms/step - loss: 0.0787 - mse: 0.0787 - val_loss: 0.0763 - val_mse: 0.0763\n",
            "Epoch 184/200\n",
            "1/1 [==============================] - 0s 23ms/step - loss: 0.0979 - mse: 0.0979 - val_loss: 0.0818 - val_mse: 0.0818\n",
            "Epoch 185/200\n",
            "1/1 [==============================] - 0s 23ms/step - loss: 0.0808 - mse: 0.0808 - val_loss: 0.0832 - val_mse: 0.0832\n",
            "Epoch 186/200\n",
            "1/1 [==============================] - 0s 24ms/step - loss: 0.1010 - mse: 0.1010 - val_loss: 0.0756 - val_mse: 0.0756\n",
            "Epoch 187/200\n",
            "1/1 [==============================] - 0s 24ms/step - loss: 0.0830 - mse: 0.0830 - val_loss: 0.0727 - val_mse: 0.0727\n",
            "Epoch 188/200\n",
            "1/1 [==============================] - 0s 24ms/step - loss: 0.0868 - mse: 0.0868 - val_loss: 0.0754 - val_mse: 0.0754\n",
            "Epoch 189/200\n",
            "1/1 [==============================] - 0s 25ms/step - loss: 0.0726 - mse: 0.0726 - val_loss: 0.0769 - val_mse: 0.0769\n",
            "Epoch 190/200\n",
            "1/1 [==============================] - 0s 25ms/step - loss: 0.0892 - mse: 0.0892 - val_loss: 0.0755 - val_mse: 0.0755\n",
            "Epoch 191/200\n",
            "1/1 [==============================] - 0s 27ms/step - loss: 0.0913 - mse: 0.0913 - val_loss: 0.0758 - val_mse: 0.0758\n",
            "Epoch 192/200\n",
            "1/1 [==============================] - 0s 26ms/step - loss: 0.0846 - mse: 0.0846 - val_loss: 0.0770 - val_mse: 0.0770\n",
            "Epoch 193/200\n",
            "1/1 [==============================] - 0s 27ms/step - loss: 0.0782 - mse: 0.0782 - val_loss: 0.0765 - val_mse: 0.0765\n",
            "Epoch 194/200\n",
            "1/1 [==============================] - 0s 25ms/step - loss: 0.1000 - mse: 0.1000 - val_loss: 0.0715 - val_mse: 0.0715\n",
            "Epoch 195/200\n",
            "1/1 [==============================] - 0s 28ms/step - loss: 0.0847 - mse: 0.0847 - val_loss: 0.0703 - val_mse: 0.0703\n",
            "Epoch 196/200\n",
            "1/1 [==============================] - 0s 23ms/step - loss: 0.0819 - mse: 0.0819 - val_loss: 0.0712 - val_mse: 0.0712\n",
            "Epoch 197/200\n",
            "1/1 [==============================] - 0s 23ms/step - loss: 0.0638 - mse: 0.0638 - val_loss: 0.0716 - val_mse: 0.0716\n",
            "Epoch 198/200\n",
            "1/1 [==============================] - 0s 25ms/step - loss: 0.0866 - mse: 0.0866 - val_loss: 0.0731 - val_mse: 0.0731\n",
            "Epoch 199/200\n",
            "1/1 [==============================] - 0s 24ms/step - loss: 0.0778 - mse: 0.0778 - val_loss: 0.0750 - val_mse: 0.0750\n",
            "Epoch 200/200\n",
            "1/1 [==============================] - 0s 28ms/step - loss: 0.0834 - mse: 0.0834 - val_loss: 0.0745 - val_mse: 0.0745\n"
          ],
          "name": "stdout"
        }
      ]
    },
    {
      "cell_type": "code",
      "metadata": {
        "colab": {
          "base_uri": "https://localhost:8080/",
          "height": 283
        },
        "id": "AXi98CpT914x",
        "outputId": "53bc7e72-5d54-498d-ad41-679a338ebaab"
      },
      "source": [
        "def plot_loss(history):\n",
        "  plt.plot(history.history['loss'], label='loss')\n",
        "  plt.plot(history.history['val_loss'], label='val_loss')\n",
        "  plt.ylim([0, 0.5])\n",
        "  plt.xlabel('Epoch')\n",
        "  plt.ylabel('Error ')\n",
        "  plt.legend()\n",
        "  plt.grid(True)\n",
        "\n",
        "plot_loss(history)"
      ],
      "execution_count": 176,
      "outputs": [
        {
          "output_type": "display_data",
          "data": {
            "image/png": "[encoded data removed]",
            "text/plain": [
              "<Figure size 432x288 with 1 Axes>"
            ]
          },
          "metadata": {
            "tags": [],
            "needs_background": "light"
          }
        }
      ]
    },
    {
      "cell_type": "code",
      "metadata": {
        "colab": {
          "base_uri": "https://localhost:8080/"
        },
        "id": "k4yF8Ak_GQba",
        "outputId": "ce526423-6d67-4788-9279-c6d135e08997"
      },
      "source": [
        "results = model0.evaluate(XX_test_n, yy_test_n)\n",
        "\n",
        "print('loss test data: ', results[0])\n",
        "print('mse test data: ', results[1])\n",
        "\n",
        "results = model0.evaluate(XX_train_n, yy_train_n)\n",
        "\n",
        "print('loss train data: ', results[0])\n",
        "print('mse train data: ', results[1])"
      ],
      "execution_count": 177,
      "outputs": [
        {
          "output_type": "stream",
          "text": [
            "4/4 [==============================] - 0s 3ms/step - loss: 0.0745 - mse: 0.0745\n",
            "loss test data:  0.07450583577156067\n",
            "mse test data:  0.07450583577156067\n",
            "4/4 [==============================] - 0s 3ms/step - loss: 0.0727 - mse: 0.0727\n",
            "loss train data:  0.07272689789533615\n",
            "mse train data:  0.07272689789533615\n"
          ],
          "name": "stdout"
        }
      ]
    },
    {
      "cell_type": "code",
      "metadata": {
        "colab": {
          "base_uri": "https://localhost:8080/",
          "height": 445
        },
        "id": "pMdfUU4FIf3m",
        "outputId": "126fa0ab-d255-4e69-d7e7-37a24be5e694"
      },
      "source": [
        "fig = plt.figure(figsize=(7,7))\n",
        "\n",
        "plt.plot(XX_train_n,yy_train_n, 'o', color='blue', label='Training points')\n",
        "plt.plot(XX_test_n,yy_test_n, 'o', color='green', label='Testing points')\n",
        "\n",
        "points = np.linspace(min(XX_test_n), max(XX_test_n),num=100)\n",
        "plt.plot(points, (funct(points*std+mean)-mean1)/std1,  color='red', label='Function')\n",
        "\n",
        "plt.plot(points, model0.predict(points),  color='orange', label='Neural net')\n",
        "\n",
        "\n",
        "plt.legend()\n",
        "\n",
        "\n",
        "plt.show"
      ],
      "execution_count": 178,
      "outputs": [
        {
          "output_type": "execute_result",
          "data": {
            "text/plain": [
              "<function matplotlib.pyplot.show>"
            ]
          },
          "metadata": {
            "tags": []
          },
          "execution_count": 178
        },
        {
          "output_type": "display_data",
          "data": {
            "image/png": "[encoded data removed]",
            "text/plain": [
              "<Figure size 504x504 with 1 Axes>"
            ]
          },
          "metadata": {
            "tags": [],
            "needs_background": "light"
          }
        }
      ]
    },
    {
      "cell_type": "code",
      "metadata": {
        "id": "C0USRerUI57i"
      },
      "source": [
        "from keras.datasets import boston_housing\n",
        "\n",
        "(X_train, y_train), (X_test, y_test) = boston_housing.load_data()"
      ],
      "execution_count": 179,
      "outputs": []
    },
    {
      "cell_type": "code",
      "metadata": {
        "id": "-FnMzsbULMoY"
      },
      "source": [
        ""
      ],
      "execution_count": 179,
      "outputs": []
    }
  ]
}